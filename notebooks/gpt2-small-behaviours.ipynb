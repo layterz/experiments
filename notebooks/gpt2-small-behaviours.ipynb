{
 "cells": [
  {
   "cell_type": "markdown",
   "metadata": {},
   "source": [
    "# A Catalogue of Attention Head Behaviours in gpt-small\n",
    "\n",
    "A growing collection of noteable behviours in attention head patterns found in gpt-small. This is mainly for my own benefit so that I have a place to dump interesting things without getting distracted, but very interested to hear of any other interesting behaviours.\n",
    "\n",
    "### How to read attention patterns\n",
    "\n",
    "Decoder-only auto-regressive models like gpt-small process inputs left-to-right and can only transfer information in that direction."
   ]
  },
  {
   "cell_type": "markdown",
   "metadata": {},
   "source": [
    "## Duplicate token detectors"
   ]
  },
  {
   "cell_type": "markdown",
   "metadata": {},
   "source": [
    "## Entity detectors\n",
    "\n",
    "Heads that attend to the subjects of an input. For example,\n",
    "\n",
    "> Bob and Jane went to see Dune at The Lighthouse"
   ]
  },
  {
   "cell_type": "markdown",
   "metadata": {},
   "source": [
    "# THE composers"
   ]
  },
  {
   "cell_type": "markdown",
   "metadata": {},
   "source": []
  }
 ],
 "metadata": {
  "language_info": {
   "name": "python"
  }
 },
 "nbformat": 4,
 "nbformat_minor": 2
}
