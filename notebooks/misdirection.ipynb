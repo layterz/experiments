{
 "cells": [
  {
   "cell_type": "markdown",
   "metadata": {},
   "source": [
    "# Misdirection\n",
    "\n",
    "Some experiments into how gpt2-small behaves when generating false output.\n",
    "\n",
    "Semantic structure misdirects the model to produce incorrect output. For example,\n",
    "\n",
    "> They realise John was two years older than Mary. Mary was born before ...\""
   ]
  },
  {
   "cell_type": "code",
   "execution_count": 1,
   "metadata": {},
   "outputs": [
    {
     "name": "stderr",
     "output_type": "stream",
     "text": [
      "/Users/richardlayte/Work/layterz/mech-interp/venv/lib/python3.10/site-packages/tqdm/auto.py:21: TqdmWarning: IProgress not found. Please update jupyter and ipywidgets. See https://ipywidgets.readthedocs.io/en/stable/user_install.html\n",
      "  from .autonotebook import tqdm as notebook_tqdm\n"
     ]
    },
    {
     "name": "stdout",
     "output_type": "stream",
     "text": [
      "Loaded pretrained model gpt2-small into HookedTransformer\n"
     ]
    }
   ],
   "source": [
    "import torch\n",
    "from transformer_lens import HookedTransformer\n",
    "\n",
    "device = torch.device(\"cpu\")\n",
    "if torch.cuda.is_available():\n",
    "    device = torch.device(\"cuda\")\n",
    "elif torch.backends.mps.is_available():\n",
    "    device = torch.device(\"mps\")\n",
    "\n",
    "torch.set_grad_enabled(False)\n",
    "\n",
    "# NBVAL_IGNORE_OUTPUT\n",
    "model = HookedTransformer.from_pretrained(\n",
    "    \"gpt2-small\",\n",
    "    center_unembed=True,\n",
    "    center_writing_weights=True,\n",
    "    fold_ln=True,\n",
    "    refactor_factored_attn_matrices=True,\n",
    ")"
   ]
  },
  {
   "cell_type": "code",
   "execution_count": 2,
   "metadata": {},
   "outputs": [],
   "source": [
    "from itertools import permutations, product\n",
    "import einops\n",
    "from fancy_einsum import einsum\n",
    "from plotly import express as px\n",
    "from IPython.display import HTML\n",
    "from circuitsvis.attention import attention_heads\n",
    "\n",
    "def calculate_logit_diff(cache):\n",
    "    pred_tokens = torch.tensor([\n",
    "        [model.to_single_token(c) for c in completions] \n",
    "        for _, completions in cache.prompts\n",
    "    ]).to(device)\n",
    "\n",
    "    resid_directions = cache.model.tokens_to_residual_directions(pred_tokens)\n",
    "    return resid_directions[:, 0] - resid_directions[:, 1]\n",
    "\n",
    "def calculate_head_contribution(cache):\n",
    "    per_head_residual, labels = cache.stack_head_results(\n",
    "        layer=-1, pos_slice=-1, return_labels=True\n",
    "    )\n",
    "\n",
    "    logit_diff_directions = calculate_logit_diff(cache)\n",
    "    per_head_logit_diffs = einsum(\n",
    "        \"... batch d_model, batch d_model -> ...\",\n",
    "        per_head_residual, logit_diff_directions,\n",
    "    ) / len(cache.prompts)\n",
    "\n",
    "    return einops.rearrange(\n",
    "        per_head_logit_diffs,\n",
    "        \"(layer head_index) -> layer head_index\",\n",
    "        layer=cache.model.cfg.n_layers,\n",
    "        head_index=cache.model.cfg.n_heads,\n",
    "    )\n",
    "\n",
    "def plot_head_contribution(cache, layer=-1, pos_slice=-1):\n",
    "    per_head_residual, labels = cache.stack_head_results(\n",
    "        layer=-1, pos_slice=-1, return_labels=True\n",
    "    )\n",
    "\n",
    "    logit_diff_directions = calculate_logit_diff(cache)\n",
    "    per_head_logit_diffs = einsum(\n",
    "        \"... batch d_model, batch d_model -> ...\",\n",
    "        per_head_residual, logit_diff_directions,\n",
    "    ) / len(cache.prompts)\n",
    "\n",
    "    per_head_logit_diffs = einops.rearrange(\n",
    "        per_head_logit_diffs,\n",
    "        \"(layer head_index) -> layer head_index\",\n",
    "        layer=cache.model.cfg.n_layers,\n",
    "        head_index=cache.model.cfg.n_heads,\n",
    "    )\n",
    "\n",
    "    return px.imshow(\n",
    "        per_head_logit_diffs.cpu(),\n",
    "        labels={\"x\": \"Head\", \"y\": \"Layer\"},\n",
    "        title=\"Logit Difference From Each Head\",\n",
    "        color_continuous_midpoint=0.0,\n",
    "        color_continuous_scale=\"RdBu\",\n",
    "    )\n",
    "\n",
    "def visualize_attention_patterns(heads, cache, prompts):\n",
    "    labels, patterns = [], []\n",
    "    for head in heads:\n",
    "        layer = head // model.cfg.n_heads\n",
    "        head_index = head % model.cfg.n_heads\n",
    "        labels.append(f\"L{layer}H{head_index}\")\n",
    "        patterns.append(cache[\"attn\", layer][0, head_index])\n",
    "\n",
    "    patterns = torch.stack(patterns, dim=0)\n",
    "    tokens = model.to_str_tokens(prompts[0][0])\n",
    "\n",
    "    return attention_heads(\n",
    "        attention=patterns, tokens=tokens, attention_head_names=labels\n",
    "    ).show_code()\n",
    "\n",
    "def generate_prompts(t):\n",
    "    names = (\" Mary\", \" John\", \" Alice\")\n",
    "    places = (\" shops\", \" park\", \" beach\")\n",
    "    things = (\" bag\", \" ball\", \" book\")\n",
    "\n",
    "    templates = [\n",
    "        (\n",
    "            t, (place, thing), permutations(names, 2),\n",
    "        )\n",
    "        for place, thing in product(places, things)\n",
    "    ]\n",
    "\n",
    "    return [\n",
    "        (prompt.format(place, thing, S, IO), (IO, S))\n",
    "        for prompt, (place, thing), names in templates\n",
    "        for S, IO in names\n",
    "    ]"
   ]
  },
  {
   "cell_type": "code",
   "execution_count": 21,
   "metadata": {},
   "outputs": [
    {
     "data": {
      "text/plain": [
       "[(' Mary was older than John. Who was born first? Mary was born before',\n",
       "  (' John', ' Mary')),\n",
       " (' Mary was older than Alice. Who was born first? Mary was born before',\n",
       "  (' Alice', ' Mary')),\n",
       " (' John was older than Mary. Who was born first? John was born before',\n",
       "  (' Mary', ' John')),\n",
       " (' John was older than Alice. Who was born first? John was born before',\n",
       "  (' Alice', ' John')),\n",
       " (' Alice was older than Mary. Who was born first? Alice was born before',\n",
       "  (' Mary', ' Alice'))]"
      ]
     },
     "execution_count": 21,
     "metadata": {},
     "output_type": "execute_result"
    }
   ],
   "source": [
    "prompts = generate_prompts(\n",
    "    \"{2} was older than{3}. Who was born first?{2} was born before\"\n",
    ")\n",
    "prompts[:5]"
   ]
  },
  {
   "cell_type": "code",
   "execution_count": 22,
   "metadata": {},
   "outputs": [
    {
     "name": "stdout",
     "output_type": "stream",
     "text": [
      "Tried to stack head results when they weren't cached. Computing head results now\n"
     ]
    },
    {
     "data": {
      "application/vnd.plotly.v1+json": {
       "config": {
        "plotlyServerURL": "https://plot.ly"
       },
       "data": [
        {
         "coloraxis": "coloraxis",
         "hovertemplate": "Head: %{x}<br>Layer: %{y}<br>color: %{z}<extra></extra>",
         "name": "0",
         "type": "heatmap",
         "xaxis": "x",
         "yaxis": "y",
         "z": [
          [
           -0.038144588470458984,
           -0.0002963047008961439,
           -0.007754283957183361,
           -0.0008564136805944145,
           -0.03125806152820587,
           -0.0009253575699403882,
           -0.11550811678171158,
           -0.06377670168876648,
           -0.0098583297803998,
           0.003982604015618563,
           0.0037899725139141083,
           -0.0027402485720813274
          ],
          [
           -0.0051631322130560875,
           -0.03286798298358917,
           0.0014203168684616685,
           0.00529478257521987,
           -0.009531982243061066,
           0.004777396563440561,
           -0.08381714671850204,
           -0.10367202758789062,
           0.054334331303834915,
           0.040001727640628815,
           0.013490857556462288,
           0.06053135171532631
          ],
          [
           -0.01452100183814764,
           0.0022576693445444107,
           -0.008283060975372791,
           -0.04117569327354431,
           -0.05109963193535805,
           0.021750297397375107,
           0.03179500252008438,
           0.06886132806539536,
           0.002694323193281889,
           -0.032141223549842834,
           0.03143700584769249,
           0.007284791208803654
          ],
          [
           -0.010139057412743568,
           -0.0008176860283128917,
           -0.019074352458119392,
           -0.0023739056196063757,
           0.006543764844536781,
           0.015601040795445442,
           -0.16173262894153595,
           -0.00788673385977745,
           0.011257121339440346,
           -0.008869039826095104,
           0.018400968983769417,
           0.010749399662017822
          ],
          [
           -0.0017986742313951254,
           -0.00045590323861688375,
           -0.007054718676954508,
           -0.2189479023218155,
           0.01205139234662056,
           -0.0037613678723573685,
           -0.015981614589691162,
           0.03044390305876732,
           -0.012561595998704433,
           0.017515571787953377,
           0.01940523274242878,
           -0.02096109464764595
          ],
          [
           -0.03015463426709175,
           0.3827902376651764,
           -0.0692777931690216,
           -0.004323641303926706,
           0.008512829430401325,
           0.06631289422512054,
           -0.021907450631260872,
           -0.010624234564602375,
           -0.002096590120345354,
           -0.03710911050438881,
           -0.15874239802360535,
           0.2209858000278473
          ],
          [
           -0.470193088054657,
           0.05397185683250427,
           0.059889644384384155,
           -0.023817189037799835,
           -0.0009630233980715275,
           0.06795214116573334,
           0.05390222743153572,
           0.018544849008321762,
           0.0008022277615964413,
           0.20878398418426514,
           0.04071091488003731,
           -0.03624362125992775
          ],
          [
           -0.011773732490837574,
           0.1975208967924118,
           1.332958698272705,
           1.8403922319412231,
           0.006524496711790562,
           -0.29431048035621643,
           0.020049961283802986,
           0.062472082674503326,
           -0.08262506872415543,
           1.9787763357162476,
           1.461849331855774,
           0.08191198110580444
          ],
          [
           0.002118896460160613,
           0.2624386250972748,
           -0.01464801374822855,
           0.9039772748947144,
           0.0030823093838989735,
           -0.023275110870599747,
           -0.010212487541139126,
           0.009251410141587257,
           0.0949912965297699,
           -0.04492269828915596,
           0.504308819770813,
           3.2789218425750732
          ],
          [
           1.3670272827148438,
           0.07207810133695602,
           1.085867166519165,
           0.1884872168302536,
           -1.2123093605041504,
           0.46340638399124146,
           14.628246307373047,
           -0.2099274843931198,
           5.280351638793945,
           13.669757843017578,
           -0.007541256956756115,
           0.5107113122940063
          ],
          [
           10.363150596618652,
           2.195636510848999,
           14.032358169555664,
           -0.12329915910959244,
           0.11697245389223099,
           0.003756693098694086,
           4.840102195739746,
           -33.4610595703125,
           0.004598855972290039,
           -1.0489628314971924,
           7.544714450836182,
           0.42833343148231506
          ],
          [
           0.2091355174779892,
           -4.304845333099365,
           -3.0156753063201904,
           -0.3764018416404724,
           -0.04445110633969307,
           0.023512862622737885,
           0.30095186829566956,
           -0.207178995013237,
           0.08386902511119843,
           0.022150596603751183,
           -16.50370979309082,
           -0.12239290028810501
          ]
         ]
        }
       ],
       "layout": {
        "coloraxis": {
         "cmid": 0,
         "colorscale": [
          [
           0,
           "rgb(103,0,31)"
          ],
          [
           0.1,
           "rgb(178,24,43)"
          ],
          [
           0.2,
           "rgb(214,96,77)"
          ],
          [
           0.3,
           "rgb(244,165,130)"
          ],
          [
           0.4,
           "rgb(253,219,199)"
          ],
          [
           0.5,
           "rgb(247,247,247)"
          ],
          [
           0.6,
           "rgb(209,229,240)"
          ],
          [
           0.7,
           "rgb(146,197,222)"
          ],
          [
           0.8,
           "rgb(67,147,195)"
          ],
          [
           0.9,
           "rgb(33,102,172)"
          ],
          [
           1,
           "rgb(5,48,97)"
          ]
         ]
        },
        "template": {
         "data": {
          "bar": [
           {
            "error_x": {
             "color": "#2a3f5f"
            },
            "error_y": {
             "color": "#2a3f5f"
            },
            "marker": {
             "line": {
              "color": "#E5ECF6",
              "width": 0.5
             },
             "pattern": {
              "fillmode": "overlay",
              "size": 10,
              "solidity": 0.2
             }
            },
            "type": "bar"
           }
          ],
          "barpolar": [
           {
            "marker": {
             "line": {
              "color": "#E5ECF6",
              "width": 0.5
             },
             "pattern": {
              "fillmode": "overlay",
              "size": 10,
              "solidity": 0.2
             }
            },
            "type": "barpolar"
           }
          ],
          "carpet": [
           {
            "aaxis": {
             "endlinecolor": "#2a3f5f",
             "gridcolor": "white",
             "linecolor": "white",
             "minorgridcolor": "white",
             "startlinecolor": "#2a3f5f"
            },
            "baxis": {
             "endlinecolor": "#2a3f5f",
             "gridcolor": "white",
             "linecolor": "white",
             "minorgridcolor": "white",
             "startlinecolor": "#2a3f5f"
            },
            "type": "carpet"
           }
          ],
          "choropleth": [
           {
            "colorbar": {
             "outlinewidth": 0,
             "ticks": ""
            },
            "type": "choropleth"
           }
          ],
          "contour": [
           {
            "colorbar": {
             "outlinewidth": 0,
             "ticks": ""
            },
            "colorscale": [
             [
              0,
              "#0d0887"
             ],
             [
              0.1111111111111111,
              "#46039f"
             ],
             [
              0.2222222222222222,
              "#7201a8"
             ],
             [
              0.3333333333333333,
              "#9c179e"
             ],
             [
              0.4444444444444444,
              "#bd3786"
             ],
             [
              0.5555555555555556,
              "#d8576b"
             ],
             [
              0.6666666666666666,
              "#ed7953"
             ],
             [
              0.7777777777777778,
              "#fb9f3a"
             ],
             [
              0.8888888888888888,
              "#fdca26"
             ],
             [
              1,
              "#f0f921"
             ]
            ],
            "type": "contour"
           }
          ],
          "contourcarpet": [
           {
            "colorbar": {
             "outlinewidth": 0,
             "ticks": ""
            },
            "type": "contourcarpet"
           }
          ],
          "heatmap": [
           {
            "colorbar": {
             "outlinewidth": 0,
             "ticks": ""
            },
            "colorscale": [
             [
              0,
              "#0d0887"
             ],
             [
              0.1111111111111111,
              "#46039f"
             ],
             [
              0.2222222222222222,
              "#7201a8"
             ],
             [
              0.3333333333333333,
              "#9c179e"
             ],
             [
              0.4444444444444444,
              "#bd3786"
             ],
             [
              0.5555555555555556,
              "#d8576b"
             ],
             [
              0.6666666666666666,
              "#ed7953"
             ],
             [
              0.7777777777777778,
              "#fb9f3a"
             ],
             [
              0.8888888888888888,
              "#fdca26"
             ],
             [
              1,
              "#f0f921"
             ]
            ],
            "type": "heatmap"
           }
          ],
          "heatmapgl": [
           {
            "colorbar": {
             "outlinewidth": 0,
             "ticks": ""
            },
            "colorscale": [
             [
              0,
              "#0d0887"
             ],
             [
              0.1111111111111111,
              "#46039f"
             ],
             [
              0.2222222222222222,
              "#7201a8"
             ],
             [
              0.3333333333333333,
              "#9c179e"
             ],
             [
              0.4444444444444444,
              "#bd3786"
             ],
             [
              0.5555555555555556,
              "#d8576b"
             ],
             [
              0.6666666666666666,
              "#ed7953"
             ],
             [
              0.7777777777777778,
              "#fb9f3a"
             ],
             [
              0.8888888888888888,
              "#fdca26"
             ],
             [
              1,
              "#f0f921"
             ]
            ],
            "type": "heatmapgl"
           }
          ],
          "histogram": [
           {
            "marker": {
             "pattern": {
              "fillmode": "overlay",
              "size": 10,
              "solidity": 0.2
             }
            },
            "type": "histogram"
           }
          ],
          "histogram2d": [
           {
            "colorbar": {
             "outlinewidth": 0,
             "ticks": ""
            },
            "colorscale": [
             [
              0,
              "#0d0887"
             ],
             [
              0.1111111111111111,
              "#46039f"
             ],
             [
              0.2222222222222222,
              "#7201a8"
             ],
             [
              0.3333333333333333,
              "#9c179e"
             ],
             [
              0.4444444444444444,
              "#bd3786"
             ],
             [
              0.5555555555555556,
              "#d8576b"
             ],
             [
              0.6666666666666666,
              "#ed7953"
             ],
             [
              0.7777777777777778,
              "#fb9f3a"
             ],
             [
              0.8888888888888888,
              "#fdca26"
             ],
             [
              1,
              "#f0f921"
             ]
            ],
            "type": "histogram2d"
           }
          ],
          "histogram2dcontour": [
           {
            "colorbar": {
             "outlinewidth": 0,
             "ticks": ""
            },
            "colorscale": [
             [
              0,
              "#0d0887"
             ],
             [
              0.1111111111111111,
              "#46039f"
             ],
             [
              0.2222222222222222,
              "#7201a8"
             ],
             [
              0.3333333333333333,
              "#9c179e"
             ],
             [
              0.4444444444444444,
              "#bd3786"
             ],
             [
              0.5555555555555556,
              "#d8576b"
             ],
             [
              0.6666666666666666,
              "#ed7953"
             ],
             [
              0.7777777777777778,
              "#fb9f3a"
             ],
             [
              0.8888888888888888,
              "#fdca26"
             ],
             [
              1,
              "#f0f921"
             ]
            ],
            "type": "histogram2dcontour"
           }
          ],
          "mesh3d": [
           {
            "colorbar": {
             "outlinewidth": 0,
             "ticks": ""
            },
            "type": "mesh3d"
           }
          ],
          "parcoords": [
           {
            "line": {
             "colorbar": {
              "outlinewidth": 0,
              "ticks": ""
             }
            },
            "type": "parcoords"
           }
          ],
          "pie": [
           {
            "automargin": true,
            "type": "pie"
           }
          ],
          "scatter": [
           {
            "fillpattern": {
             "fillmode": "overlay",
             "size": 10,
             "solidity": 0.2
            },
            "type": "scatter"
           }
          ],
          "scatter3d": [
           {
            "line": {
             "colorbar": {
              "outlinewidth": 0,
              "ticks": ""
             }
            },
            "marker": {
             "colorbar": {
              "outlinewidth": 0,
              "ticks": ""
             }
            },
            "type": "scatter3d"
           }
          ],
          "scattercarpet": [
           {
            "marker": {
             "colorbar": {
              "outlinewidth": 0,
              "ticks": ""
             }
            },
            "type": "scattercarpet"
           }
          ],
          "scattergeo": [
           {
            "marker": {
             "colorbar": {
              "outlinewidth": 0,
              "ticks": ""
             }
            },
            "type": "scattergeo"
           }
          ],
          "scattergl": [
           {
            "marker": {
             "colorbar": {
              "outlinewidth": 0,
              "ticks": ""
             }
            },
            "type": "scattergl"
           }
          ],
          "scattermapbox": [
           {
            "marker": {
             "colorbar": {
              "outlinewidth": 0,
              "ticks": ""
             }
            },
            "type": "scattermapbox"
           }
          ],
          "scatterpolar": [
           {
            "marker": {
             "colorbar": {
              "outlinewidth": 0,
              "ticks": ""
             }
            },
            "type": "scatterpolar"
           }
          ],
          "scatterpolargl": [
           {
            "marker": {
             "colorbar": {
              "outlinewidth": 0,
              "ticks": ""
             }
            },
            "type": "scatterpolargl"
           }
          ],
          "scatterternary": [
           {
            "marker": {
             "colorbar": {
              "outlinewidth": 0,
              "ticks": ""
             }
            },
            "type": "scatterternary"
           }
          ],
          "surface": [
           {
            "colorbar": {
             "outlinewidth": 0,
             "ticks": ""
            },
            "colorscale": [
             [
              0,
              "#0d0887"
             ],
             [
              0.1111111111111111,
              "#46039f"
             ],
             [
              0.2222222222222222,
              "#7201a8"
             ],
             [
              0.3333333333333333,
              "#9c179e"
             ],
             [
              0.4444444444444444,
              "#bd3786"
             ],
             [
              0.5555555555555556,
              "#d8576b"
             ],
             [
              0.6666666666666666,
              "#ed7953"
             ],
             [
              0.7777777777777778,
              "#fb9f3a"
             ],
             [
              0.8888888888888888,
              "#fdca26"
             ],
             [
              1,
              "#f0f921"
             ]
            ],
            "type": "surface"
           }
          ],
          "table": [
           {
            "cells": {
             "fill": {
              "color": "#EBF0F8"
             },
             "line": {
              "color": "white"
             }
            },
            "header": {
             "fill": {
              "color": "#C8D4E3"
             },
             "line": {
              "color": "white"
             }
            },
            "type": "table"
           }
          ]
         },
         "layout": {
          "annotationdefaults": {
           "arrowcolor": "#2a3f5f",
           "arrowhead": 0,
           "arrowwidth": 1
          },
          "autotypenumbers": "strict",
          "coloraxis": {
           "colorbar": {
            "outlinewidth": 0,
            "ticks": ""
           }
          },
          "colorscale": {
           "diverging": [
            [
             0,
             "#8e0152"
            ],
            [
             0.1,
             "#c51b7d"
            ],
            [
             0.2,
             "#de77ae"
            ],
            [
             0.3,
             "#f1b6da"
            ],
            [
             0.4,
             "#fde0ef"
            ],
            [
             0.5,
             "#f7f7f7"
            ],
            [
             0.6,
             "#e6f5d0"
            ],
            [
             0.7,
             "#b8e186"
            ],
            [
             0.8,
             "#7fbc41"
            ],
            [
             0.9,
             "#4d9221"
            ],
            [
             1,
             "#276419"
            ]
           ],
           "sequential": [
            [
             0,
             "#0d0887"
            ],
            [
             0.1111111111111111,
             "#46039f"
            ],
            [
             0.2222222222222222,
             "#7201a8"
            ],
            [
             0.3333333333333333,
             "#9c179e"
            ],
            [
             0.4444444444444444,
             "#bd3786"
            ],
            [
             0.5555555555555556,
             "#d8576b"
            ],
            [
             0.6666666666666666,
             "#ed7953"
            ],
            [
             0.7777777777777778,
             "#fb9f3a"
            ],
            [
             0.8888888888888888,
             "#fdca26"
            ],
            [
             1,
             "#f0f921"
            ]
           ],
           "sequentialminus": [
            [
             0,
             "#0d0887"
            ],
            [
             0.1111111111111111,
             "#46039f"
            ],
            [
             0.2222222222222222,
             "#7201a8"
            ],
            [
             0.3333333333333333,
             "#9c179e"
            ],
            [
             0.4444444444444444,
             "#bd3786"
            ],
            [
             0.5555555555555556,
             "#d8576b"
            ],
            [
             0.6666666666666666,
             "#ed7953"
            ],
            [
             0.7777777777777778,
             "#fb9f3a"
            ],
            [
             0.8888888888888888,
             "#fdca26"
            ],
            [
             1,
             "#f0f921"
            ]
           ]
          },
          "colorway": [
           "#636efa",
           "#EF553B",
           "#00cc96",
           "#ab63fa",
           "#FFA15A",
           "#19d3f3",
           "#FF6692",
           "#B6E880",
           "#FF97FF",
           "#FECB52"
          ],
          "font": {
           "color": "#2a3f5f"
          },
          "geo": {
           "bgcolor": "white",
           "lakecolor": "white",
           "landcolor": "#E5ECF6",
           "showlakes": true,
           "showland": true,
           "subunitcolor": "white"
          },
          "hoverlabel": {
           "align": "left"
          },
          "hovermode": "closest",
          "mapbox": {
           "style": "light"
          },
          "paper_bgcolor": "white",
          "plot_bgcolor": "#E5ECF6",
          "polar": {
           "angularaxis": {
            "gridcolor": "white",
            "linecolor": "white",
            "ticks": ""
           },
           "bgcolor": "#E5ECF6",
           "radialaxis": {
            "gridcolor": "white",
            "linecolor": "white",
            "ticks": ""
           }
          },
          "scene": {
           "xaxis": {
            "backgroundcolor": "#E5ECF6",
            "gridcolor": "white",
            "gridwidth": 2,
            "linecolor": "white",
            "showbackground": true,
            "ticks": "",
            "zerolinecolor": "white"
           },
           "yaxis": {
            "backgroundcolor": "#E5ECF6",
            "gridcolor": "white",
            "gridwidth": 2,
            "linecolor": "white",
            "showbackground": true,
            "ticks": "",
            "zerolinecolor": "white"
           },
           "zaxis": {
            "backgroundcolor": "#E5ECF6",
            "gridcolor": "white",
            "gridwidth": 2,
            "linecolor": "white",
            "showbackground": true,
            "ticks": "",
            "zerolinecolor": "white"
           }
          },
          "shapedefaults": {
           "line": {
            "color": "#2a3f5f"
           }
          },
          "ternary": {
           "aaxis": {
            "gridcolor": "white",
            "linecolor": "white",
            "ticks": ""
           },
           "baxis": {
            "gridcolor": "white",
            "linecolor": "white",
            "ticks": ""
           },
           "bgcolor": "#E5ECF6",
           "caxis": {
            "gridcolor": "white",
            "linecolor": "white",
            "ticks": ""
           }
          },
          "title": {
           "x": 0.05
          },
          "xaxis": {
           "automargin": true,
           "gridcolor": "white",
           "linecolor": "white",
           "ticks": "",
           "title": {
            "standoff": 15
           },
           "zerolinecolor": "white",
           "zerolinewidth": 2
          },
          "yaxis": {
           "automargin": true,
           "gridcolor": "white",
           "linecolor": "white",
           "ticks": "",
           "title": {
            "standoff": 15
           },
           "zerolinecolor": "white",
           "zerolinewidth": 2
          }
         }
        },
        "title": {
         "text": "Logit Difference From Each Head"
        },
        "xaxis": {
         "anchor": "y",
         "constrain": "domain",
         "domain": [
          0,
          1
         ],
         "scaleanchor": "y",
         "title": {
          "text": "Head"
         }
        },
        "yaxis": {
         "anchor": "x",
         "autorange": "reversed",
         "constrain": "domain",
         "domain": [
          0,
          1
         ],
         "title": {
          "text": "Layer"
         }
        }
       }
      }
     },
     "metadata": {},
     "output_type": "display_data"
    }
   ],
   "source": [
    "_, cache = model.run_with_cache([p[0] for p in prompts])\n",
    "cache.prompts = prompts\n",
    "plot_head_contribution(cache)"
   ]
  },
  {
   "cell_type": "code",
   "execution_count": 36,
   "metadata": {},
   "outputs": [
    {
     "name": "stdout",
     "output_type": "stream",
     "text": [
      "Layer 0:  Mary was older than John. Who was born first? Mary was born before ... suns\n",
      "Layer 1:  Mary was older than John. Who was born first? Mary was born before ... the \n",
      "Layer 2:  Mary was older than John. Who was born first? Mary was born before ... the \n",
      "Layer 3:  Mary was older than John. Who was born first? Mary was born before ... the \n",
      "Layer 4:  Mary was older than John. Who was born first? Mary was born before ... the \n",
      "Layer 5:  Mary was older than John. Who was born first? Mary was born before ... the \n",
      "Layer 6:  Mary was older than John. Who was born first? Mary was born before ... the \n",
      "Layer 7:  Mary was older than John. Who was born first? Mary was born before ... the \n",
      "Layer 8:  Mary was older than John. Who was born first? Mary was born before ... the \n",
      "Layer 9:  Mary was older than John. Who was born first? Mary was born before ... John\n",
      "Layer 10:  Mary was older than John. Who was born first? Mary was born before ... John\n",
      "Layer 11:  Mary was older than John. Who was born first? Mary was born before ... John\n"
     ]
    }
   ],
   "source": [
    "for layer in range(model.cfg.n_layers):\n",
    "    resid_stream = cache['resid_post', layer][0]\n",
    "    resid_stream = cache.apply_ln_to_stack(resid_stream, layer)\n",
    "    logits = model.unembed(resid_stream)\n",
    "    pred_token = logits[:, -1, :].argmax(-1)\n",
    "    pred = model.tokenizer.decode(pred_token)\n",
    "    print(f'Layer {layer}: {prompts[0][0]} ...{pred[:5]}')"
   ]
  },
  {
   "cell_type": "code",
   "execution_count": 48,
   "metadata": {},
   "outputs": [
    {
     "data": {
      "text/html": [
       "<div id=\"circuits-vis-e5f0080b-b30f\" style=\"margin: 15px 0;\"/>\n",
       "    <script crossorigin type=\"module\">\n",
       "    import { render, AttentionHeads } from \"https://unpkg.com/circuitsvis@1.43.2/dist/cdn/esm.js\";\n",
       "    render(\n",
       "      \"circuits-vis-e5f0080b-b30f\",\n",
       "      AttentionHeads,\n",
       "      {\"attention\": [[[1.0, 0.0, 0.0, 0.0, 0.0, 0.0, 0.0, 0.0, 0.0, 0.0, 0.0, 0.0, 0.0, 0.0, 0.0, 0.0], [0.9941389560699463, 0.005861060693860054, 0.0, 0.0, 0.0, 0.0, 0.0, 0.0, 0.0, 0.0, 0.0, 0.0, 0.0, 0.0, 0.0, 0.0], [0.9723156094551086, 0.012533307075500488, 0.015151054598391056, 0.0, 0.0, 0.0, 0.0, 0.0, 0.0, 0.0, 0.0, 0.0, 0.0, 0.0, 0.0, 0.0], [0.9836782813072205, 0.005572429858148098, 0.00566081702709198, 0.005088480655103922, 0.0, 0.0, 0.0, 0.0, 0.0, 0.0, 0.0, 0.0, 0.0, 0.0, 0.0, 0.0], [0.8875022530555725, 0.09868564456701279, 0.008050814270973206, 0.003567121224477887, 0.002194116823375225, 0.0, 0.0, 0.0, 0.0, 0.0, 0.0, 0.0, 0.0, 0.0, 0.0, 0.0], [0.9643558859825134, 0.008210035040974617, 0.00867017637938261, 0.0031836125999689102, 0.0015934277325868607, 0.013986805453896523, 0.0, 0.0, 0.0, 0.0, 0.0, 0.0, 0.0, 0.0, 0.0, 0.0], [0.6036179065704346, 0.2655118703842163, 0.00760071724653244, 0.01499395165592432, 0.0019925390370190144, 0.09926824271678925, 0.0070147584192454815, 0.0, 0.0, 0.0, 0.0, 0.0, 0.0, 0.0, 0.0, 0.0], [0.9042378067970276, 0.03460092842578888, 0.014573968946933746, 0.00838595349341631, 0.006154169328510761, 0.010912896133959293, 0.014818668365478516, 0.0063156490214169025, 0.0, 0.0, 0.0, 0.0, 0.0, 0.0, 0.0, 0.0], [0.557793915271759, 0.3329247534275055, 0.003769761649891734, 0.01988980732858181, 0.001559754484333098, 0.07467517256736755, 0.0012527459766715765, 0.005455235950648785, 0.002678940538316965, 0.0, 0.0, 0.0, 0.0, 0.0, 0.0, 0.0], [0.9455956816673279, 0.02012995257973671, 0.0033120319712907076, 0.01298599038273096, 0.0031356236431747675, 0.0028548133559525013, 0.004413988441228867, 0.002470999723300338, 0.0003520745667628944, 0.004748971201479435, 0.0, 0.0, 0.0, 0.0, 0.0, 0.0], [0.8838168382644653, 0.02933824434876442, 0.005463998299092054, 0.010640459135174751, 0.007242383435368538, 0.015375534072518349, 0.016677815467119217, 0.007469255477190018, 0.0017048894660547376, 0.013694364577531815, 0.00857615191489458, 0.0, 0.0, 0.0, 0.0, 0.0], [0.6382700204849243, 0.17810338735580444, 0.00625237450003624, 0.0032300588209182024, 0.0011966972379013896, 0.12776798009872437, 0.004751280881464481, 0.02729586698114872, 0.0012347552692517638, 0.004767477046698332, 0.0035324415657669306, 0.0035975805949419737, 0.0, 0.0, 0.0, 0.0], [0.8849193453788757, 0.008812385611236095, 0.04441022127866745, 0.00976128876209259, 0.005771328695118427, 0.012403780594468117, 0.005264284089207649, 0.003725894493982196, 0.0017654955154284835, 0.012485774233937263, 0.004952737595885992, 0.0012813115026801825, 0.004446139093488455, 0.0, 0.0, 0.0], [0.84499591588974, 0.011353879235684872, 0.006136702839285135, 0.06527933478355408, 0.008188918232917786, 0.007249421905726194, 0.002100231358781457, 0.0023849671706557274, 0.0007890799315646291, 0.043925538659095764, 0.002275150502100587, 0.0006224894314073026, 0.0024273062590509653, 0.0022710482589900494, 0.0, 0.0], [0.9055477976799011, 0.0076676467433571815, 0.0025146512780338526, 0.0176518764346838, 0.0035847248509526253, 0.009027095511555672, 0.003382170805707574, 0.005680640693753958, 0.0004356566641945392, 0.004586969967931509, 0.032999489456415176, 0.0017938477685675025, 0.0014065246796235442, 0.0007607952575199306, 0.002960115671157837, 0.0], [0.41981077194213867, 0.07631681859493256, 0.0018132146215066314, 0.0016959484200924635, 0.0008204605546779931, 0.4734407067298889, 0.0014423774555325508, 0.0071556903421878815, 0.00045137444976717234, 0.003667812794446945, 0.0003898551221936941, 0.0007139173103496432, 0.010812274180352688, 0.0001964437251444906, 0.0007601803517900407, 0.0005121011636219919]], [[1.0, 0.0, 0.0, 0.0, 0.0, 0.0, 0.0, 0.0, 0.0, 0.0, 0.0, 0.0, 0.0, 0.0, 0.0, 0.0], [0.9925794005393982, 0.007420565467327833, 0.0, 0.0, 0.0, 0.0, 0.0, 0.0, 0.0, 0.0, 0.0, 0.0, 0.0, 0.0, 0.0, 0.0], [0.9498438835144043, 0.02024657651782036, 0.029909566044807434, 0.0, 0.0, 0.0, 0.0, 0.0, 0.0, 0.0, 0.0, 0.0, 0.0, 0.0, 0.0, 0.0], [0.95976322889328, 0.007780928164720535, 0.02192860096693039, 0.010527318343520164, 0.0, 0.0, 0.0, 0.0, 0.0, 0.0, 0.0, 0.0, 0.0, 0.0, 0.0, 0.0], [0.8105897307395935, 0.11066535860300064, 0.044906698167324066, 0.01821066439151764, 0.015627559274435043, 0.0, 0.0, 0.0, 0.0, 0.0, 0.0, 0.0, 0.0, 0.0, 0.0, 0.0], [0.8873521089553833, 0.010304727591574192, 0.05221931263804436, 0.005816947668790817, 0.009891139343380928, 0.03441574424505234, 0.0, 0.0, 0.0, 0.0, 0.0, 0.0, 0.0, 0.0, 0.0, 0.0], [0.6453619003295898, 0.07306114584207535, 0.01729181408882141, 0.005911338143050671, 0.0063244495540857315, 0.18719421327114105, 0.06485514342784882, 0.0, 0.0, 0.0, 0.0, 0.0, 0.0, 0.0, 0.0, 0.0], [0.7957900166511536, 0.06826788187026978, 0.032374460250139236, 0.02750982716679573, 0.013244942761957645, 0.024668272584676743, 0.017634402960538864, 0.020510202273726463, 0.0, 0.0, 0.0, 0.0, 0.0, 0.0, 0.0, 0.0], [0.3894254267215729, 0.10706626623868942, 0.020642388612031937, 0.03915604576468468, 0.008240158669650555, 0.37670964002609253, 0.027242228388786316, 0.020316924899816513, 0.011200977489352226, 0.0, 0.0, 0.0, 0.0, 0.0, 0.0, 0.0], [0.7061583995819092, 0.0660756453871727, 0.029873941093683243, 0.05437614396214485, 0.007029613479971886, 0.028477227315306664, 0.052922721952199936, 0.011983797885477543, 0.007263150531798601, 0.035839419811964035, 0.0, 0.0, 0.0, 0.0, 0.0, 0.0], [0.6631706357002258, 0.06981100142002106, 0.048285387456417084, 0.013620729558169842, 0.00557180680334568, 0.041239961981773376, 0.08722414076328278, 0.02044747583568096, 0.006176745053380728, 0.015361705794930458, 0.029090464115142822, 0.0, 0.0, 0.0, 0.0, 0.0], [0.5796194076538086, 0.09914753586053848, 0.013752901926636696, 0.0048546320758759975, 0.003771828021854162, 0.1797581911087036, 0.039482831954956055, 0.03151775524020195, 0.002249103272333741, 0.007612582296133041, 0.0049775331281125546, 0.033255692571401596, 0.0, 0.0, 0.0, 0.0], [0.6641663312911987, 0.025973422452807426, 0.08074816316366196, 0.0103070680052042, 0.015517815947532654, 0.047411561012268066, 0.05474548786878586, 0.022580470889806747, 0.011769967153668404, 0.018616830930113792, 0.004743157420307398, 0.021535588428378105, 0.021884197369217873, 0.0, 0.0, 0.0], [0.5864458680152893, 0.007393736857920885, 0.019102049991488457, 0.07816383242607117, 0.017135493457317352, 0.03983871638774872, 0.030878514051437378, 0.008673499338328838, 0.004831554368138313, 0.1468808650970459, 0.02222219854593277, 0.006279332563281059, 0.014589034952223301, 0.017565449699759483, 0.0, 0.0], [0.5729181170463562, 0.012704499065876007, 0.01818845048546791, 0.023749010637402534, 0.0047026704996824265, 0.06014210358262062, 0.04688231647014618, 0.021185150370001793, 0.006222119554877281, 0.027399098500609398, 0.1331951767206192, 0.026282748207449913, 0.012576048262417316, 0.009375393390655518, 0.02447720617055893, 0.0], [0.3123696744441986, 0.052899934351444244, 0.015515049919486046, 0.00979083776473999, 0.0030550218652933836, 0.4594941735267639, 0.03454483300447464, 0.02489137090742588, 0.0027213681023567915, 0.009852370247244835, 0.0066021098755300045, 0.009693230502307415, 0.0451175831258297, 0.002540264744311571, 0.003148013725876808, 0.007764122914522886]], [[1.0, 0.0, 0.0, 0.0, 0.0, 0.0, 0.0, 0.0, 0.0, 0.0, 0.0, 0.0, 0.0, 0.0, 0.0, 0.0], [0.9953657388687134, 0.004634229466319084, 0.0, 0.0, 0.0, 0.0, 0.0, 0.0, 0.0, 0.0, 0.0, 0.0, 0.0, 0.0, 0.0, 0.0], [0.9826579689979553, 0.011342923156917095, 0.005999100394546986, 0.0, 0.0, 0.0, 0.0, 0.0, 0.0, 0.0, 0.0, 0.0, 0.0, 0.0, 0.0, 0.0], [0.9866937398910522, 0.005768829025328159, 0.0031715193763375282, 0.004365887958556414, 0.0, 0.0, 0.0, 0.0, 0.0, 0.0, 0.0, 0.0, 0.0, 0.0, 0.0, 0.0], [0.9375770688056946, 0.055037807673215866, 0.0032084262929856777, 0.001265713362954557, 0.0029110454488545656, 0.0, 0.0, 0.0, 0.0, 0.0, 0.0, 0.0, 0.0, 0.0, 0.0, 0.0], [0.9794352054595947, 0.0047141616232693195, 0.0037559319753199816, 0.0007321140146814287, 0.0012949941447004676, 0.01006754208356142, 0.0, 0.0, 0.0, 0.0, 0.0, 0.0, 0.0, 0.0, 0.0, 0.0], [0.6091271638870239, 0.18710488080978394, 0.005690651014447212, 0.005118721630424261, 0.0038959281519055367, 0.17638039588928223, 0.01268228329718113, 0.0, 0.0, 0.0, 0.0, 0.0, 0.0, 0.0, 0.0, 0.0], [0.9281483888626099, 0.02896548993885517, 0.005732238758355379, 0.0026467370335012674, 0.0018309797160327435, 0.016809463500976562, 0.004403254482895136, 0.011463447473943233, 0.0, 0.0, 0.0, 0.0, 0.0, 0.0, 0.0, 0.0], [0.34995245933532715, 0.46669432520866394, 0.001922907424159348, 0.01027247216552496, 0.0008611686062067747, 0.15018805861473083, 0.01008994597941637, 0.007791680749505758, 0.0022270141635090113, 0.0, 0.0, 0.0, 0.0, 0.0, 0.0, 0.0], [0.8489787578582764, 0.07903178036212921, 0.0022651778999716043, 0.01950133964419365, 0.006501050665974617, 0.02075950801372528, 0.011468679644167423, 0.0035931409802287817, 0.0004883023793809116, 0.007412159349769354, 0.0, 0.0, 0.0, 0.0, 0.0, 0.0], [0.8663124442100525, 0.02533886954188347, 0.0017438636859878898, 0.006188017316162586, 0.0054763383232057095, 0.04884150251746178, 0.02289143204689026, 0.006654729135334492, 0.0008894599741324782, 0.006896562874317169, 0.008766712620854378, 0.0, 0.0, 0.0, 0.0, 0.0], [0.6301968097686768, 0.1446765512228012, 0.003282874124124646, 0.00130832742433995, 0.0024519520811736584, 0.19051674008369446, 0.006537123583257198, 0.011944353580474854, 0.0009583421051502228, 0.0013627802254632115, 0.0012471966911107302, 0.005516992881894112, 0.0, 0.0, 0.0, 0.0], [0.8455453515052795, 0.019634125754237175, 0.043244604021310806, 0.008088985458016396, 0.009722939692437649, 0.040540605783462524, 0.013945560902357101, 0.0033041229471564293, 0.0009674951434135437, 0.0019479601178318262, 0.002897076541557908, 0.004793189000338316, 0.005368109792470932, 0.0, 0.0, 0.0], [0.7989352345466614, 0.030429242178797722, 0.009993416257202625, 0.07505293935537338, 0.01133920717984438, 0.0150860995054245, 0.01692313887178898, 0.003361183451488614, 0.00040406937478110194, 0.018753452226519585, 0.010621395893394947, 0.0044234320521354675, 0.002577093429863453, 0.002100099576637149, 0.0, 0.0], [0.7785280346870422, 0.02183479815721512, 0.003228228772059083, 0.01890411786735058, 0.01056323479861021, 0.03873566910624504, 0.01052092481404543, 0.009366532787680626, 0.0007112096645869315, 0.007129885256290436, 0.08638489246368408, 0.006234574597328901, 0.0025328362826257944, 0.0009168867254629731, 0.0044082156382501125, 0.0], [0.2606560289859772, 0.10767251253128052, 0.004237656015902758, 0.002019051928073168, 0.0022624521516263485, 0.5368460416793823, 0.020834287628531456, 0.018285639584064484, 0.001096520689316094, 0.003603000193834305, 0.0022506227251142263, 0.014602364972233772, 0.021512331441044807, 0.00037274547503329813, 0.0007997538195922971, 0.002949084620922804]], [[1.0, 0.0, 0.0, 0.0, 0.0, 0.0, 0.0, 0.0, 0.0, 0.0, 0.0, 0.0, 0.0, 0.0, 0.0, 0.0], [0.9612069725990295, 0.03879306837916374, 0.0, 0.0, 0.0, 0.0, 0.0, 0.0, 0.0, 0.0, 0.0, 0.0, 0.0, 0.0, 0.0, 0.0], [0.9000605940818787, 0.047725263983011246, 0.052214086055755615, 0.0, 0.0, 0.0, 0.0, 0.0, 0.0, 0.0, 0.0, 0.0, 0.0, 0.0, 0.0, 0.0], [0.9625750780105591, 0.01642385870218277, 0.013538817875087261, 0.0074622067622840405, 0.0, 0.0, 0.0, 0.0, 0.0, 0.0, 0.0, 0.0, 0.0, 0.0, 0.0, 0.0], [0.741680920124054, 0.18836387991905212, 0.04202016070485115, 0.00889662653207779, 0.01903844252228737, 0.0, 0.0, 0.0, 0.0, 0.0, 0.0, 0.0, 0.0, 0.0, 0.0, 0.0], [0.8668121099472046, 0.04372062161564827, 0.026858704164624214, 0.002350994385778904, 0.0036218208260834217, 0.056635782122612, 0.0, 0.0, 0.0, 0.0, 0.0, 0.0, 0.0, 0.0, 0.0, 0.0], [0.6376198530197144, 0.20270147919654846, 0.006314481142908335, 0.004734728951007128, 0.0024746472481638193, 0.13097983598709106, 0.015174994245171547, 0.0, 0.0, 0.0, 0.0, 0.0, 0.0, 0.0, 0.0, 0.0], [0.8134346604347229, 0.04981878772377968, 0.014877553097903728, 0.032919757068157196, 0.015799622982740402, 0.040748439729213715, 0.025904996320605278, 0.006496217101812363, 0.0, 0.0, 0.0, 0.0, 0.0, 0.0, 0.0, 0.0], [0.5292203426361084, 0.3394463360309601, 0.0056455195881426334, 0.009173410013318062, 0.002296322723850608, 0.10325340181589127, 0.005948839709162712, 0.003392658429220319, 0.0016231733607128263, 0.0, 0.0, 0.0, 0.0, 0.0, 0.0, 0.0], [0.7973146438598633, 0.1160588264465332, 0.009077310562133789, 0.010020062327384949, 0.004071477334946394, 0.023221945390105247, 0.019526204094290733, 0.0038408355321735144, 0.001998071325942874, 0.014870616607367992, 0.0, 0.0, 0.0, 0.0, 0.0, 0.0], [0.8111215829849243, 0.05424624681472778, 0.006936031859368086, 0.005732590798288584, 0.0039564091712236404, 0.05243615806102753, 0.023793281987309456, 0.00516867870464921, 0.002544683637097478, 0.030725376680493355, 0.0033389939926564693, 0.0, 0.0, 0.0, 0.0, 0.0], [0.5294944047927856, 0.27520105242729187, 0.009253857657313347, 0.0023493035696446896, 0.0017098881071433425, 0.1395363062620163, 0.010986626148223877, 0.00585235795006156, 0.002187322126701474, 0.014529386535286903, 0.0006723339320160449, 0.008227202109992504, 0.0, 0.0, 0.0, 0.0], [0.8081449866294861, 0.041125137358903885, 0.023883342742919922, 0.0030913068912923336, 0.0026295266579836607, 0.03519795462489128, 0.006023593246936798, 0.002818745793774724, 0.0024566298816353083, 0.022328900173306465, 0.00039349496364593506, 0.0036288644187152386, 0.04827752709388733, 0.0, 0.0, 0.0], [0.776430070400238, 0.030386777594685555, 0.01570313051342964, 0.02050798013806343, 0.005940408445894718, 0.01539415679872036, 0.014733574353158474, 0.002843810012564063, 0.004994307179003954, 0.08045012503862381, 0.0023477342911064625, 0.00639364356175065, 0.015282019041478634, 0.008592132478952408, 0.0, 0.0], [0.8429455757141113, 0.028437286615371704, 0.005499336868524551, 0.007518507074564695, 0.004369791597127914, 0.030545329675078392, 0.021860679611563683, 0.005667094606906176, 0.002753742039203644, 0.014942335896193981, 0.007365257013589144, 0.009300682693719864, 0.006664675660431385, 0.002688121981918812, 0.009441674686968327, 0.0], [0.38757431507110596, 0.15886148810386658, 0.006905303802341223, 0.004361006896942854, 0.0017684943741187453, 0.32036522030830383, 0.027729595080018044, 0.006853996776044369, 0.002121418947353959, 0.014087965711951256, 0.0013227007584646344, 0.007657309528440237, 0.05056850612163544, 0.0016489558620378375, 0.005258957389742136, 0.0029147895984351635]], [[1.0, 0.0, 0.0, 0.0, 0.0, 0.0, 0.0, 0.0, 0.0, 0.0, 0.0, 0.0, 0.0, 0.0, 0.0, 0.0], [0.9929505586624146, 0.007049424108117819, 0.0, 0.0, 0.0, 0.0, 0.0, 0.0, 0.0, 0.0, 0.0, 0.0, 0.0, 0.0, 0.0, 0.0], [0.9693981409072876, 0.02079840563237667, 0.009803527034819126, 0.0, 0.0, 0.0, 0.0, 0.0, 0.0, 0.0, 0.0, 0.0, 0.0, 0.0, 0.0, 0.0], [0.9666199088096619, 0.009174020029604435, 0.020919056609272957, 0.0032869894057512283, 0.0, 0.0, 0.0, 0.0, 0.0, 0.0, 0.0, 0.0, 0.0, 0.0, 0.0, 0.0], [0.8860676884651184, 0.08053983002901077, 0.020591864362359047, 0.0018540587043389678, 0.010946604423224926, 0.0, 0.0, 0.0, 0.0, 0.0, 0.0, 0.0, 0.0, 0.0, 0.0, 0.0], [0.9309792518615723, 0.018655430525541306, 0.02384059503674507, 0.0007884020451456308, 0.006621657405048609, 0.019114697352051735, 0.0, 0.0, 0.0, 0.0, 0.0, 0.0, 0.0, 0.0, 0.0, 0.0], [0.7638307809829712, 0.124802365899086, 0.010400100611150265, 0.004223853349685669, 0.003897641785442829, 0.087813600897789, 0.00503164017572999, 0.0, 0.0, 0.0, 0.0, 0.0, 0.0, 0.0, 0.0, 0.0], [0.8393892049789429, 0.06466009467840195, 0.014721584506332874, 0.0042033568024635315, 0.010920681990683079, 0.02969968318939209, 0.02955569699406624, 0.0068497066386044025, 0.0, 0.0, 0.0, 0.0, 0.0, 0.0, 0.0, 0.0], [0.41030004620552063, 0.4224884510040283, 0.011214596219360828, 0.006140188314020634, 0.003082971554249525, 0.1216929480433464, 0.011693784967064857, 0.008254309184849262, 0.00513277156278491, 0.0, 0.0, 0.0, 0.0, 0.0, 0.0, 0.0], [0.6814980506896973, 0.22113092243671417, 0.01559764426201582, 0.02254059724509716, 0.009737896732985973, 0.021386120468378067, 0.012248137034475803, 0.005554369650781155, 0.0021952721290290356, 0.008110974915325642, 0.0, 0.0, 0.0, 0.0, 0.0, 0.0], [0.89490807056427, 0.04633353278040886, 0.007843858562409878, 0.0030024549923837185, 0.0025937838945537806, 0.01712694764137268, 0.010735854506492615, 0.003449719864875078, 0.001992025412619114, 0.008766909129917622, 0.003246905282139778, 0.0, 0.0, 0.0, 0.0, 0.0], [0.678565263748169, 0.1567603349685669, 0.010992667637765408, 0.0028126698452979326, 0.0037567808758467436, 0.1087070181965828, 0.007514572702348232, 0.010229654610157013, 0.0034789820201694965, 0.010324109345674515, 0.0023266763892024755, 0.004531341139227152, 0.0, 0.0, 0.0, 0.0], [0.8696486353874207, 0.03308231383562088, 0.021423062309622765, 0.003368513658642769, 0.0044635627418756485, 0.018423298373818398, 0.00845989491790533, 0.0029320046305656433, 0.0034996522590517998, 0.011899583041667938, 0.0017406948609277606, 0.005228361580520868, 0.015830382704734802, 0.0, 0.0, 0.0], [0.8824049234390259, 0.02610025741159916, 0.009302014485001564, 0.02025335282087326, 0.0039200251922011375, 0.012761315330862999, 0.010043988935649395, 0.0019612889736890793, 0.0014546709135174751, 0.018673529848456383, 0.002132455352693796, 0.0031216994393616915, 0.005119353998452425, 0.002751055406406522, 0.0, 0.0], [0.8784458637237549, 0.025041891261935234, 0.008607819676399231, 0.012059363536536694, 0.0073568192310631275, 0.0268440842628479, 0.008484323509037495, 0.004690316040068865, 0.0017365197418257594, 0.005485438276082277, 0.005987783893942833, 0.005135742016136646, 0.004360619466751814, 0.002907081739977002, 0.0028563684318214655, 0.0], [0.5398182272911072, 0.10800714790821075, 0.005827751010656357, 0.0009634928428567946, 0.0028014786075800657, 0.2984095513820648, 0.00504902983084321, 0.0071622394025325775, 0.0022478988394141197, 0.004365290515124798, 0.0004990346496924758, 0.0028981168288737535, 0.018136028200387955, 0.0008300671470351517, 0.0010133229661732912, 0.0019712988287210464]], [[1.0, 0.0, 0.0, 0.0, 0.0, 0.0, 0.0, 0.0, 0.0, 0.0, 0.0, 0.0, 0.0, 0.0, 0.0, 0.0], [0.9647909998893738, 0.03520895168185234, 0.0, 0.0, 0.0, 0.0, 0.0, 0.0, 0.0, 0.0, 0.0, 0.0, 0.0, 0.0, 0.0, 0.0], [0.9104464054107666, 0.07154814898967743, 0.01800554431974888, 0.0, 0.0, 0.0, 0.0, 0.0, 0.0, 0.0, 0.0, 0.0, 0.0, 0.0, 0.0, 0.0], [0.9606621861457825, 0.01017793733626604, 0.022221367806196213, 0.00693848729133606, 0.0, 0.0, 0.0, 0.0, 0.0, 0.0, 0.0, 0.0, 0.0, 0.0, 0.0, 0.0], [0.7706714272499084, 0.09844405949115753, 0.11194710433483124, 0.011977135203778744, 0.006960364058613777, 0.0, 0.0, 0.0, 0.0, 0.0, 0.0, 0.0, 0.0, 0.0, 0.0, 0.0], [0.8290179371833801, 0.057574838399887085, 0.008883364498615265, 0.0040205190889537334, 0.0023364664521068335, 0.09816692769527435, 0.0, 0.0, 0.0, 0.0, 0.0, 0.0, 0.0, 0.0, 0.0, 0.0], [0.616379976272583, 0.10147012025117874, 0.013453726656734943, 0.007091906387358904, 0.002001478336751461, 0.24285803735256195, 0.01674484834074974, 0.0, 0.0, 0.0, 0.0, 0.0, 0.0, 0.0, 0.0, 0.0], [0.8823055028915405, 0.012909059412777424, 0.012926675379276276, 0.0033492662478238344, 0.0035988357849419117, 0.06367988884449005, 0.009996114298701286, 0.011234662495553493, 0.0, 0.0, 0.0, 0.0, 0.0, 0.0, 0.0, 0.0], [0.5015662312507629, 0.09000551700592041, 0.03380930423736572, 0.01124773919582367, 0.0035349794197827578, 0.32446950674057007, 0.019843995571136475, 0.011690235696732998, 0.0038325199857354164, 0.0, 0.0, 0.0, 0.0, 0.0, 0.0, 0.0], [0.8537425398826599, 0.022244490683078766, 0.008750500157475471, 0.010982482694089413, 0.0022625229321420193, 0.06944411247968674, 0.014624660834670067, 0.012799383141100407, 0.00320977414958179, 0.0019395556300878525, 0.0, 0.0, 0.0, 0.0, 0.0, 0.0], [0.8699491620063782, 0.03823086991906166, 0.005115164443850517, 0.005060799885541201, 0.001713879988528788, 0.05366227403283119, 0.011810841038823128, 0.008292139507830143, 0.0010496085742488503, 0.002826583106070757, 0.002288723597303033, 0.0, 0.0, 0.0, 0.0, 0.0], [0.46465179324150085, 0.11064358800649643, 0.035203903913497925, 0.008606410585343838, 0.001607821206562221, 0.3019275367259979, 0.040656354278326035, 0.015191471204161644, 0.005540990736335516, 0.003661419963464141, 0.0032956753857433796, 0.009013058617711067, 0.0, 0.0, 0.0, 0.0], [0.7091169357299805, 0.039659880101680756, 0.009569020941853523, 0.0031990979332476854, 0.0013030071277171373, 0.12194439768791199, 0.02148522436618805, 0.008255607448518276, 0.0009166182717308402, 0.0019424168858677149, 0.0020959461107850075, 0.009198903106153011, 0.07131301611661911, 0.0, 0.0, 0.0], [0.6918712258338928, 0.05278485268354416, 0.015924224629998207, 0.020498348399996758, 0.001902181887999177, 0.12908224761486053, 0.02226717583835125, 0.011796184815466404, 0.0030471482314169407, 0.004909384995698929, 0.00408669700846076, 0.007206115406006575, 0.028070487082004547, 0.0065536899492144585, 0.0, 0.0], [0.8074240684509277, 0.02576288767158985, 0.010635389015078545, 0.012402653694152832, 0.001646428951062262, 0.08145669847726822, 0.01652541384100914, 0.012342340312898159, 0.002289222087711096, 0.0016867651138454676, 0.0038189159240573645, 0.003197341226041317, 0.015625394880771637, 0.003991135861724615, 0.0011952724307775497, 0.0], [0.23576727509498596, 0.07036689668893814, 0.023108037188649178, 0.007720934692770243, 0.0008220944437198341, 0.4675549864768982, 0.04665875807404518, 0.008334758691489697, 0.001873192610219121, 0.0027605989016592503, 0.0021888650953769684, 0.007970455102622509, 0.11023573577404022, 0.009937232360243797, 0.0028928499668836594, 0.001807318301871419]], [[1.0, 0.0, 0.0, 0.0, 0.0, 0.0, 0.0, 0.0, 0.0, 0.0, 0.0, 0.0, 0.0, 0.0, 0.0, 0.0], [0.9907957911491394, 0.009204229339957237, 0.0, 0.0, 0.0, 0.0, 0.0, 0.0, 0.0, 0.0, 0.0, 0.0, 0.0, 0.0, 0.0, 0.0], [0.9514428377151489, 0.02872106246650219, 0.019835999235510826, 0.0, 0.0, 0.0, 0.0, 0.0, 0.0, 0.0, 0.0, 0.0, 0.0, 0.0, 0.0, 0.0], [0.9694786667823792, 0.020018527284264565, 0.004790985491126776, 0.005711864214390516, 0.0, 0.0, 0.0, 0.0, 0.0, 0.0, 0.0, 0.0, 0.0, 0.0, 0.0, 0.0], [0.7967796921730042, 0.18504028022289276, 0.006563365459442139, 0.003575830953195691, 0.008040840737521648, 0.0, 0.0, 0.0, 0.0, 0.0, 0.0, 0.0, 0.0, 0.0, 0.0, 0.0], [0.8368088006973267, 0.020684855058789253, 0.00935305841267109, 0.0007965776603668928, 0.009276147931814194, 0.1230805367231369, 0.0, 0.0, 0.0, 0.0, 0.0, 0.0, 0.0, 0.0, 0.0, 0.0], [0.4927006959915161, 0.1170836091041565, 0.0019024470821022987, 0.003602108219638467, 0.001886861864477396, 0.3768744170665741, 0.005949844606220722, 0.0, 0.0, 0.0, 0.0, 0.0, 0.0, 0.0, 0.0, 0.0], [0.7979850769042969, 0.04837753623723984, 0.008912533521652222, 0.023659618571400642, 0.01713571697473526, 0.08147638291120529, 0.008232740685343742, 0.014220435172319412, 0.0, 0.0, 0.0, 0.0, 0.0, 0.0, 0.0, 0.0], [0.3074093163013458, 0.12448463588953018, 0.0021299554500728846, 0.011188238859176636, 0.003231656039133668, 0.540431797504425, 0.003774662036448717, 0.005137992091476917, 0.0022117348853498697, 0.0, 0.0, 0.0, 0.0, 0.0, 0.0, 0.0], [0.8541243672370911, 0.038960475474596024, 0.0008199206786230206, 0.005242051091045141, 0.0015962033066898584, 0.09304825216531754, 0.0007045792881399393, 0.0014504484133794904, 0.00034343564766459167, 0.0037102405913174152, 0.0, 0.0, 0.0, 0.0, 0.0, 0.0], [0.8324827551841736, 0.02979191206395626, 0.0027212253771722317, 0.006013366859406233, 0.0034486253280192614, 0.10616287589073181, 0.0016474052099511027, 0.0036666090600192547, 0.0010825094068422914, 0.006576976273208857, 0.006405831314623356, 0.0, 0.0, 0.0, 0.0, 0.0], [0.5092319250106812, 0.09710677713155746, 0.002398477401584387, 0.0014614354586228728, 0.0011622218880802393, 0.3619900047779083, 0.008496548980474472, 0.005614819470793009, 0.0012668482959270477, 0.003389375051483512, 0.0016178988153114915, 0.006263770163059235, 0.0, 0.0, 0.0, 0.0], [0.8621824979782104, 0.0129154147580266, 0.009045961312949657, 0.001975178951397538, 0.005686087999492884, 0.07104669511318207, 0.005875526927411556, 0.004644418600946665, 0.002078940160572529, 0.008056996390223503, 0.0013590715825557709, 0.005109428893774748, 0.010023786686360836, 0.0, 0.0, 0.0], [0.7646403908729553, 0.015968427062034607, 0.009887653402984142, 0.03693820908665657, 0.016423091292381287, 0.06509771198034286, 0.009640412405133247, 0.005891251377761364, 0.004669038113206625, 0.04386163502931595, 0.011017336510121822, 0.005308588966727257, 0.0053551034070551395, 0.005301194731146097, 0.0, 0.0], [0.7728689312934875, 0.015193094499409199, 0.0014385450631380081, 0.005291797686368227, 0.004117379430681467, 0.16553407907485962, 0.00224141008220613, 0.0031207643914967775, 0.0007873973227106035, 0.0033430324401706457, 0.0158883985131979, 0.0016500581987202168, 0.004474140238016844, 0.0007070109131745994, 0.003344080178067088, 0.0], [0.1994120478630066, 0.022947067394852638, 0.0015524688642472029, 0.0005899480311200023, 0.0005858109216205776, 0.7559655904769897, 0.0027032236102968454, 0.0028549223206937313, 0.0006632400909438729, 0.0017718941671773791, 0.0011820710496976972, 0.0012965325731784105, 0.006588839925825596, 0.00031697930535301566, 0.000650863628834486, 0.000918602105230093]], [[1.0, 0.0, 0.0, 0.0, 0.0, 0.0, 0.0, 0.0, 0.0, 0.0, 0.0, 0.0, 0.0, 0.0, 0.0, 0.0], [0.9746315479278564, 0.02536841481924057, 0.0, 0.0, 0.0, 0.0, 0.0, 0.0, 0.0, 0.0, 0.0, 0.0, 0.0, 0.0, 0.0, 0.0], [0.9585061073303223, 0.026227755472064018, 0.015266060829162598, 0.0, 0.0, 0.0, 0.0, 0.0, 0.0, 0.0, 0.0, 0.0, 0.0, 0.0, 0.0, 0.0], [0.9387252926826477, 0.023706180974841118, 0.02139393612742424, 0.016174528747797012, 0.0, 0.0, 0.0, 0.0, 0.0, 0.0, 0.0, 0.0, 0.0, 0.0, 0.0, 0.0], [0.8586333990097046, 0.03903508186340332, 0.06919640302658081, 0.028650162741541862, 0.004484898876398802, 0.0, 0.0, 0.0, 0.0, 0.0, 0.0, 0.0, 0.0, 0.0, 0.0, 0.0], [0.8723270297050476, 0.026959512382745743, 0.031980667263269424, 0.00825361255556345, 0.008276429958641529, 0.052202872931957245, 0.0, 0.0, 0.0, 0.0, 0.0, 0.0, 0.0, 0.0, 0.0, 0.0], [0.6357196569442749, 0.08525718748569489, 0.05689006298780441, 0.028563492000102997, 0.005633872002363205, 0.15383432805538177, 0.034101471304893494, 0.0, 0.0, 0.0, 0.0, 0.0, 0.0, 0.0, 0.0, 0.0], [0.8818351030349731, 0.016043754294514656, 0.013951133005321026, 0.02690851129591465, 0.01690038852393627, 0.014053888618946075, 0.02246043272316456, 0.007846804335713387, 0.0, 0.0, 0.0, 0.0, 0.0, 0.0, 0.0, 0.0], [0.6130573749542236, 0.09454599022865295, 0.03741886094212532, 0.06005579233169556, 0.012622248381376266, 0.10228230804204941, 0.051182880997657776, 0.018770359456539154, 0.010064153000712395, 0.0, 0.0, 0.0, 0.0, 0.0, 0.0, 0.0], [0.825534999370575, 0.053357742726802826, 0.01680940017104149, 0.01606113091111183, 0.01018905732780695, 0.02672415040433407, 0.027553940191864967, 0.006573110818862915, 0.006180083379149437, 0.011016346514225006, 0.0, 0.0, 0.0, 0.0, 0.0, 0.0], [0.7915923595428467, 0.06382707506418228, 0.0251273512840271, 0.008295348845422268, 0.007157164625823498, 0.031081203371286392, 0.02798558957874775, 0.006446367595344782, 0.005404583178460598, 0.02656685747206211, 0.006516156252473593, 0.0, 0.0, 0.0, 0.0, 0.0], [0.601707935333252, 0.08501681685447693, 0.05404758080840111, 0.021319933235645294, 0.0017702655168250203, 0.14285239577293396, 0.03632993996143341, 0.013227416202425957, 0.005601015407592058, 0.01346502173691988, 0.013093232177197933, 0.011568420566618443, 0.0, 0.0, 0.0, 0.0], [0.7469509243965149, 0.014326841570436954, 0.03159391134977341, 0.05319705605506897, 0.008131464943289757, 0.007600755896419287, 0.017347294837236404, 0.0032934918999671936, 0.011874236166477203, 0.047551654279232025, 0.026475725695490837, 0.021447883918881416, 0.010208925232291222, 0.0, 0.0, 0.0], [0.6014246344566345, 0.013829439878463745, 0.007745423354208469, 0.17138709127902985, 0.009630958549678326, 0.010636372491717339, 0.019493374973535538, 0.006409730762243271, 0.012439168989658356, 0.060689616948366165, 0.043026652187108994, 0.015597417019307613, 0.011265787295997143, 0.01642432250082493, 0.0, 0.0], [0.7785866856575012, 0.015342270955443382, 0.010602480731904507, 0.028751155361533165, 0.010866638273000717, 0.021515559405088425, 0.024543242529034615, 0.003729473100975156, 0.006692087277770042, 0.013575143180787563, 0.048962078988552094, 0.018028438091278076, 0.007776767946779728, 0.006718386430293322, 0.0043095750734210014, 0.0], [0.6296571493148804, 0.03317790478467941, 0.012363835237920284, 0.016348950564861298, 0.002929435344412923, 0.1826726496219635, 0.047751784324645996, 0.004093070048838854, 0.005102759227156639, 0.010579725727438927, 0.010990792885422707, 0.020931260660290718, 0.011126453056931496, 0.0053360480815172195, 0.001476244069635868, 0.005461901891976595]], [[1.0, 0.0, 0.0, 0.0, 0.0, 0.0, 0.0, 0.0, 0.0, 0.0, 0.0, 0.0, 0.0, 0.0, 0.0, 0.0], [0.991925060749054, 0.008074947632849216, 0.0, 0.0, 0.0, 0.0, 0.0, 0.0, 0.0, 0.0, 0.0, 0.0, 0.0, 0.0, 0.0, 0.0], [0.9808839559555054, 0.013167103752493858, 0.005948989186435938, 0.0, 0.0, 0.0, 0.0, 0.0, 0.0, 0.0, 0.0, 0.0, 0.0, 0.0, 0.0, 0.0], [0.9761651754379272, 0.0056363907642662525, 0.004885527305305004, 0.013313017785549164, 0.0, 0.0, 0.0, 0.0, 0.0, 0.0, 0.0, 0.0, 0.0, 0.0, 0.0, 0.0], [0.7944209575653076, 0.1631777286529541, 0.0062761264853179455, 0.021125003695487976, 0.015000218525528908, 0.0, 0.0, 0.0, 0.0, 0.0, 0.0, 0.0, 0.0, 0.0, 0.0, 0.0], [0.908491313457489, 0.045035939663648605, 0.0071632456965744495, 0.016895800828933716, 0.011442730203270912, 0.0109710693359375, 0.0, 0.0, 0.0, 0.0, 0.0, 0.0, 0.0, 0.0, 0.0, 0.0], [0.6138630509376526, 0.20857100188732147, 0.00795826967805624, 0.07619309425354004, 0.015150685794651508, 0.06356386095285416, 0.014700016006827354, 0.0, 0.0, 0.0, 0.0, 0.0, 0.0, 0.0, 0.0, 0.0], [0.8194411993026733, 0.01795501820743084, 0.03706188127398491, 0.06942345947027206, 0.030324673280119896, 0.0067155868746340275, 0.010215523652732372, 0.008862696588039398, 0.0, 0.0, 0.0, 0.0, 0.0, 0.0, 0.0, 0.0], [0.37192875146865845, 0.2368685007095337, 0.006973836105316877, 0.2953360378742218, 0.018487216904759407, 0.038653191179037094, 0.007507388014346361, 0.009084583260118961, 0.015160596929490566, 0.0, 0.0, 0.0, 0.0, 0.0, 0.0, 0.0], [0.5467219352722168, 0.031646065413951874, 0.0037391248624771833, 0.2475586086511612, 0.06742890924215317, 0.009623442776501179, 0.005820051766932011, 0.006092830095440149, 0.0030017169192433357, 0.07836730778217316, 0.0, 0.0, 0.0, 0.0, 0.0, 0.0], [0.8106960654258728, 0.036415744572877884, 0.003271719440817833, 0.052103880792856216, 0.00744189927354455, 0.01519308052957058, 0.004110888112336397, 0.003093285020440817, 0.0010804978664964437, 0.04023248329758644, 0.02636055275797844, 0.0, 0.0, 0.0, 0.0, 0.0], [0.5494155883789062, 0.1540548950433731, 0.004653549287468195, 0.03135787323117256, 0.01928332820534706, 0.0958491638302803, 0.011128372512757778, 0.024464884772896767, 0.0029821537900716066, 0.0311359204351902, 0.060098592191934586, 0.015575774013996124, 0.0, 0.0, 0.0, 0.0], [0.742965579032898, 0.025138545781373978, 0.029299482703208923, 0.031065473333001137, 0.04150867462158203, 0.021720871329307556, 0.011463970877230167, 0.013683478347957134, 0.004448707215487957, 0.03916897252202034, 0.015046659857034683, 0.011342067271471024, 0.01314752921462059, 0.0, 0.0, 0.0], [0.3677275776863098, 0.008269273675978184, 0.003807106288149953, 0.4004664719104767, 0.032338935881853104, 0.0031814880203455687, 0.0023685817141085863, 0.003898035502061248, 0.0016485092928633094, 0.14284774661064148, 0.02731730416417122, 0.002850593999028206, 0.0009207664988934994, 0.002357539488002658, 0.0, 0.0], [0.3217669129371643, 0.004316370002925396, 0.0014443794498220086, 0.14618171751499176, 0.07783722877502441, 0.006027731578797102, 0.003685162402689457, 0.008293225429952145, 0.0014959884574636817, 0.05198555067181587, 0.3531489372253418, 0.01280163787305355, 0.0005883133853785694, 0.0006808358011767268, 0.009745950810611248, 0.0], [0.4390614628791809, 0.15783751010894775, 0.0029810993000864983, 0.027155442163348198, 0.0034911595284938812, 0.274495929479599, 0.003568874904885888, 0.008719920180737972, 0.0008256029104813933, 0.027687424793839455, 0.017567899078130722, 0.004303561057895422, 0.021840834990143776, 0.0006051271338947117, 0.003989481367170811, 0.0058687045238912106]], [[1.0, 0.0, 0.0, 0.0, 0.0, 0.0, 0.0, 0.0, 0.0, 0.0, 0.0, 0.0, 0.0, 0.0, 0.0, 0.0], [0.9965683221817017, 0.003431605640798807, 0.0, 0.0, 0.0, 0.0, 0.0, 0.0, 0.0, 0.0, 0.0, 0.0, 0.0, 0.0, 0.0, 0.0], [0.9404020309448242, 0.013539232313632965, 0.046058766543865204, 0.0, 0.0, 0.0, 0.0, 0.0, 0.0, 0.0, 0.0, 0.0, 0.0, 0.0, 0.0, 0.0], [0.8992725610733032, 0.02656528167426586, 0.051132649183273315, 0.023029522970318794, 0.0, 0.0, 0.0, 0.0, 0.0, 0.0, 0.0, 0.0, 0.0, 0.0, 0.0, 0.0], [0.6379561424255371, 0.17550277709960938, 0.11469380557537079, 0.05781230702996254, 0.014035035856068134, 0.0, 0.0, 0.0, 0.0, 0.0, 0.0, 0.0, 0.0, 0.0, 0.0, 0.0], [0.6848251223564148, 0.013465965166687965, 0.1213722676038742, 0.04093196988105774, 0.10402999073266983, 0.03537461906671524, 0.0, 0.0, 0.0, 0.0, 0.0, 0.0, 0.0, 0.0, 0.0, 0.0], [0.604395866394043, 0.14024320244789124, 0.09161972999572754, 0.010679335333406925, 0.0014347053365781903, 0.03791219741106033, 0.11371497809886932, 0.0, 0.0, 0.0, 0.0, 0.0, 0.0, 0.0, 0.0, 0.0], [0.4615522027015686, 0.005977509543299675, 0.018974360078573227, 0.009188571013510227, 0.02019369602203369, 0.0028371841181069613, 0.3299647867679596, 0.15131162106990814, 0.0, 0.0, 0.0, 0.0, 0.0, 0.0, 0.0, 0.0], [0.21908150613307953, 0.02760215476155281, 0.0174269899725914, 0.0037538139149546623, 0.002597060753032565, 0.006978101562708616, 0.32459068298339844, 0.3650802671909332, 0.03288950026035309, 0.0, 0.0, 0.0, 0.0, 0.0, 0.0, 0.0], [0.41441985964775085, 0.006734994240105152, 0.0097966268658638, 0.002331474330276251, 0.007738958578556776, 0.006531416904181242, 0.18056809902191162, 0.2736889123916626, 0.08067005127668381, 0.017519526183605194, 0.0, 0.0, 0.0, 0.0, 0.0, 0.0], [0.4401712119579315, 0.006378057412803173, 0.018669072538614273, 0.005894876550883055, 0.019956832751631737, 0.009636595845222473, 0.12242733687162399, 0.1299380511045456, 0.15784253180027008, 0.051985692232847214, 0.03709975257515907, 0.0, 0.0, 0.0, 0.0, 0.0], [0.545383095741272, 0.18053440749645233, 0.04944485053420067, 0.002566649578511715, 0.00026519413222558796, 0.029095109552145004, 0.14106209576129913, 0.014150116592645645, 0.001190586481243372, 0.002421661512926221, 0.0021075806580483913, 0.03177865222096443, 0.0, 0.0, 0.0, 0.0], [0.6235102415084839, 0.0028795162215828896, 0.011143450625240803, 0.004297695588320494, 0.001358109526336193, 0.0012638028711080551, 0.15753094851970673, 0.006450434681028128, 0.0021763378754258156, 0.006462777499109507, 0.007527726702392101, 0.14165496826171875, 0.03374406695365906, 0.0, 0.0, 0.0], [0.5555580258369446, 0.0012472205562517047, 0.0014748589601367712, 0.004544943571090698, 0.001778220757842064, 0.001553483889438212, 0.08959920704364777, 0.003190862713381648, 0.0006774020148441195, 0.007296715397387743, 0.018014203757047653, 0.2595233917236328, 0.015057595446705818, 0.04048387333750725, 0.0, 0.0], [0.5165961384773254, 0.0013304981403052807, 0.0028387962374836206, 0.001256240182556212, 0.0010374519042670727, 0.0021398768294602633, 0.08377823233604431, 0.00417650630697608, 0.0024453590158373117, 0.001806588494218886, 0.016559837386012077, 0.20917247235774994, 0.03481506183743477, 0.08985990285873413, 0.03218703716993332, 0.0], [0.4226946532726288, 0.006572385784238577, 0.0058036018162965775, 0.0010280759306624532, 0.0002689533866941929, 0.006097171921283007, 0.04663803055882454, 0.0037780017592012882, 0.002792761893942952, 0.005324861034750938, 0.004870346747338772, 0.0873800590634346, 0.18304529786109924, 0.10241397470235825, 0.08913539350032806, 0.032156411558389664]], [[1.0, 0.0, 0.0, 0.0, 0.0, 0.0, 0.0, 0.0, 0.0, 0.0, 0.0, 0.0, 0.0, 0.0, 0.0, 0.0], [0.9782671928405762, 0.02173282951116562, 0.0, 0.0, 0.0, 0.0, 0.0, 0.0, 0.0, 0.0, 0.0, 0.0, 0.0, 0.0, 0.0, 0.0], [0.852310836315155, 0.08566458523273468, 0.0620245523750782, 0.0, 0.0, 0.0, 0.0, 0.0, 0.0, 0.0, 0.0, 0.0, 0.0, 0.0, 0.0, 0.0], [0.7824074625968933, 0.06438777595758438, 0.07211420685052872, 0.08109062165021896, 0.0, 0.0, 0.0, 0.0, 0.0, 0.0, 0.0, 0.0, 0.0, 0.0, 0.0, 0.0], [0.36010733246803284, 0.15601001679897308, 0.2539757788181305, 0.1706218421459198, 0.059285059571266174, 0.0, 0.0, 0.0, 0.0, 0.0, 0.0, 0.0, 0.0, 0.0, 0.0, 0.0], [0.8473312258720398, 0.012720062397420406, 0.05377785861492157, 0.022372540086507797, 0.03866444528102875, 0.025133822113275528, 0.0, 0.0, 0.0, 0.0, 0.0, 0.0, 0.0, 0.0, 0.0, 0.0], [0.6796625256538391, 0.07788224518299103, 0.03602100908756256, 0.02147321030497551, 0.025838827714323997, 0.0805225521326065, 0.07859962433576584, 0.0, 0.0, 0.0, 0.0, 0.0, 0.0, 0.0, 0.0, 0.0], [0.7637094855308533, 0.01847441866993904, 0.025969592854380608, 0.024770382791757584, 0.036320798099040985, 0.013157252222299576, 0.08042843639850616, 0.037169571965932846, 0.0, 0.0, 0.0, 0.0, 0.0, 0.0, 0.0, 0.0], [0.6239443421363831, 0.04778503626585007, 0.01507299393415451, 0.01862245798110962, 0.018772361800074577, 0.02565303072333336, 0.0755956768989563, 0.13121385872364044, 0.04334021732211113, 0.0, 0.0, 0.0, 0.0, 0.0, 0.0, 0.0], [0.6521252393722534, 0.022693540900945663, 0.012649786658585072, 0.005672224797308445, 0.01730249635875225, 0.015227305702865124, 0.026655351743102074, 0.12879641354084015, 0.08165621012449265, 0.03722146153450012, 0.0, 0.0, 0.0, 0.0, 0.0, 0.0], [0.5724034905433655, 0.008966114372015, 0.01859520934522152, 0.00919760949909687, 0.024172963574528694, 0.014789879322052002, 0.029573796316981316, 0.04455428570508957, 0.0559249073266983, 0.1792815923690796, 0.04254027456045151, 0.0, 0.0, 0.0, 0.0, 0.0], [0.6960737109184265, 0.07784399390220642, 0.042309317737817764, 0.004429752938449383, 0.0036437336821109056, 0.027247782796621323, 0.02617764286696911, 0.04010290652513504, 0.019038807600736618, 0.01761406660079956, 0.009059963747859001, 0.03645835444331169, 0.0, 0.0, 0.0, 0.0], [0.7376375794410706, 0.005582149140536785, 0.038352612406015396, 0.011670546606183052, 0.0038214868400245905, 0.0025138529017567635, 0.041308049112558365, 0.008467857725918293, 0.00922057032585144, 0.016720915213227272, 0.005737498868256807, 0.06333211809396744, 0.055634792894124985, 0.0, 0.0, 0.0], [0.508651614189148, 0.006012933794409037, 0.005600537173449993, 0.029011117294430733, 0.010247555561363697, 0.005448308773338795, 0.03899356722831726, 0.007562050595879555, 0.0012986118672415614, 0.06318263709545135, 0.021817408502101898, 0.16947130858898163, 0.056293752044439316, 0.07640863209962845, 0.0, 0.0], [0.5730209946632385, 0.011119476519525051, 0.007479333318769932, 0.0065880389884114265, 0.009511955082416534, 0.00904726143926382, 0.023481735959649086, 0.014830641448497772, 0.005570198874920607, 0.010351831093430519, 0.020426832139492035, 0.10437934845685959, 0.07954300194978714, 0.06866270303726196, 0.055986564606428146, 0.0], [0.19563572108745575, 0.00257099443115294, 0.00959763489663601, 0.005781072191894054, 0.0015897462144494057, 0.004027479328215122, 0.017134221270680428, 0.007667206227779388, 0.003904667915776372, 0.07550046592950821, 0.006087044719606638, 0.02208680845797062, 0.054159920662641525, 0.10710449516773224, 0.4657299816608429, 0.021422525867819786]], [[1.0, 0.0, 0.0, 0.0, 0.0, 0.0, 0.0, 0.0, 0.0, 0.0, 0.0, 0.0, 0.0, 0.0, 0.0, 0.0], [0.9988597631454468, 0.0011402568779885769, 0.0, 0.0, 0.0, 0.0, 0.0, 0.0, 0.0, 0.0, 0.0, 0.0, 0.0, 0.0, 0.0, 0.0], [0.995339035987854, 0.0006484491750597954, 0.0040125614032149315, 0.0, 0.0, 0.0, 0.0, 0.0, 0.0, 0.0, 0.0, 0.0, 0.0, 0.0, 0.0, 0.0], [0.9754629731178284, 0.0003531792026478797, 0.0005427137366496027, 0.0236411951482296, 0.0, 0.0, 0.0, 0.0, 0.0, 0.0, 0.0, 0.0, 0.0, 0.0, 0.0, 0.0], [0.7536506652832031, 0.0122701870277524, 0.0020335016306489706, 0.05455669015645981, 0.1774890124797821, 0.0, 0.0, 0.0, 0.0, 0.0, 0.0, 0.0, 0.0, 0.0, 0.0, 0.0], [0.9874635934829712, 0.0026612114161252975, 0.0013442834606394172, 0.001131092314608395, 0.003991865552961826, 0.0034079612232744694, 0.0, 0.0, 0.0, 0.0, 0.0, 0.0, 0.0, 0.0, 0.0, 0.0], [0.8695257902145386, 0.018021177500486374, 0.0008604151662439108, 0.004673217888921499, 0.0032029272988438606, 0.08958780765533447, 0.01412870828062296, 0.0, 0.0, 0.0, 0.0, 0.0, 0.0, 0.0, 0.0, 0.0], [0.9720457792282104, 0.001850321190431714, 0.0014260374009609222, 6.883887544972822e-05, 0.0006100506871007383, 0.0015366782899945974, 0.019666513428092003, 0.0027957726269960403, 0.0, 0.0, 0.0, 0.0, 0.0, 0.0, 0.0, 0.0], [0.9487431049346924, 0.001385705079883337, 0.0003771592164412141, 0.01943342201411724, 0.002417610026896, 0.0015929852379485965, 0.012914218939840794, 0.005056190770119429, 0.008079548366367817, 0.0, 0.0, 0.0, 0.0, 0.0, 0.0, 0.0], [0.9860332608222961, 0.0009898145217448473, 0.00018366622680332512, 0.002562981564551592, 0.006774696055799723, 0.0010056025348603725, 0.00040557043394073844, 0.00022340625582728535, 2.2881387849338353e-05, 0.001798054901883006, 0.0, 0.0, 0.0, 0.0, 0.0, 0.0], [0.9700286388397217, 0.002328072674572468, 2.5824578187894076e-05, 0.0003117398591712117, 0.010270960628986359, 0.003553180256858468, 0.0025265011936426163, 0.0009733816841617227, 9.574607975082472e-05, 0.004776382353156805, 0.0051094829104840755, 0.0, 0.0, 0.0, 0.0, 0.0], [0.669982373714447, 0.032407909631729126, 0.0006097137811593711, 0.0016683755675330758, 0.005666182842105627, 0.12331897765398026, 0.0038731954991817474, 0.11606492847204208, 0.0019374580588191748, 0.011950118467211723, 0.016960211098194122, 0.01556052640080452, 0.0, 0.0, 0.0, 0.0], [0.7554232478141785, 0.006572337355464697, 0.08498308807611465, 0.03290616348385811, 0.04225567355751991, 0.037938229739665985, 0.0203181654214859, 0.001903900527395308, 0.0003310635802336037, 0.0027036424726247787, 0.011587071232497692, 0.0006729285232722759, 0.002404537983238697, 0.0, 0.0, 0.0], [0.23979109525680542, 0.0009663692326284945, 0.007474442943930626, 0.6631270051002502, 0.016575342044234276, 0.0044302199967205524, 0.012185723520815372, 0.0007676673121750355, 3.169338742736727e-05, 0.033184874802827835, 0.01313022617250681, 0.0028361668810248375, 0.0006343669374473393, 0.0048647983931005, 0.0, 0.0], [0.21534985303878784, 0.001635140273720026, 0.0071713728830218315, 0.03254266455769539, 0.05463080480694771, 0.0024830554611980915, 0.0010041538625955582, 0.00023251214588526636, 1.1026376341760624e-05, 0.0010166013380512595, 0.6568329334259033, 0.008691616356372833, 0.00015996128786355257, 0.0066012972965836525, 0.01163693517446518, 0.0], [0.8431155681610107, 0.011414230801165104, 0.002873435616493225, 0.006295249797403812, 0.0019008622039109468, 0.10096516460180283, 0.013329889625310898, 0.0046773855574429035, 7.219216058729216e-05, 0.002580142579972744, 0.001171381096355617, 0.008208035491406918, 0.0015105019556358457, 0.0002819472865667194, 0.0007782464963383973, 0.0008258422021754086]], [[1.0, 0.0, 0.0, 0.0, 0.0, 0.0, 0.0, 0.0, 0.0, 0.0, 0.0, 0.0, 0.0, 0.0, 0.0, 0.0], [0.9094212651252747, 0.09057871252298355, 0.0, 0.0, 0.0, 0.0, 0.0, 0.0, 0.0, 0.0, 0.0, 0.0, 0.0, 0.0, 0.0, 0.0], [0.8402169942855835, 0.08867081999778748, 0.07111215591430664, 0.0, 0.0, 0.0, 0.0, 0.0, 0.0, 0.0, 0.0, 0.0, 0.0, 0.0, 0.0, 0.0], [0.899522066116333, 0.025883937254548073, 0.049877066165208817, 0.024716900661587715, 0.0, 0.0, 0.0, 0.0, 0.0, 0.0, 0.0, 0.0, 0.0, 0.0, 0.0, 0.0], [0.9004924893379211, 0.057660896331071854, 0.024276498705148697, 0.013295452110469341, 0.0042746402323246, 0.0, 0.0, 0.0, 0.0, 0.0, 0.0, 0.0, 0.0, 0.0, 0.0, 0.0], [0.9232246279716492, 0.024433454498648643, 0.010168345645070076, 0.0016971885925158858, 0.002449086168780923, 0.03802723065018654, 0.0, 0.0, 0.0, 0.0, 0.0, 0.0, 0.0, 0.0, 0.0, 0.0], [0.7382960915565491, 0.15858161449432373, 0.011363892816007137, 0.006022231187671423, 0.0034861464519053698, 0.07530415803194046, 0.006945893168449402, 0.0, 0.0, 0.0, 0.0, 0.0, 0.0, 0.0, 0.0, 0.0], [0.8771591186523438, 0.02764107659459114, 0.01438756100833416, 0.008476045913994312, 0.014127766713500023, 0.03521060198545456, 0.014690750278532505, 0.008307023905217648, 0.0, 0.0, 0.0, 0.0, 0.0, 0.0, 0.0, 0.0], [0.7803381085395813, 0.0668698325753212, 0.014134363271296024, 0.014401416294276714, 0.008904751390218735, 0.0747760757803917, 0.01841857098042965, 0.014757071621716022, 0.007399783469736576, 0.0, 0.0, 0.0, 0.0, 0.0, 0.0, 0.0], [0.9058270454406738, 0.011728020384907722, 0.017301682382822037, 0.006351944524794817, 0.009804858826100826, 0.006033189594745636, 0.016241203993558884, 0.0033826346043497324, 0.004687224980443716, 0.018642179667949677, 0.0, 0.0, 0.0, 0.0, 0.0, 0.0], [0.7749688029289246, 0.09771604835987091, 0.015084960497915745, 0.005536525044590235, 0.005144227761775255, 0.009512682445347309, 0.002839503111317754, 0.011074785143136978, 0.0035414632875472307, 0.07123825699090958, 0.0033428240567445755, 0.0, 0.0, 0.0, 0.0, 0.0], [0.47290530800819397, 0.34916067123413086, 0.018174640834331512, 0.0020063864067196846, 0.0016195208299905062, 0.07084476947784424, 0.01156504638493061, 0.006330109667032957, 0.003314328845590353, 0.05342081934213638, 0.0015488862991333008, 0.00910954363644123, 0.0, 0.0, 0.0, 0.0], [0.8155081868171692, 0.05252619832754135, 0.012693393975496292, 0.004146105144172907, 0.0034681870602071285, 0.02075180411338806, 0.0172019824385643, 0.007449365220963955, 0.004568290896713734, 0.013498171232640743, 0.0012181660858914256, 0.008910750970244408, 0.03805946558713913, 0.0, 0.0, 0.0], [0.6763994097709656, 0.016336709260940552, 0.022629577666521072, 0.040866669267416, 0.011808959767222404, 0.006911254022270441, 0.013482886366546154, 0.012833673506975174, 0.006018683314323425, 0.15148769319057465, 0.005470452830195427, 0.0054564084857702255, 0.01021462120115757, 0.020083025097846985, 0.0, 0.0], [0.825883150100708, 0.0047627598978579044, 0.012710483744740486, 0.017695100978016853, 0.012979506514966488, 0.008759578689932823, 0.01586536504328251, 0.0033524285536259413, 0.0064447070471942425, 0.02297838404774666, 0.012159481644630432, 0.003985700197517872, 0.0034325772430747747, 0.015063801780343056, 0.033926937729120255, 0.0], [0.7481038570404053, 0.037873633205890656, 0.002056168159469962, 0.0026334566064178944, 0.0015861063729971647, 0.15397502481937408, 0.007437718100845814, 0.0010101613588631153, 0.0004915385507047176, 0.014396983198821545, 0.0045786090195178986, 0.00190081971231848, 0.012798200361430645, 0.0014584624441340566, 0.008430262096226215, 0.001268907799385488]], [[1.0, 0.0, 0.0, 0.0, 0.0, 0.0, 0.0, 0.0, 0.0, 0.0, 0.0, 0.0, 0.0, 0.0, 0.0, 0.0], [0.9995244741439819, 0.0004755164263769984, 0.0, 0.0, 0.0, 0.0, 0.0, 0.0, 0.0, 0.0, 0.0, 0.0, 0.0, 0.0, 0.0, 0.0], [0.9928620457649231, 0.00034580740612000227, 0.006792079191654921, 0.0, 0.0, 0.0, 0.0, 0.0, 0.0, 0.0, 0.0, 0.0, 0.0, 0.0, 0.0, 0.0], [0.9988008737564087, 6.866556941531599e-05, 0.00014717059093527496, 0.0009832406649366021, 0.0, 0.0, 0.0, 0.0, 0.0, 0.0, 0.0, 0.0, 0.0, 0.0, 0.0, 0.0], [0.9984908103942871, 0.0003215558535885066, 2.5397574063390493e-05, 0.00027999916346743703, 0.0008823050884529948, 0.0, 0.0, 0.0, 0.0, 0.0, 0.0, 0.0, 0.0, 0.0, 0.0, 0.0], [0.9949536323547363, 9.438607230549678e-05, 0.0011819161009043455, 5.489930845214985e-05, 0.0010101536754518747, 0.0027049786876887083, 0.0, 0.0, 0.0, 0.0, 0.0, 0.0, 0.0, 0.0, 0.0, 0.0], [0.9913052320480347, 0.0005422350950539112, 0.00012317782966420054, 0.00012318254448473454, 0.00012190726556582376, 0.0073196906596422195, 0.00046465540071949363, 0.0, 0.0, 0.0, 0.0, 0.0, 0.0, 0.0, 0.0, 0.0], [0.9971818923950195, 0.00017576702521182597, 0.00042481336276978254, 3.102196933468804e-05, 8.010944293346256e-05, 0.0005400253576226532, 0.0008337429608218372, 0.000732691609300673, 0.0, 0.0, 0.0, 0.0, 0.0, 0.0, 0.0, 0.0], [0.9974260330200195, 0.0003349279868416488, 1.943815550475847e-05, 0.0006119432509876788, 3.899998773704283e-06, 0.00020071059407200664, 4.632929994841106e-05, 0.00011195355182280764, 0.0012447773478925228, 0.0, 0.0, 0.0, 0.0, 0.0, 0.0, 0.0], [0.9981351494789124, 3.443999230512418e-05, 2.5186167476931587e-05, 0.0002841275418177247, 0.0003822426369879395, 5.9090249123983085e-05, 2.7453093935037032e-05, 3.3789165172493085e-05, 1.402137172590301e-06, 0.0010172254405915737, 0.0, 0.0, 0.0, 0.0, 0.0, 0.0], [0.9898011088371277, 0.0002625053166411817, 3.7959845940349624e-05, 4.4214662921149284e-05, 0.0013204589486122131, 0.0004823253257200122, 0.0001678628905210644, 5.6257809774251655e-05, 4.5196793507784605e-06, 5.37577252543997e-05, 0.007769059855490923, 0.0, 0.0, 0.0, 0.0, 0.0], [0.9773247838020325, 0.0023967945016920567, 0.00017028629372362047, 3.0387587685254402e-05, 0.00015491001249756664, 0.0024146020878106356, 6.680635124212131e-05, 0.01070492248982191, 0.00020398918422870338, 0.0010285363532602787, 0.0019050920382142067, 0.0035988162271678448, 0.0, 0.0, 0.0, 0.0], [0.9528602361679077, 0.0003465665504336357, 0.03264145180583, 0.0026683458127081394, 0.0038106993306428194, 0.0011403273092582822, 0.0011559404665604234, 0.0012044106842949986, 0.00035156746162101626, 0.0006618083571083844, 0.0014552047941833735, 0.0005390470032580197, 0.0011644478654488921, 0.0, 0.0, 0.0], [0.7408214807510376, 0.0018953214166685939, 0.0017412257147952914, 0.2450302094221115, 0.0012083505280315876, 0.004964685533195734, 0.00012001139839412645, 0.0006077028810977936, 8.824998985801358e-06, 0.0017310073599219322, 0.0010340798180550337, 4.154138878220692e-05, 0.00021322743850760162, 0.0005823176470585167, 0.0, 0.0], [0.8203932046890259, 0.001814589835703373, 0.0011480989633128047, 0.028681255877017975, 0.021117230877280235, 0.0013868610840290785, 5.853424227098003e-05, 0.0004032009746879339, 1.7103864138334757e-06, 0.0004428063111845404, 0.11167724430561066, 0.0005341611686162651, 0.00021768163423985243, 0.0005597437848336995, 0.011563748121261597, 0.0], [0.9389058351516724, 0.0009449230274185538, 0.00016906741075217724, 0.00020523338753264397, 0.0003043933247681707, 0.05513131618499756, 0.000576862134039402, 0.00043732899939641356, 1.294948742724955e-05, 7.042997458484024e-05, 0.00015930132940411568, 0.00244325352832675, 0.00023340265033766627, 6.993736315052956e-05, 0.0001293225068366155, 0.0002064044092549011]], [[1.0, 0.0, 0.0, 0.0, 0.0, 0.0, 0.0, 0.0, 0.0, 0.0, 0.0, 0.0, 0.0, 0.0, 0.0, 0.0], [0.9707561731338501, 0.02924383245408535, 0.0, 0.0, 0.0, 0.0, 0.0, 0.0, 0.0, 0.0, 0.0, 0.0, 0.0, 0.0, 0.0, 0.0], [0.9329837560653687, 0.015741797164082527, 0.05127450451254845, 0.0, 0.0, 0.0, 0.0, 0.0, 0.0, 0.0, 0.0, 0.0, 0.0, 0.0, 0.0, 0.0], [0.9487687349319458, 0.007657292298972607, 0.037430014461278915, 0.006143947131931782, 0.0, 0.0, 0.0, 0.0, 0.0, 0.0, 0.0, 0.0, 0.0, 0.0, 0.0, 0.0], [0.8853309750556946, 0.018889617174863815, 0.05096612870693207, 0.0237443745136261, 0.021068867295980453, 0.0, 0.0, 0.0, 0.0, 0.0, 0.0, 0.0, 0.0, 0.0, 0.0, 0.0], [0.9409188628196716, 0.010026386938989162, 0.014642920345067978, 0.006486077792942524, 0.007503333501517773, 0.02042231149971485, 0.0, 0.0, 0.0, 0.0, 0.0, 0.0, 0.0, 0.0, 0.0, 0.0], [0.8369097113609314, 0.030769305303692818, 0.03087855689227581, 0.01452203094959259, 0.011556724086403847, 0.05195712670683861, 0.023406527936458588, 0.0, 0.0, 0.0, 0.0, 0.0, 0.0, 0.0, 0.0, 0.0], [0.5158205628395081, 0.013778084889054298, 0.12708880007266998, 0.05804305523633957, 0.05112607404589653, 0.025357505306601524, 0.1806735247373581, 0.028112424537539482, 0.0, 0.0, 0.0, 0.0, 0.0, 0.0, 0.0, 0.0], [0.5519145727157593, 0.024317551404237747, 0.05868930369615555, 0.17361317574977875, 0.05279381573200226, 0.04392409697175026, 0.07068624347448349, 0.01081699039787054, 0.01324416697025299, 0.0, 0.0, 0.0, 0.0, 0.0, 0.0, 0.0], [0.6220126748085022, 0.005789821967482567, 0.021512988954782486, 0.059103913605213165, 0.12531273066997528, 0.019873110577464104, 0.11998096108436584, 0.004283006303012371, 0.00809131283313036, 0.014039467088878155, 0.0, 0.0, 0.0, 0.0, 0.0, 0.0], [0.8651430010795593, 0.016457322984933853, 0.030582094565033913, 0.005051375832408667, 0.012021838687360287, 0.013717998750507832, 0.014729942195117474, 0.008859996683895588, 0.007343345321714878, 0.014390603639185429, 0.011702531948685646, 0.0, 0.0, 0.0, 0.0, 0.0], [0.5260492563247681, 0.010899794287979603, 0.026017429307103157, 0.015070668421685696, 0.010182545520365238, 0.025239115580916405, 0.019680410623550415, 0.07882542163133621, 0.10830838233232498, 0.049491871148347855, 0.03907662257552147, 0.09115853905677795, 0.0, 0.0, 0.0, 0.0], [0.795265793800354, 0.0036498582921922207, 0.008319753222167492, 0.016922829672694206, 0.013723128475248814, 0.005624030716717243, 0.020802674815058708, 0.018599124625325203, 0.012459876947104931, 0.014667998068034649, 0.01506050769239664, 0.07189709693193436, 0.0030073674861341715, 0.0, 0.0, 0.0], [0.6379842162132263, 0.0021676565520465374, 0.00957416370511055, 0.04200880974531174, 0.036845363676548004, 0.006750315893441439, 0.05866549536585808, 0.01569175161421299, 0.02090056613087654, 0.04955805838108063, 0.043526750057935715, 0.062438882887363434, 0.0026503149420022964, 0.011237794533371925, 0.0, 0.0], [0.6259452104568481, 0.0015459673013538122, 0.010104775428771973, 0.020708156749606133, 0.059273116290569305, 0.01962805725634098, 0.09063008427619934, 0.008884564973413944, 0.01619669422507286, 0.011887510307133198, 0.07236378639936447, 0.04024069383740425, 0.00404050387442112, 0.0139116570353508, 0.004639299586415291, 0.0], [0.651458740234375, 0.013183352537453175, 0.01660572551190853, 0.019303755834698677, 0.013393118977546692, 0.11348933726549149, 0.016918359324336052, 0.007495151832699776, 0.003324824618175626, 0.015797559171915054, 0.03973856940865517, 0.009765048511326313, 0.019570592790842056, 0.013316118158400059, 0.013043793849647045, 0.03359600156545639]], [[1.0, 0.0, 0.0, 0.0, 0.0, 0.0, 0.0, 0.0, 0.0, 0.0, 0.0, 0.0, 0.0, 0.0, 0.0, 0.0], [0.9968754649162292, 0.0031245658174157143, 0.0, 0.0, 0.0, 0.0, 0.0, 0.0, 0.0, 0.0, 0.0, 0.0, 0.0, 0.0, 0.0, 0.0], [0.9789247512817383, 0.006726674269884825, 0.01434852834790945, 0.0, 0.0, 0.0, 0.0, 0.0, 0.0, 0.0, 0.0, 0.0, 0.0, 0.0, 0.0, 0.0], [0.9363275766372681, 0.010155043564736843, 0.0217093825340271, 0.03180798515677452, 0.0, 0.0, 0.0, 0.0, 0.0, 0.0, 0.0, 0.0, 0.0, 0.0, 0.0, 0.0], [0.7701030373573303, 0.030713459476828575, 0.14195466041564941, 0.04689342528581619, 0.01033547893166542, 0.0, 0.0, 0.0, 0.0, 0.0, 0.0, 0.0, 0.0, 0.0, 0.0, 0.0], [0.8934470415115356, 0.004848199430853128, 0.06228017807006836, 0.016095269471406937, 0.008266974240541458, 0.015062366612255573, 0.0, 0.0, 0.0, 0.0, 0.0, 0.0, 0.0, 0.0, 0.0, 0.0], [0.45154207944869995, 0.06628990918397903, 0.1784597784280777, 0.07287857681512833, 0.031412217766046524, 0.050866980105638504, 0.14855042099952698, 0.0, 0.0, 0.0, 0.0, 0.0, 0.0, 0.0, 0.0, 0.0], [0.5714728236198425, 0.04903220757842064, 0.07807459682226181, 0.05308810994029045, 0.08247971534729004, 0.022457923740148544, 0.09573883563280106, 0.04765583202242851, 0.0, 0.0, 0.0, 0.0, 0.0, 0.0, 0.0, 0.0], [0.38859832286834717, 0.08541165292263031, 0.1664438396692276, 0.09960552304983139, 0.09120956808328629, 0.01348539162427187, 0.13295333087444305, 0.013435914181172848, 0.008856444619596004, 0.0, 0.0, 0.0, 0.0, 0.0, 0.0, 0.0], [0.5297870635986328, 0.09730616211891174, 0.11554665118455887, 0.029989158734679222, 0.01730150729417801, 0.011083555407822132, 0.18029703199863434, 0.004690894391387701, 0.0027550100348889828, 0.011242927052080631, 0.0, 0.0, 0.0, 0.0, 0.0, 0.0], [0.6478442549705505, 0.032004617154598236, 0.05201922729611397, 0.0224605742841959, 0.010017981752753258, 0.0287476759403944, 0.1400529444217682, 0.011778179556131363, 0.005874346476048231, 0.020558824762701988, 0.028641311451792717, 0.0, 0.0, 0.0, 0.0, 0.0], [0.4589335322380066, 0.0810292586684227, 0.13897475600242615, 0.02210072986781597, 0.010952994227409363, 0.03901474177837372, 0.09377461671829224, 0.026476174592971802, 0.023531129583716393, 0.027775393798947334, 0.016712944954633713, 0.06072372570633888, 0.0, 0.0, 0.0, 0.0], [0.7843922972679138, 0.008887498639523983, 0.03916972503066063, 0.02037385106086731, 0.010246962308883667, 0.008253327570855618, 0.03332223370671272, 0.007624771911650896, 0.012083999812602997, 0.018611587584018707, 0.010752026923000813, 0.03892667591571808, 0.0073550790548324585, 0.0, 0.0, 0.0], [0.7882710099220276, 0.0045067500323057175, 0.0034665523562580347, 0.015147614292800426, 0.01648690178990364, 0.006224811542779207, 0.028219981119036674, 0.004853197373449802, 0.006574966013431549, 0.020055605098605156, 0.02194429375231266, 0.07609467953443527, 0.002882215892896056, 0.0052714720368385315, 0.0, 0.0], [0.6118700504302979, 0.0125699732452631, 0.01211368478834629, 0.006292779464274645, 0.004985200706869364, 0.014425014145672321, 0.1565735787153244, 0.004776259418576956, 0.007393524516373873, 0.0035974334459751844, 0.029398176819086075, 0.12080426514148712, 0.004444515332579613, 0.008265072479844093, 0.0024904829915612936, 0.0], [0.6201261878013611, 0.01522336807101965, 0.006642743479460478, 0.003999198321253061, 0.0013473221333697438, 0.17433257400989532, 0.11871420592069626, 0.003285575658082962, 0.0027038094121962786, 0.0029869251884520054, 0.012305628508329391, 0.023930825293064117, 0.006184126250445843, 0.002559916814789176, 0.0016431283438578248, 0.0040144529193639755]]], \"attentionHeadNames\": [\"L9H6\", \"L10H2\", \"L9H9\", \"L10H0\", \"L10H10\", \"L9H8\", \"L10H6\", \"L8H11\", \"L10H1\", \"L7H9\", \"L7H3\", \"L7H10\", \"L9H0\", \"L7H2\", \"L9H2\", \"L8H3\"], \"tokens\": [\"<|endoftext|>\", \" Mary\", \" was\", \" older\", \" than\", \" John\", \".\", \" Who\", \" was\", \" born\", \" first\", \"?\", \" Mary\", \" was\", \" born\", \" before\"]}\n",
       "    )\n",
       "    </script>"
      ],
      "text/plain": [
       "<IPython.core.display.HTML object>"
      ]
     },
     "execution_count": 48,
     "metadata": {},
     "output_type": "execute_result"
    }
   ],
   "source": [
    "per_head_logit_diffs = calculate_head_contribution(cache)\n",
    "heads = torch.topk(per_head_logit_diffs.flatten(), k=16).indices\n",
    "HTML(visualize_attention_patterns(heads, cache, prompts))"
   ]
  },
  {
   "cell_type": "code",
   "execution_count": 47,
   "metadata": {},
   "outputs": [
    {
     "data": {
      "text/html": [
       "<div id=\"circuits-vis-b528a1f9-d89e\" style=\"margin: 15px 0;\"/>\n",
       "    <script crossorigin type=\"module\">\n",
       "    import { render, AttentionHeads } from \"https://unpkg.com/circuitsvis@1.43.2/dist/cdn/esm.js\";\n",
       "    render(\n",
       "      \"circuits-vis-b528a1f9-d89e\",\n",
       "      AttentionHeads,\n",
       "      {\"attention\": [[[1.0, 0.0, 0.0, 0.0, 0.0, 0.0, 0.0, 0.0, 0.0, 0.0, 0.0, 0.0, 0.0, 0.0, 0.0, 0.0], [0.9929336309432983, 0.007066430989652872, 0.0, 0.0, 0.0, 0.0, 0.0, 0.0, 0.0, 0.0, 0.0, 0.0, 0.0, 0.0, 0.0, 0.0], [0.9128903746604919, 0.013808413408696651, 0.07330124080181122, 0.0, 0.0, 0.0, 0.0, 0.0, 0.0, 0.0, 0.0, 0.0, 0.0, 0.0, 0.0, 0.0], [0.9320987462997437, 0.004380936734378338, 0.040449775755405426, 0.0230705626308918, 0.0, 0.0, 0.0, 0.0, 0.0, 0.0, 0.0, 0.0, 0.0, 0.0, 0.0, 0.0], [0.6636688113212585, 0.24475054442882538, 0.04851224273443222, 0.02099127508699894, 0.022077197209000587, 0.0, 0.0, 0.0, 0.0, 0.0, 0.0, 0.0, 0.0, 0.0, 0.0, 0.0], [0.8246656060218811, 0.016045982018113136, 0.06486963480710983, 0.0036425336729735136, 0.022960994392633438, 0.06781529635190964, 0.0, 0.0, 0.0, 0.0, 0.0, 0.0, 0.0, 0.0, 0.0, 0.0], [0.314946711063385, 0.3502410352230072, 0.04201499745249748, 0.004610298667103052, 0.013076103292405605, 0.23122261464595795, 0.04388829693198204, 0.0, 0.0, 0.0, 0.0, 0.0, 0.0, 0.0, 0.0, 0.0], [0.8598313331604004, 0.008761362172663212, 0.05195232480764389, 0.01718844473361969, 0.017113788053393364, 0.01271823700517416, 0.016910474747419357, 0.01552407443523407, 0.0, 0.0, 0.0, 0.0, 0.0, 0.0, 0.0, 0.0], [0.11236009001731873, 0.5285813212394714, 0.05417996272444725, 0.020715754479169846, 0.009716742672026157, 0.22344611585140228, 0.02871157042682171, 0.006222521886229515, 0.016065938398241997, 0.0, 0.0, 0.0, 0.0, 0.0, 0.0, 0.0], [0.6568005681037903, 0.03662342578172684, 0.053249653428792953, 0.02392323687672615, 0.028606299310922623, 0.02211812697350979, 0.031522881239652634, 0.00832785852253437, 0.014173677191138268, 0.12465425580739975, 0.0, 0.0, 0.0, 0.0, 0.0, 0.0], [0.6514496803283691, 0.050101470202207565, 0.06330053508281708, 0.007044823374599218, 0.01470224279910326, 0.08927173167467117, 0.04376978799700737, 0.009196646511554718, 0.011704408563673496, 0.05153539031744003, 0.007923245429992676, 0.0, 0.0, 0.0, 0.0, 0.0], [0.15370510518550873, 0.1971718817949295, 0.019504422321915627, 0.0015200345078483224, 0.003978308290243149, 0.5314099788665771, 0.021827541291713715, 0.028392987325787544, 0.006084093824028969, 0.004633630160242319, 0.003993751481175423, 0.02777828462421894, 0.0, 0.0, 0.0, 0.0], [0.5012680888175964, 0.04020588845014572, 0.11287336051464081, 0.008663703687489033, 0.020015155896544456, 0.0717313289642334, 0.047069136053323746, 0.01653526909649372, 0.02309725061058998, 0.07007654756307602, 0.010003873147070408, 0.040676526725292206, 0.03778387978672981, 0.0, 0.0, 0.0], [0.17164397239685059, 0.008129360154271126, 0.03571513295173645, 0.2737005650997162, 0.03651868551969528, 0.007921054027974606, 0.03207635134458542, 0.010119197890162468, 0.00895568635314703, 0.3287758529186249, 0.035849377512931824, 0.0143533730879426, 0.006181734148412943, 0.03005969524383545, 0.0, 0.0], [0.07999216020107269, 0.0011198302963748574, 0.017644284293055534, 0.01421774085611105, 0.013132124207913876, 0.006310638505965471, 0.012903440743684769, 0.0072238813154399395, 0.005423713941127062, 0.042473405599594116, 0.7432654500007629, 0.011960928328335285, 0.002481546951457858, 0.014346553944051266, 0.02750440686941147, 0.0], [0.04482733830809593, 0.03251224383711815, 0.010423007421195507, 0.0010182122932747006, 0.0018471498042345047, 0.8085976839065552, 0.026288500055670738, 0.0022663946729153395, 0.0022808786015957594, 0.010763554833829403, 0.0016869917744770646, 0.011798248626291752, 0.03341510891914368, 0.0029298083391040564, 0.004685024730861187, 0.004659861326217651]], [[1.0, 0.0, 0.0, 0.0, 0.0, 0.0, 0.0, 0.0, 0.0, 0.0, 0.0, 0.0, 0.0, 0.0, 0.0, 0.0], [0.9382640719413757, 0.06173592060804367, 0.0, 0.0, 0.0, 0.0, 0.0, 0.0, 0.0, 0.0, 0.0, 0.0, 0.0, 0.0, 0.0, 0.0], [0.8875217437744141, 0.020847272127866745, 0.09163094311952591, 0.0, 0.0, 0.0, 0.0, 0.0, 0.0, 0.0, 0.0, 0.0, 0.0, 0.0, 0.0, 0.0], [0.9094895720481873, 0.009792937897145748, 0.049159493297338486, 0.031557951122522354, 0.0, 0.0, 0.0, 0.0, 0.0, 0.0, 0.0, 0.0, 0.0, 0.0, 0.0, 0.0], [0.43224403262138367, 0.3831550180912018, 0.06499011069536209, 0.026067251339554787, 0.0935436561703682, 0.0, 0.0, 0.0, 0.0, 0.0, 0.0, 0.0, 0.0, 0.0, 0.0, 0.0], [0.5872510075569153, 0.053941842168569565, 0.09612078219652176, 0.039702318608760834, 0.10168864578008652, 0.12129537761211395, 0.0, 0.0, 0.0, 0.0, 0.0, 0.0, 0.0, 0.0, 0.0, 0.0], [0.23501724004745483, 0.2471207231283188, 0.042407725006341934, 0.01029668003320694, 0.05285545811057091, 0.21751588582992554, 0.19478629529476166, 0.0, 0.0, 0.0, 0.0, 0.0, 0.0, 0.0, 0.0, 0.0], [0.6571336388587952, 0.0328637957572937, 0.07086032629013062, 0.034171316772699356, 0.06337634474039078, 0.016254136338829994, 0.08824733644723892, 0.037093084305524826, 0.0, 0.0, 0.0, 0.0, 0.0, 0.0, 0.0, 0.0], [0.15783299505710602, 0.4749239385128021, 0.03154854103922844, 0.009214425459504128, 0.044180046766996384, 0.13204345107078552, 0.11242271959781647, 0.008776812814176083, 0.029057035222649574, 0.0, 0.0, 0.0, 0.0, 0.0, 0.0, 0.0], [0.4779262840747833, 0.14414983987808228, 0.02476850338280201, 0.04017354175448418, 0.04401097446680069, 0.04005098715424538, 0.08917171508073807, 0.01740015484392643, 0.024998655542731285, 0.09734926372766495, 0.0, 0.0, 0.0, 0.0, 0.0, 0.0], [0.15925274789333344, 0.14406651258468628, 0.031227348372340202, 0.019794389605522156, 0.05477117747068405, 0.11218226701021194, 0.11525479704141617, 0.07777233421802521, 0.031702958047389984, 0.2208697348833084, 0.03310564160346985, 0.0, 0.0, 0.0, 0.0, 0.0], [0.0968339815735817, 0.40408387780189514, 0.028908824548125267, 0.005635910201817751, 0.03756750375032425, 0.13874651491641998, 0.16823355853557587, 0.01642102748155594, 0.010021934285759926, 0.023600630462169647, 0.003306181635707617, 0.06664009392261505, 0.0, 0.0, 0.0, 0.0], [0.22473986446857452, 0.046773411333560944, 0.13355569541454315, 0.029013616964221, 0.0477384477853775, 0.04903538525104523, 0.15312163531780243, 0.025713464245200157, 0.04012724384665489, 0.048576854169368744, 0.011851907707750797, 0.09548869729042053, 0.09426374733448029, 0.0, 0.0, 0.0], [0.387270450592041, 0.023204099386930466, 0.047071702778339386, 0.12429441511631012, 0.04923398792743683, 0.023493435233831406, 0.09929405897855759, 0.008859497494995594, 0.025102924555540085, 0.06812352687120438, 0.029926614835858345, 0.0369243286550045, 0.028514297679066658, 0.048686593770980835, 0.0, 0.0], [0.40888693928718567, 0.0104387067258358, 0.0229987520724535, 0.04054654389619827, 0.022039862349629402, 0.018610859289765358, 0.0900985524058342, 0.0063654277473688126, 0.022388068959116936, 0.12668342888355255, 0.0398271381855011, 0.05308198556303978, 0.01752302795648575, 0.03121446818113327, 0.08929627388715744, 0.0], [0.05321429297327995, 0.06537741422653198, 0.006975396536290646, 0.003503545420244336, 0.01597210392355919, 0.6390017867088318, 0.05545465275645256, 0.0023836721666157246, 0.0030110094230622053, 0.02310137450695038, 0.003957482520490885, 0.013812202028930187, 0.0612669512629509, 0.004412478767335415, 0.01481633074581623, 0.03373928368091583]], [[1.0, 0.0, 0.0, 0.0, 0.0, 0.0, 0.0, 0.0, 0.0, 0.0, 0.0, 0.0, 0.0, 0.0, 0.0, 0.0], [0.9763814210891724, 0.02361866645514965, 0.0, 0.0, 0.0, 0.0, 0.0, 0.0, 0.0, 0.0, 0.0, 0.0, 0.0, 0.0, 0.0, 0.0], [0.899955153465271, 0.03661360964179039, 0.06343120336532593, 0.0, 0.0, 0.0, 0.0, 0.0, 0.0, 0.0, 0.0, 0.0, 0.0, 0.0, 0.0, 0.0], [0.8768021464347839, 0.03132833540439606, 0.07383255660533905, 0.01803705282509327, 0.0, 0.0, 0.0, 0.0, 0.0, 0.0, 0.0, 0.0, 0.0, 0.0, 0.0, 0.0], [0.5559171438217163, 0.22117410600185394, 0.07818221300840378, 0.024217519909143448, 0.12050900608301163, 0.0, 0.0, 0.0, 0.0, 0.0, 0.0, 0.0, 0.0, 0.0, 0.0, 0.0], [0.6772692799568176, 0.09629380702972412, 0.06497234851121902, 0.03341449052095413, 0.03688531741499901, 0.09116474539041519, 0.0, 0.0, 0.0, 0.0, 0.0, 0.0, 0.0, 0.0, 0.0, 0.0], [0.3077108561992645, 0.12308017909526825, 0.06787897646427155, 0.03274228051304817, 0.10132182389497757, 0.3414102792739868, 0.02585561014711857, 0.0, 0.0, 0.0, 0.0, 0.0, 0.0, 0.0, 0.0, 0.0], [0.5491836667060852, 0.08017294853925705, 0.03322029113769531, 0.03915005549788475, 0.017030926421284676, 0.24078269302845, 0.028835341334342957, 0.011624069884419441, 0.0, 0.0, 0.0, 0.0, 0.0, 0.0, 0.0, 0.0], [0.23101569712162018, 0.07566676288843155, 0.10692774504423141, 0.09003912657499313, 0.07507140934467316, 0.2976582944393158, 0.04673341289162636, 0.0318191759288311, 0.04506842419505119, 0.0, 0.0, 0.0, 0.0, 0.0, 0.0, 0.0], [0.2219613939523697, 0.060639917850494385, 0.07549750804901123, 0.07836027443408966, 0.09834524989128113, 0.3053401708602905, 0.04929504916071892, 0.036045320332050323, 0.03578978031873703, 0.03872529789805412, 0.0, 0.0, 0.0, 0.0, 0.0, 0.0], [0.17188823223114014, 0.21098653972148895, 0.06585774570703506, 0.05904898792505264, 0.039893969893455505, 0.24155953526496887, 0.026615694165229797, 0.03651157021522522, 0.026587238535284996, 0.0799400806427002, 0.04111039265990257, 0.0, 0.0, 0.0, 0.0, 0.0], [0.16855554282665253, 0.22823795676231384, 0.06626331061124802, 0.025634165853261948, 0.047917451709508896, 0.23638421297073364, 0.02565351314842701, 0.07722733914852142, 0.02044752612709999, 0.036095030605793, 0.02744302898645401, 0.04014095664024353, 0.0, 0.0, 0.0, 0.0], [0.5540119409561157, 0.06136542558670044, 0.06758696585893631, 0.03994567319750786, 0.03763531893491745, 0.07512333244085312, 0.03707302361726761, 0.010135045275092125, 0.006361233536154032, 0.0403183251619339, 0.023915322497487068, 0.03138751909136772, 0.01514078862965107, 0.0, 0.0, 0.0], [0.29576337337493896, 0.025669656693935394, 0.04220668599009514, 0.03180372714996338, 0.04600543901324272, 0.23174943029880524, 0.08087439090013504, 0.05301743745803833, 0.016217639669775963, 0.04106319695711136, 0.03225462883710861, 0.05845484882593155, 0.019716840237379074, 0.025202741846442223, 0.0, 0.0], [0.1628527045249939, 0.022249575704336166, 0.05215037241578102, 0.04631701856851578, 0.07495482265949249, 0.23792846500873566, 0.044219132512807846, 0.05739054083824158, 0.029110679402947426, 0.06548653542995453, 0.0725015252828598, 0.058835797011852264, 0.011550874449312687, 0.043430205434560776, 0.021021679043769836, 0.0], [0.2690434455871582, 0.06408228725194931, 0.06344681978225708, 0.0392410084605217, 0.07262415438890457, 0.14694498479366302, 0.019218068569898605, 0.05836362764239311, 0.02258635312318802, 0.05806738883256912, 0.04219100624322891, 0.021528249606490135, 0.023319493979215622, 0.026849474757909775, 0.020804310217499733, 0.05168929323554039]], [[1.0, 0.0, 0.0, 0.0, 0.0, 0.0, 0.0, 0.0, 0.0, 0.0, 0.0, 0.0, 0.0, 0.0, 0.0, 0.0], [0.9776408076286316, 0.022359183058142662, 0.0, 0.0, 0.0, 0.0, 0.0, 0.0, 0.0, 0.0, 0.0, 0.0, 0.0, 0.0, 0.0, 0.0], [0.9343620538711548, 0.04245593771338463, 0.023182012140750885, 0.0, 0.0, 0.0, 0.0, 0.0, 0.0, 0.0, 0.0, 0.0, 0.0, 0.0, 0.0, 0.0], [0.9459550380706787, 0.029355360195040703, 0.01841796189546585, 0.006271687801927328, 0.0, 0.0, 0.0, 0.0, 0.0, 0.0, 0.0, 0.0, 0.0, 0.0, 0.0, 0.0], [0.7821742296218872, 0.17363601922988892, 0.01761709153652191, 0.005367628298699856, 0.021204961463809013, 0.0, 0.0, 0.0, 0.0, 0.0, 0.0, 0.0, 0.0, 0.0, 0.0, 0.0], [0.8734596967697144, 0.05947701260447502, 0.027433404698967934, 0.0026930728927254677, 0.0062813120894134045, 0.03065558709204197, 0.0, 0.0, 0.0, 0.0, 0.0, 0.0, 0.0, 0.0, 0.0, 0.0], [0.6511510014533997, 0.18366245925426483, 0.011479312554001808, 0.005959795322269201, 0.010891163721680641, 0.064258873462677, 0.07259746640920639, 0.0, 0.0, 0.0, 0.0, 0.0, 0.0, 0.0, 0.0, 0.0], [0.8394480347633362, 0.09203311800956726, 0.010797304101288319, 0.008393792435526848, 0.005025098100304604, 0.026087747886776924, 0.016345130279660225, 0.001869821920990944, 0.0, 0.0, 0.0, 0.0, 0.0, 0.0, 0.0, 0.0], [0.681118369102478, 0.14854098856449127, 0.008556551299989223, 0.016436591744422913, 0.014458613470196724, 0.05993250757455826, 0.06355968862771988, 0.0033307911362499, 0.004065920133143663, 0.0, 0.0, 0.0, 0.0, 0.0, 0.0, 0.0], [0.5440027117729187, 0.23710913956165314, 0.017839381471276283, 0.03512400761246681, 0.018733765929937363, 0.06856343895196915, 0.05401131138205528, 0.0037921559996902943, 0.004738266579806805, 0.01608574390411377, 0.0, 0.0, 0.0, 0.0, 0.0, 0.0], [0.5553720593452454, 0.20779645442962646, 0.02302752062678337, 0.012615284882485867, 0.01090220920741558, 0.07639748603105545, 0.07583973556756973, 0.006023446563631296, 0.0051207272335886955, 0.01795097254216671, 0.008954077959060669, 0.0, 0.0, 0.0, 0.0, 0.0], [0.597520112991333, 0.19513657689094543, 0.012153458781540394, 0.003616505302488804, 0.00839026365429163, 0.06115448474884033, 0.07929597049951553, 0.005187868140637875, 0.0024066846817731857, 0.0061234040185809135, 0.0006615667371079326, 0.028353067114949226, 0.0, 0.0, 0.0, 0.0], [0.7549899816513062, 0.04141831770539284, 0.05827678367495537, 0.008639615029096603, 0.01159305963665247, 0.02575867250561714, 0.036808185279369354, 0.002277674153447151, 0.00471106031909585, 0.014433924108743668, 0.0010639942483976483, 0.016531651839613914, 0.02349715493619442, 0.0, 0.0, 0.0], [0.7297414541244507, 0.042680054903030396, 0.019061513245105743, 0.022688137367367744, 0.017198050394654274, 0.05094442889094353, 0.030125830322504044, 0.0029168357141315937, 0.004085072316229343, 0.03543301299214363, 0.004207008983939886, 0.009074178524315357, 0.02542072720825672, 0.006423680577427149, 0.0, 0.0], [0.6615761518478394, 0.0849761813879013, 0.017897294834256172, 0.017085665836930275, 0.020600013434886932, 0.05802465230226517, 0.033518072217702866, 0.0033095607068389654, 0.0038394539151340723, 0.02092530019581318, 0.009779068641364574, 0.020105931907892227, 0.03358980268239975, 0.005086581222712994, 0.009686293080449104, 0.0], [0.7962111234664917, 0.05462619662284851, 0.006831754930317402, 0.00272332108579576, 0.00986321922391653, 0.03297656401991844, 0.04202339053153992, 0.00262619205750525, 0.0024908832274377346, 0.005839407444000244, 0.001146217342466116, 0.010964329354465008, 0.01900084875524044, 0.0015306755667552352, 0.0011970279738307, 0.00994887575507164]], [[1.0, 0.0, 0.0, 0.0, 0.0, 0.0, 0.0, 0.0, 0.0, 0.0, 0.0, 0.0, 0.0, 0.0, 0.0, 0.0], [0.9768670201301575, 0.023133043199777603, 0.0, 0.0, 0.0, 0.0, 0.0, 0.0, 0.0, 0.0, 0.0, 0.0, 0.0, 0.0, 0.0, 0.0], [0.9675484299659729, 0.010695276781916618, 0.02175622619688511, 0.0, 0.0, 0.0, 0.0, 0.0, 0.0, 0.0, 0.0, 0.0, 0.0, 0.0, 0.0, 0.0], [0.9038029313087463, 0.030230160802602768, 0.022490084171295166, 0.043476760387420654, 0.0, 0.0, 0.0, 0.0, 0.0, 0.0, 0.0, 0.0, 0.0, 0.0, 0.0, 0.0], [0.8138068914413452, 0.01906421221792698, 0.14867383241653442, 0.011439168825745583, 0.007015918381512165, 0.0, 0.0, 0.0, 0.0, 0.0, 0.0, 0.0, 0.0, 0.0, 0.0, 0.0], [0.9459133148193359, 0.014695677906274796, 0.013018854893743992, 0.006462364457547665, 0.0030637255404144526, 0.016846003010869026, 0.0, 0.0, 0.0, 0.0, 0.0, 0.0, 0.0, 0.0, 0.0, 0.0], [0.6812538504600525, 0.07581464946269989, 0.025956500321626663, 0.008595420978963375, 0.011454654857516289, 0.03937176987528801, 0.15755316615104675, 0.0, 0.0, 0.0, 0.0, 0.0, 0.0, 0.0, 0.0, 0.0], [0.6544193625450134, 0.014248067513108253, 0.030939167365431786, 0.009962104260921478, 0.01787642575800419, 0.01574251614511013, 0.13368020951747894, 0.12313215434551239, 0.0, 0.0, 0.0, 0.0, 0.0, 0.0, 0.0, 0.0], [0.7837764024734497, 0.04717528074979782, 0.085447758436203, 0.018983429297804832, 0.009188431315124035, 0.01669202372431755, 0.0145183764398098, 0.014366553165018559, 0.009851847775280476, 0.0, 0.0, 0.0, 0.0, 0.0, 0.0, 0.0], [0.9165189266204834, 0.017885463312268257, 0.009089929051697254, 0.0058547742664813995, 0.002645784756168723, 0.0044745756313204765, 0.018417561426758766, 0.004908285103738308, 0.003946766257286072, 0.016257990151643753, 0.0, 0.0, 0.0, 0.0, 0.0, 0.0], [0.7764842510223389, 0.07336452603340149, 0.016057070344686508, 0.0025030802935361862, 0.0013110468862578273, 0.027760282158851624, 0.04297284409403801, 0.011192516423761845, 0.006629023235291243, 0.029114006087183952, 0.012611341662704945, 0.0, 0.0, 0.0, 0.0, 0.0], [0.5631147027015686, 0.06431492418050766, 0.04781432822346687, 0.0025945769157260656, 0.00723325926810503, 0.04937732592225075, 0.13843633234500885, 0.012494456022977829, 0.005726425908505917, 0.005012110341340303, 0.0034540528431534767, 0.10042759031057358, 0.0, 0.0, 0.0, 0.0], [0.6880593299865723, 0.018675096333026886, 0.015210880897939205, 0.00547407940030098, 0.0030141931492835283, 0.016207704320549965, 0.1683882623910904, 0.011386058293282986, 0.0063565694727003574, 0.013465258292853832, 0.002216398948803544, 0.034780070185661316, 0.01676613837480545, 0.0, 0.0, 0.0], [0.9045265316963196, 0.009687517769634724, 0.013842059299349785, 0.009292110800743103, 0.0026779179461300373, 0.00892424862831831, 0.023105287924408913, 0.00704181706532836, 0.001653955434449017, 0.003956117667257786, 0.003160047112032771, 0.004519499372690916, 0.004315705504268408, 0.003297222312539816, 0.0, 0.0], [0.8744280934333801, 0.008498306386172771, 0.010804223828017712, 0.0066181328147649765, 0.0024424083530902863, 0.009674694389104843, 0.018112702295184135, 0.0025057177990674973, 0.003374275052919984, 0.005613852757960558, 0.03129205107688904, 0.01284337043762207, 0.005111225415021181, 0.004966281820088625, 0.003714724676683545, 0.0], [0.5585958957672119, 0.00925147533416748, 0.08788402378559113, 0.008438064716756344, 0.006820238661020994, 0.08460012078285217, 0.07496067881584167, 0.002562309615314007, 0.009190907701849937, 0.024163302034139633, 0.0111946240067482, 0.01899063028395176, 0.012192867696285248, 0.015984512865543365, 0.022799544036388397, 0.05237070098519325]], [[1.0, 0.0, 0.0, 0.0, 0.0, 0.0, 0.0, 0.0, 0.0, 0.0, 0.0, 0.0, 0.0, 0.0, 0.0, 0.0], [0.9907070994377136, 0.009292950853705406, 0.0, 0.0, 0.0, 0.0, 0.0, 0.0, 0.0, 0.0, 0.0, 0.0, 0.0, 0.0, 0.0, 0.0], [0.9570655822753906, 0.01559058390557766, 0.02734391577541828, 0.0, 0.0, 0.0, 0.0, 0.0, 0.0, 0.0, 0.0, 0.0, 0.0, 0.0, 0.0, 0.0], [0.8901487588882446, 0.03609022498130798, 0.04311756789684296, 0.030643494799733162, 0.0, 0.0, 0.0, 0.0, 0.0, 0.0, 0.0, 0.0, 0.0, 0.0, 0.0, 0.0], [0.7461887001991272, 0.0532953143119812, 0.09909089654684067, 0.05541298910975456, 0.04601204767823219, 0.0, 0.0, 0.0, 0.0, 0.0, 0.0, 0.0, 0.0, 0.0, 0.0, 0.0], [0.6060940623283386, 0.014241186901926994, 0.021023375913500786, 0.21413953602313995, 0.10026310384273529, 0.044238802045583725, 0.0, 0.0, 0.0, 0.0, 0.0, 0.0, 0.0, 0.0, 0.0, 0.0], [0.571057140827179, 0.060778047889471054, 0.13806551694869995, 0.07179021090269089, 0.029195986688137054, 0.07213807106018066, 0.056974977254867554, 0.0, 0.0, 0.0, 0.0, 0.0, 0.0, 0.0, 0.0, 0.0], [0.7218562364578247, 0.03812364861369133, 0.027707446366548538, 0.029139989987015724, 0.015382896177470684, 0.06491981446743011, 0.08116501569747925, 0.02170497179031372, 0.0, 0.0, 0.0, 0.0, 0.0, 0.0, 0.0, 0.0], [0.23725540935993195, 0.012744396924972534, 0.08926824480295181, 0.03974755108356476, 0.03349905088543892, 0.09471765905618668, 0.3415283262729645, 0.022877395153045654, 0.12836197018623352, 0.0, 0.0, 0.0, 0.0, 0.0, 0.0, 0.0], [0.5486230254173279, 0.008164811879396439, 0.027385031804442406, 0.012716468423604965, 0.01886293664574623, 0.0075049251317977905, 0.03642987459897995, 0.012036832980811596, 0.05987556651234627, 0.2684005796909332, 0.0, 0.0, 0.0, 0.0, 0.0, 0.0], [0.049675434827804565, 0.0025271340273320675, 0.012614934705197811, 0.01635688543319702, 0.006699717603623867, 0.014577365480363369, 0.01498329732567072, 0.015031867660582066, 0.014587013982236385, 0.8293678760528564, 0.02357848919928074, 0.0, 0.0, 0.0, 0.0, 0.0], [0.40585237741470337, 0.01729055494070053, 0.066364586353302, 0.025843285024166107, 0.008877215906977654, 0.014555619098246098, 0.08075723052024841, 0.011930218897759914, 0.017746426165103912, 0.09762760251760483, 0.0071824295446276665, 0.24597246944904327, 0.0, 0.0, 0.0, 0.0], [0.8562082052230835, 0.0017696225550025702, 0.0021303612738847733, 0.0020271814428269863, 0.0013073215959593654, 0.0036354793701320887, 0.007635788526386023, 0.001829078420996666, 0.0015150160761550069, 0.04900321736931801, 0.0025604034308344126, 0.02763163112103939, 0.04274672642350197, 0.0, 0.0, 0.0], [0.8037481307983398, 0.0014350234996527433, 0.004316382575780153, 0.004296894650906324, 0.0018213936127722263, 0.011671909131109715, 0.03332654759287834, 0.0010946606053039432, 0.0024875556118786335, 0.0228903628885746, 0.0014792707515880466, 0.03527405112981796, 0.02843928150832653, 0.047718651592731476, 0.0, 0.0], [0.5763382911682129, 0.002341917250305414, 0.004780128598213196, 0.0029005727265030146, 0.0022044158540666103, 0.004168746527284384, 0.015191824175417423, 0.0013153415638953447, 0.005844454746693373, 0.04710627719759941, 0.004079855512827635, 0.015876183286309242, 0.04187944158911705, 0.10332555323839188, 0.17264704406261444, 0.0], [0.43814635276794434, 0.004183271899819374, 0.00995273794978857, 0.003884390462189913, 0.0027440327685326338, 0.02348465286195278, 0.06552553921937943, 0.002822881331667304, 0.005915349815040827, 0.013703154399991035, 0.0025071152485907078, 0.0720985159277916, 0.07496736198663712, 0.12555117905139923, 0.07536224275827408, 0.07915131002664566]], [[1.0, 0.0, 0.0, 0.0, 0.0, 0.0, 0.0, 0.0, 0.0, 0.0, 0.0, 0.0, 0.0, 0.0, 0.0, 0.0], [0.802676796913147, 0.19732320308685303, 0.0, 0.0, 0.0, 0.0, 0.0, 0.0, 0.0, 0.0, 0.0, 0.0, 0.0, 0.0, 0.0, 0.0], [0.4314326345920563, 0.53691166639328, 0.031655699014663696, 0.0, 0.0, 0.0, 0.0, 0.0, 0.0, 0.0, 0.0, 0.0, 0.0, 0.0, 0.0, 0.0], [0.2615988254547119, 0.19237443804740906, 0.5059371590614319, 0.04008962959051132, 0.0, 0.0, 0.0, 0.0, 0.0, 0.0, 0.0, 0.0, 0.0, 0.0, 0.0, 0.0], [0.4879503548145294, 0.13830360770225525, 0.2626757323741913, 0.08741691708564758, 0.023653320968151093, 0.0, 0.0, 0.0, 0.0, 0.0, 0.0, 0.0, 0.0, 0.0, 0.0, 0.0], [0.32827985286712646, 0.03547069802880287, 0.019336821511387825, 0.029515091329813004, 0.5267718434333801, 0.06062575429677963, 0.0, 0.0, 0.0, 0.0, 0.0, 0.0, 0.0, 0.0, 0.0, 0.0], [0.31839269399642944, 0.27292025089263916, 0.09589862823486328, 0.05685257911682129, 0.0628737062215805, 0.16412048041820526, 0.02894173562526703, 0.0, 0.0, 0.0, 0.0, 0.0, 0.0, 0.0, 0.0, 0.0], [0.6621130704879761, 0.058736175298690796, 0.06253975629806519, 0.0183089766651392, 0.008563565090298653, 0.136984184384346, 0.03244185820221901, 0.020312422886490822, 0.0, 0.0, 0.0, 0.0, 0.0, 0.0, 0.0, 0.0], [0.25084221363067627, 0.034903980791568756, 0.011219319887459278, 0.010441821068525314, 0.011419684626162052, 0.07098644971847534, 0.14765115082263947, 0.4225662648677826, 0.039969149976968765, 0.0, 0.0, 0.0, 0.0, 0.0, 0.0, 0.0], [0.11242767423391342, 0.04201584309339523, 0.020322507247328758, 0.004403118044137955, 0.016746168956160545, 0.04824124649167061, 0.08640073239803314, 0.37796083092689514, 0.2503221035003662, 0.041159696877002716, 0.0, 0.0, 0.0, 0.0, 0.0, 0.0], [0.45012569427490234, 0.016869788989424706, 0.012639638036489487, 0.008419652469456196, 0.0060709319077432156, 0.035940129309892654, 0.02678406611084938, 0.134760320186615, 0.09231840819120407, 0.17724525928497314, 0.03882613405585289, 0.0, 0.0, 0.0, 0.0, 0.0], [0.5287113189697266, 0.13912847638130188, 0.03745890036225319, 0.015680857002735138, 0.006571908947080374, 0.05586237460374832, 0.0202199574559927, 0.02754795365035534, 0.012885473668575287, 0.027432596310973167, 0.07719743251800537, 0.05130269378423691, 0.0, 0.0, 0.0, 0.0], [0.6467061638832092, 0.014616305008530617, 0.0043453071266412735, 0.0027087328489869833, 0.0006227242993190885, 0.0036598185542970896, 0.011228702962398529, 0.0012935911072418094, 0.004741407930850983, 0.010401228442788124, 0.02603266015648842, 0.13776005804538727, 0.13588325679302216, 0.0, 0.0, 0.0], [0.25287100672721863, 0.022074103355407715, 0.004383502993732691, 0.004629867151379585, 0.0007896811584942043, 0.017528269439935684, 0.010046166367828846, 0.00494335126131773, 0.002917200792580843, 0.012253404594957829, 0.024488283321261406, 0.06149541586637497, 0.5333566069602966, 0.04822320491075516, 0.0, 0.0], [0.21851922571659088, 0.021581025794148445, 0.009872563183307648, 0.0020639984868466854, 0.0007355029811151326, 0.015062420628964901, 0.02039642445743084, 0.014820912852883339, 0.021951166912913322, 0.0077809481881558895, 0.01808285154402256, 0.09371428191661835, 0.42935168743133545, 0.10867294669151306, 0.01739407703280449, 0.0], [0.29079756140708923, 0.0026197165716439486, 0.0024973403196781874, 0.0007749057258479297, 0.00024536586715839803, 0.0031362497247755527, 0.00905940867960453, 0.008023539558053017, 0.013348142616450787, 0.07462168484926224, 0.0045931218191981316, 0.059313997626304626, 0.08685608208179474, 0.08430955559015274, 0.3466663658618927, 0.013137005269527435]], [[1.0, 0.0, 0.0, 0.0, 0.0, 0.0, 0.0, 0.0, 0.0, 0.0, 0.0, 0.0, 0.0, 0.0, 0.0, 0.0], [0.9645783305168152, 0.03542165458202362, 0.0, 0.0, 0.0, 0.0, 0.0, 0.0, 0.0, 0.0, 0.0, 0.0, 0.0, 0.0, 0.0, 0.0], [0.7595338225364685, 0.10183942317962646, 0.13862673938274384, 0.0, 0.0, 0.0, 0.0, 0.0, 0.0, 0.0, 0.0, 0.0, 0.0, 0.0, 0.0, 0.0], [0.8818788528442383, 0.030781088396906853, 0.0485607348382473, 0.038779404014348984, 0.0, 0.0, 0.0, 0.0, 0.0, 0.0, 0.0, 0.0, 0.0, 0.0, 0.0, 0.0], [0.651512861251831, 0.10064450651407242, 0.03792940080165863, 0.05711126700043678, 0.15280194580554962, 0.0, 0.0, 0.0, 0.0, 0.0, 0.0, 0.0, 0.0, 0.0, 0.0, 0.0], [0.5860310196876526, 0.049506694078445435, 0.026528794318437576, 0.04550828039646149, 0.15331019461154938, 0.13911502063274384, 0.0, 0.0, 0.0, 0.0, 0.0, 0.0, 0.0, 0.0, 0.0, 0.0], [0.4774080812931061, 0.0598706416785717, 0.016145484521985054, 0.0376141332089901, 0.08423817902803421, 0.04570057988166809, 0.2790229022502899, 0.0, 0.0, 0.0, 0.0, 0.0, 0.0, 0.0, 0.0, 0.0], [0.5342167019844055, 0.025494283065199852, 0.06781433522701263, 0.1472480744123459, 0.052784886211156845, 0.0343686081469059, 0.10763578861951828, 0.030437365174293518, 0.0, 0.0, 0.0, 0.0, 0.0, 0.0, 0.0, 0.0], [0.4363415241241455, 0.03542215749621391, 0.029034709557890892, 0.05708329379558563, 0.08595430850982666, 0.03751816973090172, 0.23678427934646606, 0.05332855135202408, 0.028533050790429115, 0.0, 0.0, 0.0, 0.0, 0.0, 0.0, 0.0], [0.44925135374069214, 0.04662201553583145, 0.03421114757657051, 0.055804669857025146, 0.0704081803560257, 0.02166048437356949, 0.23607665300369263, 0.03579382970929146, 0.028954384848475456, 0.02121727354824543, 0.0, 0.0, 0.0, 0.0, 0.0, 0.0], [0.29962989687919617, 0.08175232261419296, 0.01595424860715866, 0.016403481364250183, 0.07118717581033707, 0.05907759815454483, 0.332177996635437, 0.020819643512368202, 0.02965863235294819, 0.04816201329231262, 0.0251770056784153, 0.0, 0.0, 0.0, 0.0, 0.0], [0.22162148356437683, 0.05198030546307564, 0.010572455823421478, 0.026419730857014656, 0.07648441195487976, 0.03275373950600624, 0.347699910402298, 0.009808112867176533, 0.007099211681634188, 0.06875015050172806, 0.030089840292930603, 0.11672065407037735, 0.0, 0.0, 0.0, 0.0], [0.2725098729133606, 0.028051944449543953, 0.04284987971186638, 0.09022589772939682, 0.019696639850735664, 0.03956606984138489, 0.09276709705591202, 0.028332725167274475, 0.018769649788737297, 0.2028905302286148, 0.07639522105455399, 0.06571845710277557, 0.022226031869649887, 0.0, 0.0, 0.0], [0.38573458790779114, 0.03232339397072792, 0.03581409528851509, 0.08702728897333145, 0.02944917604327202, 0.03693022578954697, 0.08567706495523453, 0.04563611000776291, 0.012577717192471027, 0.07608454674482346, 0.06450577080249786, 0.04572240635752678, 0.033567849546670914, 0.028949713334441185, 0.0, 0.0], [0.3439309597015381, 0.03596275672316551, 0.034825365990400314, 0.05667702108621597, 0.03234761208295822, 0.03460894152522087, 0.18487851321697235, 0.02597278729081154, 0.02345735765993595, 0.022278426215052605, 0.06411223113536835, 0.08327825367450714, 0.016864079982042313, 0.028450217097997665, 0.012355422601103783, 0.0], [0.4956727623939514, 0.03852369263768196, 0.009759103879332542, 0.019451893866062164, 0.041360851377248764, 0.0329180583357811, 0.12017528712749481, 0.009698792360723019, 0.00682164216414094, 0.05105289816856384, 0.037422843277454376, 0.06255508959293365, 0.010428136214613914, 0.008862990885972977, 0.018316585570573807, 0.03697938472032547]], [[1.0, 0.0, 0.0, 0.0, 0.0, 0.0, 0.0, 0.0, 0.0, 0.0, 0.0, 0.0, 0.0, 0.0, 0.0, 0.0], [0.9715033769607544, 0.028496654704213142, 0.0, 0.0, 0.0, 0.0, 0.0, 0.0, 0.0, 0.0, 0.0, 0.0, 0.0, 0.0, 0.0, 0.0], [0.8859105706214905, 0.06444104015827179, 0.04964849352836609, 0.0, 0.0, 0.0, 0.0, 0.0, 0.0, 0.0, 0.0, 0.0, 0.0, 0.0, 0.0, 0.0], [0.8554413914680481, 0.015117541886866093, 0.05818198621273041, 0.07125900685787201, 0.0, 0.0, 0.0, 0.0, 0.0, 0.0, 0.0, 0.0, 0.0, 0.0, 0.0, 0.0], [0.897108256816864, 0.020266536623239517, 0.0294581837952137, 0.040715962648391724, 0.012451139278709888, 0.0, 0.0, 0.0, 0.0, 0.0, 0.0, 0.0, 0.0, 0.0, 0.0, 0.0], [0.845628023147583, 0.007079869043081999, 0.04870041087269783, 0.01571049913764, 0.017353279516100883, 0.06552793830633163, 0.0, 0.0, 0.0, 0.0, 0.0, 0.0, 0.0, 0.0, 0.0, 0.0], [0.9032956957817078, 0.00963681098073721, 0.03354747220873833, 0.011861159466207027, 0.00783512182533741, 0.007693151477724314, 0.026130681857466698, 0.0, 0.0, 0.0, 0.0, 0.0, 0.0, 0.0, 0.0, 0.0], [0.8089555501937866, 0.020583579316735268, 0.03386807069182396, 0.015047246590256691, 0.006258843466639519, 0.025769216939806938, 0.06712538748979568, 0.022392023354768753, 0.0, 0.0, 0.0, 0.0, 0.0, 0.0, 0.0, 0.0], [0.7054060101509094, 0.028929155319929123, 0.023022787645459175, 0.009799123741686344, 0.008129734545946121, 0.050051022320985794, 0.13345684111118317, 0.029514653608202934, 0.011690626852214336, 0.0, 0.0, 0.0, 0.0, 0.0, 0.0, 0.0], [0.6310902833938599, 0.020923946052789688, 0.04168388992547989, 0.021293314173817635, 0.052006546407938004, 0.027029983699321747, 0.08311258256435394, 0.05362299084663391, 0.040707290172576904, 0.02852931059896946, 0.0, 0.0, 0.0, 0.0, 0.0, 0.0], [0.530543327331543, 0.009523998014628887, 0.017493203282356262, 0.017818298190832138, 0.030131405219435692, 0.009091475047171116, 0.07285059988498688, 0.0232792180031538, 0.036795567721128464, 0.21880307793617249, 0.033669788390398026, 0.0, 0.0, 0.0, 0.0, 0.0], [0.5675057172775269, 0.006801354233175516, 0.016938216984272003, 0.003734682919457555, 0.006426224485039711, 0.011917339637875557, 0.07265154272317886, 0.16682490706443787, 0.06212778761982918, 0.01927725225687027, 0.015073558315634727, 0.05072151869535446, 0.0, 0.0, 0.0, 0.0], [0.4865221083164215, 0.00590977817773819, 0.0246871430426836, 0.010955410078167915, 0.01737423799932003, 0.003410650882869959, 0.09025652706623077, 0.08724920451641083, 0.07677420228719711, 0.07499013841152191, 0.0246506966650486, 0.09315972030162811, 0.004060308914631605, 0.0, 0.0, 0.0], [0.39533665776252747, 0.018193308264017105, 0.010164037346839905, 0.05156005546450615, 0.03614268824458122, 0.006980645004659891, 0.05233820900321007, 0.06118025258183479, 0.02434694766998291, 0.11377477645874023, 0.07006077468395233, 0.1115499958395958, 0.027981413528323174, 0.02039024606347084, 0.0, 0.0], [0.4030096232891083, 0.004840069450438023, 0.01198304072022438, 0.03376533463597298, 0.04304208606481552, 0.003241261001676321, 0.05561969429254532, 0.05683509632945061, 0.03212868422269821, 0.03958528861403465, 0.0746171623468399, 0.17619653046131134, 0.01169061940163374, 0.024332597851753235, 0.029112983494997025, 0.0], [0.5366854667663574, 0.013307294808328152, 0.011325488798320293, 0.0367095023393631, 0.009243707172572613, 0.006953423842787743, 0.062476031482219696, 0.013203802518546581, 0.012264745309948921, 0.021115809679031372, 0.06496213376522064, 0.0744742900133133, 0.02993156388401985, 0.03763631358742714, 0.026559745892882347, 0.04315066710114479]], [[1.0, 0.0, 0.0, 0.0, 0.0, 0.0, 0.0, 0.0, 0.0, 0.0, 0.0, 0.0, 0.0, 0.0, 0.0, 0.0], [0.9305586218833923, 0.06944138556718826, 0.0, 0.0, 0.0, 0.0, 0.0, 0.0, 0.0, 0.0, 0.0, 0.0, 0.0, 0.0, 0.0, 0.0], [0.2727501392364502, 0.6893343925476074, 0.0379154346883297, 0.0, 0.0, 0.0, 0.0, 0.0, 0.0, 0.0, 0.0, 0.0, 0.0, 0.0, 0.0, 0.0], [0.1396864652633667, 0.6699050068855286, 0.16060003638267517, 0.02980842813849449, 0.0, 0.0, 0.0, 0.0, 0.0, 0.0, 0.0, 0.0, 0.0, 0.0, 0.0, 0.0], [0.35493695735931396, 0.15749408304691315, 0.25955331325531006, 0.21578383445739746, 0.012231854721903801, 0.0, 0.0, 0.0, 0.0, 0.0, 0.0, 0.0, 0.0, 0.0, 0.0, 0.0], [0.7604958415031433, 0.020360121503472328, 0.04332029074430466, 0.06357403844594955, 0.04446817561984062, 0.06778153032064438, 0.0, 0.0, 0.0, 0.0, 0.0, 0.0, 0.0, 0.0, 0.0, 0.0], [0.1522100269794464, 0.0409904420375824, 0.11345422267913818, 0.15500245988368988, 0.09577161818742752, 0.39029887318611145, 0.05227231606841087, 0.0, 0.0, 0.0, 0.0, 0.0, 0.0, 0.0, 0.0, 0.0], [0.3992668688297272, 0.07996083796024323, 0.023212818428874016, 0.027164218947291374, 0.008700275793671608, 0.15185073018074036, 0.25333645939826965, 0.056507762521505356, 0.0, 0.0, 0.0, 0.0, 0.0, 0.0, 0.0, 0.0], [0.12030989676713943, 0.05488124489784241, 0.0029953711200505495, 0.015661662444472313, 0.003528635948896408, 0.07892003655433655, 0.18867452442646027, 0.4661175310611725, 0.0689111202955246, 0.0, 0.0, 0.0, 0.0, 0.0, 0.0, 0.0], [0.05873673036694527, 0.051732443273067474, 0.008664351888000965, 0.010545073077082634, 0.00485440157353878, 0.4464190602302551, 0.0480814054608345, 0.17529287934303284, 0.17674724757671356, 0.018926406279206276, 0.0, 0.0, 0.0, 0.0, 0.0, 0.0], [0.29782214760780334, 0.01047982182353735, 0.011700276285409927, 0.026670366525650024, 0.004049594514071941, 0.02279076911509037, 0.03272981569170952, 0.23045046627521515, 0.15669287741184235, 0.15634624660015106, 0.050267599523067474, 0.0, 0.0, 0.0, 0.0, 0.0], [0.2107214480638504, 0.018068671226501465, 0.035838738083839417, 0.04775920882821083, 0.008606133982539177, 0.03222700580954552, 0.01581185683608055, 0.15401864051818848, 0.18873494863510132, 0.21414846181869507, 0.05852570757269859, 0.015539262443780899, 0.0, 0.0, 0.0, 0.0], [0.815671980381012, 0.0021806012373417616, 0.0013319418067112565, 0.001992719015106559, 0.0024143019691109657, 0.0014711443800479174, 0.006446430459618568, 0.0028025400824844837, 0.011403069831430912, 0.017440510913729668, 0.020019883289933205, 0.057825855910778046, 0.05899902805685997, 0.0, 0.0, 0.0], [0.0851581022143364, 0.002282008295878768, 0.00011007108696503565, 0.0005365582765080035, 0.000141393524245359, 0.001407642150297761, 0.005341152660548687, 0.0036424745339900255, 0.0013860504841431975, 0.0016476225573569536, 0.0008035989012569189, 0.028749270364642143, 0.8152226805686951, 0.05357136204838753, 0.0, 0.0], [0.027956711128354073, 0.00418670941144228, 0.0007230271003209054, 0.0008285959484055638, 0.00015261649969033897, 0.005541384220123291, 0.004413430579006672, 0.009561212733387947, 0.007951022125780582, 0.000966565334238112, 0.0003928818041458726, 0.007337097078561783, 0.7545372843742371, 0.15798957645893097, 0.017461854964494705, 0.0], [0.2770760953426361, 0.002698616124689579, 0.002227231627330184, 0.006470522377640009, 0.0005812871968373656, 0.0018759012455120683, 0.0014005514094606042, 0.011214781552553177, 0.012061350978910923, 0.021695001050829887, 0.005169582553207874, 0.021287154406309128, 0.10457925498485565, 0.20147061347961426, 0.2682749032974243, 0.061917148530483246]], [[1.0, 0.0, 0.0, 0.0, 0.0, 0.0, 0.0, 0.0, 0.0, 0.0, 0.0, 0.0, 0.0, 0.0, 0.0, 0.0], [0.9939002990722656, 0.006099657621234655, 0.0, 0.0, 0.0, 0.0, 0.0, 0.0, 0.0, 0.0, 0.0, 0.0, 0.0, 0.0, 0.0, 0.0], [0.9490059614181519, 0.016534842550754547, 0.034459326416254044, 0.0, 0.0, 0.0, 0.0, 0.0, 0.0, 0.0, 0.0, 0.0, 0.0, 0.0, 0.0, 0.0], [0.90387362241745, 0.013109094463288784, 0.06594424694776535, 0.01707296259701252, 0.0, 0.0, 0.0, 0.0, 0.0, 0.0, 0.0, 0.0, 0.0, 0.0, 0.0, 0.0], [0.8495773077011108, 0.06753671169281006, 0.05817921832203865, 0.015564815141260624, 0.009141968563199043, 0.0, 0.0, 0.0, 0.0, 0.0, 0.0, 0.0, 0.0, 0.0, 0.0, 0.0], [0.8857893943786621, 0.01826530508697033, 0.027819927781820297, 0.03177608177065849, 0.01993926428258419, 0.01641002856194973, 0.0, 0.0, 0.0, 0.0, 0.0, 0.0, 0.0, 0.0, 0.0, 0.0], [0.5683303475379944, 0.04140210151672363, 0.10598929971456528, 0.06052900105714798, 0.1166134625673294, 0.07460881024599075, 0.03252699226140976, 0.0, 0.0, 0.0, 0.0, 0.0, 0.0, 0.0, 0.0, 0.0], [0.7595320343971252, 0.04059537872672081, 0.07699525356292725, 0.018311945721507072, 0.024278579279780388, 0.026498163118958473, 0.03129582852125168, 0.02249285578727722, 0.0, 0.0, 0.0, 0.0, 0.0, 0.0, 0.0, 0.0], [0.6239746809005737, 0.048890747129917145, 0.0617189034819603, 0.04555335268378258, 0.03807380050420761, 0.08459170162677765, 0.024777978658676147, 0.026569705456495285, 0.045849140733480453, 0.0, 0.0, 0.0, 0.0, 0.0, 0.0, 0.0], [0.7702287435531616, 0.03803335502743721, 0.052910756319761276, 0.03711368143558502, 0.026459885761141777, 0.02265218086540699, 0.02463807538151741, 0.008513427339494228, 0.01011539064347744, 0.009334619157016277, 0.0, 0.0, 0.0, 0.0, 0.0, 0.0], [0.8009331822395325, 0.03252733126282692, 0.04615113511681557, 0.0037599382922053337, 0.010819490998983383, 0.050629813224077225, 0.016340026631951332, 0.008186877705156803, 0.011022325605154037, 0.014137625694274902, 0.005492307245731354, 0.0, 0.0, 0.0, 0.0, 0.0], [0.6113589406013489, 0.024147791787981987, 0.048402633517980576, 0.00691363075748086, 0.014678357169032097, 0.11967048048973083, 0.02510644495487213, 0.017121536657214165, 0.009906106628477573, 0.012664330191910267, 0.03144602105021477, 0.07858382910490036, 0.0, 0.0, 0.0, 0.0], [0.6061069369316101, 0.010965008288621902, 0.03684023767709732, 0.012831767089664936, 0.025043046101927757, 0.02552817575633526, 0.03664391115307808, 0.01354722585529089, 0.02829522266983986, 0.03142537549138069, 0.012631594203412533, 0.13183528184890747, 0.02830621227622032, 0.0, 0.0, 0.0], [0.6710167527198792, 0.007201000582426786, 0.014523926191031933, 0.010133848525583744, 0.014083282090723515, 0.0394439734518528, 0.0359998382627964, 0.006515489425510168, 0.008187423460185528, 0.04470378905534744, 0.02042561024427414, 0.080990731716156, 0.021187392994761467, 0.025586914271116257, 0.0, 0.0], [0.687157928943634, 0.008098004385828972, 0.011540907435119152, 0.014530112966895103, 0.00811423733830452, 0.02494949847459793, 0.019091255962848663, 0.009861108846962452, 0.005937324371188879, 0.0077874851413071156, 0.12734107673168182, 0.03559436649084091, 0.01161491684615612, 0.01669510081410408, 0.011686718091368675, 0.0], [0.4816819727420807, 0.05484893172979355, 0.022707967087626457, 0.0026342817582190037, 0.0034400089643895626, 0.16651499271392822, 0.02054625190794468, 0.0056078433990478516, 0.0024103019386529922, 0.016133733093738556, 0.00810143630951643, 0.03750147670507431, 0.09060729295015335, 0.031905725598335266, 0.03858432546257973, 0.016773568466305733]], [[1.0, 0.0, 0.0, 0.0, 0.0, 0.0, 0.0, 0.0, 0.0, 0.0, 0.0, 0.0, 0.0, 0.0, 0.0, 0.0], [0.9884899854660034, 0.011509993113577366, 0.0, 0.0, 0.0, 0.0, 0.0, 0.0, 0.0, 0.0, 0.0, 0.0, 0.0, 0.0, 0.0, 0.0], [0.9487994313240051, 0.016203811392188072, 0.03499671071767807, 0.0, 0.0, 0.0, 0.0, 0.0, 0.0, 0.0, 0.0, 0.0, 0.0, 0.0, 0.0, 0.0], [0.9316380023956299, 0.011174446903169155, 0.032032985240221024, 0.02515457011759281, 0.0, 0.0, 0.0, 0.0, 0.0, 0.0, 0.0, 0.0, 0.0, 0.0, 0.0, 0.0], [0.7383707165718079, 0.03588710352778435, 0.08913157880306244, 0.04771469533443451, 0.08889593929052353, 0.0, 0.0, 0.0, 0.0, 0.0, 0.0, 0.0, 0.0, 0.0, 0.0, 0.0], [0.7780932784080505, 0.04049735516309738, 0.0714317262172699, 0.06787803024053574, 0.03265094757080078, 0.009448685683310032, 0.0, 0.0, 0.0, 0.0, 0.0, 0.0, 0.0, 0.0, 0.0, 0.0], [0.689868152141571, 0.0495254211127758, 0.053532831370830536, 0.06345436722040176, 0.038686271756887436, 0.02596256323158741, 0.07897046208381653, 0.0, 0.0, 0.0, 0.0, 0.0, 0.0, 0.0, 0.0, 0.0], [0.8902562856674194, 0.014135438948869705, 0.02115275338292122, 0.04174882918596268, 0.007432984188199043, 0.0036919154226779938, 0.015829479321837425, 0.005752313882112503, 0.0, 0.0, 0.0, 0.0, 0.0, 0.0, 0.0, 0.0], [0.7142236232757568, 0.025728989392518997, 0.040791966021060944, 0.09195297956466675, 0.02173609659075737, 0.008226877078413963, 0.02062452957034111, 0.02900918945670128, 0.047705695033073425, 0.0, 0.0, 0.0, 0.0, 0.0, 0.0, 0.0], [0.6452972888946533, 0.014165999367833138, 0.019544990733265877, 0.16139382123947144, 0.01572973094880581, 0.014601961709558964, 0.0705995187163353, 0.0194923747330904, 0.009275428019464016, 0.0298988725990057, 0.0, 0.0, 0.0, 0.0, 0.0, 0.0], [0.3382582664489746, 0.02822193130850792, 0.030183814465999603, 0.13898243010044098, 0.03249132260680199, 0.0313538983464241, 0.18346112966537476, 0.04590142145752907, 0.030275914818048477, 0.05176713690161705, 0.08910277485847473, 0.0, 0.0, 0.0, 0.0, 0.0], [0.46117332577705383, 0.03526714816689491, 0.05839138478040695, 0.046735186129808426, 0.056086018681526184, 0.033859092742204666, 0.0903666615486145, 0.06392287462949753, 0.02959153801202774, 0.02093915455043316, 0.016118483617901802, 0.08754919469356537, 0.0, 0.0, 0.0, 0.0], [0.8538445830345154, 0.01027698814868927, 0.011791170574724674, 0.03906689211726189, 0.01082767453044653, 0.0038892978336662054, 0.022453635931015015, 0.001998530700802803, 0.004004461225122213, 0.00458145048469305, 0.007702741306275129, 0.02463415451347828, 0.004928466398268938, 0.0, 0.0, 0.0], [0.6979373097419739, 0.009891156107187271, 0.024529602378606796, 0.10274000465869904, 0.02513161301612854, 0.01410938985645771, 0.026760181412100792, 0.007979664951562881, 0.010117147117853165, 0.014571920968592167, 0.027759868651628494, 0.018413174897432327, 0.004565252456814051, 0.015493755228817463, 0.0, 0.0], [0.5368090867996216, 0.00938338227570057, 0.01361273042857647, 0.0931253582239151, 0.01581059955060482, 0.021044302731752396, 0.08351253718137741, 0.011495430022478104, 0.006063724402338266, 0.014772213064134121, 0.09391415864229202, 0.08056066930294037, 0.005069355014711618, 0.007792807649821043, 0.007033715024590492, 0.0], [0.5574198365211487, 0.036532726138830185, 0.0321563296020031, 0.06599170714616776, 0.03521079197525978, 0.04126153886318207, 0.022072140127420425, 0.022206487134099007, 0.017345497384667397, 0.026463622227311134, 0.0356568917632103, 0.016896670684218407, 0.013228386640548706, 0.014191917143762112, 0.008593523874878883, 0.054771944880485535]], [[1.0, 0.0, 0.0, 0.0, 0.0, 0.0, 0.0, 0.0, 0.0, 0.0, 0.0, 0.0, 0.0, 0.0, 0.0, 0.0], [0.6880940198898315, 0.31190595030784607, 0.0, 0.0, 0.0, 0.0, 0.0, 0.0, 0.0, 0.0, 0.0, 0.0, 0.0, 0.0, 0.0, 0.0], [0.14533677697181702, 0.7911105155944824, 0.06355274468660355, 0.0, 0.0, 0.0, 0.0, 0.0, 0.0, 0.0, 0.0, 0.0, 0.0, 0.0, 0.0, 0.0], [0.3157449960708618, 0.5474187135696411, 0.11497458070516586, 0.021861741319298744, 0.0, 0.0, 0.0, 0.0, 0.0, 0.0, 0.0, 0.0, 0.0, 0.0, 0.0, 0.0], [0.14336232841014862, 0.36983832716941833, 0.26676154136657715, 0.13534612953662872, 0.08469162881374359, 0.0, 0.0, 0.0, 0.0, 0.0, 0.0, 0.0, 0.0, 0.0, 0.0, 0.0], [0.23846955597400665, 0.1534692645072937, 0.025881148874759674, 0.02762215957045555, 0.09134334325790405, 0.46321454644203186, 0.0, 0.0, 0.0, 0.0, 0.0, 0.0, 0.0, 0.0, 0.0, 0.0], [0.03407241404056549, 0.07802201062440872, 0.025912685319781303, 0.012681661173701286, 0.02948673628270626, 0.7813477516174316, 0.03847678378224373, 0.0, 0.0, 0.0, 0.0, 0.0, 0.0, 0.0, 0.0, 0.0], [0.21862681210041046, 0.17354953289031982, 0.028857480734586716, 0.01688401773571968, 0.02130407840013504, 0.2635883688926697, 0.17122578620910645, 0.10596393793821335, 0.0, 0.0, 0.0, 0.0, 0.0, 0.0, 0.0, 0.0], [0.16256356239318848, 0.023850036785006523, 0.001100344117730856, 0.003915328532457352, 0.006427084561437368, 0.08901559561491013, 0.08545766770839691, 0.5284310579299927, 0.099239282310009, 0.0, 0.0, 0.0, 0.0, 0.0, 0.0, 0.0], [0.11437349021434784, 0.014031225815415382, 0.006307282485067844, 0.007116973865777254, 0.009325951337814331, 0.09219325333833694, 0.025168098509311676, 0.4332805573940277, 0.2654283046722412, 0.0327749066054821, 0.0, 0.0, 0.0, 0.0, 0.0, 0.0], [0.2787213623523712, 0.010830839164555073, 0.00721962284296751, 0.0036015394143760204, 0.004627409856766462, 0.08139842003583908, 0.027934381738305092, 0.17776505649089813, 0.09271895885467529, 0.1545388102531433, 0.16064362227916718, 0.0, 0.0, 0.0, 0.0, 0.0], [0.12744641304016113, 0.06462861597537994, 0.009546304121613503, 0.007477702107280493, 0.006241116672754288, 0.09610576927661896, 0.015001528896391392, 0.3318394422531128, 0.053400687873363495, 0.0486021526157856, 0.12695826590061188, 0.11275199800729752, 0.0, 0.0, 0.0, 0.0], [0.34414276480674744, 0.005420071072876453, 0.001323046861216426, 0.002724510384723544, 0.0007142230169847608, 0.02041543461382389, 0.0053263199515640736, 0.011513092555105686, 0.015564863570034504, 0.011697480455040932, 0.06421823799610138, 0.14994622766971588, 0.3669937551021576, 0.0, 0.0, 0.0], [0.11283881962299347, 0.002566080540418625, 0.00012519083975348622, 0.00024667102843523026, 0.00014539626135956496, 0.003970605321228504, 0.0025366523768752813, 0.005965350661426783, 0.0012308424338698387, 0.0033032752107828856, 0.018904676660895348, 0.03776756301522255, 0.7050869464874268, 0.10531196743249893, 0.0, 0.0], [0.16762691736221313, 0.0027239504270255566, 0.0008940653060562909, 0.0007378049776889384, 0.00048596522537991405, 0.005620892625302076, 0.0017189558129757643, 0.016904890537261963, 0.009429298341274261, 0.0021952444221824408, 0.015437910333275795, 0.0341935008764267, 0.36272183060646057, 0.3433906137943268, 0.03591819852590561, 0.0], [0.3523428440093994, 0.0020307789091020823, 0.00032137188827618957, 0.00026456062914803624, 0.00012697395868599415, 0.0027287097182124853, 0.0007738237618468702, 0.0012059592409059405, 0.001622379757463932, 0.0031016936991363764, 0.01266578957438469, 0.02981201373040676, 0.23051701486110687, 0.15709249675273895, 0.058634452521800995, 0.1467590481042862]], [[1.0, 0.0, 0.0, 0.0, 0.0, 0.0, 0.0, 0.0, 0.0, 0.0, 0.0, 0.0, 0.0, 0.0, 0.0, 0.0], [0.9209024310112, 0.07909759879112244, 0.0, 0.0, 0.0, 0.0, 0.0, 0.0, 0.0, 0.0, 0.0, 0.0, 0.0, 0.0, 0.0, 0.0], [0.37055543065071106, 0.4277295470237732, 0.20171497762203217, 0.0, 0.0, 0.0, 0.0, 0.0, 0.0, 0.0, 0.0, 0.0, 0.0, 0.0, 0.0, 0.0], [0.5549421906471252, 0.18620064854621887, 0.08906842023134232, 0.16978877782821655, 0.0, 0.0, 0.0, 0.0, 0.0, 0.0, 0.0, 0.0, 0.0, 0.0, 0.0, 0.0], [0.5125148892402649, 0.06086160987615585, 0.08327110856771469, 0.30198758840560913, 0.04136484116315842, 0.0, 0.0, 0.0, 0.0, 0.0, 0.0, 0.0, 0.0, 0.0, 0.0, 0.0], [0.7537383437156677, 0.029292883351445198, 0.03165842220187187, 0.02527194283902645, 0.043771397322416306, 0.11626696586608887, 0.0, 0.0, 0.0, 0.0, 0.0, 0.0, 0.0, 0.0, 0.0, 0.0], [0.44215506315231323, 0.028612028807401657, 0.03087867982685566, 0.0590970441699028, 0.060250598937273026, 0.17226289212703705, 0.2067437767982483, 0.0, 0.0, 0.0, 0.0, 0.0, 0.0, 0.0, 0.0, 0.0], [0.43496283888816833, 0.10522501170635223, 0.10463494807481766, 0.057039275765419006, 0.029239842668175697, 0.08464726060628891, 0.12181323766708374, 0.06243753805756569, 0.0, 0.0, 0.0, 0.0, 0.0, 0.0, 0.0, 0.0], [0.47581201791763306, 0.07027029246091843, 0.061992157250642776, 0.05331955850124359, 0.03396742790937424, 0.07731575518846512, 0.10707677155733109, 0.07293594628572464, 0.04731011018157005, 0.0, 0.0, 0.0, 0.0, 0.0, 0.0, 0.0], [0.34768351912498474, 0.054848551750183105, 0.0818369910120964, 0.060462962836027145, 0.05905352905392647, 0.03092058002948761, 0.1723121702671051, 0.06060782074928284, 0.058370087295770645, 0.07390381395816803, 0.0, 0.0, 0.0, 0.0, 0.0, 0.0], [0.682849645614624, 0.02542145363986492, 0.028546253219246864, 0.023713748902082443, 0.02425030991435051, 0.014762986451387405, 0.04635923355817795, 0.02384745515882969, 0.009679071605205536, 0.0721648633480072, 0.04840496927499771, 0.0, 0.0, 0.0, 0.0, 0.0], [0.41233712434768677, 0.0324104018509388, 0.0652749165892601, 0.08571095764636993, 0.02650907076895237, 0.03675032779574394, 0.0947498083114624, 0.0496385432779789, 0.03363076224923134, 0.07048217207193375, 0.040425416082143784, 0.05208047479391098, 0.0, 0.0, 0.0, 0.0], [0.18893349170684814, 0.12150123715400696, 0.0718495324254036, 0.0502278134226799, 0.018855569884181023, 0.027479181066155434, 0.06170662119984627, 0.04880450293421745, 0.044015683233737946, 0.19449785351753235, 0.006984394509345293, 0.06599589437246323, 0.09914825856685638, 0.0, 0.0, 0.0], [0.10350913554430008, 0.13335466384887695, 0.09225310385227203, 0.11124365031719208, 0.03424008563160896, 0.034069497138261795, 0.05594620108604431, 0.05731745809316635, 0.03341508284211159, 0.17919088900089264, 0.02029581367969513, 0.04376368224620819, 0.06803881376981735, 0.03336194157600403, 0.0, 0.0], [0.2696199417114258, 0.05804884061217308, 0.06488707661628723, 0.06922225654125214, 0.06669141352176666, 0.009422853589057922, 0.09974266588687897, 0.0592251718044281, 0.054841428995132446, 0.059045370668172836, 0.02441450208425522, 0.057350434362888336, 0.026616722345352173, 0.04357549175620079, 0.03729584813117981, 0.0], [0.25386905670166016, 0.013235441409051418, 0.023418981581926346, 0.12382546067237854, 0.02444564178586006, 0.009645441547036171, 0.042810969054698944, 0.006780754309147596, 0.008677780628204346, 0.15500886738300323, 0.1178751215338707, 0.023576632142066956, 0.01582350954413414, 0.029270125553011894, 0.11677665263414383, 0.03495960682630539]], [[1.0, 0.0, 0.0, 0.0, 0.0, 0.0, 0.0, 0.0, 0.0, 0.0, 0.0, 0.0, 0.0, 0.0, 0.0, 0.0], [0.9688330888748169, 0.031166911125183105, 0.0, 0.0, 0.0, 0.0, 0.0, 0.0, 0.0, 0.0, 0.0, 0.0, 0.0, 0.0, 0.0, 0.0], [0.9290608167648315, 0.029330357909202576, 0.04160875454545021, 0.0, 0.0, 0.0, 0.0, 0.0, 0.0, 0.0, 0.0, 0.0, 0.0, 0.0, 0.0, 0.0], [0.9200939536094666, 0.04228654131293297, 0.030229978263378143, 0.007389581762254238, 0.0, 0.0, 0.0, 0.0, 0.0, 0.0, 0.0, 0.0, 0.0, 0.0, 0.0, 0.0], [0.7105200290679932, 0.24576455354690552, 0.015327445231378078, 0.02099611423909664, 0.007391884457319975, 0.0, 0.0, 0.0, 0.0, 0.0, 0.0, 0.0, 0.0, 0.0, 0.0, 0.0], [0.8548244833946228, 0.05050984025001526, 0.050443973392248154, 0.013009229674935341, 0.009730826131999493, 0.021481722593307495, 0.0, 0.0, 0.0, 0.0, 0.0, 0.0, 0.0, 0.0, 0.0, 0.0], [0.6644477844238281, 0.21439489722251892, 0.011444488540291786, 0.03508725017309189, 0.007892676629126072, 0.042457420378923416, 0.02427554689347744, 0.0, 0.0, 0.0, 0.0, 0.0, 0.0, 0.0, 0.0, 0.0], [0.7241180539131165, 0.022386515513062477, 0.0361737497150898, 0.1544281393289566, 0.034405071288347244, 0.010180767625570297, 0.014892350882291794, 0.0034153538290411234, 0.0, 0.0, 0.0, 0.0, 0.0, 0.0, 0.0, 0.0], [0.49253571033477783, 0.178489550948143, 0.019860003143548965, 0.15576303005218506, 0.0372169055044651, 0.071680448949337, 0.02043982967734337, 0.010038062930107117, 0.013976404443383217, 0.0, 0.0, 0.0, 0.0, 0.0, 0.0, 0.0], [0.5983349680900574, 0.03502260521054268, 0.04257149621844292, 0.09798222035169601, 0.03912205621600151, 0.015563377179205418, 0.06872096657752991, 0.011407108046114445, 0.02189464122056961, 0.06938059628009796, 0.0, 0.0, 0.0, 0.0, 0.0, 0.0], [0.6115139126777649, 0.06945855170488358, 0.017183318734169006, 0.01406626682728529, 0.02128981240093708, 0.02030273526906967, 0.14954672753810883, 0.011932490393519402, 0.0035802950151264668, 0.038637399673461914, 0.0424884632229805, 0.0, 0.0, 0.0, 0.0, 0.0], [0.6164125800132751, 0.15178225934505463, 0.00897909700870514, 0.011198691092431545, 0.00674852030351758, 0.05754807963967323, 0.04474811628460884, 0.005770860239863396, 0.003005067352205515, 0.02718682959675789, 0.025421984493732452, 0.04119798168540001, 0.0, 0.0, 0.0, 0.0], [0.6594477891921997, 0.028279012069106102, 0.04109570011496544, 0.022831037640571594, 0.016013430431485176, 0.012832209467887878, 0.05378112196922302, 0.0036875696387141943, 0.0056054252199828625, 0.08156921714544296, 0.03593180328607559, 0.02736562304198742, 0.011560038663446903, 0.0, 0.0, 0.0], [0.3987490236759186, 0.01045402605086565, 0.024385467171669006, 0.12106737494468689, 0.0302706528455019, 0.011770997196435928, 0.030242787674069405, 0.0030468509066849947, 0.009743692353367805, 0.2510305345058441, 0.07254403829574585, 0.0165497288107872, 0.004332374781370163, 0.015812478959560394, 0.0, 0.0], [0.21099421381950378, 0.007282557897269726, 0.015403234399855137, 0.04384585842490196, 0.03425829857587814, 0.00851338729262352, 0.0666934996843338, 0.003943933639675379, 0.008554217405617237, 0.03902345895767212, 0.4862631857395172, 0.03846272826194763, 0.0029463679529726505, 0.010164730250835419, 0.023650243878364563, 0.0], [0.43297144770622253, 0.16766603291034698, 0.011790133081376553, 0.02231733314692974, 0.009724500589072704, 0.07992421090602875, 0.041752081364393234, 0.011836624704301357, 0.004320841282606125, 0.04759858921170235, 0.0550922155380249, 0.03179418668150902, 0.028112493455410004, 0.004486064426600933, 0.013640731573104858, 0.036972541362047195]], [[1.0, 0.0, 0.0, 0.0, 0.0, 0.0, 0.0, 0.0, 0.0, 0.0, 0.0, 0.0, 0.0, 0.0, 0.0, 0.0], [0.965243399143219, 0.034756556153297424, 0.0, 0.0, 0.0, 0.0, 0.0, 0.0, 0.0, 0.0, 0.0, 0.0, 0.0, 0.0, 0.0, 0.0], [0.8905598521232605, 0.03784496709704399, 0.0715951919555664, 0.0, 0.0, 0.0, 0.0, 0.0, 0.0, 0.0, 0.0, 0.0, 0.0, 0.0, 0.0, 0.0], [0.8425908088684082, 0.059849247336387634, 0.06933285295963287, 0.02822713740170002, 0.0, 0.0, 0.0, 0.0, 0.0, 0.0, 0.0, 0.0, 0.0, 0.0, 0.0, 0.0], [0.7956789135932922, 0.07708044350147247, 0.022873660549521446, 0.01788894459605217, 0.0864781066775322, 0.0, 0.0, 0.0, 0.0, 0.0, 0.0, 0.0, 0.0, 0.0, 0.0, 0.0], [0.6181970238685608, 0.03580208495259285, 0.03208718076348305, 0.08358678966760635, 0.19576989114284515, 0.03455714136362076, 0.0, 0.0, 0.0, 0.0, 0.0, 0.0, 0.0, 0.0, 0.0, 0.0], [0.7213528156280518, 0.06465649604797363, 0.027042921632528305, 0.018272941932082176, 0.07893463224172592, 0.04216036945581436, 0.047579843550920486, 0.0, 0.0, 0.0, 0.0, 0.0, 0.0, 0.0, 0.0, 0.0], [0.6928380727767944, 0.0068590762093663216, 0.08929435908794403, 0.08751412481069565, 0.04218949377536774, 0.025640860199928284, 0.008671967312693596, 0.04699209704995155, 0.0, 0.0, 0.0, 0.0, 0.0, 0.0, 0.0, 0.0], [0.506013810634613, 0.04183172807097435, 0.05300959199666977, 0.0778600201010704, 0.08127820491790771, 0.057100243866443634, 0.07984144985675812, 0.03673192486166954, 0.06633298844099045, 0.0, 0.0, 0.0, 0.0, 0.0, 0.0, 0.0], [0.44157886505126953, 0.06354068964719772, 0.05650569871068001, 0.06564784049987793, 0.08927153050899506, 0.03490879759192467, 0.07085462659597397, 0.03222515806555748, 0.05950530245900154, 0.08596152067184448, 0.0, 0.0, 0.0, 0.0, 0.0, 0.0], [0.25187596678733826, 0.08930716663599014, 0.058630410581827164, 0.03733818978071213, 0.12939885258674622, 0.09319352358579636, 0.07734216749668121, 0.034299444407224655, 0.06901756674051285, 0.1434142291545868, 0.016182491555809975, 0.0, 0.0, 0.0, 0.0, 0.0], [0.5534188151359558, 0.046573009341955185, 0.03396780416369438, 0.014868132770061493, 0.09045884758234024, 0.042275164276361465, 0.023654883727431297, 0.03714883700013161, 0.057059500366449356, 0.0738535225391388, 0.016456251963973045, 0.010265289805829525, 0.0, 0.0, 0.0, 0.0], [0.45023685693740845, 0.01498856209218502, 0.08607863634824753, 0.03396337851881981, 0.04208441451191902, 0.01973528042435646, 0.03869852051138878, 0.10996357351541519, 0.032907240092754364, 0.09496426582336426, 0.022746648639440536, 0.030117269605398178, 0.023515310138463974, 0.0, 0.0, 0.0], [0.6123552322387695, 0.01953081227838993, 0.035944536328315735, 0.05948670580983162, 0.047055434435606, 0.020783208310604095, 0.02425442636013031, 0.032019540667533875, 0.019225914031267166, 0.05248308926820755, 0.013043190352618694, 0.010479504242539406, 0.014012687839567661, 0.03932572901248932, 0.0, 0.0], [0.48099634051322937, 0.05925625190138817, 0.04075584560632706, 0.03283240646123886, 0.052171435207128525, 0.027303269132971764, 0.08231627196073532, 0.019348135218024254, 0.026089174672961235, 0.04703038930892944, 0.01520561333745718, 0.02411976456642151, 0.019434891641139984, 0.02638678252696991, 0.04675345867872238, 0.0], [0.7163076400756836, 0.022027399390935898, 0.012299936264753342, 0.005137658212333918, 0.028658557683229446, 0.01988334022462368, 0.09672693908214569, 0.003507660236209631, 0.011469285935163498, 0.01077660545706749, 0.006169382482767105, 0.01726674474775791, 0.01021097507327795, 0.006676304154098034, 0.01048689428716898, 0.02239462360739708]]], \"attentionHeadNames\": [\"L10H7\", \"L11H10\", \"L11H1\", \"L11H2\", \"L9H4\", \"L10H9\", \"L6H0\", \"L11H3\", \"L7H5\", \"L4H3\", \"L9H7\", \"L11H7\", \"L3H6\", \"L5H10\", \"L10H3\", \"L11H11\"], \"tokens\": [\"<|endoftext|>\", \" Mary\", \" was\", \" older\", \" than\", \" John\", \".\", \" Who\", \" was\", \" born\", \" first\", \"?\", \" Mary\", \" was\", \" born\", \" before\"]}\n",
       "    )\n",
       "    </script>"
      ],
      "text/plain": [
       "<IPython.core.display.HTML object>"
      ]
     },
     "execution_count": 47,
     "metadata": {},
     "output_type": "execute_result"
    }
   ],
   "source": [
    "neg_heads = torch.topk(-per_head_logit_diffs.flatten(), k=16).indices\n",
    "HTML(visualize_attention_patterns(neg_heads, cache, prompts))"
   ]
  },
  {
   "cell_type": "markdown",
   "metadata": {},
   "source": [
    "### Corrupted inputs\n",
    "\n",
    "Now generate prompts, but with the names reversed so the IOI now contradicts the information in the context - e.g.\n",
    "\n",
    "> Alice was older than Mary. Who was born first? Mary was born before ..."
   ]
  },
  {
   "cell_type": "code",
   "execution_count": 27,
   "metadata": {},
   "outputs": [
    {
     "data": {
      "text/plain": [
       "[(' Mary was older than John. Who was born first? John was born before',\n",
       "  (' John', ' Mary')),\n",
       " (' Mary was older than Alice. Who was born first? Alice was born before',\n",
       "  (' Alice', ' Mary')),\n",
       " (' John was older than Mary. Who was born first? Mary was born before',\n",
       "  (' Mary', ' John')),\n",
       " (' John was older than Alice. Who was born first? Alice was born before',\n",
       "  (' Alice', ' John')),\n",
       " (' Alice was older than Mary. Who was born first? Mary was born before',\n",
       "  (' Mary', ' Alice'))]"
      ]
     },
     "execution_count": 27,
     "metadata": {},
     "output_type": "execute_result"
    }
   ],
   "source": [
    "corrupted_prompts = generate_prompts(\n",
    "    \"{2} was older than{3}. Who was born first?{3} was born before\"\n",
    ")\n",
    "corrupted_prompts[:5]"
   ]
  },
  {
   "cell_type": "code",
   "execution_count": 28,
   "metadata": {},
   "outputs": [
    {
     "name": "stdout",
     "output_type": "stream",
     "text": [
      "Tried to stack head results when they weren't cached. Computing head results now\n"
     ]
    },
    {
     "data": {
      "application/vnd.plotly.v1+json": {
       "config": {
        "plotlyServerURL": "https://plot.ly"
       },
       "data": [
        {
         "coloraxis": "coloraxis",
         "hovertemplate": "Head: %{x}<br>Layer: %{y}<br>color: %{z}<extra></extra>",
         "name": "0",
         "type": "heatmap",
         "xaxis": "x",
         "yaxis": "y",
         "z": [
          [
           0.052656140178442,
           0.00011286154767731205,
           0.007134534418582916,
           0.0008799108909443021,
           0.03498133644461632,
           -0.0008068721508607268,
           0.16936129331588745,
           0.06943167001008987,
           0.012654268182814121,
           -0.012063841335475445,
           -0.0020546074956655502,
           -0.0004054263699799776
          ],
          [
           0.0020447869319468737,
           0.04646974056959152,
           -0.00586614478379488,
           -0.012418058700859547,
           0.026716353371739388,
           0.0022100466303527355,
           0.062489885836839676,
           0.1202441155910492,
           -0.048390716314315796,
           -0.034828200936317444,
           -0.015158683992922306,
           -0.07286527752876282
          ],
          [
           0.02597082406282425,
           0.04526088014245033,
           0.03159794956445694,
           0.033221691846847534,
           0.049059297889471054,
           -0.02339549921452999,
           -0.023221716284751892,
           -0.08712304383516312,
           0.01312471553683281,
           0.032829273492097855,
           -0.03653763234615326,
           -0.013233982026576996
          ],
          [
           0.007631557993590832,
           0.01915661431849003,
           0.011359588243067265,
           0.005239507649093866,
           -0.004078675992786884,
           -0.015798883512616158,
           0.16316431760787964,
           0.018483014777302742,
           -0.01274164766073227,
           0.004390595015138388,
           -0.015730420127511024,
           0.0075540742836892605
          ],
          [
           0.004320736508816481,
           0.0032177292741835117,
           0.004675611387938261,
           0.23493286967277527,
           -0.04398861527442932,
           0.0036996942944824696,
           0.019165141507983208,
           -0.05201728269457817,
           -0.0028469949029386044,
           -0.04348555952310562,
           0.016690991818904877,
           0.014859773218631744
          ],
          [
           -0.0007560330559499562,
           0.38714975118637085,
           0.0827205702662468,
           -0.05172270908951759,
           -0.004367894493043423,
           0.053854938596487045,
           0.02421630173921585,
           0.016639776527881622,
           -0.04119875654578209,
           -0.0790901705622673,
           0.1351853907108307,
           -0.25225165486335754
          ],
          [
           0.9437445402145386,
           -0.055689193308353424,
           -0.08620816469192505,
           -0.043304938822984695,
           0.21428902447223663,
           -0.13349677622318268,
           -0.12568055093288422,
           0.24466843903064728,
           0.020606497302651405,
           0.20049315690994263,
           0.04170908033847809,
           0.08057724684476852
          ],
          [
           0.00835446733981371,
           0.4076853096485138,
           0.7994349598884583,
           -2.417527914047241,
           -0.008039399050176144,
           0.7116991281509399,
           -0.12462358176708221,
           0.0054966541938483715,
           0.12802167236804962,
           -2.089142322540283,
           1.0816985368728638,
           0.06312354654073715
          ],
          [
           -0.07258805632591248,
           0.1760740429162979,
           0.5643998980522156,
           0.49159884452819824,
           0.005353838670998812,
           0.15528170764446259,
           0.10523005574941635,
           0.0043122959323227406,
           0.8919509649276733,
           -0.3209666907787323,
           -3.616612195968628,
           2.5423080921173096
          ],
          [
           0.8868584632873535,
           -0.03533784672617912,
           1.445155382156372,
           0.03811008855700493,
           -0.6220513582229614,
           -1.1817165613174438,
           2.9588539600372314,
           -0.8440062403678894,
           6.67916202545166,
           -8.341337203979492,
           0.013065502047538757,
           1.0602091550827026
          ],
          [
           -0.5761101245880127,
           -1.8272335529327393,
           10.699888229370117,
           -0.517668604850769,
           0.26935523748397827,
           0.01255752146244049,
           -1.9480429887771606,
           -23.655292510986328,
           -0.05704588443040848,
           0.9704040288925171,
           -3.1707136631011963,
           0.36243411898612976
          ],
          [
           -0.27733567357063293,
           -3.89857816696167,
           -1.1163870096206665,
           0.6178410053253174,
           -0.08806882053613663,
           -0.023948144167661667,
           -0.07828770577907562,
           -0.3589407503604889,
           -0.47693103551864624,
           -0.1062094196677208,
           -7.977395534515381,
           0.05153035745024681
          ]
         ]
        }
       ],
       "layout": {
        "coloraxis": {
         "cmid": 0,
         "colorscale": [
          [
           0,
           "rgb(103,0,31)"
          ],
          [
           0.1,
           "rgb(178,24,43)"
          ],
          [
           0.2,
           "rgb(214,96,77)"
          ],
          [
           0.3,
           "rgb(244,165,130)"
          ],
          [
           0.4,
           "rgb(253,219,199)"
          ],
          [
           0.5,
           "rgb(247,247,247)"
          ],
          [
           0.6,
           "rgb(209,229,240)"
          ],
          [
           0.7,
           "rgb(146,197,222)"
          ],
          [
           0.8,
           "rgb(67,147,195)"
          ],
          [
           0.9,
           "rgb(33,102,172)"
          ],
          [
           1,
           "rgb(5,48,97)"
          ]
         ]
        },
        "template": {
         "data": {
          "bar": [
           {
            "error_x": {
             "color": "#2a3f5f"
            },
            "error_y": {
             "color": "#2a3f5f"
            },
            "marker": {
             "line": {
              "color": "#E5ECF6",
              "width": 0.5
             },
             "pattern": {
              "fillmode": "overlay",
              "size": 10,
              "solidity": 0.2
             }
            },
            "type": "bar"
           }
          ],
          "barpolar": [
           {
            "marker": {
             "line": {
              "color": "#E5ECF6",
              "width": 0.5
             },
             "pattern": {
              "fillmode": "overlay",
              "size": 10,
              "solidity": 0.2
             }
            },
            "type": "barpolar"
           }
          ],
          "carpet": [
           {
            "aaxis": {
             "endlinecolor": "#2a3f5f",
             "gridcolor": "white",
             "linecolor": "white",
             "minorgridcolor": "white",
             "startlinecolor": "#2a3f5f"
            },
            "baxis": {
             "endlinecolor": "#2a3f5f",
             "gridcolor": "white",
             "linecolor": "white",
             "minorgridcolor": "white",
             "startlinecolor": "#2a3f5f"
            },
            "type": "carpet"
           }
          ],
          "choropleth": [
           {
            "colorbar": {
             "outlinewidth": 0,
             "ticks": ""
            },
            "type": "choropleth"
           }
          ],
          "contour": [
           {
            "colorbar": {
             "outlinewidth": 0,
             "ticks": ""
            },
            "colorscale": [
             [
              0,
              "#0d0887"
             ],
             [
              0.1111111111111111,
              "#46039f"
             ],
             [
              0.2222222222222222,
              "#7201a8"
             ],
             [
              0.3333333333333333,
              "#9c179e"
             ],
             [
              0.4444444444444444,
              "#bd3786"
             ],
             [
              0.5555555555555556,
              "#d8576b"
             ],
             [
              0.6666666666666666,
              "#ed7953"
             ],
             [
              0.7777777777777778,
              "#fb9f3a"
             ],
             [
              0.8888888888888888,
              "#fdca26"
             ],
             [
              1,
              "#f0f921"
             ]
            ],
            "type": "contour"
           }
          ],
          "contourcarpet": [
           {
            "colorbar": {
             "outlinewidth": 0,
             "ticks": ""
            },
            "type": "contourcarpet"
           }
          ],
          "heatmap": [
           {
            "colorbar": {
             "outlinewidth": 0,
             "ticks": ""
            },
            "colorscale": [
             [
              0,
              "#0d0887"
             ],
             [
              0.1111111111111111,
              "#46039f"
             ],
             [
              0.2222222222222222,
              "#7201a8"
             ],
             [
              0.3333333333333333,
              "#9c179e"
             ],
             [
              0.4444444444444444,
              "#bd3786"
             ],
             [
              0.5555555555555556,
              "#d8576b"
             ],
             [
              0.6666666666666666,
              "#ed7953"
             ],
             [
              0.7777777777777778,
              "#fb9f3a"
             ],
             [
              0.8888888888888888,
              "#fdca26"
             ],
             [
              1,
              "#f0f921"
             ]
            ],
            "type": "heatmap"
           }
          ],
          "heatmapgl": [
           {
            "colorbar": {
             "outlinewidth": 0,
             "ticks": ""
            },
            "colorscale": [
             [
              0,
              "#0d0887"
             ],
             [
              0.1111111111111111,
              "#46039f"
             ],
             [
              0.2222222222222222,
              "#7201a8"
             ],
             [
              0.3333333333333333,
              "#9c179e"
             ],
             [
              0.4444444444444444,
              "#bd3786"
             ],
             [
              0.5555555555555556,
              "#d8576b"
             ],
             [
              0.6666666666666666,
              "#ed7953"
             ],
             [
              0.7777777777777778,
              "#fb9f3a"
             ],
             [
              0.8888888888888888,
              "#fdca26"
             ],
             [
              1,
              "#f0f921"
             ]
            ],
            "type": "heatmapgl"
           }
          ],
          "histogram": [
           {
            "marker": {
             "pattern": {
              "fillmode": "overlay",
              "size": 10,
              "solidity": 0.2
             }
            },
            "type": "histogram"
           }
          ],
          "histogram2d": [
           {
            "colorbar": {
             "outlinewidth": 0,
             "ticks": ""
            },
            "colorscale": [
             [
              0,
              "#0d0887"
             ],
             [
              0.1111111111111111,
              "#46039f"
             ],
             [
              0.2222222222222222,
              "#7201a8"
             ],
             [
              0.3333333333333333,
              "#9c179e"
             ],
             [
              0.4444444444444444,
              "#bd3786"
             ],
             [
              0.5555555555555556,
              "#d8576b"
             ],
             [
              0.6666666666666666,
              "#ed7953"
             ],
             [
              0.7777777777777778,
              "#fb9f3a"
             ],
             [
              0.8888888888888888,
              "#fdca26"
             ],
             [
              1,
              "#f0f921"
             ]
            ],
            "type": "histogram2d"
           }
          ],
          "histogram2dcontour": [
           {
            "colorbar": {
             "outlinewidth": 0,
             "ticks": ""
            },
            "colorscale": [
             [
              0,
              "#0d0887"
             ],
             [
              0.1111111111111111,
              "#46039f"
             ],
             [
              0.2222222222222222,
              "#7201a8"
             ],
             [
              0.3333333333333333,
              "#9c179e"
             ],
             [
              0.4444444444444444,
              "#bd3786"
             ],
             [
              0.5555555555555556,
              "#d8576b"
             ],
             [
              0.6666666666666666,
              "#ed7953"
             ],
             [
              0.7777777777777778,
              "#fb9f3a"
             ],
             [
              0.8888888888888888,
              "#fdca26"
             ],
             [
              1,
              "#f0f921"
             ]
            ],
            "type": "histogram2dcontour"
           }
          ],
          "mesh3d": [
           {
            "colorbar": {
             "outlinewidth": 0,
             "ticks": ""
            },
            "type": "mesh3d"
           }
          ],
          "parcoords": [
           {
            "line": {
             "colorbar": {
              "outlinewidth": 0,
              "ticks": ""
             }
            },
            "type": "parcoords"
           }
          ],
          "pie": [
           {
            "automargin": true,
            "type": "pie"
           }
          ],
          "scatter": [
           {
            "fillpattern": {
             "fillmode": "overlay",
             "size": 10,
             "solidity": 0.2
            },
            "type": "scatter"
           }
          ],
          "scatter3d": [
           {
            "line": {
             "colorbar": {
              "outlinewidth": 0,
              "ticks": ""
             }
            },
            "marker": {
             "colorbar": {
              "outlinewidth": 0,
              "ticks": ""
             }
            },
            "type": "scatter3d"
           }
          ],
          "scattercarpet": [
           {
            "marker": {
             "colorbar": {
              "outlinewidth": 0,
              "ticks": ""
             }
            },
            "type": "scattercarpet"
           }
          ],
          "scattergeo": [
           {
            "marker": {
             "colorbar": {
              "outlinewidth": 0,
              "ticks": ""
             }
            },
            "type": "scattergeo"
           }
          ],
          "scattergl": [
           {
            "marker": {
             "colorbar": {
              "outlinewidth": 0,
              "ticks": ""
             }
            },
            "type": "scattergl"
           }
          ],
          "scattermapbox": [
           {
            "marker": {
             "colorbar": {
              "outlinewidth": 0,
              "ticks": ""
             }
            },
            "type": "scattermapbox"
           }
          ],
          "scatterpolar": [
           {
            "marker": {
             "colorbar": {
              "outlinewidth": 0,
              "ticks": ""
             }
            },
            "type": "scatterpolar"
           }
          ],
          "scatterpolargl": [
           {
            "marker": {
             "colorbar": {
              "outlinewidth": 0,
              "ticks": ""
             }
            },
            "type": "scatterpolargl"
           }
          ],
          "scatterternary": [
           {
            "marker": {
             "colorbar": {
              "outlinewidth": 0,
              "ticks": ""
             }
            },
            "type": "scatterternary"
           }
          ],
          "surface": [
           {
            "colorbar": {
             "outlinewidth": 0,
             "ticks": ""
            },
            "colorscale": [
             [
              0,
              "#0d0887"
             ],
             [
              0.1111111111111111,
              "#46039f"
             ],
             [
              0.2222222222222222,
              "#7201a8"
             ],
             [
              0.3333333333333333,
              "#9c179e"
             ],
             [
              0.4444444444444444,
              "#bd3786"
             ],
             [
              0.5555555555555556,
              "#d8576b"
             ],
             [
              0.6666666666666666,
              "#ed7953"
             ],
             [
              0.7777777777777778,
              "#fb9f3a"
             ],
             [
              0.8888888888888888,
              "#fdca26"
             ],
             [
              1,
              "#f0f921"
             ]
            ],
            "type": "surface"
           }
          ],
          "table": [
           {
            "cells": {
             "fill": {
              "color": "#EBF0F8"
             },
             "line": {
              "color": "white"
             }
            },
            "header": {
             "fill": {
              "color": "#C8D4E3"
             },
             "line": {
              "color": "white"
             }
            },
            "type": "table"
           }
          ]
         },
         "layout": {
          "annotationdefaults": {
           "arrowcolor": "#2a3f5f",
           "arrowhead": 0,
           "arrowwidth": 1
          },
          "autotypenumbers": "strict",
          "coloraxis": {
           "colorbar": {
            "outlinewidth": 0,
            "ticks": ""
           }
          },
          "colorscale": {
           "diverging": [
            [
             0,
             "#8e0152"
            ],
            [
             0.1,
             "#c51b7d"
            ],
            [
             0.2,
             "#de77ae"
            ],
            [
             0.3,
             "#f1b6da"
            ],
            [
             0.4,
             "#fde0ef"
            ],
            [
             0.5,
             "#f7f7f7"
            ],
            [
             0.6,
             "#e6f5d0"
            ],
            [
             0.7,
             "#b8e186"
            ],
            [
             0.8,
             "#7fbc41"
            ],
            [
             0.9,
             "#4d9221"
            ],
            [
             1,
             "#276419"
            ]
           ],
           "sequential": [
            [
             0,
             "#0d0887"
            ],
            [
             0.1111111111111111,
             "#46039f"
            ],
            [
             0.2222222222222222,
             "#7201a8"
            ],
            [
             0.3333333333333333,
             "#9c179e"
            ],
            [
             0.4444444444444444,
             "#bd3786"
            ],
            [
             0.5555555555555556,
             "#d8576b"
            ],
            [
             0.6666666666666666,
             "#ed7953"
            ],
            [
             0.7777777777777778,
             "#fb9f3a"
            ],
            [
             0.8888888888888888,
             "#fdca26"
            ],
            [
             1,
             "#f0f921"
            ]
           ],
           "sequentialminus": [
            [
             0,
             "#0d0887"
            ],
            [
             0.1111111111111111,
             "#46039f"
            ],
            [
             0.2222222222222222,
             "#7201a8"
            ],
            [
             0.3333333333333333,
             "#9c179e"
            ],
            [
             0.4444444444444444,
             "#bd3786"
            ],
            [
             0.5555555555555556,
             "#d8576b"
            ],
            [
             0.6666666666666666,
             "#ed7953"
            ],
            [
             0.7777777777777778,
             "#fb9f3a"
            ],
            [
             0.8888888888888888,
             "#fdca26"
            ],
            [
             1,
             "#f0f921"
            ]
           ]
          },
          "colorway": [
           "#636efa",
           "#EF553B",
           "#00cc96",
           "#ab63fa",
           "#FFA15A",
           "#19d3f3",
           "#FF6692",
           "#B6E880",
           "#FF97FF",
           "#FECB52"
          ],
          "font": {
           "color": "#2a3f5f"
          },
          "geo": {
           "bgcolor": "white",
           "lakecolor": "white",
           "landcolor": "#E5ECF6",
           "showlakes": true,
           "showland": true,
           "subunitcolor": "white"
          },
          "hoverlabel": {
           "align": "left"
          },
          "hovermode": "closest",
          "mapbox": {
           "style": "light"
          },
          "paper_bgcolor": "white",
          "plot_bgcolor": "#E5ECF6",
          "polar": {
           "angularaxis": {
            "gridcolor": "white",
            "linecolor": "white",
            "ticks": ""
           },
           "bgcolor": "#E5ECF6",
           "radialaxis": {
            "gridcolor": "white",
            "linecolor": "white",
            "ticks": ""
           }
          },
          "scene": {
           "xaxis": {
            "backgroundcolor": "#E5ECF6",
            "gridcolor": "white",
            "gridwidth": 2,
            "linecolor": "white",
            "showbackground": true,
            "ticks": "",
            "zerolinecolor": "white"
           },
           "yaxis": {
            "backgroundcolor": "#E5ECF6",
            "gridcolor": "white",
            "gridwidth": 2,
            "linecolor": "white",
            "showbackground": true,
            "ticks": "",
            "zerolinecolor": "white"
           },
           "zaxis": {
            "backgroundcolor": "#E5ECF6",
            "gridcolor": "white",
            "gridwidth": 2,
            "linecolor": "white",
            "showbackground": true,
            "ticks": "",
            "zerolinecolor": "white"
           }
          },
          "shapedefaults": {
           "line": {
            "color": "#2a3f5f"
           }
          },
          "ternary": {
           "aaxis": {
            "gridcolor": "white",
            "linecolor": "white",
            "ticks": ""
           },
           "baxis": {
            "gridcolor": "white",
            "linecolor": "white",
            "ticks": ""
           },
           "bgcolor": "#E5ECF6",
           "caxis": {
            "gridcolor": "white",
            "linecolor": "white",
            "ticks": ""
           }
          },
          "title": {
           "x": 0.05
          },
          "xaxis": {
           "automargin": true,
           "gridcolor": "white",
           "linecolor": "white",
           "ticks": "",
           "title": {
            "standoff": 15
           },
           "zerolinecolor": "white",
           "zerolinewidth": 2
          },
          "yaxis": {
           "automargin": true,
           "gridcolor": "white",
           "linecolor": "white",
           "ticks": "",
           "title": {
            "standoff": 15
           },
           "zerolinecolor": "white",
           "zerolinewidth": 2
          }
         }
        },
        "title": {
         "text": "Logit Difference From Each Head"
        },
        "xaxis": {
         "anchor": "y",
         "constrain": "domain",
         "domain": [
          0,
          1
         ],
         "scaleanchor": "y",
         "title": {
          "text": "Head"
         }
        },
        "yaxis": {
         "anchor": "x",
         "autorange": "reversed",
         "constrain": "domain",
         "domain": [
          0,
          1
         ],
         "title": {
          "text": "Layer"
         }
        }
       }
      }
     },
     "metadata": {},
     "output_type": "display_data"
    }
   ],
   "source": [
    "_, corrupted_cache = model.run_with_cache([p[0] for p in corrupted_prompts])\n",
    "corrupted_cache.prompts = corrupted_prompts\n",
    "\n",
    "plot_head_contribution(corrupted_cache)"
   ]
  },
  {
   "cell_type": "markdown",
   "metadata": {},
   "source": [
    "Head contributions are mostly the same, but interestingly some of the top negative contributions for the truthful case are positive contributions here and vice-versa. E.g. 9.9 and 10.10"
   ]
  },
  {
   "cell_type": "code",
   "execution_count": 37,
   "metadata": {},
   "outputs": [
    {
     "name": "stdout",
     "output_type": "stream",
     "text": [
      "Layer 0:  Mary was older than John. Who was born first? John was born before ... suns\n",
      "Layer 1:  Mary was older than John. Who was born first? John was born before ... the \n",
      "Layer 2:  Mary was older than John. Who was born first? John was born before ... the \n",
      "Layer 3:  Mary was older than John. Who was born first? John was born before ... the \n",
      "Layer 4:  Mary was older than John. Who was born first? John was born before ... the \n",
      "Layer 5:  Mary was older than John. Who was born first? John was born before ... the \n",
      "Layer 6:  Mary was older than John. Who was born first? John was born before ... the \n",
      "Layer 7:  Mary was older than John. Who was born first? John was born before ... the \n",
      "Layer 8:  Mary was older than John. Who was born first? John was born before ... the \n",
      "Layer 9:  Mary was older than John. Who was born first? John was born before ... Mary\n",
      "Layer 10:  Mary was older than John. Who was born first? John was born before ... Mary\n",
      "Layer 11:  Mary was older than John. Who was born first? John was born before ... Mary\n"
     ]
    }
   ],
   "source": [
    "for layer in range(model.cfg.n_layers):\n",
    "    resid_stream = corrupted_cache['resid_post', layer][0]\n",
    "    resid_stream = corrupted_cache.apply_ln_to_stack(resid_stream, layer)\n",
    "    logits = model.unembed(resid_stream)\n",
    "    pred_token = logits[:, -1, :].argmax(-1)\n",
    "    pred = model.tokenizer.decode(pred_token)\n",
    "    print(f'Layer {layer}: {corrupted_prompts[0][0]} ...{pred[:5]}')"
   ]
  },
  {
   "cell_type": "code",
   "execution_count": 46,
   "metadata": {},
   "outputs": [
    {
     "data": {
      "text/html": [
       "<div id=\"circuits-vis-026c1c56-5be2\" style=\"margin: 15px 0;\"/>\n",
       "    <script crossorigin type=\"module\">\n",
       "    import { render, AttentionHeads } from \"https://unpkg.com/circuitsvis@1.43.2/dist/cdn/esm.js\";\n",
       "    render(\n",
       "      \"circuits-vis-026c1c56-5be2\",\n",
       "      AttentionHeads,\n",
       "      {\"attention\": [[[1.0, 0.0, 0.0, 0.0, 0.0, 0.0, 0.0, 0.0, 0.0, 0.0, 0.0, 0.0, 0.0, 0.0, 0.0, 0.0], [0.9925794005393982, 0.007420565467327833, 0.0, 0.0, 0.0, 0.0, 0.0, 0.0, 0.0, 0.0, 0.0, 0.0, 0.0, 0.0, 0.0, 0.0], [0.9498438835144043, 0.02024657651782036, 0.029909566044807434, 0.0, 0.0, 0.0, 0.0, 0.0, 0.0, 0.0, 0.0, 0.0, 0.0, 0.0, 0.0, 0.0], [0.95976322889328, 0.007780928164720535, 0.02192860096693039, 0.010527318343520164, 0.0, 0.0, 0.0, 0.0, 0.0, 0.0, 0.0, 0.0, 0.0, 0.0, 0.0, 0.0], [0.8105897307395935, 0.11066535860300064, 0.044906698167324066, 0.01821066439151764, 0.015627559274435043, 0.0, 0.0, 0.0, 0.0, 0.0, 0.0, 0.0, 0.0, 0.0, 0.0, 0.0], [0.8873521089553833, 0.010304727591574192, 0.05221931263804436, 0.005816947668790817, 0.009891139343380928, 0.03441574424505234, 0.0, 0.0, 0.0, 0.0, 0.0, 0.0, 0.0, 0.0, 0.0, 0.0], [0.6453619003295898, 0.07306114584207535, 0.01729181408882141, 0.005911338143050671, 0.0063244495540857315, 0.18719421327114105, 0.06485514342784882, 0.0, 0.0, 0.0, 0.0, 0.0, 0.0, 0.0, 0.0, 0.0], [0.7957900166511536, 0.06826788187026978, 0.032374460250139236, 0.02750982716679573, 0.013244942761957645, 0.024668272584676743, 0.017634402960538864, 0.020510202273726463, 0.0, 0.0, 0.0, 0.0, 0.0, 0.0, 0.0, 0.0], [0.3894254267215729, 0.10706626623868942, 0.020642388612031937, 0.03915604576468468, 0.008240158669650555, 0.37670964002609253, 0.027242228388786316, 0.020316924899816513, 0.011200977489352226, 0.0, 0.0, 0.0, 0.0, 0.0, 0.0, 0.0], [0.7061583995819092, 0.0660756453871727, 0.029873941093683243, 0.05437614396214485, 0.007029613479971886, 0.028477227315306664, 0.052922721952199936, 0.011983797885477543, 0.007263150531798601, 0.035839419811964035, 0.0, 0.0, 0.0, 0.0, 0.0, 0.0], [0.6631706357002258, 0.06981100142002106, 0.048285387456417084, 0.013620729558169842, 0.00557180680334568, 0.041239961981773376, 0.08722414076328278, 0.02044747583568096, 0.006176745053380728, 0.015361705794930458, 0.029090464115142822, 0.0, 0.0, 0.0, 0.0, 0.0], [0.5796194076538086, 0.09914753586053848, 0.013752901926636696, 0.0048546320758759975, 0.003771828021854162, 0.1797581911087036, 0.039482831954956055, 0.03151775524020195, 0.002249103272333741, 0.007612582296133041, 0.0049775331281125546, 0.033255692571401596, 0.0, 0.0, 0.0, 0.0], [0.5782440900802612, 0.036297351121902466, 0.07691046595573425, 0.005090052727609873, 0.008645419031381607, 0.08518082648515701, 0.05427094176411629, 0.024489248171448708, 0.012321650050580502, 0.016949830576777458, 0.00793160405009985, 0.0419367179274559, 0.05173175781965256, 0.0, 0.0, 0.0], [0.5430047512054443, 0.012966793030500412, 0.015752095729112625, 0.07584009319543839, 0.009631874971091747, 0.061229437589645386, 0.03639350086450577, 0.012866212986409664, 0.006146667990833521, 0.1332201510667801, 0.05254282057285309, 0.01163332350552082, 0.016446691006422043, 0.01232552994042635, 0.0, 0.0], [0.5910011529922485, 0.012920700013637543, 0.017580462619662285, 0.01863107830286026, 0.0038009630516171455, 0.032138124108314514, 0.04242723062634468, 0.016200199723243713, 0.005530182737857103, 0.02416631206870079, 0.15512318909168243, 0.02737155184149742, 0.01543067954480648, 0.009878426790237427, 0.02779974974691868, 0.0], [0.389445960521698, 0.09832621365785599, 0.0212728139013052, 0.009893200360238552, 0.002840792527422309, 0.3245961666107178, 0.027706122025847435, 0.01696404255926609, 0.0022483780048787594, 0.007526613771915436, 0.008529335260391235, 0.00808070320636034, 0.06738978624343872, 0.0028406442143023014, 0.002796413144096732, 0.00954283308237791]], [[1.0, 0.0, 0.0, 0.0, 0.0, 0.0, 0.0, 0.0, 0.0, 0.0, 0.0, 0.0, 0.0, 0.0, 0.0, 0.0], [0.9647909998893738, 0.03520895168185234, 0.0, 0.0, 0.0, 0.0, 0.0, 0.0, 0.0, 0.0, 0.0, 0.0, 0.0, 0.0, 0.0, 0.0], [0.9104464054107666, 0.07154814898967743, 0.01800554431974888, 0.0, 0.0, 0.0, 0.0, 0.0, 0.0, 0.0, 0.0, 0.0, 0.0, 0.0, 0.0, 0.0], [0.9606621861457825, 0.01017793733626604, 0.022221367806196213, 0.00693848729133606, 0.0, 0.0, 0.0, 0.0, 0.0, 0.0, 0.0, 0.0, 0.0, 0.0, 0.0, 0.0], [0.7706714272499084, 0.09844405949115753, 0.11194710433483124, 0.011977135203778744, 0.006960364058613777, 0.0, 0.0, 0.0, 0.0, 0.0, 0.0, 0.0, 0.0, 0.0, 0.0, 0.0], [0.8290179371833801, 0.057574838399887085, 0.008883364498615265, 0.0040205190889537334, 0.0023364664521068335, 0.09816692769527435, 0.0, 0.0, 0.0, 0.0, 0.0, 0.0, 0.0, 0.0, 0.0, 0.0], [0.616379976272583, 0.10147012025117874, 0.013453726656734943, 0.007091906387358904, 0.002001478336751461, 0.24285803735256195, 0.01674484834074974, 0.0, 0.0, 0.0, 0.0, 0.0, 0.0, 0.0, 0.0, 0.0], [0.8823055028915405, 0.012909059412777424, 0.012926675379276276, 0.0033492662478238344, 0.0035988357849419117, 0.06367988884449005, 0.009996114298701286, 0.011234662495553493, 0.0, 0.0, 0.0, 0.0, 0.0, 0.0, 0.0, 0.0], [0.5015662312507629, 0.09000551700592041, 0.03380930423736572, 0.01124773919582367, 0.0035349794197827578, 0.32446950674057007, 0.019843995571136475, 0.011690235696732998, 0.0038325199857354164, 0.0, 0.0, 0.0, 0.0, 0.0, 0.0, 0.0], [0.8537425398826599, 0.022244490683078766, 0.008750500157475471, 0.010982482694089413, 0.0022625229321420193, 0.06944411247968674, 0.014624660834670067, 0.012799383141100407, 0.00320977414958179, 0.0019395556300878525, 0.0, 0.0, 0.0, 0.0, 0.0, 0.0], [0.8699491620063782, 0.03823086991906166, 0.005115164443850517, 0.005060799885541201, 0.001713879988528788, 0.05366227403283119, 0.011810841038823128, 0.008292139507830143, 0.0010496085742488503, 0.002826583106070757, 0.002288723597303033, 0.0, 0.0, 0.0, 0.0, 0.0], [0.46465179324150085, 0.11064358800649643, 0.035203903913497925, 0.008606410585343838, 0.001607821206562221, 0.3019275367259979, 0.040656354278326035, 0.015191471204161644, 0.005540990736335516, 0.003661419963464141, 0.0032956753857433796, 0.009013058617711067, 0.0, 0.0, 0.0, 0.0], [0.6839733123779297, 0.07868243008852005, 0.006430735345929861, 0.0031532265711575747, 0.000849548727273941, 0.15373817086219788, 0.014003309421241283, 0.004754285328090191, 0.0009653731831349432, 0.0027502982411533594, 0.002602109219878912, 0.003746024100109935, 0.04435127228498459, 0.0, 0.0, 0.0], [0.7278246283531189, 0.05278633534908295, 0.009234610013663769, 0.014332601800560951, 0.0013032355345785618, 0.1302897334098816, 0.016006682068109512, 0.007821371778845787, 0.0031192265450954437, 0.007460319437086582, 0.00400470569729805, 0.0050300732254981995, 0.01792958378791809, 0.0028568992856889963, 0.0, 0.0], [0.8573993444442749, 0.016446437686681747, 0.006486503407359123, 0.009401407092809677, 0.00156113738194108, 0.058606334030628204, 0.013041293248534203, 0.008543455973267555, 0.0022666645236313343, 0.0019716517999768257, 0.003278467571362853, 0.003254078095778823, 0.014381702058017254, 0.001970561221241951, 0.001391049474477768, 0.0], [0.22490979731082916, 0.10957007855176926, 0.03032298944890499, 0.008529668673872948, 0.0009519806480966508, 0.455961138010025, 0.04629359021782875, 0.008770785294473171, 0.0019209635211154819, 0.0036319501232355833, 0.002846955321729183, 0.011642979457974434, 0.08606325089931488, 0.003626985941082239, 0.0032929047010838985, 0.0016639827517792583]], [[1.0, 0.0, 0.0, 0.0, 0.0, 0.0, 0.0, 0.0, 0.0, 0.0, 0.0, 0.0, 0.0, 0.0, 0.0, 0.0], [0.9941389560699463, 0.005861060693860054, 0.0, 0.0, 0.0, 0.0, 0.0, 0.0, 0.0, 0.0, 0.0, 0.0, 0.0, 0.0, 0.0, 0.0], [0.9723156094551086, 0.012533307075500488, 0.015151054598391056, 0.0, 0.0, 0.0, 0.0, 0.0, 0.0, 0.0, 0.0, 0.0, 0.0, 0.0, 0.0, 0.0], [0.9836782813072205, 0.005572429858148098, 0.00566081702709198, 0.005088480655103922, 0.0, 0.0, 0.0, 0.0, 0.0, 0.0, 0.0, 0.0, 0.0, 0.0, 0.0, 0.0], [0.8875022530555725, 0.09868564456701279, 0.008050814270973206, 0.003567121224477887, 0.002194116823375225, 0.0, 0.0, 0.0, 0.0, 0.0, 0.0, 0.0, 0.0, 0.0, 0.0, 0.0], [0.9643558859825134, 0.008210035040974617, 0.00867017637938261, 0.0031836125999689102, 0.0015934277325868607, 0.013986805453896523, 0.0, 0.0, 0.0, 0.0, 0.0, 0.0, 0.0, 0.0, 0.0, 0.0], [0.6036179065704346, 0.2655118703842163, 0.00760071724653244, 0.01499395165592432, 0.0019925390370190144, 0.09926824271678925, 0.0070147584192454815, 0.0, 0.0, 0.0, 0.0, 0.0, 0.0, 0.0, 0.0, 0.0], [0.9042378067970276, 0.03460092842578888, 0.014573968946933746, 0.00838595349341631, 0.006154169328510761, 0.010912896133959293, 0.014818668365478516, 0.0063156490214169025, 0.0, 0.0, 0.0, 0.0, 0.0, 0.0, 0.0, 0.0], [0.557793915271759, 0.3329247534275055, 0.003769761649891734, 0.01988980732858181, 0.001559754484333098, 0.07467517256736755, 0.0012527459766715765, 0.005455235950648785, 0.002678940538316965, 0.0, 0.0, 0.0, 0.0, 0.0, 0.0, 0.0], [0.9455956816673279, 0.02012995257973671, 0.0033120319712907076, 0.01298599038273096, 0.0031356236431747675, 0.0028548133559525013, 0.004413988441228867, 0.002470999723300338, 0.0003520745667628944, 0.004748971201479435, 0.0, 0.0, 0.0, 0.0, 0.0, 0.0], [0.8838168382644653, 0.02933824434876442, 0.005463998299092054, 0.010640459135174751, 0.007242383435368538, 0.015375534072518349, 0.016677815467119217, 0.007469255477190018, 0.0017048894660547376, 0.013694364577531815, 0.00857615191489458, 0.0, 0.0, 0.0, 0.0, 0.0], [0.6382700204849243, 0.17810338735580444, 0.00625237450003624, 0.0032300588209182024, 0.0011966972379013896, 0.12776798009872437, 0.004751280881464481, 0.02729586698114872, 0.0012347552692517638, 0.004767477046698332, 0.0035324415657669306, 0.0035975805949419737, 0.0, 0.0, 0.0, 0.0], [0.8739647269248962, 0.021970899775624275, 0.00948130339384079, 0.004218520596623421, 0.002004037844017148, 0.026684559881687164, 0.00969144981354475, 0.005361638031899929, 0.0025071112904697657, 0.018645482137799263, 0.003926259931176901, 0.0037537028547376394, 0.01779034174978733, 0.0, 0.0, 0.0], [0.6594901084899902, 0.019344137981534004, 0.008881052024662495, 0.1068945825099945, 0.013767515309154987, 0.011326892301440239, 0.005038072355091572, 0.0057153161615133286, 0.003470329102128744, 0.14509283006191254, 0.011522275395691395, 0.0017467401921749115, 0.003448984818533063, 0.004261102993041277, 0.0, 0.0], [0.9091763496398926, 0.005397644825279713, 0.002465280005708337, 0.0126097546890378, 0.00306213041767478, 0.0028553383890539408, 0.0032751644030213356, 0.004520726390182972, 0.0006476458511315286, 0.004834724124521017, 0.04217090457677841, 0.001530942739918828, 0.00109534349758178, 0.001946082105860114, 0.004412043374031782, 0.0], [0.46007347106933594, 0.22024880349636078, 0.005210623145103455, 0.0019963691011071205, 0.0009000159916467965, 0.26277464628219604, 0.001014053006656468, 0.006568273529410362, 0.0006354628130793571, 0.0046628485433757305, 0.0005888762534596026, 0.0004895018064416945, 0.031467046588659286, 0.0005358132184483111, 0.0022520641796290874, 0.0005820982623845339]], [[1.0, 0.0, 0.0, 0.0, 0.0, 0.0, 0.0, 0.0, 0.0, 0.0, 0.0, 0.0, 0.0, 0.0, 0.0, 0.0], [0.9746315479278564, 0.02536841481924057, 0.0, 0.0, 0.0, 0.0, 0.0, 0.0, 0.0, 0.0, 0.0, 0.0, 0.0, 0.0, 0.0, 0.0], [0.9585061073303223, 0.026227755472064018, 0.015266060829162598, 0.0, 0.0, 0.0, 0.0, 0.0, 0.0, 0.0, 0.0, 0.0, 0.0, 0.0, 0.0, 0.0], [0.9387252926826477, 0.023706180974841118, 0.02139393612742424, 0.016174528747797012, 0.0, 0.0, 0.0, 0.0, 0.0, 0.0, 0.0, 0.0, 0.0, 0.0, 0.0, 0.0], [0.8586333990097046, 0.03903508186340332, 0.06919640302658081, 0.028650162741541862, 0.004484898876398802, 0.0, 0.0, 0.0, 0.0, 0.0, 0.0, 0.0, 0.0, 0.0, 0.0, 0.0], [0.8723270297050476, 0.026959512382745743, 0.031980667263269424, 0.00825361255556345, 0.008276429958641529, 0.052202872931957245, 0.0, 0.0, 0.0, 0.0, 0.0, 0.0, 0.0, 0.0, 0.0, 0.0], [0.6357196569442749, 0.08525718748569489, 0.05689006298780441, 0.028563492000102997, 0.005633872002363205, 0.15383432805538177, 0.034101471304893494, 0.0, 0.0, 0.0, 0.0, 0.0, 0.0, 0.0, 0.0, 0.0], [0.8818351030349731, 0.016043754294514656, 0.013951133005321026, 0.02690851129591465, 0.01690038852393627, 0.014053888618946075, 0.02246043272316456, 0.007846804335713387, 0.0, 0.0, 0.0, 0.0, 0.0, 0.0, 0.0, 0.0], [0.6130573749542236, 0.09454599022865295, 0.03741886094212532, 0.06005579233169556, 0.012622248381376266, 0.10228230804204941, 0.051182880997657776, 0.018770359456539154, 0.010064153000712395, 0.0, 0.0, 0.0, 0.0, 0.0, 0.0, 0.0], [0.825534999370575, 0.053357742726802826, 0.01680940017104149, 0.01606113091111183, 0.01018905732780695, 0.02672415040433407, 0.027553940191864967, 0.006573110818862915, 0.006180083379149437, 0.011016346514225006, 0.0, 0.0, 0.0, 0.0, 0.0, 0.0], [0.7915923595428467, 0.06382707506418228, 0.0251273512840271, 0.008295348845422268, 0.007157164625823498, 0.031081203371286392, 0.02798558957874775, 0.006446367595344782, 0.005404583178460598, 0.02656685747206211, 0.006516156252473593, 0.0, 0.0, 0.0, 0.0, 0.0], [0.601707935333252, 0.08501681685447693, 0.05404758080840111, 0.021319933235645294, 0.0017702655168250203, 0.14285239577293396, 0.03632993996143341, 0.013227416202425957, 0.005601015407592058, 0.01346502173691988, 0.013093232177197933, 0.011568420566618443, 0.0, 0.0, 0.0, 0.0], [0.7971711754798889, 0.011609566397964954, 0.018120842054486275, 0.015618118457496166, 0.0064763897098600864, 0.010591311380267143, 0.024436447769403458, 0.006227635778486729, 0.015261068008840084, 0.03481234237551689, 0.016084276139736176, 0.027114054188132286, 0.016476813703775406, 0.0, 0.0, 0.0], [0.7439467310905457, 0.007885328494012356, 0.004192617256194353, 0.03564295917749405, 0.013394576497375965, 0.011853829957544804, 0.023330241441726685, 0.005327409133315086, 0.011778827756643295, 0.06473569571971893, 0.02192884311079979, 0.0253538116812706, 0.018603622913360596, 0.01202551368623972, 0.0, 0.0], [0.8266708850860596, 0.011521197855472565, 0.0054745362140238285, 0.011805471032857895, 0.008826810866594315, 0.014803322963416576, 0.017338791862130165, 0.0035517080686986446, 0.005523914471268654, 0.013089334592223167, 0.0437144935131073, 0.013185503892600536, 0.015154382213950157, 0.006204401608556509, 0.0031351991929113865, 0.0], [0.7136097550392151, 0.03135346248745918, 0.01701221987605095, 0.010165112093091011, 0.0021476163528859615, 0.09365015476942062, 0.04526311531662941, 0.0030791207682341337, 0.003030834486708045, 0.010627987794578075, 0.008931792341172695, 0.024355590343475342, 0.022358089685440063, 0.006482641212642193, 0.003209468210116029, 0.004723058082163334]], [[1.0, 0.0, 0.0, 0.0, 0.0, 0.0, 0.0, 0.0, 0.0, 0.0, 0.0, 0.0, 0.0, 0.0, 0.0, 0.0], [0.9707561731338501, 0.02924383245408535, 0.0, 0.0, 0.0, 0.0, 0.0, 0.0, 0.0, 0.0, 0.0, 0.0, 0.0, 0.0, 0.0, 0.0], [0.9329837560653687, 0.015741797164082527, 0.05127450451254845, 0.0, 0.0, 0.0, 0.0, 0.0, 0.0, 0.0, 0.0, 0.0, 0.0, 0.0, 0.0, 0.0], [0.9487687349319458, 0.007657292298972607, 0.037430014461278915, 0.006143947131931782, 0.0, 0.0, 0.0, 0.0, 0.0, 0.0, 0.0, 0.0, 0.0, 0.0, 0.0, 0.0], [0.8853309750556946, 0.018889617174863815, 0.05096612870693207, 0.0237443745136261, 0.021068867295980453, 0.0, 0.0, 0.0, 0.0, 0.0, 0.0, 0.0, 0.0, 0.0, 0.0, 0.0], [0.9409188628196716, 0.010026386938989162, 0.014642920345067978, 0.006486077792942524, 0.007503333501517773, 0.02042231149971485, 0.0, 0.0, 0.0, 0.0, 0.0, 0.0, 0.0, 0.0, 0.0, 0.0], [0.8369097113609314, 0.030769305303692818, 0.03087855689227581, 0.01452203094959259, 0.011556724086403847, 0.05195712670683861, 0.023406527936458588, 0.0, 0.0, 0.0, 0.0, 0.0, 0.0, 0.0, 0.0, 0.0], [0.5158205628395081, 0.013778084889054298, 0.12708880007266998, 0.05804305523633957, 0.05112607404589653, 0.025357505306601524, 0.1806735247373581, 0.028112424537539482, 0.0, 0.0, 0.0, 0.0, 0.0, 0.0, 0.0, 0.0], [0.5519145727157593, 0.024317551404237747, 0.05868930369615555, 0.17361317574977875, 0.05279381573200226, 0.04392409697175026, 0.07068624347448349, 0.01081699039787054, 0.01324416697025299, 0.0, 0.0, 0.0, 0.0, 0.0, 0.0, 0.0], [0.6220126748085022, 0.005789821967482567, 0.021512988954782486, 0.059103913605213165, 0.12531273066997528, 0.019873110577464104, 0.11998096108436584, 0.004283006303012371, 0.00809131283313036, 0.014039467088878155, 0.0, 0.0, 0.0, 0.0, 0.0, 0.0], [0.8651430010795593, 0.016457322984933853, 0.030582094565033913, 0.005051375832408667, 0.012021838687360287, 0.013717998750507832, 0.014729942195117474, 0.008859996683895588, 0.007343345321714878, 0.014390603639185429, 0.011702531948685646, 0.0, 0.0, 0.0, 0.0, 0.0], [0.5260492563247681, 0.010899794287979603, 0.026017429307103157, 0.015070668421685696, 0.010182545520365238, 0.025239115580916405, 0.019680410623550415, 0.07882542163133621, 0.10830838233232498, 0.049491871148347855, 0.03907662257552147, 0.09115853905677795, 0.0, 0.0, 0.0, 0.0], [0.8097851276397705, 0.007930181920528412, 0.010521747171878815, 0.013819883577525616, 0.010093905963003635, 0.0177620816975832, 0.007696212735027075, 0.02327294461429119, 0.017832836136221886, 0.01795872300863266, 0.019643479958176613, 0.024862445890903473, 0.01882045529782772, 0.0, 0.0, 0.0], [0.30583515763282776, 0.004114047158509493, 0.015414523892104626, 0.07305583357810974, 0.04205804690718651, 0.0137821389362216, 0.023784274235367775, 0.01728314347565174, 0.04724482446908951, 0.287234902381897, 0.10025881230831146, 0.021034138277173042, 0.01125878281891346, 0.03764140605926514, 0.0, 0.0], [0.607909619808197, 0.0017361327772960067, 0.011364488862454891, 0.02233891189098358, 0.06282009929418564, 0.01865609548985958, 0.05621291697025299, 0.008184908889234066, 0.026830963790416718, 0.02533063106238842, 0.09252358973026276, 0.02256028726696968, 0.013001762330532074, 0.02053135447204113, 0.0099982600659132, 0.0], [0.664803147315979, 0.01723460480570793, 0.024689264595508575, 0.015715910121798515, 0.016389179974794388, 0.08618783950805664, 0.016625506803393364, 0.00590647803619504, 0.003012073924764991, 0.014593800529837608, 0.040585797280073166, 0.010075045749545097, 0.035567499697208405, 0.009853368625044823, 0.014437521807849407, 0.02432301640510559]], [[1.0, 0.0, 0.0, 0.0, 0.0, 0.0, 0.0, 0.0, 0.0, 0.0, 0.0, 0.0, 0.0, 0.0, 0.0, 0.0], [0.9988597631454468, 0.0011402568779885769, 0.0, 0.0, 0.0, 0.0, 0.0, 0.0, 0.0, 0.0, 0.0, 0.0, 0.0, 0.0, 0.0, 0.0], [0.995339035987854, 0.0006484491750597954, 0.0040125614032149315, 0.0, 0.0, 0.0, 0.0, 0.0, 0.0, 0.0, 0.0, 0.0, 0.0, 0.0, 0.0, 0.0], [0.9754629731178284, 0.0003531792026478797, 0.0005427137366496027, 0.0236411951482296, 0.0, 0.0, 0.0, 0.0, 0.0, 0.0, 0.0, 0.0, 0.0, 0.0, 0.0, 0.0], [0.7536506652832031, 0.0122701870277524, 0.0020335016306489706, 0.05455669015645981, 0.1774890124797821, 0.0, 0.0, 0.0, 0.0, 0.0, 0.0, 0.0, 0.0, 0.0, 0.0, 0.0], [0.9874635934829712, 0.0026612114161252975, 0.0013442834606394172, 0.001131092314608395, 0.003991865552961826, 0.0034079612232744694, 0.0, 0.0, 0.0, 0.0, 0.0, 0.0, 0.0, 0.0, 0.0, 0.0], [0.8695257902145386, 0.018021177500486374, 0.0008604151662439108, 0.004673217888921499, 0.0032029272988438606, 0.08958780765533447, 0.01412870828062296, 0.0, 0.0, 0.0, 0.0, 0.0, 0.0, 0.0, 0.0, 0.0], [0.9720457792282104, 0.001850321190431714, 0.0014260374009609222, 6.883887544972822e-05, 0.0006100506871007383, 0.0015366782899945974, 0.019666513428092003, 0.0027957726269960403, 0.0, 0.0, 0.0, 0.0, 0.0, 0.0, 0.0, 0.0], [0.9487431049346924, 0.001385705079883337, 0.0003771592164412141, 0.01943342201411724, 0.002417610026896, 0.0015929852379485965, 0.012914218939840794, 0.005056190770119429, 0.008079548366367817, 0.0, 0.0, 0.0, 0.0, 0.0, 0.0, 0.0], [0.9860332608222961, 0.0009898145217448473, 0.00018366622680332512, 0.002562981564551592, 0.006774696055799723, 0.0010056025348603725, 0.00040557043394073844, 0.00022340625582728535, 2.2881387849338353e-05, 0.001798054901883006, 0.0, 0.0, 0.0, 0.0, 0.0, 0.0], [0.9700286388397217, 0.002328072674572468, 2.5824578187894076e-05, 0.0003117398591712117, 0.010270960628986359, 0.003553180256858468, 0.0025265011936426163, 0.0009733816841617227, 9.574607975082472e-05, 0.004776382353156805, 0.0051094829104840755, 0.0, 0.0, 0.0, 0.0, 0.0], [0.669982373714447, 0.032407909631729126, 0.0006097137811593711, 0.0016683755675330758, 0.005666182842105627, 0.12331897765398026, 0.0038731954991817474, 0.11606492847204208, 0.0019374580588191748, 0.011950118467211723, 0.016960211098194122, 0.01556052640080452, 0.0, 0.0, 0.0, 0.0], [0.7682932615280151, 0.012395953759551048, 0.0015142658958211541, 0.0009361167321912944, 0.005824827589094639, 0.00708665931597352, 0.13956612348556519, 0.014942662790417671, 0.004286516923457384, 0.02665908820927143, 0.001292749191634357, 0.0055812085047364235, 0.011620639823377132, 0.0, 0.0, 0.0], [0.599842369556427, 0.0009560196194797754, 0.0005745105445384979, 0.07165757566690445, 0.004559616558253765, 0.001756448531523347, 0.033956024795770645, 0.0023069169837981462, 0.00021268829004839063, 0.2182328701019287, 0.03168248385190964, 0.030475126579403877, 0.0013877778546884656, 0.002399685326963663, 0.0, 0.0], [0.27102547883987427, 0.0005454279016703367, 0.0006893634563311934, 0.005233010742813349, 0.018993675708770752, 0.00040735266520641744, 0.0009570791735313833, 0.00013958332419861108, 1.7393160305800848e-05, 0.0018109616357833147, 0.6805339455604553, 0.015533534809947014, 0.00011710115359164774, 0.0004591579781845212, 0.0035369929391890764, 0.0], [0.910698652267456, 0.008672096766531467, 0.001041735289618373, 0.00242575048469007, 0.0007660316186957061, 0.05106256157159805, 0.008400050923228264, 0.002499473048374057, 5.4365169489756227e-05, 0.002330236369743943, 0.000922312552575022, 0.006109049078077078, 0.001554899150505662, 0.0006568391690962017, 0.0017794538289308548, 0.0010264929151162505]], [[1.0, 0.0, 0.0, 0.0, 0.0, 0.0, 0.0, 0.0, 0.0, 0.0, 0.0, 0.0, 0.0, 0.0, 0.0, 0.0], [0.9985117316246033, 0.0014882500981912017, 0.0, 0.0, 0.0, 0.0, 0.0, 0.0, 0.0, 0.0, 0.0, 0.0, 0.0, 0.0, 0.0, 0.0], [0.989779531955719, 0.002237150678411126, 0.007983386516571045, 0.0, 0.0, 0.0, 0.0, 0.0, 0.0, 0.0, 0.0, 0.0, 0.0, 0.0, 0.0, 0.0], [0.9806879758834839, 0.0069986493326723576, 0.00643931096419692, 0.0058740293607115746, 0.0, 0.0, 0.0, 0.0, 0.0, 0.0, 0.0, 0.0, 0.0, 0.0, 0.0, 0.0], [0.9857466220855713, 0.0046063438057899475, 0.0028738982509821653, 0.005596223287284374, 0.0011768268886953592, 0.0, 0.0, 0.0, 0.0, 0.0, 0.0, 0.0, 0.0, 0.0, 0.0, 0.0], [0.9662182331085205, 0.001165823545306921, 0.010960407555103302, 0.002092336304485798, 0.004945229738950729, 0.014617960900068283, 0.0, 0.0, 0.0, 0.0, 0.0, 0.0, 0.0, 0.0, 0.0, 0.0], [0.9451833367347717, 0.005814370699226856, 0.011879666708409786, 0.002580380067229271, 0.007117429748177528, 0.020837845280766487, 0.006586866918951273, 0.0, 0.0, 0.0, 0.0, 0.0, 0.0, 0.0, 0.0, 0.0], [0.802748441696167, 0.004411879926919937, 0.07181111723184586, 0.010880324058234692, 0.024279683828353882, 0.048878904432058334, 0.02919333055615425, 0.00779638160020113, 0.0, 0.0, 0.0, 0.0, 0.0, 0.0, 0.0, 0.0], [0.8619536757469177, 0.0052564190700650215, 0.015908539295196533, 0.00895295012742281, 0.0038437210023403168, 0.07033849507570267, 0.015830468386411667, 0.002856781240552664, 0.015058958902955055, 0.0, 0.0, 0.0, 0.0, 0.0, 0.0, 0.0], [0.8568146824836731, 0.005144127644598484, 0.024342820048332214, 0.008480474352836609, 0.008199542760848999, 0.008326491340994835, 0.051314692944288254, 0.002695323433727026, 0.010038379579782486, 0.024643519893288612, 0.0, 0.0, 0.0, 0.0, 0.0, 0.0], [0.8262569308280945, 0.011650056578218937, 0.015242247842252254, 0.00481966370716691, 0.003785483306273818, 0.014261946082115173, 0.08228598535060883, 0.007563470862805843, 0.0012640983331948519, 0.006739262957125902, 0.026130860671401024, 0.0, 0.0, 0.0, 0.0, 0.0], [0.8773685693740845, 0.013331941328942776, 0.014758975245058537, 0.0014688848750665784, 0.003752622054889798, 0.013808321207761765, 0.01965809427201748, 0.029331998899579048, 0.0013863715576007962, 0.002013608580455184, 0.003995928913354874, 0.01912473328411579, 0.0, 0.0, 0.0, 0.0], [0.7389253973960876, 0.00229656626470387, 0.050822850316762924, 0.005783241242170334, 0.009276168420910835, 0.008062737993896008, 0.044723670929670334, 0.007813029922544956, 0.006053692661225796, 0.011364519596099854, 0.013746403157711029, 0.08666852116584778, 0.014463212341070175, 0.0, 0.0, 0.0], [0.7845109105110168, 0.006223510485142469, 0.01202831044793129, 0.051808763295412064, 0.006017972715198994, 0.03643930330872536, 0.02298075705766678, 0.00509937759488821, 0.0017127132741734385, 0.0139821358025074, 0.020231572911143303, 0.022748151794075966, 0.010452591814100742, 0.005763931665569544, 0.0, 0.0], [0.7126168012619019, 0.004136425908654928, 0.014038467779755592, 0.0154228825122118, 0.010382331907749176, 0.018464431166648865, 0.0770123302936554, 0.00774804363027215, 0.0018483861349523067, 0.008272219449281693, 0.025662444531917572, 0.0793626606464386, 0.008362091146409512, 0.007738850545138121, 0.008931683376431465, 0.0], [0.6990513801574707, 0.007429137360304594, 0.006747587118297815, 0.0070352694019675255, 0.0016625128919258714, 0.1620006114244461, 0.027783572673797607, 0.00831514410674572, 0.0018121949397027493, 0.011415530927479267, 0.007340059150010347, 0.022039949893951416, 0.027681132778525352, 0.0036125315818935633, 0.0032276595011353493, 0.0028458379674702883]], [[1.0, 0.0, 0.0, 0.0, 0.0, 0.0, 0.0, 0.0, 0.0, 0.0, 0.0, 0.0, 0.0, 0.0, 0.0, 0.0], [0.9907070994377136, 0.009292950853705406, 0.0, 0.0, 0.0, 0.0, 0.0, 0.0, 0.0, 0.0, 0.0, 0.0, 0.0, 0.0, 0.0, 0.0], [0.9570655822753906, 0.01559058390557766, 0.02734391577541828, 0.0, 0.0, 0.0, 0.0, 0.0, 0.0, 0.0, 0.0, 0.0, 0.0, 0.0, 0.0, 0.0], [0.8901487588882446, 0.03609022498130798, 0.04311756789684296, 0.030643494799733162, 0.0, 0.0, 0.0, 0.0, 0.0, 0.0, 0.0, 0.0, 0.0, 0.0, 0.0, 0.0], [0.7461887001991272, 0.0532953143119812, 0.09909089654684067, 0.05541298910975456, 0.04601204767823219, 0.0, 0.0, 0.0, 0.0, 0.0, 0.0, 0.0, 0.0, 0.0, 0.0, 0.0], [0.6060940623283386, 0.014241186901926994, 0.021023375913500786, 0.21413953602313995, 0.10026310384273529, 0.044238802045583725, 0.0, 0.0, 0.0, 0.0, 0.0, 0.0, 0.0, 0.0, 0.0, 0.0], [0.571057140827179, 0.060778047889471054, 0.13806551694869995, 0.07179021090269089, 0.029195986688137054, 0.07213807106018066, 0.056974977254867554, 0.0, 0.0, 0.0, 0.0, 0.0, 0.0, 0.0, 0.0, 0.0], [0.7218562364578247, 0.03812364861369133, 0.027707446366548538, 0.029139989987015724, 0.015382896177470684, 0.06491981446743011, 0.08116501569747925, 0.02170497179031372, 0.0, 0.0, 0.0, 0.0, 0.0, 0.0, 0.0, 0.0], [0.23725540935993195, 0.012744396924972534, 0.08926824480295181, 0.03974755108356476, 0.03349905088543892, 0.09471765905618668, 0.3415283262729645, 0.022877395153045654, 0.12836197018623352, 0.0, 0.0, 0.0, 0.0, 0.0, 0.0, 0.0], [0.5486230254173279, 0.008164811879396439, 0.027385031804442406, 0.012716468423604965, 0.01886293664574623, 0.0075049251317977905, 0.03642987459897995, 0.012036832980811596, 0.05987556651234627, 0.2684005796909332, 0.0, 0.0, 0.0, 0.0, 0.0, 0.0], [0.049675434827804565, 0.0025271340273320675, 0.012614934705197811, 0.01635688543319702, 0.006699717603623867, 0.014577365480363369, 0.01498329732567072, 0.015031867660582066, 0.014587013982236385, 0.8293678760528564, 0.02357848919928074, 0.0, 0.0, 0.0, 0.0, 0.0], [0.40585237741470337, 0.01729055494070053, 0.066364586353302, 0.025843285024166107, 0.008877215906977654, 0.014555619098246098, 0.08075723052024841, 0.011930218897759914, 0.017746426165103912, 0.09762760251760483, 0.0071824295446276665, 0.24597246944904327, 0.0, 0.0, 0.0, 0.0], [0.7848672270774841, 0.004648060537874699, 0.0034516588784754276, 0.006305673159658909, 0.00270895566791296, 0.0028953589498996735, 0.021354764699935913, 0.0017542835557833314, 0.0023406774271279573, 0.057521332055330276, 0.003993684891611338, 0.05908806994557381, 0.04907025769352913, 0.0, 0.0, 0.0], [0.5798953175544739, 0.0069266390055418015, 0.010936505161225796, 0.011106141842901707, 0.004449313506484032, 0.012037086300551891, 0.07488510757684708, 0.0026650037616491318, 0.00406236806884408, 0.05036480352282524, 0.0036985864862799644, 0.08100243657827377, 0.06917498260736465, 0.08879570662975311, 0.0, 0.0], [0.5453653335571289, 0.004385890904814005, 0.0068246773444116116, 0.0048851920291781425, 0.0032374318689107895, 0.0024283688981086016, 0.018774989992380142, 0.0013921165373176336, 0.0056073786690831184, 0.04538467898964882, 0.005997827742248774, 0.020911995321512222, 0.0349552296102047, 0.09366423636674881, 0.20618462562561035, 0.0], [0.4072023928165436, 0.005640736781060696, 0.018208393827080727, 0.006807580124586821, 0.005127216689288616, 0.01570809818804264, 0.12399331480264664, 0.0024763518013060093, 0.00608100276440382, 0.010217124596238136, 0.002464023418724537, 0.1251395046710968, 0.03945539891719818, 0.09725864976644516, 0.05817974731326103, 0.07604040950536728]], [[1.0, 0.0, 0.0, 0.0, 0.0, 0.0, 0.0, 0.0, 0.0, 0.0, 0.0, 0.0, 0.0, 0.0, 0.0, 0.0], [0.802676796913147, 0.19732320308685303, 0.0, 0.0, 0.0, 0.0, 0.0, 0.0, 0.0, 0.0, 0.0, 0.0, 0.0, 0.0, 0.0, 0.0], [0.4314326345920563, 0.53691166639328, 0.031655699014663696, 0.0, 0.0, 0.0, 0.0, 0.0, 0.0, 0.0, 0.0, 0.0, 0.0, 0.0, 0.0, 0.0], [0.2615988254547119, 0.19237443804740906, 0.5059371590614319, 0.04008962959051132, 0.0, 0.0, 0.0, 0.0, 0.0, 0.0, 0.0, 0.0, 0.0, 0.0, 0.0, 0.0], [0.4879503548145294, 0.13830360770225525, 0.2626757323741913, 0.08741691708564758, 0.023653320968151093, 0.0, 0.0, 0.0, 0.0, 0.0, 0.0, 0.0, 0.0, 0.0, 0.0, 0.0], [0.32827985286712646, 0.03547069802880287, 0.019336821511387825, 0.029515091329813004, 0.5267718434333801, 0.06062575429677963, 0.0, 0.0, 0.0, 0.0, 0.0, 0.0, 0.0, 0.0, 0.0, 0.0], [0.31839269399642944, 0.27292025089263916, 0.09589862823486328, 0.05685257911682129, 0.0628737062215805, 0.16412048041820526, 0.02894173562526703, 0.0, 0.0, 0.0, 0.0, 0.0, 0.0, 0.0, 0.0, 0.0], [0.6621130704879761, 0.058736175298690796, 0.06253975629806519, 0.0183089766651392, 0.008563565090298653, 0.136984184384346, 0.03244185820221901, 0.020312422886490822, 0.0, 0.0, 0.0, 0.0, 0.0, 0.0, 0.0, 0.0], [0.25084221363067627, 0.034903980791568756, 0.011219319887459278, 0.010441821068525314, 0.011419684626162052, 0.07098644971847534, 0.14765115082263947, 0.4225662648677826, 0.039969149976968765, 0.0, 0.0, 0.0, 0.0, 0.0, 0.0, 0.0], [0.11242767423391342, 0.04201584309339523, 0.020322507247328758, 0.004403118044137955, 0.016746168956160545, 0.04824124649167061, 0.08640073239803314, 0.37796083092689514, 0.2503221035003662, 0.041159696877002716, 0.0, 0.0, 0.0, 0.0, 0.0, 0.0], [0.45012569427490234, 0.016869788989424706, 0.012639638036489487, 0.008419652469456196, 0.0060709319077432156, 0.035940129309892654, 0.02678406611084938, 0.134760320186615, 0.09231840819120407, 0.17724525928497314, 0.03882613405585289, 0.0, 0.0, 0.0, 0.0, 0.0], [0.5287113189697266, 0.13912847638130188, 0.03745890036225319, 0.015680857002735138, 0.006571908947080374, 0.05586237460374832, 0.0202199574559927, 0.02754795365035534, 0.012885473668575287, 0.027432596310973167, 0.07719743251800537, 0.05130269378423691, 0.0, 0.0, 0.0, 0.0], [0.311077356338501, 0.003769101807847619, 0.002633628435432911, 0.0027595555875450373, 0.003036374459043145, 0.004646068438887596, 0.01748614013195038, 0.0018794825300574303, 0.007755543105304241, 0.024252239614725113, 0.06200180575251579, 0.5137256383895874, 0.04497705027461052, 0.0, 0.0, 0.0], [0.3401312828063965, 0.008552761748433113, 0.0012341089313849807, 0.0021660630591213703, 0.001194868003949523, 0.013896483927965164, 0.006668807007372379, 0.0048079038970172405, 0.0020614906679838896, 0.011704483069479465, 0.03026842139661312, 0.08136272430419922, 0.4322480261325836, 0.06370263546705246, 0.0, 0.0], [0.12168166041374207, 0.01259094849228859, 0.004950252827256918, 0.001179758459329605, 0.00045822252286598086, 0.012287172488868237, 0.011455092579126358, 0.011688954196870327, 0.014171806164085865, 0.005806901026517153, 0.013531150296330452, 0.05168827250599861, 0.48641669750213623, 0.2373090237379074, 0.014784104190766811, 0.0], [0.20522533357143402, 0.0016694980440661311, 0.001499211066402495, 0.0005063717253506184, 0.0001861954078776762, 0.002412523375824094, 0.005679155699908733, 0.005759111605584621, 0.008790734224021435, 0.05523435026407242, 0.003450258169323206, 0.03829898312687874, 0.18009382486343384, 0.1983310729265213, 0.28252115845680237, 0.010342288762331009]], [[1.0, 0.0, 0.0, 0.0, 0.0, 0.0, 0.0, 0.0, 0.0, 0.0, 0.0, 0.0, 0.0, 0.0, 0.0, 0.0], [0.981287956237793, 0.018712054938077927, 0.0, 0.0, 0.0, 0.0, 0.0, 0.0, 0.0, 0.0, 0.0, 0.0, 0.0, 0.0, 0.0, 0.0], [0.8889463543891907, 0.0269794762134552, 0.08407413214445114, 0.0, 0.0, 0.0, 0.0, 0.0, 0.0, 0.0, 0.0, 0.0, 0.0, 0.0, 0.0, 0.0], [0.9347538352012634, 0.008186928927898407, 0.03262166678905487, 0.024437623098492622, 0.0, 0.0, 0.0, 0.0, 0.0, 0.0, 0.0, 0.0, 0.0, 0.0, 0.0, 0.0], [0.38188570737838745, 0.04913073033094406, 0.4733648896217346, 0.07969941198825836, 0.015919318422675133, 0.0, 0.0, 0.0, 0.0, 0.0, 0.0, 0.0, 0.0, 0.0, 0.0, 0.0], [0.7910839319229126, 0.03657235577702522, 0.10845395177602768, 0.02769116684794426, 0.009863786399364471, 0.02633487991988659, 0.0, 0.0, 0.0, 0.0, 0.0, 0.0, 0.0, 0.0, 0.0, 0.0], [0.5792758464813232, 0.03200468048453331, 0.039421647787094116, 0.08906248211860657, 0.05168212577700615, 0.15949620306491852, 0.04905698075890541, 0.0, 0.0, 0.0, 0.0, 0.0, 0.0, 0.0, 0.0, 0.0], [0.5199386477470398, 0.019005117937922478, 0.031903766095638275, 0.14288116991519928, 0.15935848653316498, 0.01861409842967987, 0.10635346174240112, 0.0019453044515103102, 0.0, 0.0, 0.0, 0.0, 0.0, 0.0, 0.0, 0.0], [0.33238106966018677, 0.054221101105213165, 0.05144806206226349, 0.14918850362300873, 0.16655969619750977, 0.08123297244310379, 0.1586744785308838, 0.003155623795464635, 0.00313854543492198, 0.0, 0.0, 0.0, 0.0, 0.0, 0.0, 0.0], [0.5911018252372742, 0.026476524770259857, 0.016699306666851044, 0.06416292488574982, 0.14480973780155182, 0.025396790355443954, 0.07445754110813141, 0.019299063831567764, 0.008135242387652397, 0.029461052268743515, 0.0, 0.0, 0.0, 0.0, 0.0, 0.0], [0.5623108148574829, 0.04083399474620819, 0.0286259762942791, 0.028736574575304985, 0.03847362473607063, 0.06145518273115158, 0.06292703747749329, 0.007618574425578117, 0.006742679979652166, 0.1286008656024933, 0.03367474302649498, 0.0, 0.0, 0.0, 0.0, 0.0], [0.374240517616272, 0.01224255096167326, 0.010453327558934689, 0.00889538787305355, 0.007322676479816437, 0.04076334089040756, 0.009947073645889759, 0.3912014067173004, 0.05684647709131241, 0.03740741312503815, 0.034381940960884094, 0.016297893598675728, 0.0, 0.0, 0.0, 0.0], [0.46981707215309143, 0.007597302086651325, 0.01126654539257288, 0.02351285144686699, 0.012280425056815147, 0.009352508001029491, 0.026162074878811836, 0.11932268738746643, 0.04596718028187752, 0.03956182301044464, 0.049997467547655106, 0.16466370224952698, 0.020498430356383324, 0.0, 0.0, 0.0], [0.09885445982217789, 0.0015101408353075385, 0.0022768876515328884, 0.12012919038534164, 0.09885919094085693, 0.004346671514213085, 0.025797810405492783, 0.09419604390859604, 0.04486897960305214, 0.18550258874893188, 0.14455629885196686, 0.1632208228111267, 0.008507718332111835, 0.007373270113021135, 0.0, 0.0], [0.18807002902030945, 0.0039179977029562, 0.003292997134849429, 0.046354953199625015, 0.12503685057163239, 0.018232179805636406, 0.039504822343587875, 0.18787477910518646, 0.04997736215591431, 0.06366473436355591, 0.1638934463262558, 0.07719338685274124, 0.018291499465703964, 0.00392131507396698, 0.010773691348731518, 0.0], [0.39594313502311707, 0.029002400115132332, 0.021909648552536964, 0.0327318049967289, 0.012186693027615547, 0.042627010494470596, 0.08943651616573334, 0.03550579398870468, 0.02365066297352314, 0.04157751053571701, 0.014843787997961044, 0.1450885683298111, 0.04704306647181511, 0.03700718656182289, 0.020101724192500114, 0.011344550177454948]], [[1.0, 0.0, 0.0, 0.0, 0.0, 0.0, 0.0, 0.0, 0.0, 0.0, 0.0, 0.0, 0.0, 0.0, 0.0, 0.0], [0.9094212651252747, 0.09057871252298355, 0.0, 0.0, 0.0, 0.0, 0.0, 0.0, 0.0, 0.0, 0.0, 0.0, 0.0, 0.0, 0.0, 0.0], [0.8402169942855835, 0.08867081999778748, 0.07111215591430664, 0.0, 0.0, 0.0, 0.0, 0.0, 0.0, 0.0, 0.0, 0.0, 0.0, 0.0, 0.0, 0.0], [0.899522066116333, 0.025883937254548073, 0.049877066165208817, 0.024716900661587715, 0.0, 0.0, 0.0, 0.0, 0.0, 0.0, 0.0, 0.0, 0.0, 0.0, 0.0, 0.0], [0.9004924893379211, 0.057660896331071854, 0.024276498705148697, 0.013295452110469341, 0.0042746402323246, 0.0, 0.0, 0.0, 0.0, 0.0, 0.0, 0.0, 0.0, 0.0, 0.0, 0.0], [0.9232246279716492, 0.024433454498648643, 0.010168345645070076, 0.0016971885925158858, 0.002449086168780923, 0.03802723065018654, 0.0, 0.0, 0.0, 0.0, 0.0, 0.0, 0.0, 0.0, 0.0, 0.0], [0.7382960915565491, 0.15858161449432373, 0.011363892816007137, 0.006022231187671423, 0.0034861464519053698, 0.07530415803194046, 0.006945893168449402, 0.0, 0.0, 0.0, 0.0, 0.0, 0.0, 0.0, 0.0, 0.0], [0.8771591186523438, 0.02764107659459114, 0.01438756100833416, 0.008476045913994312, 0.014127766713500023, 0.03521060198545456, 0.014690750278532505, 0.008307023905217648, 0.0, 0.0, 0.0, 0.0, 0.0, 0.0, 0.0, 0.0], [0.7803381085395813, 0.0668698325753212, 0.014134363271296024, 0.014401416294276714, 0.008904751390218735, 0.0747760757803917, 0.01841857098042965, 0.014757071621716022, 0.007399783469736576, 0.0, 0.0, 0.0, 0.0, 0.0, 0.0, 0.0], [0.9058270454406738, 0.011728020384907722, 0.017301682382822037, 0.006351944524794817, 0.009804858826100826, 0.006033189594745636, 0.016241203993558884, 0.0033826346043497324, 0.004687224980443716, 0.018642179667949677, 0.0, 0.0, 0.0, 0.0, 0.0, 0.0], [0.7749688029289246, 0.09771604835987091, 0.015084960497915745, 0.005536525044590235, 0.005144227761775255, 0.009512682445347309, 0.002839503111317754, 0.011074785143136978, 0.0035414632875472307, 0.07123825699090958, 0.0033428240567445755, 0.0, 0.0, 0.0, 0.0, 0.0], [0.47290530800819397, 0.34916067123413086, 0.018174640834331512, 0.0020063864067196846, 0.0016195208299905062, 0.07084476947784424, 0.01156504638493061, 0.006330109667032957, 0.003314328845590353, 0.05342081934213638, 0.0015488862991333008, 0.00910954363644123, 0.0, 0.0, 0.0, 0.0], [0.7979604601860046, 0.03258238732814789, 0.004750166554003954, 0.0014866290148347616, 0.0011012415634468198, 0.0759543627500534, 0.009740452282130718, 0.003216190030798316, 0.001881463103927672, 0.01604064181447029, 0.0013922684593126178, 0.00586167024448514, 0.04803204908967018, 0.0, 0.0, 0.0], [0.5039986968040466, 0.009686753153800964, 0.009337639436125755, 0.016946809366345406, 0.006689136847853661, 0.009041642770171165, 0.010101048275828362, 0.008350950665771961, 0.0034250980243086815, 0.38855844736099243, 0.006234899163246155, 0.004506879486143589, 0.006395465694367886, 0.016726423054933548, 0.0, 0.0], [0.8821467757225037, 0.002690864959731698, 0.00623961491510272, 0.006446147803217173, 0.007573112845420837, 0.004533395171165466, 0.01400531642138958, 0.001667588483542204, 0.003613196313381195, 0.022408366203308105, 0.008625964634120464, 0.00291161285713315, 0.0025694994255900383, 0.007891624234616756, 0.026676978915929794, 0.0], [0.7817532420158386, 0.06652816385030746, 0.003730976488441229, 0.002055347664281726, 0.0014008270809426904, 0.08168685436248779, 0.009167442098259926, 0.0008072492782957852, 0.0002699865435715765, 0.012773307040333748, 0.0041890391148626804, 0.00229342607781291, 0.019830672070384026, 0.0014970775227993727, 0.011090594343841076, 0.0009257693309336901]], [[1.0, 0.0, 0.0, 0.0, 0.0, 0.0, 0.0, 0.0, 0.0, 0.0, 0.0, 0.0, 0.0, 0.0, 0.0, 0.0], [0.9995244741439819, 0.0004755164263769984, 0.0, 0.0, 0.0, 0.0, 0.0, 0.0, 0.0, 0.0, 0.0, 0.0, 0.0, 0.0, 0.0, 0.0], [0.9928620457649231, 0.00034580740612000227, 0.006792079191654921, 0.0, 0.0, 0.0, 0.0, 0.0, 0.0, 0.0, 0.0, 0.0, 0.0, 0.0, 0.0, 0.0], [0.9988008737564087, 6.866556941531599e-05, 0.00014717059093527496, 0.0009832406649366021, 0.0, 0.0, 0.0, 0.0, 0.0, 0.0, 0.0, 0.0, 0.0, 0.0, 0.0, 0.0], [0.9984908103942871, 0.0003215558535885066, 2.5397574063390493e-05, 0.00027999916346743703, 0.0008823050884529948, 0.0, 0.0, 0.0, 0.0, 0.0, 0.0, 0.0, 0.0, 0.0, 0.0, 0.0], [0.9949536323547363, 9.438607230549678e-05, 0.0011819161009043455, 5.489930845214985e-05, 0.0010101536754518747, 0.0027049786876887083, 0.0, 0.0, 0.0, 0.0, 0.0, 0.0, 0.0, 0.0, 0.0, 0.0], [0.9913052320480347, 0.0005422350950539112, 0.00012317782966420054, 0.00012318254448473454, 0.00012190726556582376, 0.0073196906596422195, 0.00046465540071949363, 0.0, 0.0, 0.0, 0.0, 0.0, 0.0, 0.0, 0.0, 0.0], [0.9971818923950195, 0.00017576702521182597, 0.00042481336276978254, 3.102196933468804e-05, 8.010944293346256e-05, 0.0005400253576226532, 0.0008337429608218372, 0.000732691609300673, 0.0, 0.0, 0.0, 0.0, 0.0, 0.0, 0.0, 0.0], [0.9974260330200195, 0.0003349279868416488, 1.943815550475847e-05, 0.0006119432509876788, 3.899998773704283e-06, 0.00020071059407200664, 4.632929994841106e-05, 0.00011195355182280764, 0.0012447773478925228, 0.0, 0.0, 0.0, 0.0, 0.0, 0.0, 0.0], [0.9981351494789124, 3.443999230512418e-05, 2.5186167476931587e-05, 0.0002841275418177247, 0.0003822426369879395, 5.9090249123983085e-05, 2.7453093935037032e-05, 3.3789165172493085e-05, 1.402137172590301e-06, 0.0010172254405915737, 0.0, 0.0, 0.0, 0.0, 0.0, 0.0], [0.9898011088371277, 0.0002625053166411817, 3.7959845940349624e-05, 4.4214662921149284e-05, 0.0013204589486122131, 0.0004823253257200122, 0.0001678628905210644, 5.6257809774251655e-05, 4.5196793507784605e-06, 5.37577252543997e-05, 0.007769059855490923, 0.0, 0.0, 0.0, 0.0, 0.0], [0.9773247838020325, 0.0023967945016920567, 0.00017028629372362047, 3.0387587685254402e-05, 0.00015491001249756664, 0.0024146020878106356, 6.680635124212131e-05, 0.01070492248982191, 0.00020398918422870338, 0.0010285363532602787, 0.0019050920382142067, 0.0035988162271678448, 0.0, 0.0, 0.0, 0.0], [0.9892656803131104, 0.00013802981993649155, 0.0013136231573298573, 8.423522376688197e-05, 0.0002679917379282415, 0.00022008245286997408, 0.004375842399895191, 0.0004993564216420054, 0.0006427761982195079, 0.0009721944807097316, 0.00020926448632963002, 0.0006467027124017477, 0.001364155556075275, 0.0, 0.0, 0.0], [0.9887564778327942, 0.000289533898467198, 2.3050997697282583e-05, 0.005461983848363161, 2.6538340534898452e-05, 0.00045993749517947435, 0.00015156807785388082, 0.00023571868950966746, 8.494291250826791e-06, 0.0031452239491045475, 0.0006613006698898971, 0.0002049116010311991, 0.00038013895391486585, 0.0001951014855876565, 0.0, 0.0], [0.8909100294113159, 0.0005231753457337618, 6.41761434962973e-05, 0.0025558145716786385, 0.0024404500145465136, 0.00025407198700122535, 5.955069718766026e-05, 0.00030155901913531125, 1.727029484754894e-06, 0.0006184876547195017, 0.09075047820806503, 0.0012523187324404716, 0.0005460071843117476, 0.00019758325652219355, 0.009524669498205185, 0.0], [0.980154275894165, 0.0005030760075896978, 4.150554013904184e-05, 6.472789391409606e-05, 8.296357555082068e-05, 0.016423435881733894, 0.00021519965957850218, 0.0001764346525305882, 7.242728770506801e-06, 4.997185169486329e-05, 9.578882600180805e-05, 0.0015097392024472356, 0.00026611684006638825, 5.923767821514048e-05, 0.00014999111590441316, 0.00020038233196828514]], [[1.0, 0.0, 0.0, 0.0, 0.0, 0.0, 0.0, 0.0, 0.0, 0.0, 0.0, 0.0, 0.0, 0.0, 0.0, 0.0], [0.9715033769607544, 0.028496654704213142, 0.0, 0.0, 0.0, 0.0, 0.0, 0.0, 0.0, 0.0, 0.0, 0.0, 0.0, 0.0, 0.0, 0.0], [0.8859105706214905, 0.06444104015827179, 0.04964849352836609, 0.0, 0.0, 0.0, 0.0, 0.0, 0.0, 0.0, 0.0, 0.0, 0.0, 0.0, 0.0, 0.0], [0.8554413914680481, 0.015117541886866093, 0.05818198621273041, 0.07125900685787201, 0.0, 0.0, 0.0, 0.0, 0.0, 0.0, 0.0, 0.0, 0.0, 0.0, 0.0, 0.0], [0.897108256816864, 0.020266536623239517, 0.0294581837952137, 0.040715962648391724, 0.012451139278709888, 0.0, 0.0, 0.0, 0.0, 0.0, 0.0, 0.0, 0.0, 0.0, 0.0, 0.0], [0.845628023147583, 0.007079869043081999, 0.04870041087269783, 0.01571049913764, 0.017353279516100883, 0.06552793830633163, 0.0, 0.0, 0.0, 0.0, 0.0, 0.0, 0.0, 0.0, 0.0, 0.0], [0.9032956957817078, 0.00963681098073721, 0.03354747220873833, 0.011861159466207027, 0.00783512182533741, 0.007693151477724314, 0.026130681857466698, 0.0, 0.0, 0.0, 0.0, 0.0, 0.0, 0.0, 0.0, 0.0], [0.8089555501937866, 0.020583579316735268, 0.03386807069182396, 0.015047246590256691, 0.006258843466639519, 0.025769216939806938, 0.06712538748979568, 0.022392023354768753, 0.0, 0.0, 0.0, 0.0, 0.0, 0.0, 0.0, 0.0], [0.7054060101509094, 0.028929155319929123, 0.023022787645459175, 0.009799123741686344, 0.008129734545946121, 0.050051022320985794, 0.13345684111118317, 0.029514653608202934, 0.011690626852214336, 0.0, 0.0, 0.0, 0.0, 0.0, 0.0, 0.0], [0.6310902833938599, 0.020923946052789688, 0.04168388992547989, 0.021293314173817635, 0.052006546407938004, 0.027029983699321747, 0.08311258256435394, 0.05362299084663391, 0.040707290172576904, 0.02852931059896946, 0.0, 0.0, 0.0, 0.0, 0.0, 0.0], [0.530543327331543, 0.009523998014628887, 0.017493203282356262, 0.017818298190832138, 0.030131405219435692, 0.009091475047171116, 0.07285059988498688, 0.0232792180031538, 0.036795567721128464, 0.21880307793617249, 0.033669788390398026, 0.0, 0.0, 0.0, 0.0, 0.0], [0.5675057172775269, 0.006801354233175516, 0.016938216984272003, 0.003734682919457555, 0.006426224485039711, 0.011917339637875557, 0.07265154272317886, 0.16682490706443787, 0.06212778761982918, 0.01927725225687027, 0.015073558315634727, 0.05072151869535446, 0.0, 0.0, 0.0, 0.0], [0.30374813079833984, 0.0029340742621570826, 0.008227233774960041, 0.01052676048129797, 0.015347042120993137, 0.014468044973909855, 0.043631184846162796, 0.1749446988105774, 0.1566629260778427, 0.11804918199777603, 0.04251799359917641, 0.10438966006040573, 0.004553111735731363, 0.0, 0.0, 0.0], [0.3437204658985138, 0.009375698864459991, 0.003266343381255865, 0.025626512244343758, 0.0430416464805603, 0.02883944660425186, 0.03270835429430008, 0.0926576554775238, 0.041792452335357666, 0.11604607105255127, 0.08024108409881592, 0.14385370910167694, 0.022197619080543518, 0.01663300022482872, 0.0, 0.0], [0.32568198442459106, 0.004383097402751446, 0.00670942896977067, 0.031272824853658676, 0.05609406530857086, 0.007524716202169657, 0.048917289823293686, 0.07671716064214706, 0.04444786161184311, 0.04422629624605179, 0.09452111274003983, 0.20819172263145447, 0.010388807393610477, 0.021060984581708908, 0.019862685352563858, 0.0], [0.5535507798194885, 0.01330440305173397, 0.009662959724664688, 0.03486722335219383, 0.010041208006441593, 0.009052065201103687, 0.057088956236839294, 0.012627038173377514, 0.012211475521326065, 0.027079470455646515, 0.06930753588676453, 0.07190635055303574, 0.017607541754841805, 0.03679345175623894, 0.030836252495646477, 0.03406332805752754]], [[1.0, 0.0, 0.0, 0.0, 0.0, 0.0, 0.0, 0.0, 0.0, 0.0, 0.0, 0.0, 0.0, 0.0, 0.0, 0.0], [0.9645783305168152, 0.03542165458202362, 0.0, 0.0, 0.0, 0.0, 0.0, 0.0, 0.0, 0.0, 0.0, 0.0, 0.0, 0.0, 0.0, 0.0], [0.7595338225364685, 0.10183942317962646, 0.13862673938274384, 0.0, 0.0, 0.0, 0.0, 0.0, 0.0, 0.0, 0.0, 0.0, 0.0, 0.0, 0.0, 0.0], [0.8818788528442383, 0.030781088396906853, 0.0485607348382473, 0.038779404014348984, 0.0, 0.0, 0.0, 0.0, 0.0, 0.0, 0.0, 0.0, 0.0, 0.0, 0.0, 0.0], [0.651512861251831, 0.10064450651407242, 0.03792940080165863, 0.05711126700043678, 0.15280194580554962, 0.0, 0.0, 0.0, 0.0, 0.0, 0.0, 0.0, 0.0, 0.0, 0.0, 0.0], [0.5860310196876526, 0.049506694078445435, 0.026528794318437576, 0.04550828039646149, 0.15331019461154938, 0.13911502063274384, 0.0, 0.0, 0.0, 0.0, 0.0, 0.0, 0.0, 0.0, 0.0, 0.0], [0.4774080812931061, 0.0598706416785717, 0.016145484521985054, 0.0376141332089901, 0.08423817902803421, 0.04570057988166809, 0.2790229022502899, 0.0, 0.0, 0.0, 0.0, 0.0, 0.0, 0.0, 0.0, 0.0], [0.5342167019844055, 0.025494283065199852, 0.06781433522701263, 0.1472480744123459, 0.052784886211156845, 0.0343686081469059, 0.10763578861951828, 0.030437365174293518, 0.0, 0.0, 0.0, 0.0, 0.0, 0.0, 0.0, 0.0], [0.4363415241241455, 0.03542215749621391, 0.029034709557890892, 0.05708329379558563, 0.08595430850982666, 0.03751816973090172, 0.23678427934646606, 0.05332855135202408, 0.028533050790429115, 0.0, 0.0, 0.0, 0.0, 0.0, 0.0, 0.0], [0.44925135374069214, 0.04662201553583145, 0.03421114757657051, 0.055804669857025146, 0.0704081803560257, 0.02166048437356949, 0.23607665300369263, 0.03579382970929146, 0.028954384848475456, 0.02121727354824543, 0.0, 0.0, 0.0, 0.0, 0.0, 0.0], [0.29962989687919617, 0.08175232261419296, 0.01595424860715866, 0.016403481364250183, 0.07118717581033707, 0.05907759815454483, 0.332177996635437, 0.020819643512368202, 0.02965863235294819, 0.04816201329231262, 0.0251770056784153, 0.0, 0.0, 0.0, 0.0, 0.0], [0.22162148356437683, 0.05198030546307564, 0.010572455823421478, 0.026419730857014656, 0.07648441195487976, 0.03275373950600624, 0.347699910402298, 0.009808112867176533, 0.007099211681634188, 0.06875015050172806, 0.030089840292930603, 0.11672065407037735, 0.0, 0.0, 0.0, 0.0], [0.22883643209934235, 0.033609431236982346, 0.01525856927037239, 0.04293264076113701, 0.03245612233877182, 0.04860489442944527, 0.17676475644111633, 0.010587933473289013, 0.0210601594299078, 0.16689082980155945, 0.06714911013841629, 0.12592469155788422, 0.029924428090453148, 0.0, 0.0, 0.0], [0.3437527120113373, 0.03509712964296341, 0.02529224194586277, 0.06113734096288681, 0.04272247105836868, 0.04081819951534271, 0.14787110686302185, 0.03971898928284645, 0.01133902557194233, 0.05792050436139107, 0.0713779404759407, 0.07954546809196472, 0.02735607884824276, 0.016050880774855614, 0.0, 0.0], [0.44734394550323486, 0.03703997656702995, 0.03092425875365734, 0.053441233932971954, 0.02768774703145027, 0.028265979140996933, 0.14888806641101837, 0.023911215364933014, 0.017853591591119766, 0.02042112685739994, 0.054666388779878616, 0.06333840638399124, 0.016699137166142464, 0.016365524381399155, 0.013153412379324436, 0.0], [0.5366618037223816, 0.031115487217903137, 0.007884137332439423, 0.013872030191123486, 0.034772831946611404, 0.023736480623483658, 0.1465846449136734, 0.0068935854360461235, 0.0067792474292218685, 0.038444921374320984, 0.02650551311671734, 0.06284233182668686, 0.006162379868328571, 0.0059614041820168495, 0.01676253415644169, 0.035020630806684494]], [[1.0, 0.0, 0.0, 0.0, 0.0, 0.0, 0.0, 0.0, 0.0, 0.0, 0.0, 0.0, 0.0, 0.0, 0.0, 0.0], [0.955049455165863, 0.044950585812330246, 0.0, 0.0, 0.0, 0.0, 0.0, 0.0, 0.0, 0.0, 0.0, 0.0, 0.0, 0.0, 0.0, 0.0], [0.7710001468658447, 0.115379698574543, 0.11362017691135406, 0.0, 0.0, 0.0, 0.0, 0.0, 0.0, 0.0, 0.0, 0.0, 0.0, 0.0, 0.0, 0.0], [0.8126201033592224, 0.022215254604816437, 0.06284895539283752, 0.10231577605009079, 0.0, 0.0, 0.0, 0.0, 0.0, 0.0, 0.0, 0.0, 0.0, 0.0, 0.0, 0.0], [0.4946686625480652, 0.07081472128629684, 0.0829501748085022, 0.33331623673439026, 0.018250184133648872, 0.0, 0.0, 0.0, 0.0, 0.0, 0.0, 0.0, 0.0, 0.0, 0.0, 0.0], [0.6362763047218323, 0.039297059178352356, 0.11948429048061371, 0.054652076214551926, 0.017767054960131645, 0.1325232833623886, 0.0, 0.0, 0.0, 0.0, 0.0, 0.0, 0.0, 0.0, 0.0, 0.0], [0.3889912962913513, 0.11799712479114532, 0.06285449862480164, 0.06387114524841309, 0.01888265833258629, 0.15942229330539703, 0.18798108398914337, 0.0, 0.0, 0.0, 0.0, 0.0, 0.0, 0.0, 0.0, 0.0], [0.5364648103713989, 0.02833075448870659, 0.036331985145807266, 0.026379114016890526, 0.012317942455410957, 0.03326811268925667, 0.253301203250885, 0.07360612601041794, 0.0, 0.0, 0.0, 0.0, 0.0, 0.0, 0.0, 0.0], [0.4081384837627411, 0.019671659916639328, 0.02277989313006401, 0.027798563241958618, 0.010326474905014038, 0.05394440144300461, 0.282725065946579, 0.09224443882703781, 0.0823710635304451, 0.0, 0.0, 0.0, 0.0, 0.0, 0.0, 0.0], [0.7023749947547913, 0.022038280963897705, 0.028888151049613953, 0.020911680534482002, 0.015601759776473045, 0.024152887985110283, 0.11366266012191772, 0.01725047081708908, 0.017024509608745575, 0.038094520568847656, 0.0, 0.0, 0.0, 0.0, 0.0, 0.0], [0.5558130145072937, 0.015883641317486763, 0.042163457721471786, 0.017552124336361885, 0.012445959262549877, 0.02456730790436268, 0.17275451123714447, 0.05414840206503868, 0.03297773748636246, 0.024171724915504456, 0.04752200469374657, 0.0, 0.0, 0.0, 0.0, 0.0], [0.222431480884552, 0.046993453055620193, 0.039464354515075684, 0.0491071492433548, 0.008825191296637058, 0.09968394786119461, 0.20911963284015656, 0.044665995985269547, 0.04916904494166374, 0.047931790351867676, 0.07423720508813858, 0.10837086290121078, 0.0, 0.0, 0.0, 0.0], [0.43338605761528015, 0.017186325043439865, 0.03132295235991478, 0.031222715973854065, 0.011747616343200207, 0.0453420914709568, 0.21805480122566223, 0.014540609903633595, 0.026525750756263733, 0.025869866833090782, 0.032162267714738846, 0.09761788696050644, 0.015021049417555332, 0.0, 0.0, 0.0], [0.4699868857860565, 0.020492248237133026, 0.019523311406373978, 0.05880114436149597, 0.015464910306036472, 0.07377096265554428, 0.14872542023658752, 0.021053766831755638, 0.018187005072832108, 0.027037639170885086, 0.040847279131412506, 0.028036510571837425, 0.02261241525411606, 0.03546053171157837, 0.0, 0.0], [0.6185209155082703, 0.026937028393149376, 0.024482306092977524, 0.02068757824599743, 0.022454150021076202, 0.027924861758947372, 0.07290850579738617, 0.0071125091053545475, 0.005088503472507, 0.026528894901275635, 0.06339115649461746, 0.016543932259082794, 0.012361230328679085, 0.02819434180855751, 0.026864122599363327, 0.0], [0.13183604180812836, 0.021027814596891403, 0.041695136576890945, 0.08522273600101471, 0.011553940363228321, 0.07537547498941422, 0.2706165909767151, 0.02624153159558773, 0.022207843139767647, 0.07014346122741699, 0.04543906822800636, 0.06153702735900879, 0.04093852639198303, 0.04393048584461212, 0.032742712646722794, 0.01949167437851429]], [[1.0, 0.0, 0.0, 0.0, 0.0, 0.0, 0.0, 0.0, 0.0, 0.0, 0.0, 0.0, 0.0, 0.0, 0.0, 0.0], [0.9968754649162292, 0.0031245658174157143, 0.0, 0.0, 0.0, 0.0, 0.0, 0.0, 0.0, 0.0, 0.0, 0.0, 0.0, 0.0, 0.0, 0.0], [0.9789247512817383, 0.006726674269884825, 0.01434852834790945, 0.0, 0.0, 0.0, 0.0, 0.0, 0.0, 0.0, 0.0, 0.0, 0.0, 0.0, 0.0, 0.0], [0.9363275766372681, 0.010155043564736843, 0.0217093825340271, 0.03180798515677452, 0.0, 0.0, 0.0, 0.0, 0.0, 0.0, 0.0, 0.0, 0.0, 0.0, 0.0, 0.0], [0.7701030373573303, 0.030713459476828575, 0.14195466041564941, 0.04689342528581619, 0.01033547893166542, 0.0, 0.0, 0.0, 0.0, 0.0, 0.0, 0.0, 0.0, 0.0, 0.0, 0.0], [0.8934470415115356, 0.004848199430853128, 0.06228017807006836, 0.016095269471406937, 0.008266974240541458, 0.015062366612255573, 0.0, 0.0, 0.0, 0.0, 0.0, 0.0, 0.0, 0.0, 0.0, 0.0], [0.45154207944869995, 0.06628990918397903, 0.1784597784280777, 0.07287857681512833, 0.031412217766046524, 0.050866980105638504, 0.14855042099952698, 0.0, 0.0, 0.0, 0.0, 0.0, 0.0, 0.0, 0.0, 0.0], [0.5714728236198425, 0.04903220757842064, 0.07807459682226181, 0.05308810994029045, 0.08247971534729004, 0.022457923740148544, 0.09573883563280106, 0.04765583202242851, 0.0, 0.0, 0.0, 0.0, 0.0, 0.0, 0.0, 0.0], [0.38859832286834717, 0.08541165292263031, 0.1664438396692276, 0.09960552304983139, 0.09120956808328629, 0.01348539162427187, 0.13295333087444305, 0.013435914181172848, 0.008856444619596004, 0.0, 0.0, 0.0, 0.0, 0.0, 0.0, 0.0], [0.5297870635986328, 0.09730616211891174, 0.11554665118455887, 0.029989158734679222, 0.01730150729417801, 0.011083555407822132, 0.18029703199863434, 0.004690894391387701, 0.0027550100348889828, 0.011242927052080631, 0.0, 0.0, 0.0, 0.0, 0.0, 0.0], [0.6478442549705505, 0.032004617154598236, 0.05201922729611397, 0.0224605742841959, 0.010017981752753258, 0.0287476759403944, 0.1400529444217682, 0.011778179556131363, 0.005874346476048231, 0.020558824762701988, 0.028641311451792717, 0.0, 0.0, 0.0, 0.0, 0.0], [0.4589335322380066, 0.0810292586684227, 0.13897475600242615, 0.02210072986781597, 0.010952994227409363, 0.03901474177837372, 0.09377461671829224, 0.026476174592971802, 0.023531129583716393, 0.027775393798947334, 0.016712944954633713, 0.06072372570633888, 0.0, 0.0, 0.0, 0.0], [0.6995195150375366, 0.005772321484982967, 0.046273935586214066, 0.021038316190242767, 0.019156746566295624, 0.007371884770691395, 0.03788025304675102, 0.020788241177797318, 0.039339084178209305, 0.034329235553741455, 0.015884770080447197, 0.045031312853097916, 0.007614379748702049, 0.0, 0.0, 0.0], [0.5305807590484619, 0.006752267945557833, 0.009407363831996918, 0.031635332852602005, 0.09294290095567703, 0.0024026818573474884, 0.03255471587181091, 0.0062158661894500256, 0.008614467456936836, 0.06768322736024857, 0.052281830459833145, 0.1507185995578766, 0.0023632291704416275, 0.005846789572387934, 0.0, 0.0], [0.6611543893814087, 0.020021742209792137, 0.025856060907244682, 0.008392943069338799, 0.008439977653324604, 0.004881424363702536, 0.10948769748210907, 0.003320433432236314, 0.002918386599048972, 0.004807078279554844, 0.03449810668826103, 0.09747812151908875, 0.0033206441439688206, 0.0075251259841024876, 0.007897759787738323, 0.0], [0.5995343923568726, 0.03995448350906372, 0.05816349759697914, 0.010139934718608856, 0.004231191240251064, 0.060608088970184326, 0.12489419430494308, 0.002331646392121911, 0.0010133621981367469, 0.00886071752756834, 0.018259964883327484, 0.0238686203956604, 0.016645783558487892, 0.005872612819075584, 0.016520747914910316, 0.009100827388465405]]], \"attentionHeadNames\": [\"L10H2\", \"L9H8\", \"L9H6\", \"L8H11\", \"L9H2\", \"L7H10\", \"L9H11\", \"L10H9\", \"L6H0\", \"L8H8\", \"L9H0\", \"L7H2\", \"L7H5\", \"L11H3\", \"L8H2\", \"L8H3\"], \"tokens\": [\"<|endoftext|>\", \" Mary\", \" was\", \" older\", \" than\", \" John\", \".\", \" Who\", \" was\", \" born\", \" first\", \"?\", \" John\", \" was\", \" born\", \" before\"]}\n",
       "    )\n",
       "    </script>"
      ],
      "text/plain": [
       "<IPython.core.display.HTML object>"
      ]
     },
     "execution_count": 46,
     "metadata": {},
     "output_type": "execute_result"
    }
   ],
   "source": [
    "corrupted_per_head_logit_diffs = calculate_head_contribution(corrupted_cache)\n",
    "corrupted_heads = torch.topk(corrupted_per_head_logit_diffs.flatten(), k=16).indices\n",
    "HTML(visualize_attention_patterns(corrupted_heads, corrupted_cache, corrupted_prompts))"
   ]
  },
  {
   "cell_type": "code",
   "execution_count": 30,
   "metadata": {},
   "outputs": [
    {
     "data": {
      "text/html": [
       "<div id=\"circuits-vis-8d8584b5-3571\" style=\"margin: 15px 0;\"/>\n",
       "    <script crossorigin type=\"module\">\n",
       "    import { render, AttentionHeads } from \"https://unpkg.com/circuitsvis@1.43.2/dist/cdn/esm.js\";\n",
       "    render(\n",
       "      \"circuits-vis-8d8584b5-3571\",\n",
       "      AttentionHeads,\n",
       "      {\"attention\": [[[1.0, 0.0, 0.0, 0.0, 0.0, 0.0, 0.0, 0.0, 0.0, 0.0, 0.0, 0.0, 0.0, 0.0, 0.0, 0.0], [0.9929336309432983, 0.007066430989652872, 0.0, 0.0, 0.0, 0.0, 0.0, 0.0, 0.0, 0.0, 0.0, 0.0, 0.0, 0.0, 0.0, 0.0], [0.9128903746604919, 0.013808413408696651, 0.07330124080181122, 0.0, 0.0, 0.0, 0.0, 0.0, 0.0, 0.0, 0.0, 0.0, 0.0, 0.0, 0.0, 0.0], [0.9320987462997437, 0.004380936734378338, 0.040449775755405426, 0.0230705626308918, 0.0, 0.0, 0.0, 0.0, 0.0, 0.0, 0.0, 0.0, 0.0, 0.0, 0.0, 0.0], [0.6636688113212585, 0.24475054442882538, 0.04851224273443222, 0.02099127508699894, 0.022077197209000587, 0.0, 0.0, 0.0, 0.0, 0.0, 0.0, 0.0, 0.0, 0.0, 0.0, 0.0], [0.8246656060218811, 0.016045982018113136, 0.06486963480710983, 0.0036425336729735136, 0.022960994392633438, 0.06781529635190964, 0.0, 0.0, 0.0, 0.0, 0.0, 0.0, 0.0, 0.0, 0.0, 0.0], [0.314946711063385, 0.3502410352230072, 0.04201499745249748, 0.004610298667103052, 0.013076103292405605, 0.23122261464595795, 0.04388829693198204, 0.0, 0.0, 0.0, 0.0, 0.0, 0.0, 0.0, 0.0, 0.0], [0.8598313331604004, 0.008761362172663212, 0.05195232480764389, 0.01718844473361969, 0.017113788053393364, 0.01271823700517416, 0.016910474747419357, 0.01552407443523407, 0.0, 0.0, 0.0, 0.0, 0.0, 0.0, 0.0, 0.0], [0.11236009001731873, 0.5285813212394714, 0.05417996272444725, 0.020715754479169846, 0.009716742672026157, 0.22344611585140228, 0.02871157042682171, 0.006222521886229515, 0.016065938398241997, 0.0, 0.0, 0.0, 0.0, 0.0, 0.0, 0.0], [0.6568005681037903, 0.03662342578172684, 0.053249653428792953, 0.02392323687672615, 0.028606299310922623, 0.02211812697350979, 0.031522881239652634, 0.00832785852253437, 0.014173677191138268, 0.12465425580739975, 0.0, 0.0, 0.0, 0.0, 0.0, 0.0], [0.6514496803283691, 0.050101470202207565, 0.06330053508281708, 0.007044823374599218, 0.01470224279910326, 0.08927173167467117, 0.04376978799700737, 0.009196646511554718, 0.011704408563673496, 0.05153539031744003, 0.007923245429992676, 0.0, 0.0, 0.0, 0.0, 0.0], [0.15370510518550873, 0.1971718817949295, 0.019504422321915627, 0.0015200345078483224, 0.003978308290243149, 0.5314099788665771, 0.021827541291713715, 0.028392987325787544, 0.006084093824028969, 0.004633630160242319, 0.003993751481175423, 0.02777828462421894, 0.0, 0.0, 0.0, 0.0], [0.3565309941768646, 0.02759658172726631, 0.07868393510580063, 0.0031893171835690737, 0.015318965539336205, 0.21090258657932281, 0.07187431305646896, 0.026044772937893867, 0.016676343977451324, 0.025630082935094833, 0.007483605295419693, 0.05714554712176323, 0.1029229611158371, 0.0, 0.0, 0.0], [0.10277237743139267, 0.005602276884019375, 0.016679951921105385, 0.13078808784484863, 0.0173381045460701, 0.009799601510167122, 0.017677485942840576, 0.006517477333545685, 0.005022561643272638, 0.5983520150184631, 0.054855749011039734, 0.010877713561058044, 0.0044680871069431305, 0.019248561933636665, 0.0, 0.0], [0.15298593044281006, 0.001142496825195849, 0.017688626423478127, 0.019055508077144623, 0.016162918880581856, 0.006560253910720348, 0.015380390919744968, 0.0056885890662670135, 0.00444843340665102, 0.049929045140743256, 0.6348698735237122, 0.014030322432518005, 0.0038194346707314253, 0.017679356038570404, 0.04055871069431305, 0.0], [0.10159740597009659, 0.16448673605918884, 0.018665993586182594, 0.0019086241954937577, 0.0029149875044822693, 0.4735202491283417, 0.03358547016978264, 0.002068200381472707, 0.0027041868306696415, 0.014451862312853336, 0.001570273656398058, 0.016148202121257782, 0.1422339528799057, 0.007056971546262503, 0.010949263349175453, 0.006137699354439974]], [[1.0, 0.0, 0.0, 0.0, 0.0, 0.0, 0.0, 0.0, 0.0, 0.0, 0.0, 0.0, 0.0, 0.0, 0.0, 0.0], [0.9953657388687134, 0.004634229466319084, 0.0, 0.0, 0.0, 0.0, 0.0, 0.0, 0.0, 0.0, 0.0, 0.0, 0.0, 0.0, 0.0, 0.0], [0.9826579689979553, 0.011342923156917095, 0.005999100394546986, 0.0, 0.0, 0.0, 0.0, 0.0, 0.0, 0.0, 0.0, 0.0, 0.0, 0.0, 0.0, 0.0], [0.9866937398910522, 0.005768829025328159, 0.0031715193763375282, 0.004365887958556414, 0.0, 0.0, 0.0, 0.0, 0.0, 0.0, 0.0, 0.0, 0.0, 0.0, 0.0, 0.0], [0.9375770688056946, 0.055037807673215866, 0.0032084262929856777, 0.001265713362954557, 0.0029110454488545656, 0.0, 0.0, 0.0, 0.0, 0.0, 0.0, 0.0, 0.0, 0.0, 0.0, 0.0], [0.9794352054595947, 0.0047141616232693195, 0.0037559319753199816, 0.0007321140146814287, 0.0012949941447004676, 0.01006754208356142, 0.0, 0.0, 0.0, 0.0, 0.0, 0.0, 0.0, 0.0, 0.0, 0.0], [0.6091271638870239, 0.18710488080978394, 0.005690651014447212, 0.005118721630424261, 0.0038959281519055367, 0.17638039588928223, 0.01268228329718113, 0.0, 0.0, 0.0, 0.0, 0.0, 0.0, 0.0, 0.0, 0.0], [0.9281483888626099, 0.02896548993885517, 0.005732238758355379, 0.0026467370335012674, 0.0018309797160327435, 0.016809463500976562, 0.004403254482895136, 0.011463447473943233, 0.0, 0.0, 0.0, 0.0, 0.0, 0.0, 0.0, 0.0], [0.34995245933532715, 0.46669432520866394, 0.001922907424159348, 0.01027247216552496, 0.0008611686062067747, 0.15018805861473083, 0.01008994597941637, 0.007791680749505758, 0.0022270141635090113, 0.0, 0.0, 0.0, 0.0, 0.0, 0.0, 0.0], [0.8489787578582764, 0.07903178036212921, 0.0022651778999716043, 0.01950133964419365, 0.006501050665974617, 0.02075950801372528, 0.011468679644167423, 0.0035931409802287817, 0.0004883023793809116, 0.007412159349769354, 0.0, 0.0, 0.0, 0.0, 0.0, 0.0], [0.8663124442100525, 0.02533886954188347, 0.0017438636859878898, 0.006188017316162586, 0.0054763383232057095, 0.04884150251746178, 0.02289143204689026, 0.006654729135334492, 0.0008894599741324782, 0.006896562874317169, 0.008766712620854378, 0.0, 0.0, 0.0, 0.0, 0.0], [0.6301968097686768, 0.1446765512228012, 0.003282874124124646, 0.00130832742433995, 0.0024519520811736584, 0.19051674008369446, 0.006537123583257198, 0.011944353580474854, 0.0009583421051502228, 0.0013627802254632115, 0.0012471966911107302, 0.005516992881894112, 0.0, 0.0, 0.0, 0.0], [0.8476981520652771, 0.03582834452390671, 0.007584158796817064, 0.002926057204604149, 0.002134790411219001, 0.03625589236617088, 0.021085994318127632, 0.004229990299791098, 0.0028569409623742104, 0.009175128303468227, 0.0006723064580000937, 0.010494796559214592, 0.019057312980294228, 0.0, 0.0, 0.0], [0.7472931742668152, 0.05580492690205574, 0.007761290296912193, 0.047951389104127884, 0.00511142797768116, 0.014327050186693668, 0.011030382476747036, 0.0037222711835056543, 0.0010814154520630836, 0.08722959458827972, 0.008802436292171478, 0.004499633330851793, 0.0038531231693923473, 0.0015318971127271652, 0.0, 0.0], [0.9456862807273865, 0.01247786171734333, 0.0009874614188447595, 0.003308806335553527, 0.002395271323621273, 0.005997131112962961, 0.0019110320135951042, 0.002498015994206071, 0.0002751183928921819, 0.004137126263231039, 0.014591868035495281, 0.0013449960388243198, 0.001961362548172474, 0.0003176890022587031, 0.0021100500598549843, 0.0], [0.32710251212120056, 0.36574801802635193, 0.006005248986184597, 0.0013456081505864859, 0.0013277633115649223, 0.1800272911787033, 0.011125913821160793, 0.007458037696778774, 0.0005619529983960092, 0.003592596622183919, 0.0012701525120064616, 0.007022652309387922, 0.08368591964244843, 0.00036048778565600514, 0.0016561427619308233, 0.0017096416559070349]], [[1.0, 0.0, 0.0, 0.0, 0.0, 0.0, 0.0, 0.0, 0.0, 0.0, 0.0, 0.0, 0.0, 0.0, 0.0, 0.0], [0.9382640719413757, 0.06173592060804367, 0.0, 0.0, 0.0, 0.0, 0.0, 0.0, 0.0, 0.0, 0.0, 0.0, 0.0, 0.0, 0.0, 0.0], [0.8875217437744141, 0.020847272127866745, 0.09163094311952591, 0.0, 0.0, 0.0, 0.0, 0.0, 0.0, 0.0, 0.0, 0.0, 0.0, 0.0, 0.0, 0.0], [0.9094895720481873, 0.009792937897145748, 0.049159493297338486, 0.031557951122522354, 0.0, 0.0, 0.0, 0.0, 0.0, 0.0, 0.0, 0.0, 0.0, 0.0, 0.0, 0.0], [0.43224403262138367, 0.3831550180912018, 0.06499011069536209, 0.026067251339554787, 0.0935436561703682, 0.0, 0.0, 0.0, 0.0, 0.0, 0.0, 0.0, 0.0, 0.0, 0.0, 0.0], [0.5872510075569153, 0.053941842168569565, 0.09612078219652176, 0.039702318608760834, 0.10168864578008652, 0.12129537761211395, 0.0, 0.0, 0.0, 0.0, 0.0, 0.0, 0.0, 0.0, 0.0, 0.0], [0.23501724004745483, 0.2471207231283188, 0.042407725006341934, 0.01029668003320694, 0.05285545811057091, 0.21751588582992554, 0.19478629529476166, 0.0, 0.0, 0.0, 0.0, 0.0, 0.0, 0.0, 0.0, 0.0], [0.6571336388587952, 0.0328637957572937, 0.07086032629013062, 0.034171316772699356, 0.06337634474039078, 0.016254136338829994, 0.08824733644723892, 0.037093084305524826, 0.0, 0.0, 0.0, 0.0, 0.0, 0.0, 0.0, 0.0], [0.15783299505710602, 0.4749239385128021, 0.03154854103922844, 0.009214425459504128, 0.044180046766996384, 0.13204345107078552, 0.11242271959781647, 0.008776812814176083, 0.029057035222649574, 0.0, 0.0, 0.0, 0.0, 0.0, 0.0, 0.0], [0.4779262840747833, 0.14414983987808228, 0.02476850338280201, 0.04017354175448418, 0.04401097446680069, 0.04005098715424538, 0.08917171508073807, 0.01740015484392643, 0.024998655542731285, 0.09734926372766495, 0.0, 0.0, 0.0, 0.0, 0.0, 0.0], [0.15925274789333344, 0.14406651258468628, 0.031227348372340202, 0.019794389605522156, 0.05477117747068405, 0.11218226701021194, 0.11525479704141617, 0.07777233421802521, 0.031702958047389984, 0.2208697348833084, 0.03310564160346985, 0.0, 0.0, 0.0, 0.0, 0.0], [0.0968339815735817, 0.40408387780189514, 0.028908824548125267, 0.005635910201817751, 0.03756750375032425, 0.13874651491641998, 0.16823355853557587, 0.01642102748155594, 0.010021934285759926, 0.023600630462169647, 0.003306181635707617, 0.06664009392261505, 0.0, 0.0, 0.0, 0.0], [0.21571722626686096, 0.06495968997478485, 0.0766964927315712, 0.013009716756641865, 0.05977578088641167, 0.08963549137115479, 0.1890387386083603, 0.008831370621919632, 0.024245310574769974, 0.037230610847473145, 0.012161040678620338, 0.09987852722406387, 0.10882003605365753, 0.0, 0.0, 0.0], [0.40294086933135986, 0.01962541788816452, 0.035525865852832794, 0.07528885453939438, 0.05649122595787048, 0.03748618811368942, 0.10932362824678421, 0.005726785399019718, 0.021161505952477455, 0.08874030411243439, 0.025733187794685364, 0.04849427193403244, 0.025338051840662956, 0.04812387004494667, 0.0, 0.0], [0.5109726786613464, 0.0068911905400455, 0.01937204785645008, 0.03609468415379524, 0.021478166803717613, 0.009678161703050137, 0.061889179050922394, 0.004971023183315992, 0.01672697812318802, 0.1069394126534462, 0.03818650543689728, 0.04667050018906593, 0.007657441310584545, 0.03718879818916321, 0.07528311759233475, 0.0], [0.06931799650192261, 0.29899123311042786, 0.011283100582659245, 0.0030044536106288433, 0.020309027284383774, 0.256394624710083, 0.07693343609571457, 0.0021487935446202755, 0.003937257919460535, 0.02014334313571453, 0.002689356915652752, 0.020359380170702934, 0.14390349388122559, 0.009339220821857452, 0.02284408174455166, 0.03840119391679764]], [[1.0, 0.0, 0.0, 0.0, 0.0, 0.0, 0.0, 0.0, 0.0, 0.0, 0.0, 0.0, 0.0, 0.0, 0.0, 0.0], [0.9763814210891724, 0.02361866645514965, 0.0, 0.0, 0.0, 0.0, 0.0, 0.0, 0.0, 0.0, 0.0, 0.0, 0.0, 0.0, 0.0, 0.0], [0.899955153465271, 0.03661360964179039, 0.06343120336532593, 0.0, 0.0, 0.0, 0.0, 0.0, 0.0, 0.0, 0.0, 0.0, 0.0, 0.0, 0.0, 0.0], [0.8768021464347839, 0.03132833540439606, 0.07383255660533905, 0.01803705282509327, 0.0, 0.0, 0.0, 0.0, 0.0, 0.0, 0.0, 0.0, 0.0, 0.0, 0.0, 0.0], [0.5559171438217163, 0.22117410600185394, 0.07818221300840378, 0.024217519909143448, 0.12050900608301163, 0.0, 0.0, 0.0, 0.0, 0.0, 0.0, 0.0, 0.0, 0.0, 0.0, 0.0], [0.6772692799568176, 0.09629380702972412, 0.06497234851121902, 0.03341449052095413, 0.03688531741499901, 0.09116474539041519, 0.0, 0.0, 0.0, 0.0, 0.0, 0.0, 0.0, 0.0, 0.0, 0.0], [0.3077108561992645, 0.12308017909526825, 0.06787897646427155, 0.03274228051304817, 0.10132182389497757, 0.3414102792739868, 0.02585561014711857, 0.0, 0.0, 0.0, 0.0, 0.0, 0.0, 0.0, 0.0, 0.0], [0.5491836667060852, 0.08017294853925705, 0.03322029113769531, 0.03915005549788475, 0.017030926421284676, 0.24078269302845, 0.028835341334342957, 0.011624069884419441, 0.0, 0.0, 0.0, 0.0, 0.0, 0.0, 0.0, 0.0], [0.23101569712162018, 0.07566676288843155, 0.10692774504423141, 0.09003912657499313, 0.07507140934467316, 0.2976582944393158, 0.04673341289162636, 0.0318191759288311, 0.04506842419505119, 0.0, 0.0, 0.0, 0.0, 0.0, 0.0, 0.0], [0.2219613939523697, 0.060639917850494385, 0.07549750804901123, 0.07836027443408966, 0.09834524989128113, 0.3053401708602905, 0.04929504916071892, 0.036045320332050323, 0.03578978031873703, 0.03872529789805412, 0.0, 0.0, 0.0, 0.0, 0.0, 0.0], [0.17188823223114014, 0.21098653972148895, 0.06585774570703506, 0.05904898792505264, 0.039893969893455505, 0.24155953526496887, 0.026615694165229797, 0.03651157021522522, 0.026587238535284996, 0.0799400806427002, 0.04111039265990257, 0.0, 0.0, 0.0, 0.0, 0.0], [0.16855554282665253, 0.22823795676231384, 0.06626331061124802, 0.025634165853261948, 0.047917451709508896, 0.23638421297073364, 0.02565351314842701, 0.07722733914852142, 0.02044752612709999, 0.036095030605793, 0.02744302898645401, 0.04014095664024353, 0.0, 0.0, 0.0, 0.0], [0.3969011604785919, 0.1872536540031433, 0.06765606999397278, 0.04686666280031204, 0.03505592420697212, 0.1011636033654213, 0.008238542824983597, 0.010442221537232399, 0.006672040093690157, 0.03861001878976822, 0.03185753524303436, 0.008153080940246582, 0.06112959235906601, 0.0, 0.0, 0.0], [0.2578960657119751, 0.03752604126930237, 0.04997207969427109, 0.019554203376173973, 0.04230153188109398, 0.23860089480876923, 0.013471531681716442, 0.05164206773042679, 0.019858267158269882, 0.06170866638422012, 0.0364198237657547, 0.021979181095957756, 0.09862969070672989, 0.05044000595808029, 0.0, 0.0], [0.2534421384334564, 0.03087204322218895, 0.06878632307052612, 0.04626394063234329, 0.07496120035648346, 0.11577662825584412, 0.015505870804190636, 0.039147861301898956, 0.02667141892015934, 0.06873765587806702, 0.076008141040802, 0.032031863927841187, 0.049600325524806976, 0.06718797981739044, 0.03500663861632347, 0.0], [0.2724994122982025, 0.08284032344818115, 0.08596111834049225, 0.03409022465348244, 0.06828267127275467, 0.12033896148204803, 0.013902762904763222, 0.04378492757678032, 0.017518209293484688, 0.040431082248687744, 0.03232641518115997, 0.017084749415516853, 0.06764023005962372, 0.03039132058620453, 0.020771346986293793, 0.05213616415858269]], [[1.0, 0.0, 0.0, 0.0, 0.0, 0.0, 0.0, 0.0, 0.0, 0.0, 0.0, 0.0, 0.0, 0.0, 0.0, 0.0], [0.973858654499054, 0.026141362264752388, 0.0, 0.0, 0.0, 0.0, 0.0, 0.0, 0.0, 0.0, 0.0, 0.0, 0.0, 0.0, 0.0, 0.0], [0.9211837649345398, 0.031965404748916626, 0.046850770711898804, 0.0, 0.0, 0.0, 0.0, 0.0, 0.0, 0.0, 0.0, 0.0, 0.0, 0.0, 0.0, 0.0], [0.8766627311706543, 0.01806696131825447, 0.05300748348236084, 0.052262771874666214, 0.0, 0.0, 0.0, 0.0, 0.0, 0.0, 0.0, 0.0, 0.0, 0.0, 0.0, 0.0], [0.7810628414154053, 0.07659225910902023, 0.07064080238342285, 0.04368128627538681, 0.028022732585668564, 0.0, 0.0, 0.0, 0.0, 0.0, 0.0, 0.0, 0.0, 0.0, 0.0, 0.0], [0.8177938461303711, 0.017698854207992554, 0.041650716215372086, 0.012469359673559666, 0.014895633794367313, 0.09549146890640259, 0.0, 0.0, 0.0, 0.0, 0.0, 0.0, 0.0, 0.0, 0.0, 0.0], [0.498182088136673, 0.08426519483327866, 0.1001027375459671, 0.02703445963561535, 0.009257631376385689, 0.11937706917524338, 0.16178080439567566, 0.0, 0.0, 0.0, 0.0, 0.0, 0.0, 0.0, 0.0, 0.0], [0.8125563859939575, 0.016277361661195755, 0.03054286353290081, 0.008226168341934681, 0.008660259656608105, 0.02536950819194317, 0.06506729871034622, 0.03330012038350105, 0.0, 0.0, 0.0, 0.0, 0.0, 0.0, 0.0, 0.0], [0.6091117262840271, 0.04549358785152435, 0.03993707150220871, 0.01422662753611803, 0.01459239050745964, 0.0754832848906517, 0.09752073884010315, 0.05232289433479309, 0.051311660557985306, 0.0, 0.0, 0.0, 0.0, 0.0, 0.0, 0.0], [0.8038502335548401, 0.03504626080393791, 0.02743544615805149, 0.0054098572582006454, 0.008449330925941467, 0.021313626319169998, 0.04291879013180733, 0.0210434403270483, 0.00889490731060505, 0.025638211518526077, 0.0, 0.0, 0.0, 0.0, 0.0, 0.0], [0.6368072032928467, 0.020139560103416443, 0.0388118252158165, 0.01162359956651926, 0.008474264293909073, 0.045087579637765884, 0.08059517294168472, 0.016058193519711494, 0.009790703654289246, 0.10821051150560379, 0.024401331320405006, 0.0, 0.0, 0.0, 0.0, 0.0], [0.48180708289146423, 0.09316164255142212, 0.07410264760255814, 0.0057512205094099045, 0.003603419754654169, 0.08333392441272736, 0.06285932660102844, 0.0606074258685112, 0.029562201350927353, 0.026350468397140503, 0.007897906005382538, 0.07096277922391891, 0.0, 0.0, 0.0, 0.0], [0.6385255455970764, 0.003945386502891779, 0.02088126167654991, 0.005144562106579542, 0.0035049053840339184, 0.01834292523562908, 0.09023592621088028, 0.0073674325831234455, 0.010159394703805447, 0.021944722160696983, 0.005484823137521744, 0.052850838750600815, 0.12161228060722351, 0.0, 0.0, 0.0], [0.5769994258880615, 0.006555695086717606, 0.007467438466846943, 0.049998387694358826, 0.007236250676214695, 0.015853043645620346, 0.051346275955438614, 0.0034045574720948935, 0.0015451543731614947, 0.1168518215417862, 0.037323061376810074, 0.030346643179655075, 0.04569937661290169, 0.049372900277376175, 0.0, 0.0], [0.6888298988342285, 0.006328059360384941, 0.006171299144625664, 0.007359903305768967, 0.00375870568677783, 0.010157338343560696, 0.029751121997833252, 0.004401145037263632, 0.0007645596051588655, 0.012748355977237225, 0.053223736584186554, 0.03330463543534279, 0.044630758464336395, 0.025008272379636765, 0.07356218993663788, 0.0], [0.5591850280761719, 0.009778098203241825, 0.01137517299503088, 0.0031898918095976114, 0.0022178241051733494, 0.03746480867266655, 0.02387106604874134, 0.0030083060264587402, 0.0013139897491782904, 0.02035142108798027, 0.005148988217115402, 0.016228288412094116, 0.15735629200935364, 0.04790453612804413, 0.08756186068058014, 0.014044378884136677]], [[1.0, 0.0, 0.0, 0.0, 0.0, 0.0, 0.0, 0.0, 0.0, 0.0, 0.0, 0.0, 0.0, 0.0, 0.0, 0.0], [0.9929505586624146, 0.007049424108117819, 0.0, 0.0, 0.0, 0.0, 0.0, 0.0, 0.0, 0.0, 0.0, 0.0, 0.0, 0.0, 0.0, 0.0], [0.9693981409072876, 0.02079840563237667, 0.009803527034819126, 0.0, 0.0, 0.0, 0.0, 0.0, 0.0, 0.0, 0.0, 0.0, 0.0, 0.0, 0.0, 0.0], [0.9666199088096619, 0.009174020029604435, 0.020919056609272957, 0.0032869894057512283, 0.0, 0.0, 0.0, 0.0, 0.0, 0.0, 0.0, 0.0, 0.0, 0.0, 0.0, 0.0], [0.8860676884651184, 0.08053983002901077, 0.020591864362359047, 0.0018540587043389678, 0.010946604423224926, 0.0, 0.0, 0.0, 0.0, 0.0, 0.0, 0.0, 0.0, 0.0, 0.0, 0.0], [0.9309792518615723, 0.018655430525541306, 0.02384059503674507, 0.0007884020451456308, 0.006621657405048609, 0.019114697352051735, 0.0, 0.0, 0.0, 0.0, 0.0, 0.0, 0.0, 0.0, 0.0, 0.0], [0.7638307809829712, 0.124802365899086, 0.010400100611150265, 0.004223853349685669, 0.003897641785442829, 0.087813600897789, 0.00503164017572999, 0.0, 0.0, 0.0, 0.0, 0.0, 0.0, 0.0, 0.0, 0.0], [0.8393892049789429, 0.06466009467840195, 0.014721584506332874, 0.0042033568024635315, 0.010920681990683079, 0.02969968318939209, 0.02955569699406624, 0.0068497066386044025, 0.0, 0.0, 0.0, 0.0, 0.0, 0.0, 0.0, 0.0], [0.41030004620552063, 0.4224884510040283, 0.011214596219360828, 0.006140188314020634, 0.003082971554249525, 0.1216929480433464, 0.011693784967064857, 0.008254309184849262, 0.00513277156278491, 0.0, 0.0, 0.0, 0.0, 0.0, 0.0, 0.0], [0.6814980506896973, 0.22113092243671417, 0.01559764426201582, 0.02254059724509716, 0.009737896732985973, 0.021386120468378067, 0.012248137034475803, 0.005554369650781155, 0.0021952721290290356, 0.008110974915325642, 0.0, 0.0, 0.0, 0.0, 0.0, 0.0], [0.89490807056427, 0.04633353278040886, 0.007843858562409878, 0.0030024549923837185, 0.0025937838945537806, 0.01712694764137268, 0.010735854506492615, 0.003449719864875078, 0.001992025412619114, 0.008766909129917622, 0.003246905282139778, 0.0, 0.0, 0.0, 0.0, 0.0], [0.678565263748169, 0.1567603349685669, 0.010992667637765408, 0.0028126698452979326, 0.0037567808758467436, 0.1087070181965828, 0.007514572702348232, 0.010229654610157013, 0.0034789820201694965, 0.010324109345674515, 0.0023266763892024755, 0.004531341139227152, 0.0, 0.0, 0.0, 0.0], [0.7529435753822327, 0.11300387978553772, 0.012642334215342999, 0.0015732417814433575, 0.0018648599507287145, 0.06005227938294411, 0.0056890323758125305, 0.0039207967929542065, 0.0022083597723394632, 0.009235810488462448, 0.0007976704509928823, 0.0046277423389256, 0.03144040331244469, 0.0, 0.0, 0.0], [0.8590025901794434, 0.034998852759599686, 0.010324946604669094, 0.01246930193156004, 0.003952383995056152, 0.018091866746544838, 0.01732545532286167, 0.002852082485333085, 0.0018704106332734227, 0.021171797066926956, 0.002686774358153343, 0.00683795427903533, 0.005248964764177799, 0.0031666168943047523, 0.0, 0.0], [0.8878527879714966, 0.023359138518571854, 0.014645993709564209, 0.007773335091769695, 0.008627397008240223, 0.007430986501276493, 0.013473358005285263, 0.0036826941650360823, 0.002111592562869191, 0.005192669108510017, 0.0054606287740170956, 0.00841742753982544, 0.0026549105532467365, 0.005067526828497648, 0.004249608144164085, 0.0], [0.5223602652549744, 0.27400583028793335, 0.016754530370235443, 0.002034512348473072, 0.004667853470891714, 0.11811425536870956, 0.004605697933584452, 0.007072849199175835, 0.0023394946474581957, 0.0062957219779491425, 0.0007971606100909412, 0.003117128973826766, 0.029025668278336525, 0.002570762764662504, 0.003565991995856166, 0.0026722990442067385]], [[1.0, 0.0, 0.0, 0.0, 0.0, 0.0, 0.0, 0.0, 0.0, 0.0, 0.0, 0.0, 0.0, 0.0, 0.0, 0.0], [0.9782671928405762, 0.02173282951116562, 0.0, 0.0, 0.0, 0.0, 0.0, 0.0, 0.0, 0.0, 0.0, 0.0, 0.0, 0.0, 0.0, 0.0], [0.852310836315155, 0.08566458523273468, 0.0620245523750782, 0.0, 0.0, 0.0, 0.0, 0.0, 0.0, 0.0, 0.0, 0.0, 0.0, 0.0, 0.0, 0.0], [0.7824074625968933, 0.06438777595758438, 0.07211420685052872, 0.08109062165021896, 0.0, 0.0, 0.0, 0.0, 0.0, 0.0, 0.0, 0.0, 0.0, 0.0, 0.0, 0.0], [0.36010733246803284, 0.15601001679897308, 0.2539757788181305, 0.1706218421459198, 0.059285059571266174, 0.0, 0.0, 0.0, 0.0, 0.0, 0.0, 0.0, 0.0, 0.0, 0.0, 0.0], [0.8473312258720398, 0.012720062397420406, 0.05377785861492157, 0.022372540086507797, 0.03866444528102875, 0.025133822113275528, 0.0, 0.0, 0.0, 0.0, 0.0, 0.0, 0.0, 0.0, 0.0, 0.0], [0.6796625256538391, 0.07788224518299103, 0.03602100908756256, 0.02147321030497551, 0.025838827714323997, 0.0805225521326065, 0.07859962433576584, 0.0, 0.0, 0.0, 0.0, 0.0, 0.0, 0.0, 0.0, 0.0], [0.7637094855308533, 0.01847441866993904, 0.025969592854380608, 0.024770382791757584, 0.036320798099040985, 0.013157252222299576, 0.08042843639850616, 0.037169571965932846, 0.0, 0.0, 0.0, 0.0, 0.0, 0.0, 0.0, 0.0], [0.6239443421363831, 0.04778503626585007, 0.01507299393415451, 0.01862245798110962, 0.018772361800074577, 0.02565303072333336, 0.0755956768989563, 0.13121385872364044, 0.04334021732211113, 0.0, 0.0, 0.0, 0.0, 0.0, 0.0, 0.0], [0.6521252393722534, 0.022693540900945663, 0.012649786658585072, 0.005672224797308445, 0.01730249635875225, 0.015227305702865124, 0.026655351743102074, 0.12879641354084015, 0.08165621012449265, 0.03722146153450012, 0.0, 0.0, 0.0, 0.0, 0.0, 0.0], [0.5724034905433655, 0.008966114372015, 0.01859520934522152, 0.00919760949909687, 0.024172963574528694, 0.014789879322052002, 0.029573796316981316, 0.04455428570508957, 0.0559249073266983, 0.1792815923690796, 0.04254027456045151, 0.0, 0.0, 0.0, 0.0, 0.0], [0.6960737109184265, 0.07784399390220642, 0.042309317737817764, 0.004429752938449383, 0.0036437336821109056, 0.027247782796621323, 0.02617764286696911, 0.04010290652513504, 0.019038807600736618, 0.01761406660079956, 0.009059963747859001, 0.03645835444331169, 0.0, 0.0, 0.0, 0.0], [0.80790114402771, 0.0020001553930342197, 0.01021142490208149, 0.0026625364553183317, 0.002359677804633975, 0.00305631454102695, 0.030966516584157944, 0.004471541848033667, 0.005307073704898357, 0.009348134510219097, 0.004455265589058399, 0.09557823091745377, 0.021682022139430046, 0.0, 0.0, 0.0], [0.5937646627426147, 0.0045441207475960255, 0.00295569677837193, 0.006254230625927448, 0.00312612927518785, 0.006689809262752533, 0.024621902033686638, 0.005162585061043501, 0.0009872729424387217, 0.04098225384950638, 0.015764426440000534, 0.14464625716209412, 0.10001347959041595, 0.05048714950680733, 0.0, 0.0], [0.5438622236251831, 0.007888659834861755, 0.004775844980031252, 0.0035388250835239887, 0.006127284374088049, 0.008553496561944485, 0.01822926476597786, 0.011481345631182194, 0.004692233167588711, 0.007854165509343147, 0.015193353407084942, 0.08409920334815979, 0.15925362706184387, 0.073862224817276, 0.05058824270963669, 0.0], [0.22371383011341095, 0.002437539165839553, 0.008405277505517006, 0.005335371010005474, 0.0014111670898273587, 0.004303541500121355, 0.016044985502958298, 0.006791179068386555, 0.0038962827529758215, 0.07999170571565628, 0.006156000308692455, 0.02113695815205574, 0.04608649015426636, 0.10162179917097092, 0.4524902403354645, 0.02017766609787941]], [[1.0, 0.0, 0.0, 0.0, 0.0, 0.0, 0.0, 0.0, 0.0, 0.0, 0.0, 0.0, 0.0, 0.0, 0.0, 0.0], [0.9965683221817017, 0.003431605640798807, 0.0, 0.0, 0.0, 0.0, 0.0, 0.0, 0.0, 0.0, 0.0, 0.0, 0.0, 0.0, 0.0, 0.0], [0.9404020309448242, 0.013539232313632965, 0.046058766543865204, 0.0, 0.0, 0.0, 0.0, 0.0, 0.0, 0.0, 0.0, 0.0, 0.0, 0.0, 0.0, 0.0], [0.8992725610733032, 0.02656528167426586, 0.051132649183273315, 0.023029522970318794, 0.0, 0.0, 0.0, 0.0, 0.0, 0.0, 0.0, 0.0, 0.0, 0.0, 0.0, 0.0], [0.6379561424255371, 0.17550277709960938, 0.11469380557537079, 0.05781230702996254, 0.014035035856068134, 0.0, 0.0, 0.0, 0.0, 0.0, 0.0, 0.0, 0.0, 0.0, 0.0, 0.0], [0.6848251223564148, 0.013465965166687965, 0.1213722676038742, 0.04093196988105774, 0.10402999073266983, 0.03537461906671524, 0.0, 0.0, 0.0, 0.0, 0.0, 0.0, 0.0, 0.0, 0.0, 0.0], [0.604395866394043, 0.14024320244789124, 0.09161972999572754, 0.010679335333406925, 0.0014347053365781903, 0.03791219741106033, 0.11371497809886932, 0.0, 0.0, 0.0, 0.0, 0.0, 0.0, 0.0, 0.0, 0.0], [0.4615522027015686, 0.005977509543299675, 0.018974360078573227, 0.009188571013510227, 0.02019369602203369, 0.0028371841181069613, 0.3299647867679596, 0.15131162106990814, 0.0, 0.0, 0.0, 0.0, 0.0, 0.0, 0.0, 0.0], [0.21908150613307953, 0.02760215476155281, 0.0174269899725914, 0.0037538139149546623, 0.002597060753032565, 0.006978101562708616, 0.32459068298339844, 0.3650802671909332, 0.03288950026035309, 0.0, 0.0, 0.0, 0.0, 0.0, 0.0, 0.0], [0.41441985964775085, 0.006734994240105152, 0.0097966268658638, 0.002331474330276251, 0.007738958578556776, 0.006531416904181242, 0.18056809902191162, 0.2736889123916626, 0.08067005127668381, 0.017519526183605194, 0.0, 0.0, 0.0, 0.0, 0.0, 0.0], [0.4401712119579315, 0.006378057412803173, 0.018669072538614273, 0.005894876550883055, 0.019956832751631737, 0.009636595845222473, 0.12242733687162399, 0.1299380511045456, 0.15784253180027008, 0.051985692232847214, 0.03709975257515907, 0.0, 0.0, 0.0, 0.0, 0.0], [0.545383095741272, 0.18053440749645233, 0.04944485053420067, 0.002566649578511715, 0.00026519413222558796, 0.029095109552145004, 0.14106209576129913, 0.014150116592645645, 0.001190586481243372, 0.002421661512926221, 0.0021075806580483913, 0.03177865222096443, 0.0, 0.0, 0.0, 0.0], [0.5311636328697205, 0.0013948386767879128, 0.01137994322925806, 0.003707877593114972, 0.0026223473250865936, 0.0013021513586863875, 0.23677358031272888, 0.009329121559858322, 0.008948187343776226, 0.0238533653318882, 0.012684592977166176, 0.11910010874271393, 0.037740256637334824, 0.0, 0.0, 0.0], [0.4961033761501312, 0.001167027628980577, 0.0017482824623584747, 0.0035632760263979435, 0.0024777643848210573, 0.0019412852125242352, 0.12493559718132019, 0.004356544464826584, 0.0013711202191188931, 0.010045289993286133, 0.015014149248600006, 0.24332277476787567, 0.050583139061927795, 0.04337041452527046, 0.0, 0.0], [0.5225049257278442, 0.001173044671304524, 0.0029979883693158627, 0.0013071580324321985, 0.0015884878812357783, 0.0018633032450452447, 0.08989172428846359, 0.007188150659203529, 0.003309968626126647, 0.002285496098920703, 0.018846044316887856, 0.15169216692447662, 0.04387814924120903, 0.11873756349086761, 0.0327359214425087, 0.0], [0.35966920852661133, 0.005154342856258154, 0.005216328427195549, 0.0009335291106253862, 0.00024314309121109545, 0.004722389858216047, 0.035666584968566895, 0.00331352511420846, 0.002230060053989291, 0.0049913316033780575, 0.004090632311999798, 0.05979558825492859, 0.24315506219863892, 0.13367407023906708, 0.10384386032819748, 0.033300336450338364]], [[1.0, 0.0, 0.0, 0.0, 0.0, 0.0, 0.0, 0.0, 0.0, 0.0, 0.0, 0.0, 0.0, 0.0, 0.0, 0.0], [0.9907957911491394, 0.009204229339957237, 0.0, 0.0, 0.0, 0.0, 0.0, 0.0, 0.0, 0.0, 0.0, 0.0, 0.0, 0.0, 0.0, 0.0], [0.9514428377151489, 0.02872106246650219, 0.019835999235510826, 0.0, 0.0, 0.0, 0.0, 0.0, 0.0, 0.0, 0.0, 0.0, 0.0, 0.0, 0.0, 0.0], [0.9694786667823792, 0.020018527284264565, 0.004790985491126776, 0.005711864214390516, 0.0, 0.0, 0.0, 0.0, 0.0, 0.0, 0.0, 0.0, 0.0, 0.0, 0.0, 0.0], [0.7967796921730042, 0.18504028022289276, 0.006563365459442139, 0.003575830953195691, 0.008040840737521648, 0.0, 0.0, 0.0, 0.0, 0.0, 0.0, 0.0, 0.0, 0.0, 0.0, 0.0], [0.8368088006973267, 0.020684855058789253, 0.00935305841267109, 0.0007965776603668928, 0.009276147931814194, 0.1230805367231369, 0.0, 0.0, 0.0, 0.0, 0.0, 0.0, 0.0, 0.0, 0.0, 0.0], [0.4927006959915161, 0.1170836091041565, 0.0019024470821022987, 0.003602108219638467, 0.001886861864477396, 0.3768744170665741, 0.005949844606220722, 0.0, 0.0, 0.0, 0.0, 0.0, 0.0, 0.0, 0.0, 0.0], [0.7979850769042969, 0.04837753623723984, 0.008912533521652222, 0.023659618571400642, 0.01713571697473526, 0.08147638291120529, 0.008232740685343742, 0.014220435172319412, 0.0, 0.0, 0.0, 0.0, 0.0, 0.0, 0.0, 0.0], [0.3074093163013458, 0.12448463588953018, 0.0021299554500728846, 0.011188238859176636, 0.003231656039133668, 0.540431797504425, 0.003774662036448717, 0.005137992091476917, 0.0022117348853498697, 0.0, 0.0, 0.0, 0.0, 0.0, 0.0, 0.0], [0.8541243672370911, 0.038960475474596024, 0.0008199206786230206, 0.005242051091045141, 0.0015962033066898584, 0.09304825216531754, 0.0007045792881399393, 0.0014504484133794904, 0.00034343564766459167, 0.0037102405913174152, 0.0, 0.0, 0.0, 0.0, 0.0, 0.0], [0.8324827551841736, 0.02979191206395626, 0.0027212253771722317, 0.006013366859406233, 0.0034486253280192614, 0.10616287589073181, 0.0016474052099511027, 0.0036666090600192547, 0.0010825094068422914, 0.006576976273208857, 0.006405831314623356, 0.0, 0.0, 0.0, 0.0, 0.0], [0.5092319250106812, 0.09710677713155746, 0.002398477401584387, 0.0014614354586228728, 0.0011622218880802393, 0.3619900047779083, 0.008496548980474472, 0.005614819470793009, 0.0012668482959270477, 0.003389375051483512, 0.0016178988153114915, 0.006263770163059235, 0.0, 0.0, 0.0, 0.0], [0.6175501942634583, 0.031904835253953934, 0.007651817984879017, 0.0011446066200733185, 0.005969339981675148, 0.2167177051305771, 0.01365030836313963, 0.009610507637262344, 0.004097326193004847, 0.009278238750994205, 0.0014102888526394963, 0.009238012135028839, 0.0717768520116806, 0.0, 0.0, 0.0], [0.7772641777992249, 0.01262589544057846, 0.005082475952804089, 0.020899567753076553, 0.008797691203653812, 0.06666453182697296, 0.007837226614356041, 0.005980169400572777, 0.00402997899800539, 0.05207454040646553, 0.01230001263320446, 0.005334086716175079, 0.01739167794585228, 0.003718028776347637, 0.0, 0.0], [0.8959016799926758, 0.00981117133051157, 0.0011803212109953165, 0.003209613496437669, 0.002588867209851742, 0.05012569576501846, 0.0017999995034188032, 0.0025199430529028177, 0.0007475262973457575, 0.0029280458111315966, 0.008311456069350243, 0.0015153331914916635, 0.015590135008096695, 0.0006052212556824088, 0.0031649183947592974, 0.0], [0.28957265615463257, 0.05883437395095825, 0.0031814370304346085, 0.0014156571123749018, 0.0009923942852765322, 0.5030521154403687, 0.004004891961812973, 0.004010730888694525, 0.0008369475835934281, 0.0035062506794929504, 0.0014749318361282349, 0.002231201156973839, 0.12292920053005219, 0.0005465844878926873, 0.002106843516230583, 0.0013038384495303035]], [[1.0, 0.0, 0.0, 0.0, 0.0, 0.0, 0.0, 0.0, 0.0, 0.0, 0.0, 0.0, 0.0, 0.0, 0.0, 0.0], [0.991925060749054, 0.008074947632849216, 0.0, 0.0, 0.0, 0.0, 0.0, 0.0, 0.0, 0.0, 0.0, 0.0, 0.0, 0.0, 0.0, 0.0], [0.9808839559555054, 0.013167103752493858, 0.005948989186435938, 0.0, 0.0, 0.0, 0.0, 0.0, 0.0, 0.0, 0.0, 0.0, 0.0, 0.0, 0.0, 0.0], [0.9761651754379272, 0.0056363907642662525, 0.004885527305305004, 0.013313017785549164, 0.0, 0.0, 0.0, 0.0, 0.0, 0.0, 0.0, 0.0, 0.0, 0.0, 0.0, 0.0], [0.7944209575653076, 0.1631777286529541, 0.0062761264853179455, 0.021125003695487976, 0.015000218525528908, 0.0, 0.0, 0.0, 0.0, 0.0, 0.0, 0.0, 0.0, 0.0, 0.0, 0.0], [0.908491313457489, 0.045035939663648605, 0.0071632456965744495, 0.016895800828933716, 0.011442730203270912, 0.0109710693359375, 0.0, 0.0, 0.0, 0.0, 0.0, 0.0, 0.0, 0.0, 0.0, 0.0], [0.6138630509376526, 0.20857100188732147, 0.00795826967805624, 0.07619309425354004, 0.015150685794651508, 0.06356386095285416, 0.014700016006827354, 0.0, 0.0, 0.0, 0.0, 0.0, 0.0, 0.0, 0.0, 0.0], [0.8194411993026733, 0.01795501820743084, 0.03706188127398491, 0.06942345947027206, 0.030324673280119896, 0.0067155868746340275, 0.010215523652732372, 0.008862696588039398, 0.0, 0.0, 0.0, 0.0, 0.0, 0.0, 0.0, 0.0], [0.37192875146865845, 0.2368685007095337, 0.006973836105316877, 0.2953360378742218, 0.018487216904759407, 0.038653191179037094, 0.007507388014346361, 0.009084583260118961, 0.015160596929490566, 0.0, 0.0, 0.0, 0.0, 0.0, 0.0, 0.0], [0.5467219352722168, 0.031646065413951874, 0.0037391248624771833, 0.2475586086511612, 0.06742890924215317, 0.009623442776501179, 0.005820051766932011, 0.006092830095440149, 0.0030017169192433357, 0.07836730778217316, 0.0, 0.0, 0.0, 0.0, 0.0, 0.0], [0.8106960654258728, 0.036415744572877884, 0.003271719440817833, 0.052103880792856216, 0.00744189927354455, 0.01519308052957058, 0.004110888112336397, 0.003093285020440817, 0.0010804978664964437, 0.04023248329758644, 0.02636055275797844, 0.0, 0.0, 0.0, 0.0, 0.0], [0.5494155883789062, 0.1540548950433731, 0.004653549287468195, 0.03135787323117256, 0.01928332820534706, 0.0958491638302803, 0.011128372512757778, 0.024464884772896767, 0.0029821537900716066, 0.0311359204351902, 0.060098592191934586, 0.015575774013996124, 0.0, 0.0, 0.0, 0.0], [0.5739816427230835, 0.14248932898044586, 0.00666553620249033, 0.038268495351076126, 0.014183074235916138, 0.03865136578679085, 0.003963622730225325, 0.014186838641762733, 0.0018404009751975536, 0.08809901773929596, 0.04782219976186752, 0.008338344283401966, 0.021510176360607147, 0.0, 0.0, 0.0], [0.45405441522598267, 0.01221262663602829, 0.003387988545000553, 0.24773430824279785, 0.024173501878976822, 0.004517483990639448, 0.0024210356641560793, 0.004656584467738867, 0.0019497276516631246, 0.18865258991718292, 0.04774439334869385, 0.003363798139616847, 0.0015352768823504448, 0.0035961857065558434, 0.0, 0.0], [0.5012414455413818, 0.005616799928247929, 0.0018969463417306542, 0.11429603397846222, 0.053237006068229675, 0.0028469450771808624, 0.0033514497336000204, 0.008466784842312336, 0.0016524045495316386, 0.049965351819992065, 0.22706742584705353, 0.010705419816076756, 0.0010384024353697896, 0.0018437112448737025, 0.016773872077465057, 0.0], [0.44300293922424316, 0.34467220306396484, 0.0058341119438409805, 0.02568601630628109, 0.0027609358076006174, 0.09738945215940475, 0.0037331348285079002, 0.007269104011356831, 0.0007780336891300976, 0.021507304161787033, 0.009500565007328987, 0.0041928659193217754, 0.020771078765392303, 0.0011825270485132933, 0.0071454294957220554, 0.00457425881177187]], [[1.0, 0.0, 0.0, 0.0, 0.0, 0.0, 0.0, 0.0, 0.0, 0.0, 0.0, 0.0, 0.0, 0.0, 0.0, 0.0], [0.9758211970329285, 0.024178801104426384, 0.0, 0.0, 0.0, 0.0, 0.0, 0.0, 0.0, 0.0, 0.0, 0.0, 0.0, 0.0, 0.0, 0.0], [0.9582287073135376, 0.01632652059197426, 0.02544480748474598, 0.0, 0.0, 0.0, 0.0, 0.0, 0.0, 0.0, 0.0, 0.0, 0.0, 0.0, 0.0, 0.0], [0.925674557685852, 0.005938522983342409, 0.019624486565589905, 0.0487624928355217, 0.0, 0.0, 0.0, 0.0, 0.0, 0.0, 0.0, 0.0, 0.0, 0.0, 0.0, 0.0], [0.8641520142555237, 0.016578420996665955, 0.05282605439424515, 0.034915223717689514, 0.03152827173471451, 0.0, 0.0, 0.0, 0.0, 0.0, 0.0, 0.0, 0.0, 0.0, 0.0, 0.0], [0.8915764093399048, 0.010884960182011127, 0.023158162832260132, 0.013541298918426037, 0.010846919380128384, 0.049992237240076065, 0.0, 0.0, 0.0, 0.0, 0.0, 0.0, 0.0, 0.0, 0.0, 0.0], [0.8414984941482544, 0.02020406164228916, 0.018893873319029808, 0.0075166798196733, 0.004058634862303734, 0.04954243078827858, 0.058285828679800034, 0.0, 0.0, 0.0, 0.0, 0.0, 0.0, 0.0, 0.0, 0.0], [0.7799200415611267, 0.0075944410637021065, 0.030438989400863647, 0.020197469741106033, 0.016889577731490135, 0.011187035590410233, 0.057220567017793655, 0.07655186206102371, 0.0, 0.0, 0.0, 0.0, 0.0, 0.0, 0.0, 0.0], [0.7145952582359314, 0.021148690953850746, 0.043364595621824265, 0.03185062110424042, 0.042613640427589417, 0.033123645931482315, 0.031033486127853394, 0.05155922845005989, 0.030710875988006592, 0.0, 0.0, 0.0, 0.0, 0.0, 0.0, 0.0], [0.8126814961433411, 0.006434580776840448, 0.01334748137742281, 0.011646488681435585, 0.009233047254383564, 0.020924024283885956, 0.04661303013563156, 0.01879648119211197, 0.016351593658328056, 0.04397183284163475, 0.0, 0.0, 0.0, 0.0, 0.0, 0.0], [0.6521694660186768, 0.005845241714268923, 0.018964240327477455, 0.03170417249202728, 0.007805163506418467, 0.03297848626971245, 0.07363356649875641, 0.03072107583284378, 0.011299682781100273, 0.06625765562057495, 0.0686211809515953, 0.0, 0.0, 0.0, 0.0, 0.0], [0.8081691861152649, 0.016428200528025627, 0.011894125491380692, 0.002626957604661584, 0.003133715596050024, 0.0406390056014061, 0.018528897315263748, 0.02751878835260868, 0.0075623043812811375, 0.0074763004668056965, 0.0031101624481379986, 0.05291231349110603, 0.0, 0.0, 0.0, 0.0], [0.7258172631263733, 0.0054488275200128555, 0.011901256628334522, 0.007060820236802101, 0.006036368664354086, 0.02916199527680874, 0.034854061901569366, 0.011754012666642666, 0.0040124510414898396, 0.028358493000268936, 0.007413368206471205, 0.06504237651824951, 0.0631387010216713, 0.0, 0.0, 0.0], [0.6701422333717346, 0.0065476130694150925, 0.014528992585837841, 0.05549991503357887, 0.008177975192666054, 0.01556236669421196, 0.018696313723921776, 0.0054566096514463425, 0.005408619064837694, 0.07870690524578094, 0.026194244623184204, 0.0295276902616024, 0.017491228878498077, 0.04805932939052582, 0.0, 0.0], [0.6774857640266418, 0.006448437925428152, 0.010867657139897346, 0.01121679786592722, 0.00631792051717639, 0.015725119039416313, 0.021987171843647957, 0.010578721761703491, 0.012156005017459393, 0.03818834200501442, 0.02581215836107731, 0.043043408542871475, 0.027233846485614777, 0.04424517601728439, 0.04869357496500015, 0.0], [0.7152785658836365, 0.0158615093678236, 0.01947065256536007, 0.0034253294579684734, 0.0020472402684390545, 0.03673100098967552, 0.005251043941825628, 0.013691005297005177, 0.003603545483201742, 0.02798263356089592, 0.008251185528934002, 0.007925569079816341, 0.05176036059856415, 0.03623506426811218, 0.038370855152606964, 0.01411452330648899]], [[1.0, 0.0, 0.0, 0.0, 0.0, 0.0, 0.0, 0.0, 0.0, 0.0, 0.0, 0.0, 0.0, 0.0, 0.0, 0.0], [0.9776408076286316, 0.022359183058142662, 0.0, 0.0, 0.0, 0.0, 0.0, 0.0, 0.0, 0.0, 0.0, 0.0, 0.0, 0.0, 0.0, 0.0], [0.9343620538711548, 0.04245593771338463, 0.023182012140750885, 0.0, 0.0, 0.0, 0.0, 0.0, 0.0, 0.0, 0.0, 0.0, 0.0, 0.0, 0.0, 0.0], [0.9459550380706787, 0.029355360195040703, 0.01841796189546585, 0.006271687801927328, 0.0, 0.0, 0.0, 0.0, 0.0, 0.0, 0.0, 0.0, 0.0, 0.0, 0.0, 0.0], [0.7821742296218872, 0.17363601922988892, 0.01761709153652191, 0.005367628298699856, 0.021204961463809013, 0.0, 0.0, 0.0, 0.0, 0.0, 0.0, 0.0, 0.0, 0.0, 0.0, 0.0], [0.8734596967697144, 0.05947701260447502, 0.027433404698967934, 0.0026930728927254677, 0.0062813120894134045, 0.03065558709204197, 0.0, 0.0, 0.0, 0.0, 0.0, 0.0, 0.0, 0.0, 0.0, 0.0], [0.6511510014533997, 0.18366245925426483, 0.011479312554001808, 0.005959795322269201, 0.010891163721680641, 0.064258873462677, 0.07259746640920639, 0.0, 0.0, 0.0, 0.0, 0.0, 0.0, 0.0, 0.0, 0.0], [0.8394480347633362, 0.09203311800956726, 0.010797304101288319, 0.008393792435526848, 0.005025098100304604, 0.026087747886776924, 0.016345130279660225, 0.001869821920990944, 0.0, 0.0, 0.0, 0.0, 0.0, 0.0, 0.0, 0.0], [0.681118369102478, 0.14854098856449127, 0.008556551299989223, 0.016436591744422913, 0.014458613470196724, 0.05993250757455826, 0.06355968862771988, 0.0033307911362499, 0.004065920133143663, 0.0, 0.0, 0.0, 0.0, 0.0, 0.0, 0.0], [0.5440027117729187, 0.23710913956165314, 0.017839381471276283, 0.03512400761246681, 0.018733765929937363, 0.06856343895196915, 0.05401131138205528, 0.0037921559996902943, 0.004738266579806805, 0.01608574390411377, 0.0, 0.0, 0.0, 0.0, 0.0, 0.0], [0.5553720593452454, 0.20779645442962646, 0.02302752062678337, 0.012615284882485867, 0.01090220920741558, 0.07639748603105545, 0.07583973556756973, 0.006023446563631296, 0.0051207272335886955, 0.01795097254216671, 0.008954077959060669, 0.0, 0.0, 0.0, 0.0, 0.0], [0.597520112991333, 0.19513657689094543, 0.012153458781540394, 0.003616505302488804, 0.00839026365429163, 0.06115448474884033, 0.07929597049951553, 0.005187868140637875, 0.0024066846817731857, 0.0061234040185809135, 0.0006615667371079326, 0.028353067114949226, 0.0, 0.0, 0.0, 0.0], [0.5785371661186218, 0.1348201334476471, 0.04262061044573784, 0.0040247621946036816, 0.008344002068042755, 0.060525283217430115, 0.09765317291021347, 0.0024603374768048525, 0.0033630221150815487, 0.008062922395765781, 0.0008922310662455857, 0.032545603811740875, 0.026150764897465706, 0.0, 0.0, 0.0], [0.7136508226394653, 0.0479450523853302, 0.017490919679403305, 0.015420113690197468, 0.01811922714114189, 0.06083925813436508, 0.040196288377046585, 0.003794369287788868, 0.004620899446308613, 0.03629453852772713, 0.004422119818627834, 0.014284951612353325, 0.018395530059933662, 0.004525933414697647, 0.0, 0.0], [0.7449429035186768, 0.06532630324363708, 0.018617121502757072, 0.01943395286798477, 0.018369926139712334, 0.025893453508615494, 0.02511274814605713, 0.0036349487490952015, 0.0035165089648216963, 0.0222473107278347, 0.009066592901945114, 0.018273308873176575, 0.010056867264211178, 0.0036761655937880278, 0.011831935495138168, 0.0], [0.7457806468009949, 0.10034684836864471, 0.010298854671418667, 0.004667921457439661, 0.008942114189267159, 0.029004685580730438, 0.05076697841286659, 0.0032387743704020977, 0.0022056675516068935, 0.005614137277007103, 0.0008722050697542727, 0.013199716806411743, 0.01120150089263916, 0.0013388301013037562, 0.002027946524322033, 0.010493113659322262]], [[1.0, 0.0, 0.0, 0.0, 0.0, 0.0, 0.0, 0.0, 0.0, 0.0, 0.0, 0.0, 0.0, 0.0, 0.0, 0.0], [0.9939002990722656, 0.006099657621234655, 0.0, 0.0, 0.0, 0.0, 0.0, 0.0, 0.0, 0.0, 0.0, 0.0, 0.0, 0.0, 0.0, 0.0], [0.9490059614181519, 0.016534842550754547, 0.034459326416254044, 0.0, 0.0, 0.0, 0.0, 0.0, 0.0, 0.0, 0.0, 0.0, 0.0, 0.0, 0.0, 0.0], [0.90387362241745, 0.013109094463288784, 0.06594424694776535, 0.01707296259701252, 0.0, 0.0, 0.0, 0.0, 0.0, 0.0, 0.0, 0.0, 0.0, 0.0, 0.0, 0.0], [0.8495773077011108, 0.06753671169281006, 0.05817921832203865, 0.015564815141260624, 0.009141968563199043, 0.0, 0.0, 0.0, 0.0, 0.0, 0.0, 0.0, 0.0, 0.0, 0.0, 0.0], [0.8857893943786621, 0.01826530508697033, 0.027819927781820297, 0.03177608177065849, 0.01993926428258419, 0.01641002856194973, 0.0, 0.0, 0.0, 0.0, 0.0, 0.0, 0.0, 0.0, 0.0, 0.0], [0.5683303475379944, 0.04140210151672363, 0.10598929971456528, 0.06052900105714798, 0.1166134625673294, 0.07460881024599075, 0.03252699226140976, 0.0, 0.0, 0.0, 0.0, 0.0, 0.0, 0.0, 0.0, 0.0], [0.7595320343971252, 0.04059537872672081, 0.07699525356292725, 0.018311945721507072, 0.024278579279780388, 0.026498163118958473, 0.03129582852125168, 0.02249285578727722, 0.0, 0.0, 0.0, 0.0, 0.0, 0.0, 0.0, 0.0], [0.6239746809005737, 0.048890747129917145, 0.0617189034819603, 0.04555335268378258, 0.03807380050420761, 0.08459170162677765, 0.024777978658676147, 0.026569705456495285, 0.045849140733480453, 0.0, 0.0, 0.0, 0.0, 0.0, 0.0, 0.0], [0.7702287435531616, 0.03803335502743721, 0.052910756319761276, 0.03711368143558502, 0.026459885761141777, 0.02265218086540699, 0.02463807538151741, 0.008513427339494228, 0.01011539064347744, 0.009334619157016277, 0.0, 0.0, 0.0, 0.0, 0.0, 0.0], [0.8009331822395325, 0.03252733126282692, 0.04615113511681557, 0.0037599382922053337, 0.010819490998983383, 0.050629813224077225, 0.016340026631951332, 0.008186877705156803, 0.011022325605154037, 0.014137625694274902, 0.005492307245731354, 0.0, 0.0, 0.0, 0.0, 0.0], [0.6113589406013489, 0.024147791787981987, 0.048402633517980576, 0.00691363075748086, 0.014678357169032097, 0.11967048048973083, 0.02510644495487213, 0.017121536657214165, 0.009906106628477573, 0.012664330191910267, 0.03144602105021477, 0.07858382910490036, 0.0, 0.0, 0.0, 0.0], [0.6721970438957214, 0.017384463921189308, 0.03613864257931709, 0.013036889024078846, 0.015615616925060749, 0.019592422991991043, 0.027700966224074364, 0.008683892898261547, 0.016149625182151794, 0.01548511628061533, 0.03398556634783745, 0.10180716961622238, 0.02222270891070366, 0.0, 0.0, 0.0], [0.49161168932914734, 0.024233123287558556, 0.02166917733848095, 0.04009363055229187, 0.018518595024943352, 0.03557448089122772, 0.02983807772397995, 0.006263211369514465, 0.0064818765968084335, 0.0697544664144516, 0.14195407927036285, 0.050734296441078186, 0.03385966271162033, 0.029413625597953796, 0.0, 0.0], [0.610550582408905, 0.010340692475438118, 0.009878753684461117, 0.02448221668601036, 0.007409877609461546, 0.014858972281217575, 0.018781598657369614, 0.006756453774869442, 0.0037528378888964653, 0.00617795018479228, 0.2390376180410385, 0.02326696738600731, 0.008467989042401314, 0.008497174829244614, 0.007740299217402935, 0.0], [0.5015738010406494, 0.08709762245416641, 0.03516371175646782, 0.003718496300280094, 0.0043733855709433556, 0.11903396993875504, 0.02956942282617092, 0.0063996161334216595, 0.002181610558182001, 0.009999590925872326, 0.005927381571382284, 0.04579918086528778, 0.059635426849126816, 0.038131922483444214, 0.0408584363758564, 0.010536468587815762]], [[1.0, 0.0, 0.0, 0.0, 0.0, 0.0, 0.0, 0.0, 0.0, 0.0, 0.0, 0.0, 0.0, 0.0, 0.0, 0.0], [0.9768670201301575, 0.023133043199777603, 0.0, 0.0, 0.0, 0.0, 0.0, 0.0, 0.0, 0.0, 0.0, 0.0, 0.0, 0.0, 0.0, 0.0], [0.9675484299659729, 0.010695276781916618, 0.02175622619688511, 0.0, 0.0, 0.0, 0.0, 0.0, 0.0, 0.0, 0.0, 0.0, 0.0, 0.0, 0.0, 0.0], [0.9038029313087463, 0.030230160802602768, 0.022490084171295166, 0.043476760387420654, 0.0, 0.0, 0.0, 0.0, 0.0, 0.0, 0.0, 0.0, 0.0, 0.0, 0.0, 0.0], [0.8138068914413452, 0.01906421221792698, 0.14867383241653442, 0.011439168825745583, 0.007015918381512165, 0.0, 0.0, 0.0, 0.0, 0.0, 0.0, 0.0, 0.0, 0.0, 0.0, 0.0], [0.9459133148193359, 0.014695677906274796, 0.013018854893743992, 0.006462364457547665, 0.0030637255404144526, 0.016846003010869026, 0.0, 0.0, 0.0, 0.0, 0.0, 0.0, 0.0, 0.0, 0.0, 0.0], [0.6812538504600525, 0.07581464946269989, 0.025956500321626663, 0.008595420978963375, 0.011454654857516289, 0.03937176987528801, 0.15755316615104675, 0.0, 0.0, 0.0, 0.0, 0.0, 0.0, 0.0, 0.0, 0.0], [0.6544193625450134, 0.014248067513108253, 0.030939167365431786, 0.009962104260921478, 0.01787642575800419, 0.01574251614511013, 0.13368020951747894, 0.12313215434551239, 0.0, 0.0, 0.0, 0.0, 0.0, 0.0, 0.0, 0.0], [0.7837764024734497, 0.04717528074979782, 0.085447758436203, 0.018983429297804832, 0.009188431315124035, 0.01669202372431755, 0.0145183764398098, 0.014366553165018559, 0.009851847775280476, 0.0, 0.0, 0.0, 0.0, 0.0, 0.0, 0.0], [0.9165189266204834, 0.017885463312268257, 0.009089929051697254, 0.0058547742664813995, 0.002645784756168723, 0.0044745756313204765, 0.018417561426758766, 0.004908285103738308, 0.003946766257286072, 0.016257990151643753, 0.0, 0.0, 0.0, 0.0, 0.0, 0.0], [0.7764842510223389, 0.07336452603340149, 0.016057070344686508, 0.0025030802935361862, 0.0013110468862578273, 0.027760282158851624, 0.04297284409403801, 0.011192516423761845, 0.006629023235291243, 0.029114006087183952, 0.012611341662704945, 0.0, 0.0, 0.0, 0.0, 0.0], [0.5631147027015686, 0.06431492418050766, 0.04781432822346687, 0.0025945769157260656, 0.00723325926810503, 0.04937732592225075, 0.13843633234500885, 0.012494456022977829, 0.005726425908505917, 0.005012110341340303, 0.0034540528431534767, 0.10042759031057358, 0.0, 0.0, 0.0, 0.0], [0.592625617980957, 0.025896597653627396, 0.02526235021650791, 0.011471451260149479, 0.0035174672957509756, 0.018897902220487595, 0.22873176634311676, 0.006289064418524504, 0.005875832866877317, 0.022225109860301018, 0.004007445182651281, 0.04982636123895645, 0.005373019725084305, 0.0, 0.0, 0.0], [0.8036941885948181, 0.014001485891640186, 0.023600153625011444, 0.03424466773867607, 0.005968801211565733, 0.0075633106753230095, 0.019496528431773186, 0.005159364081919193, 0.0027278997004032135, 0.037040337920188904, 0.030449075624346733, 0.008366558700799942, 0.0023573997896164656, 0.005330209154635668, 0.0, 0.0], [0.8707221150398254, 0.005763349123299122, 0.006736647803336382, 0.004574954975396395, 0.002077413722872734, 0.004467771388590336, 0.010122566483914852, 0.0012170778354629874, 0.0019723279401659966, 0.005961325019598007, 0.05563955381512642, 0.014157933183014393, 0.0024227502290159464, 0.004534493666142225, 0.009629616513848305, 0.0], [0.5546749234199524, 0.01802801713347435, 0.17678292095661163, 0.005862172693014145, 0.005166017450392246, 0.02110401540994644, 0.05946541205048561, 0.0006861420697532594, 0.004206317011266947, 0.030502816662192345, 0.015064124949276447, 0.020161237567663193, 0.008381717838346958, 0.009616827592253685, 0.042933594435453415, 0.027363689616322517]], [[1.0, 0.0, 0.0, 0.0, 0.0, 0.0, 0.0, 0.0, 0.0, 0.0, 0.0, 0.0, 0.0, 0.0, 0.0, 0.0], [0.9612069725990295, 0.03879306837916374, 0.0, 0.0, 0.0, 0.0, 0.0, 0.0, 0.0, 0.0, 0.0, 0.0, 0.0, 0.0, 0.0, 0.0], [0.9000605940818787, 0.047725263983011246, 0.052214086055755615, 0.0, 0.0, 0.0, 0.0, 0.0, 0.0, 0.0, 0.0, 0.0, 0.0, 0.0, 0.0, 0.0], [0.9625750780105591, 0.01642385870218277, 0.013538817875087261, 0.0074622067622840405, 0.0, 0.0, 0.0, 0.0, 0.0, 0.0, 0.0, 0.0, 0.0, 0.0, 0.0, 0.0], [0.741680920124054, 0.18836387991905212, 0.04202016070485115, 0.00889662653207779, 0.01903844252228737, 0.0, 0.0, 0.0, 0.0, 0.0, 0.0, 0.0, 0.0, 0.0, 0.0, 0.0], [0.8668121099472046, 0.04372062161564827, 0.026858704164624214, 0.002350994385778904, 0.0036218208260834217, 0.056635782122612, 0.0, 0.0, 0.0, 0.0, 0.0, 0.0, 0.0, 0.0, 0.0, 0.0], [0.6376198530197144, 0.20270147919654846, 0.006314481142908335, 0.004734728951007128, 0.0024746472481638193, 0.13097983598709106, 0.015174994245171547, 0.0, 0.0, 0.0, 0.0, 0.0, 0.0, 0.0, 0.0, 0.0], [0.8134346604347229, 0.04981878772377968, 0.014877553097903728, 0.032919757068157196, 0.015799622982740402, 0.040748439729213715, 0.025904996320605278, 0.006496217101812363, 0.0, 0.0, 0.0, 0.0, 0.0, 0.0, 0.0, 0.0], [0.5292203426361084, 0.3394463360309601, 0.0056455195881426334, 0.009173410013318062, 0.002296322723850608, 0.10325340181589127, 0.005948839709162712, 0.003392658429220319, 0.0016231733607128263, 0.0, 0.0, 0.0, 0.0, 0.0, 0.0, 0.0], [0.7973146438598633, 0.1160588264465332, 0.009077310562133789, 0.010020062327384949, 0.004071477334946394, 0.023221945390105247, 0.019526204094290733, 0.0038408355321735144, 0.001998071325942874, 0.014870616607367992, 0.0, 0.0, 0.0, 0.0, 0.0, 0.0], [0.8111215829849243, 0.05424624681472778, 0.006936031859368086, 0.005732590798288584, 0.0039564091712236404, 0.05243615806102753, 0.023793281987309456, 0.00516867870464921, 0.002544683637097478, 0.030725376680493355, 0.0033389939926564693, 0.0, 0.0, 0.0, 0.0, 0.0], [0.5294944047927856, 0.27520105242729187, 0.009253857657313347, 0.0023493035696446896, 0.0017098881071433425, 0.1395363062620163, 0.010986626148223877, 0.00585235795006156, 0.002187322126701474, 0.014529386535286903, 0.0006723339320160449, 0.008227202109992504, 0.0, 0.0, 0.0, 0.0], [0.6463112235069275, 0.10310797393321991, 0.021800925955176353, 0.003491738112643361, 0.0022450636606663465, 0.11193180084228516, 0.009873857721686363, 0.002776053734123707, 0.002226111013442278, 0.018678508698940277, 0.0008895142818801105, 0.007140256464481354, 0.06952695548534393, 0.0, 0.0, 0.0], [0.8394086360931396, 0.02214452251791954, 0.00883310753852129, 0.010223022662103176, 0.003172661177814007, 0.020263880491256714, 0.009713863953948021, 0.002083695027977228, 0.003451970173045993, 0.061966679990291595, 0.0021681874059140682, 0.004957031924277544, 0.007349296472966671, 0.004263486247509718, 0.0, 0.0], [0.9132154583930969, 0.018230510875582695, 0.004397504031658173, 0.0040995157323777676, 0.0025063673965632915, 0.009895282797515392, 0.010737338103353977, 0.0027405363507568836, 0.0017827879637479782, 0.01031860988587141, 0.004397244192659855, 0.005191116593778133, 0.0025939554907381535, 0.001814712886698544, 0.00807903055101633, 0.0], [0.3298574686050415, 0.40497851371765137, 0.010467104613780975, 0.006159704178571701, 0.001756679150275886, 0.1482153832912445, 0.012751425616443157, 0.0033806299325078726, 0.0010830637766048312, 0.01627867855131626, 0.0013051715213805437, 0.0041220891289412975, 0.04352308437228203, 0.0019789356738328934, 0.011892469599843025, 0.0022496527526527643]], [[1.0, 0.0, 0.0, 0.0, 0.0, 0.0, 0.0, 0.0, 0.0, 0.0, 0.0, 0.0, 0.0, 0.0, 0.0, 0.0], [0.9688330888748169, 0.031166911125183105, 0.0, 0.0, 0.0, 0.0, 0.0, 0.0, 0.0, 0.0, 0.0, 0.0, 0.0, 0.0, 0.0, 0.0], [0.9290608167648315, 0.029330357909202576, 0.04160875454545021, 0.0, 0.0, 0.0, 0.0, 0.0, 0.0, 0.0, 0.0, 0.0, 0.0, 0.0, 0.0, 0.0], [0.9200939536094666, 0.04228654131293297, 0.030229978263378143, 0.007389581762254238, 0.0, 0.0, 0.0, 0.0, 0.0, 0.0, 0.0, 0.0, 0.0, 0.0, 0.0, 0.0], [0.7105200290679932, 0.24576455354690552, 0.015327445231378078, 0.02099611423909664, 0.007391884457319975, 0.0, 0.0, 0.0, 0.0, 0.0, 0.0, 0.0, 0.0, 0.0, 0.0, 0.0], [0.8548244833946228, 0.05050984025001526, 0.050443973392248154, 0.013009229674935341, 0.009730826131999493, 0.021481722593307495, 0.0, 0.0, 0.0, 0.0, 0.0, 0.0, 0.0, 0.0, 0.0, 0.0], [0.6644477844238281, 0.21439489722251892, 0.011444488540291786, 0.03508725017309189, 0.007892676629126072, 0.042457420378923416, 0.02427554689347744, 0.0, 0.0, 0.0, 0.0, 0.0, 0.0, 0.0, 0.0, 0.0], [0.7241180539131165, 0.022386515513062477, 0.0361737497150898, 0.1544281393289566, 0.034405071288347244, 0.010180767625570297, 0.014892350882291794, 0.0034153538290411234, 0.0, 0.0, 0.0, 0.0, 0.0, 0.0, 0.0, 0.0], [0.49253571033477783, 0.178489550948143, 0.019860003143548965, 0.15576303005218506, 0.0372169055044651, 0.071680448949337, 0.02043982967734337, 0.010038062930107117, 0.013976404443383217, 0.0, 0.0, 0.0, 0.0, 0.0, 0.0, 0.0], [0.5983349680900574, 0.03502260521054268, 0.04257149621844292, 0.09798222035169601, 0.03912205621600151, 0.015563377179205418, 0.06872096657752991, 0.011407108046114445, 0.02189464122056961, 0.06938059628009796, 0.0, 0.0, 0.0, 0.0, 0.0, 0.0], [0.6115139126777649, 0.06945855170488358, 0.017183318734169006, 0.01406626682728529, 0.02128981240093708, 0.02030273526906967, 0.14954672753810883, 0.011932490393519402, 0.0035802950151264668, 0.038637399673461914, 0.0424884632229805, 0.0, 0.0, 0.0, 0.0, 0.0], [0.6164125800132751, 0.15178225934505463, 0.00897909700870514, 0.011198691092431545, 0.00674852030351758, 0.05754807963967323, 0.04474811628460884, 0.005770860239863396, 0.003005067352205515, 0.02718682959675789, 0.025421984493732452, 0.04119798168540001, 0.0, 0.0, 0.0, 0.0], [0.5395704507827759, 0.0804431214928627, 0.03941093385219574, 0.0202777199447155, 0.011731826700270176, 0.03900911286473274, 0.09671928733587265, 0.002285753609612584, 0.004677999299019575, 0.06437842547893524, 0.03571704775094986, 0.04688890278339386, 0.01888939179480076, 0.0, 0.0, 0.0], [0.4349236786365509, 0.008892901241779327, 0.02139713615179062, 0.06490423530340195, 0.029910970479249954, 0.011208510026335716, 0.0499335341155529, 0.003826118540018797, 0.009787618182599545, 0.1802680492401123, 0.14197301864624023, 0.03127593547105789, 0.003006982384249568, 0.008691412396728992, 0.0, 0.0], [0.24296189844608307, 0.004333391319960356, 0.015071389265358448, 0.03017044998705387, 0.02135235257446766, 0.004553697537630796, 0.05933452770113945, 0.003201102139428258, 0.008237405680119991, 0.029828915372490883, 0.5100692510604858, 0.03043549321591854, 0.0022670042235404253, 0.009625479578971863, 0.02855766750872135, 0.0], [0.5213763117790222, 0.18733203411102295, 0.014526556245982647, 0.014471015892922878, 0.007575846742838621, 0.04557705298066139, 0.039848580956459045, 0.010587440803647041, 0.0042046187445521355, 0.03477196767926216, 0.03447006270289421, 0.031955163925886154, 0.014527752064168453, 0.003396750660613179, 0.011524259112775326, 0.0238545760512352]]], \"attentionHeadNames\": [\"L10H7\", \"L9H9\", \"L11H10\", \"L11H1\", \"L8H10\", \"L10H10\", \"L7H3\", \"L7H9\", \"L10H6\", \"L10H1\", \"L9H5\", \"L11H2\", \"L9H7\", \"L9H4\", \"L10H0\", \"L10H3\"], \"tokens\": [\"<|endoftext|>\", \" Mary\", \" was\", \" older\", \" than\", \" John\", \".\", \" Who\", \" was\", \" born\", \" first\", \"?\", \" John\", \" was\", \" born\", \" before\"]}\n",
       "    )\n",
       "    </script>"
      ],
      "text/plain": [
       "<IPython.core.display.HTML object>"
      ]
     },
     "execution_count": 30,
     "metadata": {},
     "output_type": "execute_result"
    }
   ],
   "source": [
    "neg_corrupted_heads = torch.topk(-corrupted_per_head_logit_diffs.flatten(), k=16).indices\n",
    "HTML(visualize_attention_patterns(neg_corrupted_heads, corrupted_cache, corrupted_prompts))"
   ]
  },
  {
   "cell_type": "markdown",
   "metadata": {},
   "source": [
    "### Interesting early heads\n",
    "\n",
    "These heads standout when looking at the attention patterns because they show a clear difference between the true and false cases. For true statements the heads attend to the tokens representing the information in the previous sentence, but for false statements they attend to the period token."
   ]
  },
  {
   "cell_type": "code",
   "execution_count": 43,
   "metadata": {},
   "outputs": [],
   "source": [
    "indices = [\n",
    "    (5, 5),\n",
    "    (6, 9),\n",
    "]\n",
    "\n",
    "indices = [\n",
    "    (i * model.cfg.n_heads + j)\n",
    "    for i, j in indices\n",
    "]"
   ]
  },
  {
   "cell_type": "code",
   "execution_count": 44,
   "metadata": {},
   "outputs": [
    {
     "data": {
      "text/html": [
       "<div id=\"circuits-vis-aa644bff-ae44\" style=\"margin: 15px 0;\"/>\n",
       "    <script crossorigin type=\"module\">\n",
       "    import { render, AttentionHeads } from \"https://unpkg.com/circuitsvis@1.43.2/dist/cdn/esm.js\";\n",
       "    render(\n",
       "      \"circuits-vis-aa644bff-ae44\",\n",
       "      AttentionHeads,\n",
       "      {\"attention\": [[[1.0, 0.0, 0.0, 0.0, 0.0, 0.0, 0.0, 0.0, 0.0, 0.0, 0.0, 0.0, 0.0, 0.0, 0.0, 0.0], [0.9997647404670715, 0.0002352553274249658, 0.0, 0.0, 0.0, 0.0, 0.0, 0.0, 0.0, 0.0, 0.0, 0.0, 0.0, 0.0, 0.0, 0.0], [0.7998964190483093, 0.00044046223047189415, 0.19966314733028412, 0.0, 0.0, 0.0, 0.0, 0.0, 0.0, 0.0, 0.0, 0.0, 0.0, 0.0, 0.0, 0.0], [0.9820539951324463, 0.0005639564478769898, 0.007063458673655987, 0.010318637825548649, 0.0, 0.0, 0.0, 0.0, 0.0, 0.0, 0.0, 0.0, 0.0, 0.0, 0.0, 0.0], [0.9171642661094666, 0.0015665347455069423, 0.00036885266308672726, 0.003986018244177103, 0.07691429555416107, 0.0, 0.0, 0.0, 0.0, 0.0, 0.0, 0.0, 0.0, 0.0, 0.0, 0.0], [0.9911365509033203, 0.002564161317422986, 0.0006199133931659162, 0.0007873519789427519, 0.003790657501667738, 0.001101332250982523, 0.0, 0.0, 0.0, 0.0, 0.0, 0.0, 0.0, 0.0, 0.0, 0.0], [0.8582960367202759, 0.032179512083530426, 0.003267943859100342, 0.0036202582996338606, 0.004385013598948717, 0.00896394718438387, 0.08928723633289337, 0.0, 0.0, 0.0, 0.0, 0.0, 0.0, 0.0, 0.0, 0.0], [0.9048243165016174, 0.009659234434366226, 0.0012131466064602137, 0.0010615846840664744, 0.0012217682087793946, 0.01139006670564413, 0.058554261922836304, 0.01207571942359209, 0.0, 0.0, 0.0, 0.0, 0.0, 0.0, 0.0, 0.0], [0.7173410058021545, 0.012705640867352486, 0.000875722209457308, 0.019488392397761345, 0.01600785180926323, 0.03222638741135597, 0.16734182834625244, 0.021621152758598328, 0.012392030097544193, 0.0, 0.0, 0.0, 0.0, 0.0, 0.0, 0.0], [0.9361189007759094, 0.0005734271253459156, 0.00011493427882669494, 0.0005859145894646645, 0.03303007408976555, 0.004245119169354439, 0.0005515534430742264, 0.02215643972158432, 0.001763870008289814, 0.0008598872809670866, 0.0, 0.0, 0.0, 0.0, 0.0, 0.0], [0.9768388867378235, 0.0033910914789885283, 5.270292604109272e-06, 5.500416591530666e-05, 0.0007938042399473488, 0.002121077384799719, 0.0015411911299452186, 0.011526263318955898, 0.0008662542095407844, 0.0012372826458886266, 0.0016238490352407098, 0.0, 0.0, 0.0, 0.0, 0.0], [0.8047776818275452, 0.022045955061912537, 0.0008774330490268767, 0.003960198722779751, 0.005266352090984583, 0.037774477154016495, 0.007987014949321747, 0.045908428728580475, 0.008805444464087486, 0.03645792603492737, 0.004749007057398558, 0.021390074864029884, 0.0, 0.0, 0.0, 0.0], [0.11830656230449677, 0.00013656522787641734, 0.6231869459152222, 0.23768384754657745, 0.0007518196362070739, 0.0034300521947443485, 0.0007176679791882634, 0.0017973060021176934, 2.299455809406936e-05, 0.012748060747981071, 0.00047005561646074057, 0.0001241268910234794, 0.0006241051014512777, 0.0, 0.0, 0.0], [0.20288506150245667, 0.0007774296100251377, 0.030328257009387016, 0.5494612455368042, 0.011262351647019386, 0.054785143584012985, 0.022114165127277374, 0.007491587661206722, 9.750694152899086e-05, 0.08262902498245239, 0.006319521460682154, 0.005886280443519354, 0.0018034923123195767, 0.024158891290426254, 0.0, 0.0], [0.34646129608154297, 0.0004326720954850316, 9.286255954066291e-05, 0.0016708121402189136, 0.005173007026314735, 0.0038966748397797346, 4.086612170794979e-05, 0.006623187568038702, 9.317418152932078e-05, 0.0007347333012148738, 0.4313895106315613, 0.18589478731155396, 0.013666057959198952, 0.0006951207760721445, 0.0031352301593869925, 0.0], [0.6338492035865784, 0.002876992104575038, 4.8499485274078324e-05, 0.0003597644390538335, 0.0036076081451028585, 0.02759218029677868, 0.0030963621102273464, 0.012375209480524063, 0.0007321111625060439, 0.0009301924728788435, 0.0005134038510732353, 0.3020114004611969, 0.010431794449687004, 4.265470488462597e-05, 0.00025510319392196834, 0.0012775554787367582]], [[1.0, 0.0, 0.0, 0.0, 0.0, 0.0, 0.0, 0.0, 0.0, 0.0, 0.0, 0.0, 0.0, 0.0, 0.0, 0.0], [0.999885082244873, 0.00011492081102915108, 0.0, 0.0, 0.0, 0.0, 0.0, 0.0, 0.0, 0.0, 0.0, 0.0, 0.0, 0.0, 0.0, 0.0], [0.9881545305252075, 0.00023659958969801664, 0.01160874031484127, 0.0, 0.0, 0.0, 0.0, 0.0, 0.0, 0.0, 0.0, 0.0, 0.0, 0.0, 0.0, 0.0], [0.9949418306350708, 8.159223943948746e-05, 0.0015562643529847264, 0.003420349908992648, 0.0, 0.0, 0.0, 0.0, 0.0, 0.0, 0.0, 0.0, 0.0, 0.0, 0.0, 0.0], [0.9939048886299133, 0.00020929168385919183, 0.00044048321433365345, 0.0010513549204915762, 0.004393917974084616, 0.0, 0.0, 0.0, 0.0, 0.0, 0.0, 0.0, 0.0, 0.0, 0.0, 0.0], [0.9910304546356201, 0.001278204144909978, 0.005030631087720394, 4.48413411504589e-05, 0.0020452295430004597, 0.0005706396186724305, 0.0, 0.0, 0.0, 0.0, 0.0, 0.0, 0.0, 0.0, 0.0, 0.0], [0.9685162901878357, 0.006821599788963795, 0.00011019421799574047, 0.00017617864068597555, 0.0020104695577174425, 0.012465160340070724, 0.009900188073515892, 0.0, 0.0, 0.0, 0.0, 0.0, 0.0, 0.0, 0.0, 0.0], [0.9920305013656616, 0.0022424724884331226, 0.0003711503522936255, 5.7357276091352105e-05, 6.243970346986316e-06, 0.0003461899177636951, 0.004119859542697668, 0.0008261565235443413, 0.0, 0.0, 0.0, 0.0, 0.0, 0.0, 0.0, 0.0], [0.9833149909973145, 0.0015932258684188128, 7.56456283852458e-05, 0.00921535026282072, 0.00020786741515621543, 0.0026881671510636806, 0.0006351509364321828, 0.000281587679637596, 0.001988107105717063, 0.0, 0.0, 0.0, 0.0, 0.0, 0.0, 0.0], [0.9949349761009216, 7.266429747687653e-06, 8.517949027009308e-05, 0.00024171711993403733, 0.0038751871325075626, 0.00024200970074161887, 0.00018132156401406974, 0.0001511642913101241, 3.073253537877463e-06, 0.0002781062212307006, 0.0, 0.0, 0.0, 0.0, 0.0, 0.0], [0.9945079684257507, 0.0002301594940945506, 4.580782388075022e-06, 1.7874774130177684e-05, 0.0020201499573886395, 0.00043450575321912766, 0.0008626157068647444, 0.0005247347289696336, 5.32271405973006e-06, 0.00013377632421907037, 0.001258196192793548, 0.0, 0.0, 0.0, 0.0, 0.0], [0.9267115592956543, 0.004280162509530783, 9.354885150969494e-06, 6.694351031910628e-05, 0.0020220009610056877, 0.007397432811558247, 0.0006901812157593668, 0.019849177449941635, 0.0008880352834239602, 0.007290612440556288, 0.003010345157235861, 0.02778412029147148, 0.0, 0.0, 0.0, 0.0], [0.4712662696838379, 0.00029044653638266027, 0.4808371663093567, 0.014465080574154854, 0.0030887231696397066, 0.011551562696695328, 0.015539146959781647, 0.0006770211621187627, 9.603358921594918e-05, 0.000985503545962274, 0.0007267252076417208, 4.621051630238071e-05, 0.0004301702429074794, 0.0, 0.0, 0.0], [0.8281298875808716, 0.00027610399411059916, 0.002659434452652931, 0.14840035140514374, 0.00014227593783289194, 0.007064897567033768, 0.0008503217832185328, 8.347858965862542e-05, 2.238357637907029e-06, 0.009684573858976364, 0.0009996371809393167, 0.00022109007113613188, 0.00014265094068832695, 0.001343032461591065, 0.0, 0.0], [0.41386446356773376, 1.9151530068484135e-05, 0.000229848621529527, 0.0017555365338921547, 0.0028356288094073534, 0.000494664185680449, 8.581236033933237e-05, 0.00017718398885335773, 9.150002142632729e-07, 0.00014894719060976058, 0.5731359720230103, 0.005920351482927799, 7.855281000956893e-05, 0.0005648250808008015, 0.0006881044828332961, 0.0], [0.9764934778213501, 0.0002546483592595905, 0.00012126629735575989, 7.258690311573446e-05, 7.688294863328338e-05, 0.0110080661252141, 0.001650367514230311, 9.988460806198418e-05, 6.183743721521751e-07, 2.2617286958848126e-05, 1.1292993804090656e-05, 0.010130933485925198, 3.071673199883662e-05, 2.8042504709446803e-06, 3.8367525121429935e-06, 2.0132027202635072e-05]]], \"attentionHeadNames\": [\"L5H5\", \"L6H9\"], \"tokens\": [\"<|endoftext|>\", \" Mary\", \" was\", \" older\", \" than\", \" John\", \".\", \" Who\", \" was\", \" born\", \" first\", \"?\", \" Mary\", \" was\", \" born\", \" before\"]}\n",
       "    )\n",
       "    </script>"
      ],
      "text/plain": [
       "<IPython.core.display.HTML object>"
      ]
     },
     "execution_count": 44,
     "metadata": {},
     "output_type": "execute_result"
    }
   ],
   "source": [
    "HTML(visualize_attention_patterns(indices, cache, prompts))"
   ]
  },
  {
   "cell_type": "code",
   "execution_count": 45,
   "metadata": {},
   "outputs": [
    {
     "data": {
      "text/html": [
       "<div id=\"circuits-vis-33121e31-bc12\" style=\"margin: 15px 0;\"/>\n",
       "    <script crossorigin type=\"module\">\n",
       "    import { render, AttentionHeads } from \"https://unpkg.com/circuitsvis@1.43.2/dist/cdn/esm.js\";\n",
       "    render(\n",
       "      \"circuits-vis-33121e31-bc12\",\n",
       "      AttentionHeads,\n",
       "      {\"attention\": [[[1.0, 0.0, 0.0, 0.0, 0.0, 0.0, 0.0, 0.0, 0.0, 0.0, 0.0, 0.0, 0.0, 0.0, 0.0, 0.0], [0.9997647404670715, 0.0002352553274249658, 0.0, 0.0, 0.0, 0.0, 0.0, 0.0, 0.0, 0.0, 0.0, 0.0, 0.0, 0.0, 0.0, 0.0], [0.7998964190483093, 0.00044046223047189415, 0.19966314733028412, 0.0, 0.0, 0.0, 0.0, 0.0, 0.0, 0.0, 0.0, 0.0, 0.0, 0.0, 0.0, 0.0], [0.9820539951324463, 0.0005639564478769898, 0.007063458673655987, 0.010318637825548649, 0.0, 0.0, 0.0, 0.0, 0.0, 0.0, 0.0, 0.0, 0.0, 0.0, 0.0, 0.0], [0.9171642661094666, 0.0015665347455069423, 0.00036885266308672726, 0.003986018244177103, 0.07691429555416107, 0.0, 0.0, 0.0, 0.0, 0.0, 0.0, 0.0, 0.0, 0.0, 0.0, 0.0], [0.9911365509033203, 0.002564161317422986, 0.0006199133931659162, 0.0007873519789427519, 0.003790657501667738, 0.001101332250982523, 0.0, 0.0, 0.0, 0.0, 0.0, 0.0, 0.0, 0.0, 0.0, 0.0], [0.8582960367202759, 0.032179512083530426, 0.003267943859100342, 0.0036202582996338606, 0.004385013598948717, 0.00896394718438387, 0.08928723633289337, 0.0, 0.0, 0.0, 0.0, 0.0, 0.0, 0.0, 0.0, 0.0], [0.9048243165016174, 0.009659234434366226, 0.0012131466064602137, 0.0010615846840664744, 0.0012217682087793946, 0.01139006670564413, 0.058554261922836304, 0.01207571942359209, 0.0, 0.0, 0.0, 0.0, 0.0, 0.0, 0.0, 0.0], [0.7173410058021545, 0.012705640867352486, 0.000875722209457308, 0.019488392397761345, 0.01600785180926323, 0.03222638741135597, 0.16734182834625244, 0.021621152758598328, 0.012392030097544193, 0.0, 0.0, 0.0, 0.0, 0.0, 0.0, 0.0], [0.9361189007759094, 0.0005734271253459156, 0.00011493427882669494, 0.0005859145894646645, 0.03303007408976555, 0.004245119169354439, 0.0005515534430742264, 0.02215643972158432, 0.001763870008289814, 0.0008598872809670866, 0.0, 0.0, 0.0, 0.0, 0.0, 0.0], [0.9768388867378235, 0.0033910914789885283, 5.270292604109272e-06, 5.500416591530666e-05, 0.0007938042399473488, 0.002121077384799719, 0.0015411911299452186, 0.011526263318955898, 0.0008662542095407844, 0.0012372826458886266, 0.0016238490352407098, 0.0, 0.0, 0.0, 0.0, 0.0], [0.8047776818275452, 0.022045955061912537, 0.0008774330490268767, 0.003960198722779751, 0.005266352090984583, 0.037774477154016495, 0.007987014949321747, 0.045908428728580475, 0.008805444464087486, 0.03645792603492737, 0.004749007057398558, 0.021390074864029884, 0.0, 0.0, 0.0, 0.0], [0.11037649214267731, 0.0018418518593534827, 0.00012128071102779359, 0.000573735567741096, 0.000470348953967914, 0.00028134832973591983, 0.7141110301017761, 0.04595067724585533, 0.0004781289608217776, 0.12168674916028976, 6.802544703532476e-06, 0.0024807362351566553, 0.0016207988373935223, 0.0, 0.0, 0.0], [0.08685534447431564, 0.0013591779861599207, 0.0003546499356161803, 0.014177297241985798, 0.002972881542518735, 0.006177705246955156, 0.654451310634613, 0.017176374793052673, 0.0002771100262179971, 0.17483854293823242, 0.000803997740149498, 0.013571269810199738, 0.0009798508835956454, 0.02600453607738018, 0.0, 0.0], [0.2878587543964386, 0.0007759258733130991, 1.8533808542997576e-05, 0.00042591438977979124, 0.004474506247788668, 0.0023305227514356375, 0.0003495562414173037, 0.015996892005205154, 0.00020174913515802473, 0.0014274170389398932, 0.30365586280822754, 0.35730305314064026, 0.02375156432390213, 0.00011796283797593787, 0.0013118276838213205, 0.0], [0.6337384581565857, 0.0031729629263281822, 2.9094171623000875e-05, 0.00024049168860074133, 0.0028205211274325848, 0.022294990718364716, 0.003514931770041585, 0.013980898074805737, 0.0007418218883685768, 0.0009137435117736459, 0.00040184074896387756, 0.30444180965423584, 0.011138668283820152, 0.0004023340588901192, 0.0006571607082150877, 0.0015102988108992577]], [[1.0, 0.0, 0.0, 0.0, 0.0, 0.0, 0.0, 0.0, 0.0, 0.0, 0.0, 0.0, 0.0, 0.0, 0.0, 0.0], [0.999885082244873, 0.00011492081102915108, 0.0, 0.0, 0.0, 0.0, 0.0, 0.0, 0.0, 0.0, 0.0, 0.0, 0.0, 0.0, 0.0, 0.0], [0.9881545305252075, 0.00023659958969801664, 0.01160874031484127, 0.0, 0.0, 0.0, 0.0, 0.0, 0.0, 0.0, 0.0, 0.0, 0.0, 0.0, 0.0, 0.0], [0.9949418306350708, 8.159223943948746e-05, 0.0015562643529847264, 0.003420349908992648, 0.0, 0.0, 0.0, 0.0, 0.0, 0.0, 0.0, 0.0, 0.0, 0.0, 0.0, 0.0], [0.9939048886299133, 0.00020929168385919183, 0.00044048321433365345, 0.0010513549204915762, 0.004393917974084616, 0.0, 0.0, 0.0, 0.0, 0.0, 0.0, 0.0, 0.0, 0.0, 0.0, 0.0], [0.9910304546356201, 0.001278204144909978, 0.005030631087720394, 4.48413411504589e-05, 0.0020452295430004597, 0.0005706396186724305, 0.0, 0.0, 0.0, 0.0, 0.0, 0.0, 0.0, 0.0, 0.0, 0.0], [0.9685162901878357, 0.006821599788963795, 0.00011019421799574047, 0.00017617864068597555, 0.0020104695577174425, 0.012465160340070724, 0.009900188073515892, 0.0, 0.0, 0.0, 0.0, 0.0, 0.0, 0.0, 0.0, 0.0], [0.9920305013656616, 0.0022424724884331226, 0.0003711503522936255, 5.7357276091352105e-05, 6.243970346986316e-06, 0.0003461899177636951, 0.004119859542697668, 0.0008261565235443413, 0.0, 0.0, 0.0, 0.0, 0.0, 0.0, 0.0, 0.0], [0.9833149909973145, 0.0015932258684188128, 7.56456283852458e-05, 0.00921535026282072, 0.00020786741515621543, 0.0026881671510636806, 0.0006351509364321828, 0.000281587679637596, 0.001988107105717063, 0.0, 0.0, 0.0, 0.0, 0.0, 0.0, 0.0], [0.9949349761009216, 7.266429747687653e-06, 8.517949027009308e-05, 0.00024171711993403733, 0.0038751871325075626, 0.00024200970074161887, 0.00018132156401406974, 0.0001511642913101241, 3.073253537877463e-06, 0.0002781062212307006, 0.0, 0.0, 0.0, 0.0, 0.0, 0.0], [0.9945079684257507, 0.0002301594940945506, 4.580782388075022e-06, 1.7874774130177684e-05, 0.0020201499573886395, 0.00043450575321912766, 0.0008626157068647444, 0.0005247347289696336, 5.32271405973006e-06, 0.00013377632421907037, 0.001258196192793548, 0.0, 0.0, 0.0, 0.0, 0.0], [0.9267115592956543, 0.004280162509530783, 9.354885150969494e-06, 6.694351031910628e-05, 0.0020220009610056877, 0.007397432811558247, 0.0006901812157593668, 0.019849177449941635, 0.0008880352834239602, 0.007290612440556288, 0.003010345157235861, 0.02778412029147148, 0.0, 0.0, 0.0, 0.0], [0.47397536039352417, 0.006880359724164009, 0.0017859216313809156, 0.00014080485561862588, 0.0005969530902802944, 0.0005622522439807653, 0.500392735004425, 0.008506717160344124, 0.0032209751661866903, 0.002844552043825388, 8.992558832687791e-06, 0.0003824656887445599, 0.0007019219920039177, 0.0, 0.0, 0.0], [0.949683427810669, 0.0018462298903614283, 0.00010871477570617571, 0.02140958234667778, 7.358498987741768e-05, 0.0025654053315520287, 0.002157362876459956, 0.0003143328067380935, 1.8977481886395253e-05, 0.020725753158330917, 0.0002527442993596196, 0.0003308529849164188, 0.00020382931688800454, 0.0003091359103564173, 0.0, 0.0], [0.500816285610199, 4.2994459363399073e-05, 8.656917634652928e-05, 0.0006901007145643234, 0.0025175227783620358, 0.0003559652541298419, 0.00031266853329725564, 0.00035546673461794853, 2.634633119669161e-06, 0.00029153222567401826, 0.48195675015449524, 0.010903604328632355, 0.0008198365685530007, 0.00040780179551802576, 0.00044034887105226517, 0.0], [0.9794102907180786, 0.0002548994671087712, 7.557310163974762e-05, 4.633056232705712e-05, 5.507707828655839e-05, 0.008499328047037125, 0.0018257396295666695, 0.00010168483277084306, 6.500538916043297e-07, 2.2403799448511563e-05, 8.478048584947828e-06, 0.009543641470372677, 7.607523002661765e-05, 3.690431549330242e-05, 1.4063561138755176e-05, 2.8834676413680427e-05]]], \"attentionHeadNames\": [\"L5H5\", \"L6H9\"], \"tokens\": [\"<|endoftext|>\", \" Mary\", \" was\", \" older\", \" than\", \" John\", \".\", \" Who\", \" was\", \" born\", \" first\", \"?\", \" John\", \" was\", \" born\", \" before\"]}\n",
       "    )\n",
       "    </script>"
      ],
      "text/plain": [
       "<IPython.core.display.HTML object>"
      ]
     },
     "execution_count": 45,
     "metadata": {},
     "output_type": "execute_result"
    }
   ],
   "source": [
    "HTML(visualize_attention_patterns(indices, corrupted_cache, corrupted_prompts))"
   ]
  },
  {
   "cell_type": "code",
   "execution_count": null,
   "metadata": {},
   "outputs": [],
   "source": []
  }
 ],
 "metadata": {
  "kernelspec": {
   "display_name": "venv",
   "language": "python",
   "name": "python3"
  },
  "language_info": {
   "codemirror_mode": {
    "name": "ipython",
    "version": 3
   },
   "file_extension": ".py",
   "mimetype": "text/x-python",
   "name": "python",
   "nbconvert_exporter": "python",
   "pygments_lexer": "ipython3",
   "version": "3.10.6"
  }
 },
 "nbformat": 4,
 "nbformat_minor": 2
}
