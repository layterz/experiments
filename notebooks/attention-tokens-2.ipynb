{
 "cells": [
  {
   "cell_type": "markdown",
   "metadata": {},
   "source": [
    "# Attention tokens\n",
    "\n",
    "Exploring some behaviour in gpt2-small where attention heads appear to learn distinct sets of \"attention tokens\", which act as a compacted vocabulary used to describe the input for that head. Attention tokens are defined as the element-wise (Hadamard) product of each query against each key in the sequence up to and including the query position. This is then projected onto the residual stream using the head's OV matrix and unembeded to decode a specific token.\n",
    "\n",
    "Using this approach, different heads learn different vocabulary sets, but there are some common tokens shared between all heads (e.g. \" the\" \"<NEWLINE>\", \" and\"). Further, heads consistently convert inputs that are structurally or semantically similar, but use different language, to similar patterns of attention tokens. The patterns that heads use to represent inputs varies - some massively contract the input sequence into chunks while others appear linear or expand the input. Intuitevely, this tracks with some known behaviours - e.g. 10.7, known to supress copying, expands input, which might be necessary for it's task given the focus on tokens and not structure.\n",
    "\n",
    "<TODO: add image for 4.5 vs 10.7>\n",
    "\n",
    "There may be a way to model attention tokens as non-abelian groups, where the elements are the possible continuous transformations between the discrete attention tokens. The operation would be adding a new attention token to the end of a sequence IN, which acts on IN set to create a new set of tokens OUT."
   ]
  },
  {
   "cell_type": "code",
   "execution_count": 1,
   "metadata": {},
   "outputs": [
    {
     "name": "stdout",
     "output_type": "stream",
     "text": [
      "Loaded pretrained model gpt2-small into HookedTransformer\n"
     ]
    }
   ],
   "source": [
    "import torch\n",
    "from transformer_lens import HookedTransformer, SVDInterpreter\n",
    "\n",
    "from utils import *\n",
    "\n",
    "torch.cuda.empty_cache()\n",
    "torch.set_grad_enabled(False)\n",
    "\n",
    "# NBVAL_IGNORE_OUTPUT\n",
    "model = HookedTransformer.from_pretrained(\n",
    "    \"gpt2-small\",\n",
    "    center_unembed=True,\n",
    "    center_writing_weights=True,\n",
    "    fold_ln=True,\n",
    "    refactor_factored_attn_matrices=True,\n",
    ")"
   ]
  },
  {
   "cell_type": "code",
   "execution_count": 2,
   "metadata": {},
   "outputs": [
    {
     "data": {
      "text/html": [
       "<pre style=\"white-space:pre;overflow-x:auto;line-height:normal;font-family:Menlo,'DejaVu Sans Mono',consolas,'Courier New',monospace\">Running prompt: <span style=\"font-weight: bold\">(</span><span style=\"color: #008000; text-decoration-color: #008000\">'The next sentence is false. The previous sentence is true.'</span>,<span style=\"font-weight: bold\">)</span>\n",
       "</pre>\n"
      ],
      "text/plain": [
       "Running prompt: \u001b[1m(\u001b[0m\u001b[32m'The next sentence is false. The previous sentence is true.'\u001b[0m,\u001b[1m)\u001b[0m\n"
      ]
     },
     "metadata": {},
     "output_type": "display_data"
    }
   ],
   "source": [
    "cache = run_prompts(\n",
    "    model, \n",
    "    \"The next sentence is false. The previous sentence is true.\",\n",
    ")"
   ]
  },
  {
   "cell_type": "code",
   "execution_count": 12,
   "metadata": {},
   "outputs": [
    {
     "data": {
      "application/vnd.plotly.v1+json": {
       "config": {
        "plotlyServerURL": "https://plot.ly"
       },
       "data": [
        {
         "coloraxis": "coloraxis",
         "hovertemplate": "x: %{x}<br>y: %{y}<br>color: %{z}<extra></extra>",
         "name": "0",
         "type": "heatmap",
         "xaxis": "x",
         "yaxis": "y",
         "z": [
          [
           0,
           1,
           1,
           1,
           1,
           1,
           1,
           1,
           1,
           1,
           1,
           1,
           1
          ],
          [
           0,
           2,
           1,
           1,
           1,
           1,
           1,
           1,
           1,
           1,
           1,
           1,
           1
          ],
          [
           0,
           2,
           3,
           1,
           1,
           1,
           1,
           1,
           1,
           1,
           1,
           1,
           1
          ],
          [
           4,
           5,
           2,
           5,
           1,
           1,
           1,
           1,
           1,
           1,
           1,
           1,
           1
          ],
          [
           4,
           3,
           6,
           3,
           7,
           1,
           1,
           1,
           1,
           1,
           1,
           1,
           1
          ],
          [
           0,
           2,
           8,
           5,
           6,
           5,
           1,
           1,
           1,
           1,
           1,
           1,
           1
          ],
          [
           4,
           9,
           3,
           9,
           7,
           3,
           10,
           1,
           1,
           1,
           1,
           1,
           1
          ],
          [
           0,
           2,
           5,
           11,
           7,
           3,
           6,
           7,
           1,
           1,
           1,
           1,
           1
          ],
          [
           0,
           5,
           8,
           11,
           6,
           3,
           9,
           12,
           13,
           1,
           1,
           1,
           1
          ],
          [
           4,
           5,
           5,
           5,
           6,
           5,
           7,
           7,
           7,
           5,
           1,
           1,
           1
          ],
          [
           4,
           3,
           8,
           5,
           7,
           3,
           9,
           7,
           14,
           5,
           7,
           1,
           1
          ],
          [
           0,
           5,
           0,
           11,
           6,
           5,
           3,
           15,
           5,
           3,
           6,
           5,
           1
          ],
          [
           4,
           3,
           3,
           9,
           7,
           3,
           16,
           7,
           7,
           9,
           7,
           9,
           7
          ]
         ]
        }
       ],
       "layout": {
        "annotations": [
         {
          "font": {
           "color": "black",
           "size": 12
          },
          "showarrow": false,
          "text": " the",
          "textangle": -90,
          "x": 0,
          "xshift": 0,
          "y": -1,
          "yshift": 20
         },
         {
          "font": {
           "color": "black",
           "size": 12
          },
          "showarrow": false,
          "text": ",",
          "x": 13,
          "xshift": 20,
          "y": 0,
          "yshift": 0
         },
         {
          "font": {
           "color": "black",
           "size": 12
          },
          "showarrow": false,
          "text": " the",
          "textangle": -90,
          "x": 0,
          "xshift": 0,
          "y": 13,
          "yshift": -20
         },
         {
          "font": {
           "color": "black",
           "size": 12
          },
          "showarrow": false,
          "text": "EOS",
          "x": -1,
          "xshift": -20,
          "y": 0,
          "yshift": 0
         },
         {
          "font": {
           "color": "black",
           "size": 12
          },
          "showarrow": false,
          "text": " the",
          "textangle": -90,
          "x": 1,
          "xshift": 0,
          "y": -1,
          "yshift": 20
         },
         {
          "font": {
           "color": "black",
           "size": 12
          },
          "showarrow": false,
          "text": " the",
          "x": 13,
          "xshift": 20,
          "y": 1,
          "yshift": 0
         },
         {
          "font": {
           "color": "black",
           "size": 12
          },
          "showarrow": false,
          "text": ",",
          "textangle": -90,
          "x": 1,
          "xshift": 0,
          "y": 13,
          "yshift": -20
         },
         {
          "font": {
           "color": "black",
           "size": 12
          },
          "showarrow": false,
          "text": "The",
          "x": -1,
          "xshift": -20,
          "y": 1,
          "yshift": 0
         },
         {
          "font": {
           "color": "black",
           "size": 12
          },
          "showarrow": false,
          "text": " the",
          "textangle": -90,
          "x": 2,
          "xshift": 0,
          "y": -1,
          "yshift": 20
         },
         {
          "font": {
           "color": "black",
           "size": 12
          },
          "showarrow": false,
          "text": " the",
          "x": 13,
          "xshift": 20,
          "y": 2,
          "yshift": 0
         },
         {
          "font": {
           "color": "black",
           "size": 12
          },
          "showarrow": false,
          "text": " the",
          "textangle": -90,
          "x": 2,
          "xshift": 0,
          "y": 13,
          "yshift": -20
         },
         {
          "font": {
           "color": "black",
           "size": 12
          },
          "showarrow": false,
          "text": " next",
          "x": -1,
          "xshift": -20,
          "y": 2,
          "yshift": 0
         },
         {
          "font": {
           "color": "black",
           "size": 12
          },
          "showarrow": false,
          "text": ",",
          "textangle": -90,
          "x": 3,
          "xshift": 0,
          "y": -1,
          "yshift": 20
         },
         {
          "font": {
           "color": "black",
           "size": 12
          },
          "showarrow": false,
          "text": " the",
          "x": 13,
          "xshift": 20,
          "y": 3,
          "yshift": 0
         },
         {
          "font": {
           "color": "black",
           "size": 12
          },
          "showarrow": false,
          "text": ",",
          "textangle": -90,
          "x": 3,
          "xshift": 0,
          "y": 13,
          "yshift": -20
         },
         {
          "font": {
           "color": "black",
           "size": 12
          },
          "showarrow": false,
          "text": " bus",
          "x": -1,
          "xshift": -20,
          "y": 3,
          "yshift": 0
         },
         {
          "font": {
           "color": "black",
           "size": 12
          },
          "showarrow": false,
          "text": ".",
          "textangle": -90,
          "x": 4,
          "xshift": 0,
          "y": -1,
          "yshift": 20
         },
         {
          "font": {
           "color": "black",
           "size": 12
          },
          "showarrow": false,
          "text": " the",
          "x": 13,
          "xshift": 20,
          "y": 4,
          "yshift": 0
         },
         {
          "font": {
           "color": "black",
           "size": 12
          },
          "showarrow": false,
          "text": ",",
          "textangle": -90,
          "x": 4,
          "xshift": 0,
          "y": 13,
          "yshift": -20
         },
         {
          "font": {
           "color": "black",
           "size": 12
          },
          "showarrow": false,
          "text": " is",
          "x": -1,
          "xshift": -20,
          "y": 4,
          "yshift": 0
         },
         {
          "font": {
           "color": "black",
           "size": 12
          },
          "showarrow": false,
          "text": ",",
          "textangle": -90,
          "x": 5,
          "xshift": 0,
          "y": -1,
          "yshift": 20
         },
         {
          "font": {
           "color": "black",
           "size": 12
          },
          "showarrow": false,
          "text": " the",
          "x": 13,
          "xshift": 20,
          "y": 5,
          "yshift": 0
         },
         {
          "font": {
           "color": "black",
           "size": 12
          },
          "showarrow": false,
          "text": ",",
          "textangle": -90,
          "x": 5,
          "xshift": 0,
          "y": 13,
          "yshift": -20
         },
         {
          "font": {
           "color": "black",
           "size": 12
          },
          "showarrow": false,
          "text": " late",
          "x": -1,
          "xshift": -20,
          "y": 5,
          "yshift": 0
         },
         {
          "font": {
           "color": "black",
           "size": 12
          },
          "showarrow": false,
          "text": ",",
          "textangle": -90,
          "x": 6,
          "xshift": 0,
          "y": -1,
          "yshift": 20
         },
         {
          "font": {
           "color": "black",
           "size": 12
          },
          "showarrow": false,
          "text": "<nl>",
          "x": 13,
          "xshift": 20,
          "y": 6,
          "yshift": 0
         },
         {
          "font": {
           "color": "black",
           "size": 12
          },
          "showarrow": false,
          "text": ",",
          "textangle": -90,
          "x": 6,
          "xshift": 0,
          "y": 13,
          "yshift": -20
         },
         {
          "font": {
           "color": "black",
           "size": 12
          },
          "showarrow": false,
          "text": ".",
          "x": -1,
          "xshift": -20,
          "y": 6,
          "yshift": 0
         },
         {
          "font": {
           "color": "black",
           "size": 12
          },
          "showarrow": false,
          "text": " the",
          "textangle": -90,
          "x": 7,
          "xshift": 0,
          "y": -1,
          "yshift": 20
         },
         {
          "font": {
           "color": "black",
           "size": 12
          },
          "showarrow": false,
          "text": " the",
          "x": 13,
          "xshift": 20,
          "y": 7,
          "yshift": 0
         },
         {
          "font": {
           "color": "black",
           "size": 12
          },
          "showarrow": false,
          "text": " the",
          "textangle": -90,
          "x": 7,
          "xshift": 0,
          "y": 13,
          "yshift": -20
         },
         {
          "font": {
           "color": "black",
           "size": 12
          },
          "showarrow": false,
          "text": " The",
          "x": -1,
          "xshift": -20,
          "y": 7,
          "yshift": 0
         },
         {
          "font": {
           "color": "black",
           "size": 12
          },
          "showarrow": false,
          "text": " the",
          "textangle": -90,
          "x": 8,
          "xshift": 0,
          "y": -1,
          "yshift": 20
         },
         {
          "font": {
           "color": "black",
           "size": 12
          },
          "showarrow": false,
          "text": " the",
          "x": 13,
          "xshift": 20,
          "y": 8,
          "yshift": 0
         },
         {
          "font": {
           "color": "black",
           "size": 12
          },
          "showarrow": false,
          "text": " the",
          "textangle": -90,
          "x": 8,
          "xshift": 0,
          "y": 13,
          "yshift": -20
         },
         {
          "font": {
           "color": "black",
           "size": 12
          },
          "showarrow": false,
          "text": " previous",
          "x": -1,
          "xshift": -20,
          "y": 8,
          "yshift": 0
         },
         {
          "font": {
           "color": "black",
           "size": 12
          },
          "showarrow": false,
          "text": ",",
          "textangle": -90,
          "x": 9,
          "xshift": 0,
          "y": -1,
          "yshift": 20
         },
         {
          "font": {
           "color": "black",
           "size": 12
          },
          "showarrow": false,
          "text": " the",
          "x": 13,
          "xshift": 20,
          "y": 9,
          "yshift": 0
         },
         {
          "font": {
           "color": "black",
           "size": 12
          },
          "showarrow": false,
          "text": ",",
          "textangle": -90,
          "x": 9,
          "xshift": 0,
          "y": 13,
          "yshift": -20
         },
         {
          "font": {
           "color": "black",
           "size": 12
          },
          "showarrow": false,
          "text": " bus",
          "x": -1,
          "xshift": -20,
          "y": 9,
          "yshift": 0
         },
         {
          "font": {
           "color": "black",
           "size": 12
          },
          "showarrow": false,
          "text": " the",
          "textangle": -90,
          "x": 10,
          "xshift": 0,
          "y": -1,
          "yshift": 20
         },
         {
          "font": {
           "color": "black",
           "size": 12
          },
          "showarrow": false,
          "text": " the",
          "x": 13,
          "xshift": 20,
          "y": 10,
          "yshift": 0
         },
         {
          "font": {
           "color": "black",
           "size": 12
          },
          "showarrow": false,
          "text": " the",
          "textangle": -90,
          "x": 10,
          "xshift": 0,
          "y": 13,
          "yshift": -20
         },
         {
          "font": {
           "color": "black",
           "size": 12
          },
          "showarrow": false,
          "text": " was",
          "x": -1,
          "xshift": -20,
          "y": 10,
          "yshift": 0
         },
         {
          "font": {
           "color": "black",
           "size": 12
          },
          "showarrow": false,
          "text": " the",
          "textangle": -90,
          "x": 11,
          "xshift": 0,
          "y": -1,
          "yshift": 20
         },
         {
          "font": {
           "color": "black",
           "size": 12
          },
          "showarrow": false,
          "text": " the",
          "x": 13,
          "xshift": 20,
          "y": 11,
          "yshift": 0
         },
         {
          "font": {
           "color": "black",
           "size": 12
          },
          "showarrow": false,
          "text": " the",
          "textangle": -90,
          "x": 11,
          "xshift": 0,
          "y": 13,
          "yshift": -20
         },
         {
          "font": {
           "color": "black",
           "size": 12
          },
          "showarrow": false,
          "text": " early",
          "x": -1,
          "xshift": -20,
          "y": 11,
          "yshift": 0
         },
         {
          "font": {
           "color": "black",
           "size": 12
          },
          "showarrow": false,
          "text": ",",
          "textangle": -90,
          "x": 12,
          "xshift": 0,
          "y": -1,
          "yshift": 20
         },
         {
          "font": {
           "color": "black",
           "size": 12
          },
          "showarrow": false,
          "text": "<nl>",
          "x": 13,
          "xshift": 20,
          "y": 12,
          "yshift": 0
         },
         {
          "font": {
           "color": "black",
           "size": 12
          },
          "showarrow": false,
          "text": ",",
          "textangle": -90,
          "x": 12,
          "xshift": 0,
          "y": 13,
          "yshift": -20
         },
         {
          "font": {
           "color": "black",
           "size": 12
          },
          "showarrow": false,
          "text": ".",
          "x": -1,
          "xshift": -20,
          "y": 12,
          "yshift": 0
         },
         {
          "font": {
           "color": "white",
           "size": 10
          },
          "showarrow": false,
          "text": " the",
          "textangle": -45,
          "x": 0,
          "y": 0
         },
         {
          "font": {
           "color": "white",
           "size": 10
          },
          "showarrow": false,
          "text": " the",
          "textangle": -45,
          "x": 0,
          "y": 1
         },
         {
          "font": {
           "color": "white",
           "size": 10
          },
          "showarrow": false,
          "text": "12",
          "textangle": -45,
          "x": 1,
          "y": 1
         },
         {
          "font": {
           "color": "white",
           "size": 10
          },
          "showarrow": false,
          "text": " the",
          "textangle": -45,
          "x": 0,
          "y": 2
         },
         {
          "font": {
           "color": "white",
           "size": 10
          },
          "showarrow": false,
          "text": "12",
          "textangle": -45,
          "x": 1,
          "y": 2
         },
         {
          "font": {
           "color": "white",
           "size": 10
          },
          "showarrow": false,
          "text": " of",
          "textangle": -45,
          "x": 2,
          "y": 2
         },
         {
          "font": {
           "color": "white",
           "size": 10
          },
          "showarrow": false,
          "text": ",",
          "textangle": -45,
          "x": 0,
          "y": 3
         },
         {
          "font": {
           "color": "white",
           "size": 10
          },
          "showarrow": false,
          "text": "\n",
          "textangle": -45,
          "x": 1,
          "y": 3
         },
         {
          "font": {
           "color": "white",
           "size": 10
          },
          "showarrow": false,
          "text": "12",
          "textangle": -45,
          "x": 2,
          "y": 3
         },
         {
          "font": {
           "color": "white",
           "size": 10
          },
          "showarrow": false,
          "text": "\n",
          "textangle": -45,
          "x": 3,
          "y": 3
         },
         {
          "font": {
           "color": "white",
           "size": 10
          },
          "showarrow": false,
          "text": ",",
          "textangle": -45,
          "x": 0,
          "y": 4
         },
         {
          "font": {
           "color": "white",
           "size": 10
          },
          "showarrow": false,
          "text": " of",
          "textangle": -45,
          "x": 1,
          "y": 4
         },
         {
          "font": {
           "color": "white",
           "size": 10
          },
          "showarrow": false,
          "text": "e",
          "textangle": -45,
          "x": 2,
          "y": 4
         },
         {
          "font": {
           "color": "white",
           "size": 10
          },
          "showarrow": false,
          "text": " of",
          "textangle": -45,
          "x": 3,
          "y": 4
         },
         {
          "font": {
           "color": "white",
           "size": 10
          },
          "showarrow": false,
          "text": "gp",
          "textangle": -45,
          "x": 4,
          "y": 4
         },
         {
          "font": {
           "color": "white",
           "size": 10
          },
          "showarrow": false,
          "text": " the",
          "textangle": -45,
          "x": 0,
          "y": 5
         },
         {
          "font": {
           "color": "white",
           "size": 10
          },
          "showarrow": false,
          "text": "12",
          "textangle": -45,
          "x": 1,
          "y": 5
         },
         {
          "font": {
           "color": "white",
           "size": 10
          },
          "showarrow": false,
          "text": " a",
          "textangle": -45,
          "x": 2,
          "y": 5
         },
         {
          "font": {
           "color": "white",
           "size": 10
          },
          "showarrow": false,
          "text": "\n",
          "textangle": -45,
          "x": 3,
          "y": 5
         },
         {
          "font": {
           "color": "white",
           "size": 10
          },
          "showarrow": false,
          "text": "e",
          "textangle": -45,
          "x": 4,
          "y": 5
         },
         {
          "font": {
           "color": "white",
           "size": 10
          },
          "showarrow": false,
          "text": "\n",
          "textangle": -45,
          "x": 5,
          "y": 5
         },
         {
          "font": {
           "color": "white",
           "size": 10
          },
          "showarrow": false,
          "text": ",",
          "textangle": -45,
          "x": 0,
          "y": 6
         },
         {
          "font": {
           "color": "white",
           "size": 10
          },
          "showarrow": false,
          "text": "st",
          "textangle": -45,
          "x": 1,
          "y": 6
         },
         {
          "font": {
           "color": "white",
           "size": 10
          },
          "showarrow": false,
          "text": " of",
          "textangle": -45,
          "x": 2,
          "y": 6
         },
         {
          "font": {
           "color": "white",
           "size": 10
          },
          "showarrow": false,
          "text": "st",
          "textangle": -45,
          "x": 3,
          "y": 6
         },
         {
          "font": {
           "color": "white",
           "size": 10
          },
          "showarrow": false,
          "text": "gp",
          "textangle": -45,
          "x": 4,
          "y": 6
         },
         {
          "font": {
           "color": "white",
           "size": 10
          },
          "showarrow": false,
          "text": " of",
          "textangle": -45,
          "x": 5,
          "y": 6
         },
         {
          "font": {
           "color": "white",
           "size": 10
          },
          "showarrow": false,
          "text": "tg",
          "textangle": -45,
          "x": 6,
          "y": 6
         },
         {
          "font": {
           "color": "white",
           "size": 10
          },
          "showarrow": false,
          "text": " the",
          "textangle": -45,
          "x": 0,
          "y": 7
         },
         {
          "font": {
           "color": "white",
           "size": 10
          },
          "showarrow": false,
          "text": "12",
          "textangle": -45,
          "x": 1,
          "y": 7
         },
         {
          "font": {
           "color": "white",
           "size": 10
          },
          "showarrow": false,
          "text": "\n",
          "textangle": -45,
          "x": 2,
          "y": 7
         },
         {
          "font": {
           "color": "white",
           "size": 10
          },
          "showarrow": false,
          "text": " and",
          "textangle": -45,
          "x": 3,
          "y": 7
         },
         {
          "font": {
           "color": "white",
           "size": 10
          },
          "showarrow": false,
          "text": "gp",
          "textangle": -45,
          "x": 4,
          "y": 7
         },
         {
          "font": {
           "color": "white",
           "size": 10
          },
          "showarrow": false,
          "text": " of",
          "textangle": -45,
          "x": 5,
          "y": 7
         },
         {
          "font": {
           "color": "white",
           "size": 10
          },
          "showarrow": false,
          "text": "e",
          "textangle": -45,
          "x": 6,
          "y": 7
         },
         {
          "font": {
           "color": "white",
           "size": 10
          },
          "showarrow": false,
          "text": "gp",
          "textangle": -45,
          "x": 7,
          "y": 7
         },
         {
          "font": {
           "color": "white",
           "size": 10
          },
          "showarrow": false,
          "text": " the",
          "textangle": -45,
          "x": 0,
          "y": 8
         },
         {
          "font": {
           "color": "white",
           "size": 10
          },
          "showarrow": false,
          "text": "\n",
          "textangle": -45,
          "x": 1,
          "y": 8
         },
         {
          "font": {
           "color": "white",
           "size": 10
          },
          "showarrow": false,
          "text": " a",
          "textangle": -45,
          "x": 2,
          "y": 8
         },
         {
          "font": {
           "color": "white",
           "size": 10
          },
          "showarrow": false,
          "text": " and",
          "textangle": -45,
          "x": 3,
          "y": 8
         },
         {
          "font": {
           "color": "white",
           "size": 10
          },
          "showarrow": false,
          "text": "e",
          "textangle": -45,
          "x": 4,
          "y": 8
         },
         {
          "font": {
           "color": "white",
           "size": 10
          },
          "showarrow": false,
          "text": " of",
          "textangle": -45,
          "x": 5,
          "y": 8
         },
         {
          "font": {
           "color": "white",
           "size": 10
          },
          "showarrow": false,
          "text": "st",
          "textangle": -45,
          "x": 6,
          "y": 8
         },
         {
          "font": {
           "color": "white",
           "size": 10
          },
          "showarrow": false,
          "text": "80",
          "textangle": -45,
          "x": 7,
          "y": 8
         },
         {
          "font": {
           "color": "white",
           "size": 10
          },
          "showarrow": false,
          "text": "Dim",
          "textangle": -45,
          "x": 8,
          "y": 8
         },
         {
          "font": {
           "color": "white",
           "size": 10
          },
          "showarrow": false,
          "text": ",",
          "textangle": -45,
          "x": 0,
          "y": 9
         },
         {
          "font": {
           "color": "white",
           "size": 10
          },
          "showarrow": false,
          "text": "\n",
          "textangle": -45,
          "x": 1,
          "y": 9
         },
         {
          "font": {
           "color": "white",
           "size": 10
          },
          "showarrow": false,
          "text": "\n",
          "textangle": -45,
          "x": 2,
          "y": 9
         },
         {
          "font": {
           "color": "white",
           "size": 10
          },
          "showarrow": false,
          "text": "\n",
          "textangle": -45,
          "x": 3,
          "y": 9
         },
         {
          "font": {
           "color": "white",
           "size": 10
          },
          "showarrow": false,
          "text": "e",
          "textangle": -45,
          "x": 4,
          "y": 9
         },
         {
          "font": {
           "color": "white",
           "size": 10
          },
          "showarrow": false,
          "text": "\n",
          "textangle": -45,
          "x": 5,
          "y": 9
         },
         {
          "font": {
           "color": "white",
           "size": 10
          },
          "showarrow": false,
          "text": "gp",
          "textangle": -45,
          "x": 6,
          "y": 9
         },
         {
          "font": {
           "color": "white",
           "size": 10
          },
          "showarrow": false,
          "text": "gp",
          "textangle": -45,
          "x": 7,
          "y": 9
         },
         {
          "font": {
           "color": "white",
           "size": 10
          },
          "showarrow": false,
          "text": "gp",
          "textangle": -45,
          "x": 8,
          "y": 9
         },
         {
          "font": {
           "color": "white",
           "size": 10
          },
          "showarrow": false,
          "text": "\n",
          "textangle": -45,
          "x": 9,
          "y": 9
         },
         {
          "font": {
           "color": "white",
           "size": 10
          },
          "showarrow": false,
          "text": ",",
          "textangle": -45,
          "x": 0,
          "y": 10
         },
         {
          "font": {
           "color": "white",
           "size": 10
          },
          "showarrow": false,
          "text": " of",
          "textangle": -45,
          "x": 1,
          "y": 10
         },
         {
          "font": {
           "color": "white",
           "size": 10
          },
          "showarrow": false,
          "text": " a",
          "textangle": -45,
          "x": 2,
          "y": 10
         },
         {
          "font": {
           "color": "white",
           "size": 10
          },
          "showarrow": false,
          "text": "\n",
          "textangle": -45,
          "x": 3,
          "y": 10
         },
         {
          "font": {
           "color": "white",
           "size": 10
          },
          "showarrow": false,
          "text": "gp",
          "textangle": -45,
          "x": 4,
          "y": 10
         },
         {
          "font": {
           "color": "white",
           "size": 10
          },
          "showarrow": false,
          "text": " of",
          "textangle": -45,
          "x": 5,
          "y": 10
         },
         {
          "font": {
           "color": "white",
           "size": 10
          },
          "showarrow": false,
          "text": "st",
          "textangle": -45,
          "x": 6,
          "y": 10
         },
         {
          "font": {
           "color": "white",
           "size": 10
          },
          "showarrow": false,
          "text": "gp",
          "textangle": -45,
          "x": 7,
          "y": 10
         },
         {
          "font": {
           "color": "white",
           "size": 10
          },
          "showarrow": false,
          "text": " U",
          "textangle": -45,
          "x": 8,
          "y": 10
         },
         {
          "font": {
           "color": "white",
           "size": 10
          },
          "showarrow": false,
          "text": "\n",
          "textangle": -45,
          "x": 9,
          "y": 10
         },
         {
          "font": {
           "color": "white",
           "size": 10
          },
          "showarrow": false,
          "text": "gp",
          "textangle": -45,
          "x": 10,
          "y": 10
         },
         {
          "font": {
           "color": "white",
           "size": 10
          },
          "showarrow": false,
          "text": " the",
          "textangle": -45,
          "x": 0,
          "y": 11
         },
         {
          "font": {
           "color": "white",
           "size": 10
          },
          "showarrow": false,
          "text": "\n",
          "textangle": -45,
          "x": 1,
          "y": 11
         },
         {
          "font": {
           "color": "white",
           "size": 10
          },
          "showarrow": false,
          "text": " the",
          "textangle": -45,
          "x": 2,
          "y": 11
         },
         {
          "font": {
           "color": "white",
           "size": 10
          },
          "showarrow": false,
          "text": " and",
          "textangle": -45,
          "x": 3,
          "y": 11
         },
         {
          "font": {
           "color": "white",
           "size": 10
          },
          "showarrow": false,
          "text": "e",
          "textangle": -45,
          "x": 4,
          "y": 11
         },
         {
          "font": {
           "color": "white",
           "size": 10
          },
          "showarrow": false,
          "text": "\n",
          "textangle": -45,
          "x": 5,
          "y": 11
         },
         {
          "font": {
           "color": "white",
           "size": 10
          },
          "showarrow": false,
          "text": " of",
          "textangle": -45,
          "x": 6,
          "y": 11
         },
         {
          "font": {
           "color": "white",
           "size": 10
          },
          "showarrow": false,
          "text": " -",
          "textangle": -45,
          "x": 7,
          "y": 11
         },
         {
          "font": {
           "color": "white",
           "size": 10
          },
          "showarrow": false,
          "text": "\n",
          "textangle": -45,
          "x": 8,
          "y": 11
         },
         {
          "font": {
           "color": "white",
           "size": 10
          },
          "showarrow": false,
          "text": " of",
          "textangle": -45,
          "x": 9,
          "y": 11
         },
         {
          "font": {
           "color": "white",
           "size": 10
          },
          "showarrow": false,
          "text": "e",
          "textangle": -45,
          "x": 10,
          "y": 11
         },
         {
          "font": {
           "color": "white",
           "size": 10
          },
          "showarrow": false,
          "text": "\n",
          "textangle": -45,
          "x": 11,
          "y": 11
         },
         {
          "font": {
           "color": "white",
           "size": 10
          },
          "showarrow": false,
          "text": ",",
          "textangle": -45,
          "x": 0,
          "y": 12
         },
         {
          "font": {
           "color": "white",
           "size": 10
          },
          "showarrow": false,
          "text": " of",
          "textangle": -45,
          "x": 1,
          "y": 12
         },
         {
          "font": {
           "color": "white",
           "size": 10
          },
          "showarrow": false,
          "text": " of",
          "textangle": -45,
          "x": 2,
          "y": 12
         },
         {
          "font": {
           "color": "white",
           "size": 10
          },
          "showarrow": false,
          "text": "st",
          "textangle": -45,
          "x": 3,
          "y": 12
         },
         {
          "font": {
           "color": "white",
           "size": 10
          },
          "showarrow": false,
          "text": "gp",
          "textangle": -45,
          "x": 4,
          "y": 12
         },
         {
          "font": {
           "color": "white",
           "size": 10
          },
          "showarrow": false,
          "text": " of",
          "textangle": -45,
          "x": 5,
          "y": 12
         },
         {
          "font": {
           "color": "white",
           "size": 10
          },
          "showarrow": false,
          "text": "c",
          "textangle": -45,
          "x": 6,
          "y": 12
         },
         {
          "font": {
           "color": "white",
           "size": 10
          },
          "showarrow": false,
          "text": "gp",
          "textangle": -45,
          "x": 7,
          "y": 12
         },
         {
          "font": {
           "color": "white",
           "size": 10
          },
          "showarrow": false,
          "text": "gp",
          "textangle": -45,
          "x": 8,
          "y": 12
         },
         {
          "font": {
           "color": "white",
           "size": 10
          },
          "showarrow": false,
          "text": "st",
          "textangle": -45,
          "x": 9,
          "y": 12
         },
         {
          "font": {
           "color": "white",
           "size": 10
          },
          "showarrow": false,
          "text": "gp",
          "textangle": -45,
          "x": 10,
          "y": 12
         },
         {
          "font": {
           "color": "white",
           "size": 10
          },
          "showarrow": false,
          "text": "st",
          "textangle": -45,
          "x": 11,
          "y": 12
         },
         {
          "font": {
           "color": "white",
           "size": 10
          },
          "showarrow": false,
          "text": "gp",
          "textangle": -45,
          "x": 12,
          "y": 12
         }
        ],
        "coloraxis": {
         "cmid": 0.5,
         "colorscale": [
          [
           0,
           "#440154"
          ],
          [
           0.1111111111111111,
           "#482878"
          ],
          [
           0.2222222222222222,
           "#3e4989"
          ],
          [
           0.3333333333333333,
           "#31688e"
          ],
          [
           0.4444444444444444,
           "#26828e"
          ],
          [
           0.5555555555555556,
           "#1f9e89"
          ],
          [
           0.6666666666666666,
           "#35b779"
          ],
          [
           0.7777777777777778,
           "#6ece58"
          ],
          [
           0.8888888888888888,
           "#b5de2b"
          ],
          [
           1,
           "#fde725"
          ]
         ],
         "showscale": false
        },
        "height": 800,
        "margin": {
         "t": 60
        },
        "plot_bgcolor": "white",
        "shapes": [
         {
          "fillcolor": "rgba(0, 0, 0, 0)",
          "line": {
           "color": "white",
           "width": 2
          },
          "type": "rect",
          "x0": -0.5,
          "x1": 0.5,
          "y0": -0.5,
          "y1": 0.5
         },
         {
          "fillcolor": "rgba(0, 0, 0, 0)",
          "line": {
           "color": "white",
           "width": 2
          },
          "type": "rect",
          "x0": 0.5,
          "x1": 1.5,
          "y0": 0.5,
          "y1": 1.5
         },
         {
          "fillcolor": "rgba(0, 0, 0, 0)",
          "line": {
           "color": "white",
           "width": 2
          },
          "type": "rect",
          "x0": 1.5,
          "x1": 2.5,
          "y0": 1.5,
          "y1": 2.5
         },
         {
          "fillcolor": "rgba(0, 0, 0, 0)",
          "line": {
           "color": "white",
           "width": 2
          },
          "type": "rect",
          "x0": 2.5,
          "x1": 3.5,
          "y0": 2.5,
          "y1": 3.5
         },
         {
          "fillcolor": "rgba(0, 0, 0, 0)",
          "line": {
           "color": "white",
           "width": 2
          },
          "type": "rect",
          "x0": 3.5,
          "x1": 4.5,
          "y0": 3.5,
          "y1": 4.5
         },
         {
          "fillcolor": "rgba(0, 0, 0, 0)",
          "line": {
           "color": "white",
           "width": 2
          },
          "type": "rect",
          "x0": 4.5,
          "x1": 5.5,
          "y0": 4.5,
          "y1": 5.5
         },
         {
          "fillcolor": "rgba(0, 0, 0, 0)",
          "line": {
           "color": "white",
           "width": 2
          },
          "type": "rect",
          "x0": 5.5,
          "x1": 6.5,
          "y0": 5.5,
          "y1": 6.5
         },
         {
          "fillcolor": "rgba(0, 0, 0, 0)",
          "line": {
           "color": "white",
           "width": 2
          },
          "type": "rect",
          "x0": 0.5,
          "x1": 1.5,
          "y0": 6.5,
          "y1": 7.5
         },
         {
          "fillcolor": "rgba(0, 0, 0, 0)",
          "line": {
           "color": "white",
           "width": 2
          },
          "type": "rect",
          "x0": 6.5,
          "x1": 7.5,
          "y0": 6.5,
          "y1": 7.5
         },
         {
          "fillcolor": "rgba(0, 0, 0, 0)",
          "line": {
           "color": "white",
           "width": 2
          },
          "type": "rect",
          "x0": 7.5,
          "x1": 8.5,
          "y0": 7.5,
          "y1": 8.5
         },
         {
          "fillcolor": "rgba(0, 0, 0, 0)",
          "line": {
           "color": "white",
           "width": 2
          },
          "type": "rect",
          "x0": 2.5,
          "x1": 3.5,
          "y0": 8.5,
          "y1": 9.5
         },
         {
          "fillcolor": "rgba(0, 0, 0, 0)",
          "line": {
           "color": "white",
           "width": 2
          },
          "type": "rect",
          "x0": 8.5,
          "x1": 9.5,
          "y0": 8.5,
          "y1": 9.5
         },
         {
          "fillcolor": "rgba(0, 0, 0, 0)",
          "line": {
           "color": "white",
           "width": 2
          },
          "type": "rect",
          "x0": 9.5,
          "x1": 10.5,
          "y0": 9.5,
          "y1": 10.5
         },
         {
          "fillcolor": "rgba(0, 0, 0, 0)",
          "line": {
           "color": "white",
           "width": 2
          },
          "type": "rect",
          "x0": 10.5,
          "x1": 11.5,
          "y0": 10.5,
          "y1": 11.5
         },
         {
          "fillcolor": "rgba(0, 0, 0, 0)",
          "line": {
           "color": "white",
           "width": 2
          },
          "type": "rect",
          "x0": 5.5,
          "x1": 6.5,
          "y0": 11.5,
          "y1": 12.5
         },
         {
          "fillcolor": "rgba(0, 0, 0, 0)",
          "line": {
           "color": "white",
           "width": 2
          },
          "type": "rect",
          "x0": 11.5,
          "x1": 12.5,
          "y0": 11.5,
          "y1": 12.5
         }
        ],
        "template": {
         "data": {
          "bar": [
           {
            "error_x": {
             "color": "#2a3f5f"
            },
            "error_y": {
             "color": "#2a3f5f"
            },
            "marker": {
             "line": {
              "color": "#E5ECF6",
              "width": 0.5
             },
             "pattern": {
              "fillmode": "overlay",
              "size": 10,
              "solidity": 0.2
             }
            },
            "type": "bar"
           }
          ],
          "barpolar": [
           {
            "marker": {
             "line": {
              "color": "#E5ECF6",
              "width": 0.5
             },
             "pattern": {
              "fillmode": "overlay",
              "size": 10,
              "solidity": 0.2
             }
            },
            "type": "barpolar"
           }
          ],
          "carpet": [
           {
            "aaxis": {
             "endlinecolor": "#2a3f5f",
             "gridcolor": "white",
             "linecolor": "white",
             "minorgridcolor": "white",
             "startlinecolor": "#2a3f5f"
            },
            "baxis": {
             "endlinecolor": "#2a3f5f",
             "gridcolor": "white",
             "linecolor": "white",
             "minorgridcolor": "white",
             "startlinecolor": "#2a3f5f"
            },
            "type": "carpet"
           }
          ],
          "choropleth": [
           {
            "colorbar": {
             "outlinewidth": 0,
             "ticks": ""
            },
            "type": "choropleth"
           }
          ],
          "contour": [
           {
            "colorbar": {
             "outlinewidth": 0,
             "ticks": ""
            },
            "colorscale": [
             [
              0,
              "#0d0887"
             ],
             [
              0.1111111111111111,
              "#46039f"
             ],
             [
              0.2222222222222222,
              "#7201a8"
             ],
             [
              0.3333333333333333,
              "#9c179e"
             ],
             [
              0.4444444444444444,
              "#bd3786"
             ],
             [
              0.5555555555555556,
              "#d8576b"
             ],
             [
              0.6666666666666666,
              "#ed7953"
             ],
             [
              0.7777777777777778,
              "#fb9f3a"
             ],
             [
              0.8888888888888888,
              "#fdca26"
             ],
             [
              1,
              "#f0f921"
             ]
            ],
            "type": "contour"
           }
          ],
          "contourcarpet": [
           {
            "colorbar": {
             "outlinewidth": 0,
             "ticks": ""
            },
            "type": "contourcarpet"
           }
          ],
          "heatmap": [
           {
            "colorbar": {
             "outlinewidth": 0,
             "ticks": ""
            },
            "colorscale": [
             [
              0,
              "#0d0887"
             ],
             [
              0.1111111111111111,
              "#46039f"
             ],
             [
              0.2222222222222222,
              "#7201a8"
             ],
             [
              0.3333333333333333,
              "#9c179e"
             ],
             [
              0.4444444444444444,
              "#bd3786"
             ],
             [
              0.5555555555555556,
              "#d8576b"
             ],
             [
              0.6666666666666666,
              "#ed7953"
             ],
             [
              0.7777777777777778,
              "#fb9f3a"
             ],
             [
              0.8888888888888888,
              "#fdca26"
             ],
             [
              1,
              "#f0f921"
             ]
            ],
            "type": "heatmap"
           }
          ],
          "heatmapgl": [
           {
            "colorbar": {
             "outlinewidth": 0,
             "ticks": ""
            },
            "colorscale": [
             [
              0,
              "#0d0887"
             ],
             [
              0.1111111111111111,
              "#46039f"
             ],
             [
              0.2222222222222222,
              "#7201a8"
             ],
             [
              0.3333333333333333,
              "#9c179e"
             ],
             [
              0.4444444444444444,
              "#bd3786"
             ],
             [
              0.5555555555555556,
              "#d8576b"
             ],
             [
              0.6666666666666666,
              "#ed7953"
             ],
             [
              0.7777777777777778,
              "#fb9f3a"
             ],
             [
              0.8888888888888888,
              "#fdca26"
             ],
             [
              1,
              "#f0f921"
             ]
            ],
            "type": "heatmapgl"
           }
          ],
          "histogram": [
           {
            "marker": {
             "pattern": {
              "fillmode": "overlay",
              "size": 10,
              "solidity": 0.2
             }
            },
            "type": "histogram"
           }
          ],
          "histogram2d": [
           {
            "colorbar": {
             "outlinewidth": 0,
             "ticks": ""
            },
            "colorscale": [
             [
              0,
              "#0d0887"
             ],
             [
              0.1111111111111111,
              "#46039f"
             ],
             [
              0.2222222222222222,
              "#7201a8"
             ],
             [
              0.3333333333333333,
              "#9c179e"
             ],
             [
              0.4444444444444444,
              "#bd3786"
             ],
             [
              0.5555555555555556,
              "#d8576b"
             ],
             [
              0.6666666666666666,
              "#ed7953"
             ],
             [
              0.7777777777777778,
              "#fb9f3a"
             ],
             [
              0.8888888888888888,
              "#fdca26"
             ],
             [
              1,
              "#f0f921"
             ]
            ],
            "type": "histogram2d"
           }
          ],
          "histogram2dcontour": [
           {
            "colorbar": {
             "outlinewidth": 0,
             "ticks": ""
            },
            "colorscale": [
             [
              0,
              "#0d0887"
             ],
             [
              0.1111111111111111,
              "#46039f"
             ],
             [
              0.2222222222222222,
              "#7201a8"
             ],
             [
              0.3333333333333333,
              "#9c179e"
             ],
             [
              0.4444444444444444,
              "#bd3786"
             ],
             [
              0.5555555555555556,
              "#d8576b"
             ],
             [
              0.6666666666666666,
              "#ed7953"
             ],
             [
              0.7777777777777778,
              "#fb9f3a"
             ],
             [
              0.8888888888888888,
              "#fdca26"
             ],
             [
              1,
              "#f0f921"
             ]
            ],
            "type": "histogram2dcontour"
           }
          ],
          "mesh3d": [
           {
            "colorbar": {
             "outlinewidth": 0,
             "ticks": ""
            },
            "type": "mesh3d"
           }
          ],
          "parcoords": [
           {
            "line": {
             "colorbar": {
              "outlinewidth": 0,
              "ticks": ""
             }
            },
            "type": "parcoords"
           }
          ],
          "pie": [
           {
            "automargin": true,
            "type": "pie"
           }
          ],
          "scatter": [
           {
            "fillpattern": {
             "fillmode": "overlay",
             "size": 10,
             "solidity": 0.2
            },
            "type": "scatter"
           }
          ],
          "scatter3d": [
           {
            "line": {
             "colorbar": {
              "outlinewidth": 0,
              "ticks": ""
             }
            },
            "marker": {
             "colorbar": {
              "outlinewidth": 0,
              "ticks": ""
             }
            },
            "type": "scatter3d"
           }
          ],
          "scattercarpet": [
           {
            "marker": {
             "colorbar": {
              "outlinewidth": 0,
              "ticks": ""
             }
            },
            "type": "scattercarpet"
           }
          ],
          "scattergeo": [
           {
            "marker": {
             "colorbar": {
              "outlinewidth": 0,
              "ticks": ""
             }
            },
            "type": "scattergeo"
           }
          ],
          "scattergl": [
           {
            "marker": {
             "colorbar": {
              "outlinewidth": 0,
              "ticks": ""
             }
            },
            "type": "scattergl"
           }
          ],
          "scattermapbox": [
           {
            "marker": {
             "colorbar": {
              "outlinewidth": 0,
              "ticks": ""
             }
            },
            "type": "scattermapbox"
           }
          ],
          "scatterpolar": [
           {
            "marker": {
             "colorbar": {
              "outlinewidth": 0,
              "ticks": ""
             }
            },
            "type": "scatterpolar"
           }
          ],
          "scatterpolargl": [
           {
            "marker": {
             "colorbar": {
              "outlinewidth": 0,
              "ticks": ""
             }
            },
            "type": "scatterpolargl"
           }
          ],
          "scatterternary": [
           {
            "marker": {
             "colorbar": {
              "outlinewidth": 0,
              "ticks": ""
             }
            },
            "type": "scatterternary"
           }
          ],
          "surface": [
           {
            "colorbar": {
             "outlinewidth": 0,
             "ticks": ""
            },
            "colorscale": [
             [
              0,
              "#0d0887"
             ],
             [
              0.1111111111111111,
              "#46039f"
             ],
             [
              0.2222222222222222,
              "#7201a8"
             ],
             [
              0.3333333333333333,
              "#9c179e"
             ],
             [
              0.4444444444444444,
              "#bd3786"
             ],
             [
              0.5555555555555556,
              "#d8576b"
             ],
             [
              0.6666666666666666,
              "#ed7953"
             ],
             [
              0.7777777777777778,
              "#fb9f3a"
             ],
             [
              0.8888888888888888,
              "#fdca26"
             ],
             [
              1,
              "#f0f921"
             ]
            ],
            "type": "surface"
           }
          ],
          "table": [
           {
            "cells": {
             "fill": {
              "color": "#EBF0F8"
             },
             "line": {
              "color": "white"
             }
            },
            "header": {
             "fill": {
              "color": "#C8D4E3"
             },
             "line": {
              "color": "white"
             }
            },
            "type": "table"
           }
          ]
         },
         "layout": {
          "annotationdefaults": {
           "arrowcolor": "#2a3f5f",
           "arrowhead": 0,
           "arrowwidth": 1
          },
          "autotypenumbers": "strict",
          "coloraxis": {
           "colorbar": {
            "outlinewidth": 0,
            "ticks": ""
           }
          },
          "colorscale": {
           "diverging": [
            [
             0,
             "#8e0152"
            ],
            [
             0.1,
             "#c51b7d"
            ],
            [
             0.2,
             "#de77ae"
            ],
            [
             0.3,
             "#f1b6da"
            ],
            [
             0.4,
             "#fde0ef"
            ],
            [
             0.5,
             "#f7f7f7"
            ],
            [
             0.6,
             "#e6f5d0"
            ],
            [
             0.7,
             "#b8e186"
            ],
            [
             0.8,
             "#7fbc41"
            ],
            [
             0.9,
             "#4d9221"
            ],
            [
             1,
             "#276419"
            ]
           ],
           "sequential": [
            [
             0,
             "#0d0887"
            ],
            [
             0.1111111111111111,
             "#46039f"
            ],
            [
             0.2222222222222222,
             "#7201a8"
            ],
            [
             0.3333333333333333,
             "#9c179e"
            ],
            [
             0.4444444444444444,
             "#bd3786"
            ],
            [
             0.5555555555555556,
             "#d8576b"
            ],
            [
             0.6666666666666666,
             "#ed7953"
            ],
            [
             0.7777777777777778,
             "#fb9f3a"
            ],
            [
             0.8888888888888888,
             "#fdca26"
            ],
            [
             1,
             "#f0f921"
            ]
           ],
           "sequentialminus": [
            [
             0,
             "#0d0887"
            ],
            [
             0.1111111111111111,
             "#46039f"
            ],
            [
             0.2222222222222222,
             "#7201a8"
            ],
            [
             0.3333333333333333,
             "#9c179e"
            ],
            [
             0.4444444444444444,
             "#bd3786"
            ],
            [
             0.5555555555555556,
             "#d8576b"
            ],
            [
             0.6666666666666666,
             "#ed7953"
            ],
            [
             0.7777777777777778,
             "#fb9f3a"
            ],
            [
             0.8888888888888888,
             "#fdca26"
            ],
            [
             1,
             "#f0f921"
            ]
           ]
          },
          "colorway": [
           "#636efa",
           "#EF553B",
           "#00cc96",
           "#ab63fa",
           "#FFA15A",
           "#19d3f3",
           "#FF6692",
           "#B6E880",
           "#FF97FF",
           "#FECB52"
          ],
          "font": {
           "color": "#2a3f5f"
          },
          "geo": {
           "bgcolor": "white",
           "lakecolor": "white",
           "landcolor": "#E5ECF6",
           "showlakes": true,
           "showland": true,
           "subunitcolor": "white"
          },
          "hoverlabel": {
           "align": "left"
          },
          "hovermode": "closest",
          "mapbox": {
           "style": "light"
          },
          "paper_bgcolor": "white",
          "plot_bgcolor": "#E5ECF6",
          "polar": {
           "angularaxis": {
            "gridcolor": "white",
            "linecolor": "white",
            "ticks": ""
           },
           "bgcolor": "#E5ECF6",
           "radialaxis": {
            "gridcolor": "white",
            "linecolor": "white",
            "ticks": ""
           }
          },
          "scene": {
           "xaxis": {
            "backgroundcolor": "#E5ECF6",
            "gridcolor": "white",
            "gridwidth": 2,
            "linecolor": "white",
            "showbackground": true,
            "ticks": "",
            "zerolinecolor": "white"
           },
           "yaxis": {
            "backgroundcolor": "#E5ECF6",
            "gridcolor": "white",
            "gridwidth": 2,
            "linecolor": "white",
            "showbackground": true,
            "ticks": "",
            "zerolinecolor": "white"
           },
           "zaxis": {
            "backgroundcolor": "#E5ECF6",
            "gridcolor": "white",
            "gridwidth": 2,
            "linecolor": "white",
            "showbackground": true,
            "ticks": "",
            "zerolinecolor": "white"
           }
          },
          "shapedefaults": {
           "line": {
            "color": "#2a3f5f"
           }
          },
          "ternary": {
           "aaxis": {
            "gridcolor": "white",
            "linecolor": "white",
            "ticks": ""
           },
           "baxis": {
            "gridcolor": "white",
            "linecolor": "white",
            "ticks": ""
           },
           "bgcolor": "#E5ECF6",
           "caxis": {
            "gridcolor": "white",
            "linecolor": "white",
            "ticks": ""
           }
          },
          "title": {
           "x": 0.05
          },
          "xaxis": {
           "automargin": true,
           "gridcolor": "white",
           "linecolor": "white",
           "ticks": "",
           "title": {
            "standoff": 15
           },
           "zerolinecolor": "white",
           "zerolinewidth": 2
          },
          "yaxis": {
           "automargin": true,
           "gridcolor": "white",
           "linecolor": "white",
           "ticks": "",
           "title": {
            "standoff": 15
           },
           "zerolinecolor": "white",
           "zerolinewidth": 2
          }
         }
        },
        "width": 1200,
        "xaxis": {
         "anchor": "y",
         "constrain": "domain",
         "domain": [
          0,
          1
         ],
         "scaleanchor": "y",
         "showticklabels": false
        },
        "yaxis": {
         "anchor": "x",
         "autorange": "reversed",
         "constrain": "domain",
         "domain": [
          0,
          1
         ],
         "showticklabels": false
        }
       }
      }
     },
     "metadata": {},
     "output_type": "display_data"
    }
   ],
   "source": [
    "data = calculate_attns(cache, 0, 1)\n",
    "feature = data[:, :, :, 2]\n",
    "unique_token_pattern = unique_index_pattern(feature[0])\n",
    "plot = plot_attns(unique_token_pattern)\n",
    "plot = add_attn_overlay(cache, plot, data)\n",
    "plot = add_axis_labels(cache, plot, data)\n",
    "plot = add_token_labels(cache, plot, data, 2)\n",
    "plot"
   ]
  },
  {
   "cell_type": "code",
   "execution_count": 15,
   "metadata": {},
   "outputs": [
    {
     "data": {
      "text/html": [
       "<pre style=\"white-space:pre;overflow-x:auto;line-height:normal;font-family:Menlo,'DejaVu Sans Mono',consolas,'Courier New',monospace\">Running prompt: <span style=\"font-weight: bold\">(</span><span style=\"color: #008000; text-decoration-color: #008000\">'The next sentence is false. The previous sentence is true.'</span>, <span style=\"color: #008000; text-decoration-color: #008000\">'The next bus is late. The previous </span>\n",
       "<span style=\"color: #008000; text-decoration-color: #008000\">bus was early.'</span><span style=\"font-weight: bold\">)</span>\n",
       "</pre>\n"
      ],
      "text/plain": [
       "Running prompt: \u001b[1m(\u001b[0m\u001b[32m'The next sentence is false. The previous sentence is true.'\u001b[0m, \u001b[32m'The next bus is late. The previous \u001b[0m\n",
       "\u001b[32mbus was early.'\u001b[0m\u001b[1m)\u001b[0m\n"
      ]
     },
     "metadata": {},
     "output_type": "display_data"
    },
    {
     "ename": "RuntimeError",
     "evalue": "The expanded size of the tensor (13) must match the existing size (2) at non-singleton dimension 1.  Target sizes: [2, 13, 13, -1].  Tensor sizes: [2, 13, 64]",
     "output_type": "error",
     "traceback": [
      "\u001b[0;31m---------------------------------------------------------------------------\u001b[0m",
      "\u001b[0;31mRuntimeError\u001b[0m                              Traceback (most recent call last)",
      "Cell \u001b[0;32mIn[15], line 8\u001b[0m\n\u001b[1;32m      1\u001b[0m cache \u001b[38;5;241m=\u001b[39m run_prompts(\n\u001b[1;32m      2\u001b[0m     model, \n\u001b[1;32m      3\u001b[0m     \u001b[38;5;124m\"\u001b[39m\u001b[38;5;124mThe next sentence is false. The previous sentence is true.\u001b[39m\u001b[38;5;124m\"\u001b[39m,\n\u001b[1;32m      4\u001b[0m     \u001b[38;5;124m\"\u001b[39m\u001b[38;5;124mThe next bus is late. The previous bus was early.\u001b[39m\u001b[38;5;124m\"\u001b[39m,\n\u001b[1;32m      5\u001b[0m )\n\u001b[1;32m      7\u001b[0m l, h \u001b[38;5;241m=\u001b[39m \u001b[38;5;241m0\u001b[39m, \u001b[38;5;241m2\u001b[39m\n\u001b[0;32m----> 8\u001b[0m data \u001b[38;5;241m=\u001b[39m \u001b[43mcalculate_attns\u001b[49m\u001b[43m(\u001b[49m\u001b[43mcache\u001b[49m\u001b[43m,\u001b[49m\u001b[43m \u001b[49m\u001b[43ml\u001b[49m\u001b[43m,\u001b[49m\u001b[43m \u001b[49m\u001b[43mh\u001b[49m\u001b[43m)\u001b[49m\n\u001b[1;32m      9\u001b[0m bus_plot \u001b[38;5;241m=\u001b[39m plot_attns(unique_index_pattern(data[\u001b[38;5;241m0\u001b[39m, :, :, \u001b[38;5;241m2\u001b[39m]\u001b[38;5;241m.\u001b[39mcpu()))\n\u001b[1;32m     10\u001b[0m bus_plot \u001b[38;5;241m=\u001b[39m add_attn_overlay(cache, bus_plot, data)\n",
      "File \u001b[0;32m~/Work/layterz/experiments/utils/__init__.py:74\u001b[0m, in \u001b[0;36mcalculate_attns\u001b[0;34m(cache, l, h, **kwargs)\u001b[0m\n\u001b[1;32m     72\u001b[0m q, k, v \u001b[38;5;241m=\u001b[39m decompose_head(cache, l, h, pos\u001b[38;5;241m=\u001b[39m(\u001b[38;5;241m0\u001b[39m, seq_len))\n\u001b[1;32m     73\u001b[0m attn \u001b[38;5;241m=\u001b[39m cache[\u001b[38;5;124m'\u001b[39m\u001b[38;5;124mattn\u001b[39m\u001b[38;5;124m'\u001b[39m, l][:, h]\n\u001b[0;32m---> 74\u001b[0m qs \u001b[38;5;241m=\u001b[39m unembed_resid(cache, l, h, \u001b[43mq\u001b[49m\u001b[38;5;241;43m.\u001b[39;49m\u001b[43mexpand\u001b[49m\u001b[43m(\u001b[49m\u001b[43mbatch\u001b[49m\u001b[43m,\u001b[49m\u001b[43m \u001b[49m\u001b[43mseq_len\u001b[49m\u001b[43m,\u001b[49m\u001b[43m \u001b[49m\u001b[43mseq_len\u001b[49m\u001b[43m,\u001b[49m\u001b[43m \u001b[49m\u001b[38;5;241;43m-\u001b[39;49m\u001b[38;5;241;43m1\u001b[39;49m\u001b[43m)\u001b[49m)\n\u001b[1;32m     75\u001b[0m ks \u001b[38;5;241m=\u001b[39m unembed_resid(cache, l, h, k\u001b[38;5;241m.\u001b[39mexpand(batch, seq_len, seq_len, \u001b[38;5;241m-\u001b[39m\u001b[38;5;241m1\u001b[39m))\n\u001b[1;32m     76\u001b[0m vs \u001b[38;5;241m=\u001b[39m unembed_resid(cache, l, h, v\u001b[38;5;241m.\u001b[39mexpand(batch, seq_len, seq_len, \u001b[38;5;241m-\u001b[39m\u001b[38;5;241m1\u001b[39m))\n",
      "\u001b[0;31mRuntimeError\u001b[0m: The expanded size of the tensor (13) must match the existing size (2) at non-singleton dimension 1.  Target sizes: [2, 13, 13, -1].  Tensor sizes: [2, 13, 64]"
     ]
    }
   ],
   "source": [
    "cache = run_prompts(\n",
    "    model, \n",
    "    \"The next bus is late. The previous bus was early.\",\n",
    ")\n",
    "\n",
    "l, h = 0, 2\n",
    "data = calculate_attns(cache, l, h)\n",
    "bus_plot = plot_attns(unique_index_pattern(data[0, :, :, 2].cpu()))\n",
    "bus_plot = add_attn_overlay(cache, bus_plot, data)\n",
    "bus_plot = add_axis_labels(cache, bus_plot, data)\n",
    "bus_plot = add_token_labels(cache, bus_plot, data, 2)\n",
    "bus_plot"
   ]
  },
  {
   "cell_type": "code",
   "execution_count": 14,
   "metadata": {},
   "outputs": [
    {
     "data": {
      "application/vnd.jupyter.widget-view+json": {
       "model_id": "1a815457c1584dc592c10188d162404c",
       "version_major": 2,
       "version_minor": 0
      },
      "text/plain": [
       "VBox(children=(HBox(children=(FigureWidget({\n",
       "    'data': [{'coloraxis': 'coloraxis',\n",
       "              'hovertempl…"
      ]
     },
     "metadata": {},
     "output_type": "display_data"
    }
   ],
   "source": [
    "compare_plots(plot, bus_plot)"
   ]
  }
 ],
 "metadata": {
  "kernelspec": {
   "display_name": "venv",
   "language": "python",
   "name": "python3"
  },
  "language_info": {
   "codemirror_mode": {
    "name": "ipython",
    "version": 3
   },
   "file_extension": ".py",
   "mimetype": "text/x-python",
   "name": "python",
   "nbconvert_exporter": "python",
   "pygments_lexer": "ipython3",
   "version": "3.10.6"
  }
 },
 "nbformat": 4,
 "nbformat_minor": 2
}
